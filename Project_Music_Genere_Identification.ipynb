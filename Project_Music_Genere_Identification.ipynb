{
  "cells": [
    {
      "cell_type": "code",
      "execution_count": 1,
      "metadata": {
        "colab": {
          "base_uri": "https://localhost:8080/"
        },
        "id": "MvG_TxlqNCKd",
        "outputId": "b10907bb-f2b3-4d6d-ee6c-e3fe32c25a06"
      },
      "outputs": [
        {
          "output_type": "stream",
          "name": "stdout",
          "text": [
            "Colab only includes TensorFlow 2.x; %tensorflow_version has no effect.\n"
          ]
        }
      ],
      "source": [
        "%tensorflow_version 2.x"
      ]
    },
    {
      "cell_type": "code",
      "execution_count": 2,
      "metadata": {
        "colab": {
          "base_uri": "https://localhost:8080/"
        },
        "id": "1yvLL_hYOAhj",
        "outputId": "f762794b-6b1f-4eed-c7e0-18579a93040a"
      },
      "outputs": [
        {
          "output_type": "stream",
          "name": "stdout",
          "text": [
            "--2023-06-14 07:02:25--  https://www.dropbox.com/s/4jw31k5mlzcmgis/genres.tar.gz?dl=0\n",
            "Resolving www.dropbox.com (www.dropbox.com)... 162.125.65.18, 2620:100:6027:18::a27d:4812\n",
            "Connecting to www.dropbox.com (www.dropbox.com)|162.125.65.18|:443... connected.\n",
            "HTTP request sent, awaiting response... 302 Found\n",
            "Location: /s/raw/4jw31k5mlzcmgis/genres.tar.gz [following]\n",
            "--2023-06-14 07:02:26--  https://www.dropbox.com/s/raw/4jw31k5mlzcmgis/genres.tar.gz\n",
            "Reusing existing connection to www.dropbox.com:443.\n",
            "HTTP request sent, awaiting response... 302 Found\n",
            "Location: https://uc9f7f268526ae0b015cde1a709c.dl.dropboxusercontent.com/cd/0/inline/B9_rywAU_ogGIukQN1rdO3bB3SfEpTCnxV2z7FneG500DNRHDr7rEWnxSt-Lo3fXIoW6SHmrpP8Ccnahn5RyTnYEoAVsUjKgdKsg8oikWdiO8TAhTRsuh8CkfZaK1-ghG2M1REiHZW-vX1BlWD4zypZXcUaekAEK75b_YjQ7ho2-8g/file# [following]\n",
            "--2023-06-14 07:02:26--  https://uc9f7f268526ae0b015cde1a709c.dl.dropboxusercontent.com/cd/0/inline/B9_rywAU_ogGIukQN1rdO3bB3SfEpTCnxV2z7FneG500DNRHDr7rEWnxSt-Lo3fXIoW6SHmrpP8Ccnahn5RyTnYEoAVsUjKgdKsg8oikWdiO8TAhTRsuh8CkfZaK1-ghG2M1REiHZW-vX1BlWD4zypZXcUaekAEK75b_YjQ7ho2-8g/file\n",
            "Resolving uc9f7f268526ae0b015cde1a709c.dl.dropboxusercontent.com (uc9f7f268526ae0b015cde1a709c.dl.dropboxusercontent.com)... 162.125.65.15, 2620:100:6027:15::a27d:480f\n",
            "Connecting to uc9f7f268526ae0b015cde1a709c.dl.dropboxusercontent.com (uc9f7f268526ae0b015cde1a709c.dl.dropboxusercontent.com)|162.125.65.15|:443... connected.\n",
            "HTTP request sent, awaiting response... 302 Found\n",
            "Location: /cd/0/inline2/B98aRaoPTiQ0aPyOgeeQRQF2TPOd3jGII6t7mt0w6H-pvsRsxjADucnATx4DV781tGxj8wyCG02RFjieek_Hj19SvPX9GeuU2yGQfYPmLIdavzBuDm9Fc74IUtDiTVH2A75sGZVfNLWPSSb7xkPY8m295E6XyQjelV0Xzwiylf5xaMA1ML0MU0GGNTb6Fu4AEVgcqjRyOfD4FcBUPL6sEqjEUYZ6OuOSuuXchXNZARdkhXksgzNzlwjLSKE0Ezi-l3i6u7bj9EGBKWqjr6i493yLKHw5J4B_6q7l4ORyGs0C_uZXcxpL6zxECJffp3wM7PQ-jDjw8eo-P4tIXAX8RgxH0VoE_U4KvgYJM13_fwtla4koGvsS_9hc02oLOLP0VwKtULF4WY6UTGiMV7JXfsCvuYLY8RvRkCF_KGs0r0rCGg/file [following]\n",
            "--2023-06-14 07:02:27--  https://uc9f7f268526ae0b015cde1a709c.dl.dropboxusercontent.com/cd/0/inline2/B98aRaoPTiQ0aPyOgeeQRQF2TPOd3jGII6t7mt0w6H-pvsRsxjADucnATx4DV781tGxj8wyCG02RFjieek_Hj19SvPX9GeuU2yGQfYPmLIdavzBuDm9Fc74IUtDiTVH2A75sGZVfNLWPSSb7xkPY8m295E6XyQjelV0Xzwiylf5xaMA1ML0MU0GGNTb6Fu4AEVgcqjRyOfD4FcBUPL6sEqjEUYZ6OuOSuuXchXNZARdkhXksgzNzlwjLSKE0Ezi-l3i6u7bj9EGBKWqjr6i493yLKHw5J4B_6q7l4ORyGs0C_uZXcxpL6zxECJffp3wM7PQ-jDjw8eo-P4tIXAX8RgxH0VoE_U4KvgYJM13_fwtla4koGvsS_9hc02oLOLP0VwKtULF4WY6UTGiMV7JXfsCvuYLY8RvRkCF_KGs0r0rCGg/file\n",
            "Reusing existing connection to uc9f7f268526ae0b015cde1a709c.dl.dropboxusercontent.com:443.\n",
            "HTTP request sent, awaiting response... 200 OK\n",
            "Length: 1225573614 (1.1G) [application/octet-stream]\n",
            "Saving to: ‘genres.tar.gz?dl=0’\n",
            "\n",
            "genres.tar.gz?dl=0  100%[===================>]   1.14G  22.0MB/s    in 55s     \n",
            "\n",
            "2023-06-14 07:03:22 (21.2 MB/s) - ‘genres.tar.gz?dl=0’ saved [1225573614/1225573614]\n",
            "\n"
          ]
        }
      ],
      "source": [
        "!wget https://www.dropbox.com/s/4jw31k5mlzcmgis/genres.tar.gz?dl=0"
      ]
    },
    {
      "cell_type": "code",
      "execution_count": 3,
      "metadata": {
        "id": "hzcd_OUhO8SC"
      },
      "outputs": [],
      "source": [
        "#!wget https://www.dropbox.com/s/d2wgk8j0wsye2ab/set_a.zip"
      ]
    },
    {
      "cell_type": "code",
      "execution_count": 4,
      "metadata": {
        "colab": {
          "base_uri": "https://localhost:8080/"
        },
        "id": "tuaEY1N8O_qL",
        "outputId": "aafa901e-0400-49b1-fccb-b03f8f086529"
      },
      "outputs": [
        {
          "output_type": "execute_result",
          "data": {
            "text/plain": [
              "['genres/',\n",
              " 'genres/blues/',\n",
              " 'genres/blues/blues.00000.au',\n",
              " 'genres/blues/blues.00001.au',\n",
              " 'genres/blues/blues.00002.au',\n",
              " 'genres/blues/blues.00003.au',\n",
              " 'genres/blues/blues.00004.au',\n",
              " 'genres/blues/blues.00005.au',\n",
              " 'genres/blues/blues.00006.au',\n",
              " 'genres/blues/blues.00007.au',\n",
              " 'genres/blues/blues.00008.au',\n",
              " 'genres/blues/blues.00009.au',\n",
              " 'genres/blues/blues.00010.au',\n",
              " 'genres/blues/blues.00011.au',\n",
              " 'genres/blues/blues.00012.au',\n",
              " 'genres/blues/blues.00013.au',\n",
              " 'genres/blues/blues.00014.au',\n",
              " 'genres/blues/blues.00015.au',\n",
              " 'genres/blues/blues.00016.au',\n",
              " 'genres/blues/blues.00017.au',\n",
              " 'genres/blues/blues.00018.au',\n",
              " 'genres/blues/blues.00019.au',\n",
              " 'genres/blues/blues.00020.au',\n",
              " 'genres/blues/blues.00021.au',\n",
              " 'genres/blues/blues.00022.au',\n",
              " 'genres/blues/blues.00023.au',\n",
              " 'genres/blues/blues.00024.au',\n",
              " 'genres/blues/blues.00025.au',\n",
              " 'genres/blues/blues.00026.au',\n",
              " 'genres/blues/blues.00027.au',\n",
              " 'genres/blues/blues.00028.au',\n",
              " 'genres/blues/blues.00029.au',\n",
              " 'genres/blues/blues.00030.au',\n",
              " 'genres/blues/blues.00031.au',\n",
              " 'genres/blues/blues.00032.au',\n",
              " 'genres/blues/blues.00033.au',\n",
              " 'genres/blues/blues.00034.au',\n",
              " 'genres/blues/blues.00035.au',\n",
              " 'genres/blues/blues.00036.au',\n",
              " 'genres/blues/blues.00037.au',\n",
              " 'genres/blues/blues.00038.au',\n",
              " 'genres/blues/blues.00039.au',\n",
              " 'genres/blues/blues.00040.au',\n",
              " 'genres/blues/blues.00041.au',\n",
              " 'genres/blues/blues.00042.au',\n",
              " 'genres/blues/blues.00043.au',\n",
              " 'genres/blues/blues.00044.au',\n",
              " 'genres/blues/blues.00045.au',\n",
              " 'genres/blues/blues.00046.au',\n",
              " 'genres/blues/blues.00047.au',\n",
              " 'genres/blues/blues.00048.au',\n",
              " 'genres/blues/blues.00049.au',\n",
              " 'genres/blues/blues.00050.au',\n",
              " 'genres/blues/blues.00051.au',\n",
              " 'genres/blues/blues.00052.au',\n",
              " 'genres/blues/blues.00053.au',\n",
              " 'genres/blues/blues.00054.au',\n",
              " 'genres/blues/blues.00055.au',\n",
              " 'genres/blues/blues.00056.au',\n",
              " 'genres/blues/blues.00057.au',\n",
              " 'genres/blues/blues.00058.au',\n",
              " 'genres/blues/blues.00059.au',\n",
              " 'genres/blues/blues.00060.au',\n",
              " 'genres/blues/blues.00061.au',\n",
              " 'genres/blues/blues.00062.au',\n",
              " 'genres/blues/blues.00063.au',\n",
              " 'genres/blues/blues.00064.au',\n",
              " 'genres/blues/blues.00065.au',\n",
              " 'genres/blues/blues.00066.au',\n",
              " 'genres/blues/blues.00067.au',\n",
              " 'genres/blues/blues.00068.au',\n",
              " 'genres/blues/blues.00069.au',\n",
              " 'genres/blues/blues.00070.au',\n",
              " 'genres/blues/blues.00071.au',\n",
              " 'genres/blues/blues.00072.au',\n",
              " 'genres/blues/blues.00073.au',\n",
              " 'genres/blues/blues.00074.au',\n",
              " 'genres/blues/blues.00075.au',\n",
              " 'genres/blues/blues.00076.au',\n",
              " 'genres/blues/blues.00077.au',\n",
              " 'genres/blues/blues.00078.au',\n",
              " 'genres/blues/blues.00079.au',\n",
              " 'genres/blues/blues.00080.au',\n",
              " 'genres/blues/blues.00081.au',\n",
              " 'genres/blues/blues.00082.au',\n",
              " 'genres/blues/blues.00083.au',\n",
              " 'genres/blues/blues.00084.au',\n",
              " 'genres/blues/blues.00085.au',\n",
              " 'genres/blues/blues.00086.au',\n",
              " 'genres/blues/blues.00087.au',\n",
              " 'genres/blues/blues.00088.au',\n",
              " 'genres/blues/blues.00089.au',\n",
              " 'genres/blues/blues.00090.au',\n",
              " 'genres/blues/blues.00091.au',\n",
              " 'genres/blues/blues.00092.au',\n",
              " 'genres/blues/blues.00093.au',\n",
              " 'genres/blues/blues.00094.au',\n",
              " 'genres/blues/blues.00095.au',\n",
              " 'genres/blues/blues.00096.au',\n",
              " 'genres/blues/blues.00097.au',\n",
              " 'genres/blues/blues.00098.au',\n",
              " 'genres/blues/blues.00099.au',\n",
              " 'genres/classical/',\n",
              " 'genres/classical/classical.00000.au',\n",
              " 'genres/classical/classical.00001.au',\n",
              " 'genres/classical/classical.00002.au',\n",
              " 'genres/classical/classical.00003.au',\n",
              " 'genres/classical/classical.00004.au',\n",
              " 'genres/classical/classical.00005.au',\n",
              " 'genres/classical/classical.00006.au',\n",
              " 'genres/classical/classical.00007.au',\n",
              " 'genres/classical/classical.00008.au',\n",
              " 'genres/classical/classical.00009.au',\n",
              " 'genres/classical/classical.00010.au',\n",
              " 'genres/classical/classical.00011.au',\n",
              " 'genres/classical/classical.00012.au',\n",
              " 'genres/classical/classical.00013.au',\n",
              " 'genres/classical/classical.00014.au',\n",
              " 'genres/classical/classical.00015.au',\n",
              " 'genres/classical/classical.00016.au',\n",
              " 'genres/classical/classical.00017.au',\n",
              " 'genres/classical/classical.00018.au',\n",
              " 'genres/classical/classical.00019.au',\n",
              " 'genres/classical/classical.00020.au',\n",
              " 'genres/classical/classical.00021.au',\n",
              " 'genres/classical/classical.00022.au',\n",
              " 'genres/classical/classical.00023.au',\n",
              " 'genres/classical/classical.00024.au',\n",
              " 'genres/classical/classical.00025.au',\n",
              " 'genres/classical/classical.00026.au',\n",
              " 'genres/classical/classical.00027.au',\n",
              " 'genres/classical/classical.00028.au',\n",
              " 'genres/classical/classical.00029.au',\n",
              " 'genres/classical/classical.00030.au',\n",
              " 'genres/classical/classical.00031.au',\n",
              " 'genres/classical/classical.00032.au',\n",
              " 'genres/classical/classical.00033.au',\n",
              " 'genres/classical/classical.00034.au',\n",
              " 'genres/classical/classical.00035.au',\n",
              " 'genres/classical/classical.00036.au',\n",
              " 'genres/classical/classical.00037.au',\n",
              " 'genres/classical/classical.00038.au',\n",
              " 'genres/classical/classical.00039.au',\n",
              " 'genres/classical/classical.00040.au',\n",
              " 'genres/classical/classical.00041.au',\n",
              " 'genres/classical/classical.00042.au',\n",
              " 'genres/classical/classical.00043.au',\n",
              " 'genres/classical/classical.00044.au',\n",
              " 'genres/classical/classical.00045.au',\n",
              " 'genres/classical/classical.00046.au',\n",
              " 'genres/classical/classical.00047.au',\n",
              " 'genres/classical/classical.00048.au',\n",
              " 'genres/classical/classical.00049.au',\n",
              " 'genres/classical/classical.00050.au',\n",
              " 'genres/classical/classical.00051.au',\n",
              " 'genres/classical/classical.00052.au',\n",
              " 'genres/classical/classical.00053.au',\n",
              " 'genres/classical/classical.00054.au',\n",
              " 'genres/classical/classical.00055.au',\n",
              " 'genres/classical/classical.00056.au',\n",
              " 'genres/classical/classical.00057.au',\n",
              " 'genres/classical/classical.00058.au',\n",
              " 'genres/classical/classical.00059.au',\n",
              " 'genres/classical/classical.00060.au',\n",
              " 'genres/classical/classical.00061.au',\n",
              " 'genres/classical/classical.00062.au',\n",
              " 'genres/classical/classical.00063.au',\n",
              " 'genres/classical/classical.00064.au',\n",
              " 'genres/classical/classical.00065.au',\n",
              " 'genres/classical/classical.00066.au',\n",
              " 'genres/classical/classical.00067.au',\n",
              " 'genres/classical/classical.00068.au',\n",
              " 'genres/classical/classical.00069.au',\n",
              " 'genres/classical/classical.00070.au',\n",
              " 'genres/classical/classical.00071.au',\n",
              " 'genres/classical/classical.00072.au',\n",
              " 'genres/classical/classical.00073.au',\n",
              " 'genres/classical/classical.00074.au',\n",
              " 'genres/classical/classical.00075.au',\n",
              " 'genres/classical/classical.00076.au',\n",
              " 'genres/classical/classical.00077.au',\n",
              " 'genres/classical/classical.00078.au',\n",
              " 'genres/classical/classical.00079.au',\n",
              " 'genres/classical/classical.00080.au',\n",
              " 'genres/classical/classical.00081.au',\n",
              " 'genres/classical/classical.00082.au',\n",
              " 'genres/classical/classical.00083.au',\n",
              " 'genres/classical/classical.00084.au',\n",
              " 'genres/classical/classical.00085.au',\n",
              " 'genres/classical/classical.00086.au',\n",
              " 'genres/classical/classical.00087.au',\n",
              " 'genres/classical/classical.00088.au',\n",
              " 'genres/classical/classical.00089.au',\n",
              " 'genres/classical/classical.00090.au',\n",
              " 'genres/classical/classical.00091.au',\n",
              " 'genres/classical/classical.00092.au',\n",
              " 'genres/classical/classical.00093.au',\n",
              " 'genres/classical/classical.00094.au',\n",
              " 'genres/classical/classical.00095.au',\n",
              " 'genres/classical/classical.00096.au',\n",
              " 'genres/classical/classical.00097.au',\n",
              " 'genres/classical/classical.00098.au',\n",
              " 'genres/classical/classical.00099.au',\n",
              " 'genres/country/',\n",
              " 'genres/country/country.00000.au',\n",
              " 'genres/country/country.00001.au',\n",
              " 'genres/country/country.00002.au',\n",
              " 'genres/country/country.00003.au',\n",
              " 'genres/country/country.00004.au',\n",
              " 'genres/country/country.00005.au',\n",
              " 'genres/country/country.00006.au',\n",
              " 'genres/country/country.00007.au',\n",
              " 'genres/country/country.00008.au',\n",
              " 'genres/country/country.00009.au',\n",
              " 'genres/country/country.00010.au',\n",
              " 'genres/country/country.00011.au',\n",
              " 'genres/country/country.00012.au',\n",
              " 'genres/country/country.00013.au',\n",
              " 'genres/country/country.00014.au',\n",
              " 'genres/country/country.00015.au',\n",
              " 'genres/country/country.00016.au',\n",
              " 'genres/country/country.00017.au',\n",
              " 'genres/country/country.00018.au',\n",
              " 'genres/country/country.00019.au',\n",
              " 'genres/country/country.00020.au',\n",
              " 'genres/country/country.00021.au',\n",
              " 'genres/country/country.00022.au',\n",
              " 'genres/country/country.00023.au',\n",
              " 'genres/country/country.00024.au',\n",
              " 'genres/country/country.00025.au',\n",
              " 'genres/country/country.00026.au',\n",
              " 'genres/country/country.00027.au',\n",
              " 'genres/country/country.00028.au',\n",
              " 'genres/country/country.00029.au',\n",
              " 'genres/country/country.00030.au',\n",
              " 'genres/country/country.00031.au',\n",
              " 'genres/country/country.00032.au',\n",
              " 'genres/country/country.00033.au',\n",
              " 'genres/country/country.00034.au',\n",
              " 'genres/country/country.00035.au',\n",
              " 'genres/country/country.00036.au',\n",
              " 'genres/country/country.00037.au',\n",
              " 'genres/country/country.00038.au',\n",
              " 'genres/country/country.00039.au',\n",
              " 'genres/country/country.00040.au',\n",
              " 'genres/country/country.00041.au',\n",
              " 'genres/country/country.00042.au',\n",
              " 'genres/country/country.00043.au',\n",
              " 'genres/country/country.00044.au',\n",
              " 'genres/country/country.00045.au',\n",
              " 'genres/country/country.00046.au',\n",
              " 'genres/country/country.00047.au',\n",
              " 'genres/country/country.00048.au',\n",
              " 'genres/country/country.00049.au',\n",
              " 'genres/country/country.00050.au',\n",
              " 'genres/country/country.00051.au',\n",
              " 'genres/country/country.00052.au',\n",
              " 'genres/country/country.00053.au',\n",
              " 'genres/country/country.00054.au',\n",
              " 'genres/country/country.00055.au',\n",
              " 'genres/country/country.00056.au',\n",
              " 'genres/country/country.00057.au',\n",
              " 'genres/country/country.00058.au',\n",
              " 'genres/country/country.00059.au',\n",
              " 'genres/country/country.00060.au',\n",
              " 'genres/country/country.00061.au',\n",
              " 'genres/country/country.00062.au',\n",
              " 'genres/country/country.00063.au',\n",
              " 'genres/country/country.00064.au',\n",
              " 'genres/country/country.00065.au',\n",
              " 'genres/country/country.00066.au',\n",
              " 'genres/country/country.00067.au',\n",
              " 'genres/country/country.00068.au',\n",
              " 'genres/country/country.00069.au',\n",
              " 'genres/country/country.00070.au',\n",
              " 'genres/country/country.00071.au',\n",
              " 'genres/country/country.00072.au',\n",
              " 'genres/country/country.00073.au',\n",
              " 'genres/country/country.00074.au',\n",
              " 'genres/country/country.00075.au',\n",
              " 'genres/country/country.00076.au',\n",
              " 'genres/country/country.00077.au',\n",
              " 'genres/country/country.00078.au',\n",
              " 'genres/country/country.00079.au',\n",
              " 'genres/country/country.00080.au',\n",
              " 'genres/country/country.00081.au',\n",
              " 'genres/country/country.00082.au',\n",
              " 'genres/country/country.00083.au',\n",
              " 'genres/country/country.00084.au',\n",
              " 'genres/country/country.00085.au',\n",
              " 'genres/country/country.00086.au',\n",
              " 'genres/country/country.00087.au',\n",
              " 'genres/country/country.00088.au',\n",
              " 'genres/country/country.00089.au',\n",
              " 'genres/country/country.00090.au',\n",
              " 'genres/country/country.00091.au',\n",
              " 'genres/country/country.00092.au',\n",
              " 'genres/country/country.00093.au',\n",
              " 'genres/country/country.00094.au',\n",
              " 'genres/country/country.00095.au',\n",
              " 'genres/country/country.00096.au',\n",
              " 'genres/country/country.00097.au',\n",
              " 'genres/country/country.00098.au',\n",
              " 'genres/country/country.00099.au',\n",
              " 'genres/disco/',\n",
              " 'genres/disco/disco.00000.au',\n",
              " 'genres/disco/disco.00001.au',\n",
              " 'genres/disco/disco.00002.au',\n",
              " 'genres/disco/disco.00003.au',\n",
              " 'genres/disco/disco.00004.au',\n",
              " 'genres/disco/disco.00005.au',\n",
              " 'genres/disco/disco.00006.au',\n",
              " 'genres/disco/disco.00007.au',\n",
              " 'genres/disco/disco.00008.au',\n",
              " 'genres/disco/disco.00009.au',\n",
              " 'genres/disco/disco.00010.au',\n",
              " 'genres/disco/disco.00011.au',\n",
              " 'genres/disco/disco.00012.au',\n",
              " 'genres/disco/disco.00013.au',\n",
              " 'genres/disco/disco.00014.au',\n",
              " 'genres/disco/disco.00015.au',\n",
              " 'genres/disco/disco.00016.au',\n",
              " 'genres/disco/disco.00017.au',\n",
              " 'genres/disco/disco.00018.au',\n",
              " 'genres/disco/disco.00019.au',\n",
              " 'genres/disco/disco.00020.au',\n",
              " 'genres/disco/disco.00021.au',\n",
              " 'genres/disco/disco.00022.au',\n",
              " 'genres/disco/disco.00023.au',\n",
              " 'genres/disco/disco.00024.au',\n",
              " 'genres/disco/disco.00025.au',\n",
              " 'genres/disco/disco.00026.au',\n",
              " 'genres/disco/disco.00027.au',\n",
              " 'genres/disco/disco.00028.au',\n",
              " 'genres/disco/disco.00029.au',\n",
              " 'genres/disco/disco.00030.au',\n",
              " 'genres/disco/disco.00031.au',\n",
              " 'genres/disco/disco.00032.au',\n",
              " 'genres/disco/disco.00033.au',\n",
              " 'genres/disco/disco.00034.au',\n",
              " 'genres/disco/disco.00035.au',\n",
              " 'genres/disco/disco.00036.au',\n",
              " 'genres/disco/disco.00037.au',\n",
              " 'genres/disco/disco.00038.au',\n",
              " 'genres/disco/disco.00039.au',\n",
              " 'genres/disco/disco.00040.au',\n",
              " 'genres/disco/disco.00041.au',\n",
              " 'genres/disco/disco.00042.au',\n",
              " 'genres/disco/disco.00043.au',\n",
              " 'genres/disco/disco.00044.au',\n",
              " 'genres/disco/disco.00045.au',\n",
              " 'genres/disco/disco.00046.au',\n",
              " 'genres/disco/disco.00047.au',\n",
              " 'genres/disco/disco.00048.au',\n",
              " 'genres/disco/disco.00049.au',\n",
              " 'genres/disco/disco.00050.au',\n",
              " 'genres/disco/disco.00051.au',\n",
              " 'genres/disco/disco.00052.au',\n",
              " 'genres/disco/disco.00053.au',\n",
              " 'genres/disco/disco.00054.au',\n",
              " 'genres/disco/disco.00055.au',\n",
              " 'genres/disco/disco.00056.au',\n",
              " 'genres/disco/disco.00057.au',\n",
              " 'genres/disco/disco.00058.au',\n",
              " 'genres/disco/disco.00059.au',\n",
              " 'genres/disco/disco.00060.au',\n",
              " 'genres/disco/disco.00061.au',\n",
              " 'genres/disco/disco.00062.au',\n",
              " 'genres/disco/disco.00063.au',\n",
              " 'genres/disco/disco.00064.au',\n",
              " 'genres/disco/disco.00065.au',\n",
              " 'genres/disco/disco.00066.au',\n",
              " 'genres/disco/disco.00067.au',\n",
              " 'genres/disco/disco.00068.au',\n",
              " 'genres/disco/disco.00069.au',\n",
              " 'genres/disco/disco.00070.au',\n",
              " 'genres/disco/disco.00071.au',\n",
              " 'genres/disco/disco.00072.au',\n",
              " 'genres/disco/disco.00073.au',\n",
              " 'genres/disco/disco.00074.au',\n",
              " 'genres/disco/disco.00075.au',\n",
              " 'genres/disco/disco.00076.au',\n",
              " 'genres/disco/disco.00077.au',\n",
              " 'genres/disco/disco.00078.au',\n",
              " 'genres/disco/disco.00079.au',\n",
              " 'genres/disco/disco.00080.au',\n",
              " 'genres/disco/disco.00081.au',\n",
              " 'genres/disco/disco.00082.au',\n",
              " 'genres/disco/disco.00083.au',\n",
              " 'genres/disco/disco.00084.au',\n",
              " 'genres/disco/disco.00085.au',\n",
              " 'genres/disco/disco.00086.au',\n",
              " 'genres/disco/disco.00087.au',\n",
              " 'genres/disco/disco.00088.au',\n",
              " 'genres/disco/disco.00089.au',\n",
              " 'genres/disco/disco.00090.au',\n",
              " 'genres/disco/disco.00091.au',\n",
              " 'genres/disco/disco.00092.au',\n",
              " 'genres/disco/disco.00093.au',\n",
              " 'genres/disco/disco.00094.au',\n",
              " 'genres/disco/disco.00095.au',\n",
              " 'genres/disco/disco.00096.au',\n",
              " 'genres/disco/disco.00097.au',\n",
              " 'genres/disco/disco.00098.au',\n",
              " 'genres/disco/disco.00099.au',\n",
              " 'genres/hiphop/',\n",
              " 'genres/hiphop/hiphop.00000.au',\n",
              " 'genres/hiphop/hiphop.00001.au',\n",
              " 'genres/hiphop/hiphop.00002.au',\n",
              " 'genres/hiphop/hiphop.00003.au',\n",
              " 'genres/hiphop/hiphop.00004.au',\n",
              " 'genres/hiphop/hiphop.00005.au',\n",
              " 'genres/hiphop/hiphop.00006.au',\n",
              " 'genres/hiphop/hiphop.00007.au',\n",
              " 'genres/hiphop/hiphop.00008.au',\n",
              " 'genres/hiphop/hiphop.00009.au',\n",
              " 'genres/hiphop/hiphop.00010.au',\n",
              " 'genres/hiphop/hiphop.00011.au',\n",
              " 'genres/hiphop/hiphop.00012.au',\n",
              " 'genres/hiphop/hiphop.00013.au',\n",
              " 'genres/hiphop/hiphop.00014.au',\n",
              " 'genres/hiphop/hiphop.00015.au',\n",
              " 'genres/hiphop/hiphop.00016.au',\n",
              " 'genres/hiphop/hiphop.00017.au',\n",
              " 'genres/hiphop/hiphop.00018.au',\n",
              " 'genres/hiphop/hiphop.00019.au',\n",
              " 'genres/hiphop/hiphop.00020.au',\n",
              " 'genres/hiphop/hiphop.00021.au',\n",
              " 'genres/hiphop/hiphop.00022.au',\n",
              " 'genres/hiphop/hiphop.00023.au',\n",
              " 'genres/hiphop/hiphop.00024.au',\n",
              " 'genres/hiphop/hiphop.00025.au',\n",
              " 'genres/hiphop/hiphop.00026.au',\n",
              " 'genres/hiphop/hiphop.00027.au',\n",
              " 'genres/hiphop/hiphop.00028.au',\n",
              " 'genres/hiphop/hiphop.00029.au',\n",
              " 'genres/hiphop/hiphop.00030.au',\n",
              " 'genres/hiphop/hiphop.00031.au',\n",
              " 'genres/hiphop/hiphop.00032.au',\n",
              " 'genres/hiphop/hiphop.00033.au',\n",
              " 'genres/hiphop/hiphop.00034.au',\n",
              " 'genres/hiphop/hiphop.00035.au',\n",
              " 'genres/hiphop/hiphop.00036.au',\n",
              " 'genres/hiphop/hiphop.00037.au',\n",
              " 'genres/hiphop/hiphop.00038.au',\n",
              " 'genres/hiphop/hiphop.00039.au',\n",
              " 'genres/hiphop/hiphop.00040.au',\n",
              " 'genres/hiphop/hiphop.00041.au',\n",
              " 'genres/hiphop/hiphop.00042.au',\n",
              " 'genres/hiphop/hiphop.00043.au',\n",
              " 'genres/hiphop/hiphop.00044.au',\n",
              " 'genres/hiphop/hiphop.00045.au',\n",
              " 'genres/hiphop/hiphop.00046.au',\n",
              " 'genres/hiphop/hiphop.00047.au',\n",
              " 'genres/hiphop/hiphop.00048.au',\n",
              " 'genres/hiphop/hiphop.00049.au',\n",
              " 'genres/hiphop/hiphop.00050.au',\n",
              " 'genres/hiphop/hiphop.00051.au',\n",
              " 'genres/hiphop/hiphop.00052.au',\n",
              " 'genres/hiphop/hiphop.00053.au',\n",
              " 'genres/hiphop/hiphop.00054.au',\n",
              " 'genres/hiphop/hiphop.00055.au',\n",
              " 'genres/hiphop/hiphop.00056.au',\n",
              " 'genres/hiphop/hiphop.00057.au',\n",
              " 'genres/hiphop/hiphop.00058.au',\n",
              " 'genres/hiphop/hiphop.00059.au',\n",
              " 'genres/hiphop/hiphop.00060.au',\n",
              " 'genres/hiphop/hiphop.00061.au',\n",
              " 'genres/hiphop/hiphop.00062.au',\n",
              " 'genres/hiphop/hiphop.00063.au',\n",
              " 'genres/hiphop/hiphop.00064.au',\n",
              " 'genres/hiphop/hiphop.00065.au',\n",
              " 'genres/hiphop/hiphop.00066.au',\n",
              " 'genres/hiphop/hiphop.00067.au',\n",
              " 'genres/hiphop/hiphop.00068.au',\n",
              " 'genres/hiphop/hiphop.00069.au',\n",
              " 'genres/hiphop/hiphop.00070.au',\n",
              " 'genres/hiphop/hiphop.00071.au',\n",
              " 'genres/hiphop/hiphop.00072.au',\n",
              " 'genres/hiphop/hiphop.00073.au',\n",
              " 'genres/hiphop/hiphop.00074.au',\n",
              " 'genres/hiphop/hiphop.00075.au',\n",
              " 'genres/hiphop/hiphop.00076.au',\n",
              " 'genres/hiphop/hiphop.00077.au',\n",
              " 'genres/hiphop/hiphop.00078.au',\n",
              " 'genres/hiphop/hiphop.00079.au',\n",
              " 'genres/hiphop/hiphop.00080.au',\n",
              " 'genres/hiphop/hiphop.00081.au',\n",
              " 'genres/hiphop/hiphop.00082.au',\n",
              " 'genres/hiphop/hiphop.00083.au',\n",
              " 'genres/hiphop/hiphop.00084.au',\n",
              " 'genres/hiphop/hiphop.00085.au',\n",
              " 'genres/hiphop/hiphop.00086.au',\n",
              " 'genres/hiphop/hiphop.00087.au',\n",
              " 'genres/hiphop/hiphop.00088.au',\n",
              " 'genres/hiphop/hiphop.00089.au',\n",
              " 'genres/hiphop/hiphop.00090.au',\n",
              " 'genres/hiphop/hiphop.00091.au',\n",
              " 'genres/hiphop/hiphop.00092.au',\n",
              " 'genres/hiphop/hiphop.00093.au',\n",
              " 'genres/hiphop/hiphop.00094.au',\n",
              " 'genres/hiphop/hiphop.00095.au',\n",
              " 'genres/hiphop/hiphop.00096.au',\n",
              " 'genres/hiphop/hiphop.00097.au',\n",
              " 'genres/hiphop/hiphop.00098.au',\n",
              " 'genres/hiphop/hiphop.00099.au',\n",
              " 'genres/jazz/',\n",
              " 'genres/jazz/jazz.00000.au',\n",
              " 'genres/jazz/jazz.00001.au',\n",
              " 'genres/jazz/jazz.00002.au',\n",
              " 'genres/jazz/jazz.00003.au',\n",
              " 'genres/jazz/jazz.00004.au',\n",
              " 'genres/jazz/jazz.00005.au',\n",
              " 'genres/jazz/jazz.00006.au',\n",
              " 'genres/jazz/jazz.00007.au',\n",
              " 'genres/jazz/jazz.00008.au',\n",
              " 'genres/jazz/jazz.00009.au',\n",
              " 'genres/jazz/jazz.00010.au',\n",
              " 'genres/jazz/jazz.00011.au',\n",
              " 'genres/jazz/jazz.00012.au',\n",
              " 'genres/jazz/jazz.00013.au',\n",
              " 'genres/jazz/jazz.00014.au',\n",
              " 'genres/jazz/jazz.00015.au',\n",
              " 'genres/jazz/jazz.00016.au',\n",
              " 'genres/jazz/jazz.00017.au',\n",
              " 'genres/jazz/jazz.00018.au',\n",
              " 'genres/jazz/jazz.00019.au',\n",
              " 'genres/jazz/jazz.00020.au',\n",
              " 'genres/jazz/jazz.00021.au',\n",
              " 'genres/jazz/jazz.00022.au',\n",
              " 'genres/jazz/jazz.00023.au',\n",
              " 'genres/jazz/jazz.00024.au',\n",
              " 'genres/jazz/jazz.00025.au',\n",
              " 'genres/jazz/jazz.00026.au',\n",
              " 'genres/jazz/jazz.00027.au',\n",
              " 'genres/jazz/jazz.00028.au',\n",
              " 'genres/jazz/jazz.00029.au',\n",
              " 'genres/jazz/jazz.00030.au',\n",
              " 'genres/jazz/jazz.00031.au',\n",
              " 'genres/jazz/jazz.00032.au',\n",
              " 'genres/jazz/jazz.00033.au',\n",
              " 'genres/jazz/jazz.00034.au',\n",
              " 'genres/jazz/jazz.00035.au',\n",
              " 'genres/jazz/jazz.00036.au',\n",
              " 'genres/jazz/jazz.00037.au',\n",
              " 'genres/jazz/jazz.00038.au',\n",
              " 'genres/jazz/jazz.00039.au',\n",
              " 'genres/jazz/jazz.00040.au',\n",
              " 'genres/jazz/jazz.00041.au',\n",
              " 'genres/jazz/jazz.00042.au',\n",
              " 'genres/jazz/jazz.00043.au',\n",
              " 'genres/jazz/jazz.00044.au',\n",
              " 'genres/jazz/jazz.00045.au',\n",
              " 'genres/jazz/jazz.00046.au',\n",
              " 'genres/jazz/jazz.00047.au',\n",
              " 'genres/jazz/jazz.00048.au',\n",
              " 'genres/jazz/jazz.00049.au',\n",
              " 'genres/jazz/jazz.00050.au',\n",
              " 'genres/jazz/jazz.00051.au',\n",
              " 'genres/jazz/jazz.00052.au',\n",
              " 'genres/jazz/jazz.00053.au',\n",
              " 'genres/jazz/jazz.00054.au',\n",
              " 'genres/jazz/jazz.00055.au',\n",
              " 'genres/jazz/jazz.00056.au',\n",
              " 'genres/jazz/jazz.00057.au',\n",
              " 'genres/jazz/jazz.00058.au',\n",
              " 'genres/jazz/jazz.00059.au',\n",
              " 'genres/jazz/jazz.00060.au',\n",
              " 'genres/jazz/jazz.00061.au',\n",
              " 'genres/jazz/jazz.00062.au',\n",
              " 'genres/jazz/jazz.00063.au',\n",
              " 'genres/jazz/jazz.00064.au',\n",
              " 'genres/jazz/jazz.00065.au',\n",
              " 'genres/jazz/jazz.00066.au',\n",
              " 'genres/jazz/jazz.00067.au',\n",
              " 'genres/jazz/jazz.00068.au',\n",
              " 'genres/jazz/jazz.00069.au',\n",
              " 'genres/jazz/jazz.00070.au',\n",
              " 'genres/jazz/jazz.00071.au',\n",
              " 'genres/jazz/jazz.00072.au',\n",
              " 'genres/jazz/jazz.00073.au',\n",
              " 'genres/jazz/jazz.00074.au',\n",
              " 'genres/jazz/jazz.00075.au',\n",
              " 'genres/jazz/jazz.00076.au',\n",
              " 'genres/jazz/jazz.00077.au',\n",
              " 'genres/jazz/jazz.00078.au',\n",
              " 'genres/jazz/jazz.00079.au',\n",
              " 'genres/jazz/jazz.00080.au',\n",
              " 'genres/jazz/jazz.00081.au',\n",
              " 'genres/jazz/jazz.00082.au',\n",
              " 'genres/jazz/jazz.00083.au',\n",
              " 'genres/jazz/jazz.00084.au',\n",
              " 'genres/jazz/jazz.00085.au',\n",
              " 'genres/jazz/jazz.00086.au',\n",
              " 'genres/jazz/jazz.00087.au',\n",
              " 'genres/jazz/jazz.00088.au',\n",
              " 'genres/jazz/jazz.00089.au',\n",
              " 'genres/jazz/jazz.00090.au',\n",
              " 'genres/jazz/jazz.00091.au',\n",
              " 'genres/jazz/jazz.00092.au',\n",
              " 'genres/jazz/jazz.00093.au',\n",
              " 'genres/jazz/jazz.00094.au',\n",
              " 'genres/jazz/jazz.00095.au',\n",
              " 'genres/jazz/jazz.00096.au',\n",
              " 'genres/jazz/jazz.00097.au',\n",
              " 'genres/jazz/jazz.00098.au',\n",
              " 'genres/jazz/jazz.00099.au',\n",
              " 'genres/metal/',\n",
              " 'genres/metal/metal.00000.au',\n",
              " 'genres/metal/metal.00001.au',\n",
              " 'genres/metal/metal.00002.au',\n",
              " 'genres/metal/metal.00003.au',\n",
              " 'genres/metal/metal.00004.au',\n",
              " 'genres/metal/metal.00005.au',\n",
              " 'genres/metal/metal.00006.au',\n",
              " 'genres/metal/metal.00007.au',\n",
              " 'genres/metal/metal.00008.au',\n",
              " 'genres/metal/metal.00009.au',\n",
              " 'genres/metal/metal.00010.au',\n",
              " 'genres/metal/metal.00011.au',\n",
              " 'genres/metal/metal.00012.au',\n",
              " 'genres/metal/metal.00013.au',\n",
              " 'genres/metal/metal.00014.au',\n",
              " 'genres/metal/metal.00015.au',\n",
              " 'genres/metal/metal.00016.au',\n",
              " 'genres/metal/metal.00017.au',\n",
              " 'genres/metal/metal.00018.au',\n",
              " 'genres/metal/metal.00019.au',\n",
              " 'genres/metal/metal.00020.au',\n",
              " 'genres/metal/metal.00021.au',\n",
              " 'genres/metal/metal.00022.au',\n",
              " 'genres/metal/metal.00023.au',\n",
              " 'genres/metal/metal.00024.au',\n",
              " 'genres/metal/metal.00025.au',\n",
              " 'genres/metal/metal.00026.au',\n",
              " 'genres/metal/metal.00027.au',\n",
              " 'genres/metal/metal.00028.au',\n",
              " 'genres/metal/metal.00029.au',\n",
              " 'genres/metal/metal.00030.au',\n",
              " 'genres/metal/metal.00031.au',\n",
              " 'genres/metal/metal.00032.au',\n",
              " 'genres/metal/metal.00033.au',\n",
              " 'genres/metal/metal.00034.au',\n",
              " 'genres/metal/metal.00035.au',\n",
              " 'genres/metal/metal.00036.au',\n",
              " 'genres/metal/metal.00037.au',\n",
              " 'genres/metal/metal.00038.au',\n",
              " 'genres/metal/metal.00039.au',\n",
              " 'genres/metal/metal.00040.au',\n",
              " 'genres/metal/metal.00041.au',\n",
              " 'genres/metal/metal.00042.au',\n",
              " 'genres/metal/metal.00043.au',\n",
              " 'genres/metal/metal.00044.au',\n",
              " 'genres/metal/metal.00045.au',\n",
              " 'genres/metal/metal.00046.au',\n",
              " 'genres/metal/metal.00047.au',\n",
              " 'genres/metal/metal.00048.au',\n",
              " 'genres/metal/metal.00049.au',\n",
              " 'genres/metal/metal.00050.au',\n",
              " 'genres/metal/metal.00051.au',\n",
              " 'genres/metal/metal.00052.au',\n",
              " 'genres/metal/metal.00053.au',\n",
              " 'genres/metal/metal.00054.au',\n",
              " 'genres/metal/metal.00055.au',\n",
              " 'genres/metal/metal.00056.au',\n",
              " 'genres/metal/metal.00057.au',\n",
              " 'genres/metal/metal.00058.au',\n",
              " 'genres/metal/metal.00059.au',\n",
              " 'genres/metal/metal.00060.au',\n",
              " 'genres/metal/metal.00061.au',\n",
              " 'genres/metal/metal.00062.au',\n",
              " 'genres/metal/metal.00063.au',\n",
              " 'genres/metal/metal.00064.au',\n",
              " 'genres/metal/metal.00065.au',\n",
              " 'genres/metal/metal.00066.au',\n",
              " 'genres/metal/metal.00067.au',\n",
              " 'genres/metal/metal.00068.au',\n",
              " 'genres/metal/metal.00069.au',\n",
              " 'genres/metal/metal.00070.au',\n",
              " 'genres/metal/metal.00071.au',\n",
              " 'genres/metal/metal.00072.au',\n",
              " 'genres/metal/metal.00073.au',\n",
              " 'genres/metal/metal.00074.au',\n",
              " 'genres/metal/metal.00075.au',\n",
              " 'genres/metal/metal.00076.au',\n",
              " 'genres/metal/metal.00077.au',\n",
              " 'genres/metal/metal.00078.au',\n",
              " 'genres/metal/metal.00079.au',\n",
              " 'genres/metal/metal.00080.au',\n",
              " 'genres/metal/metal.00081.au',\n",
              " 'genres/metal/metal.00082.au',\n",
              " 'genres/metal/metal.00083.au',\n",
              " 'genres/metal/metal.00084.au',\n",
              " 'genres/metal/metal.00085.au',\n",
              " 'genres/metal/metal.00086.au',\n",
              " 'genres/metal/metal.00087.au',\n",
              " 'genres/metal/metal.00088.au',\n",
              " 'genres/metal/metal.00089.au',\n",
              " 'genres/metal/metal.00090.au',\n",
              " 'genres/metal/metal.00091.au',\n",
              " 'genres/metal/metal.00092.au',\n",
              " 'genres/metal/metal.00093.au',\n",
              " 'genres/metal/metal.00094.au',\n",
              " 'genres/metal/metal.00095.au',\n",
              " 'genres/metal/metal.00096.au',\n",
              " 'genres/metal/metal.00097.au',\n",
              " 'genres/metal/metal.00098.au',\n",
              " 'genres/metal/metal.00099.au',\n",
              " 'genres/pop/',\n",
              " 'genres/pop/pop.00000.au',\n",
              " 'genres/pop/pop.00001.au',\n",
              " 'genres/pop/pop.00002.au',\n",
              " 'genres/pop/pop.00003.au',\n",
              " 'genres/pop/pop.00004.au',\n",
              " 'genres/pop/pop.00005.au',\n",
              " 'genres/pop/pop.00006.au',\n",
              " 'genres/pop/pop.00007.au',\n",
              " 'genres/pop/pop.00008.au',\n",
              " 'genres/pop/pop.00009.au',\n",
              " 'genres/pop/pop.00010.au',\n",
              " 'genres/pop/pop.00011.au',\n",
              " 'genres/pop/pop.00012.au',\n",
              " 'genres/pop/pop.00013.au',\n",
              " 'genres/pop/pop.00014.au',\n",
              " 'genres/pop/pop.00015.au',\n",
              " 'genres/pop/pop.00016.au',\n",
              " 'genres/pop/pop.00017.au',\n",
              " 'genres/pop/pop.00018.au',\n",
              " 'genres/pop/pop.00019.au',\n",
              " 'genres/pop/pop.00020.au',\n",
              " 'genres/pop/pop.00021.au',\n",
              " 'genres/pop/pop.00022.au',\n",
              " 'genres/pop/pop.00023.au',\n",
              " 'genres/pop/pop.00024.au',\n",
              " 'genres/pop/pop.00025.au',\n",
              " 'genres/pop/pop.00026.au',\n",
              " 'genres/pop/pop.00027.au',\n",
              " 'genres/pop/pop.00028.au',\n",
              " 'genres/pop/pop.00029.au',\n",
              " 'genres/pop/pop.00030.au',\n",
              " 'genres/pop/pop.00031.au',\n",
              " 'genres/pop/pop.00032.au',\n",
              " 'genres/pop/pop.00033.au',\n",
              " 'genres/pop/pop.00034.au',\n",
              " 'genres/pop/pop.00035.au',\n",
              " 'genres/pop/pop.00036.au',\n",
              " 'genres/pop/pop.00037.au',\n",
              " 'genres/pop/pop.00038.au',\n",
              " 'genres/pop/pop.00039.au',\n",
              " 'genres/pop/pop.00040.au',\n",
              " 'genres/pop/pop.00041.au',\n",
              " 'genres/pop/pop.00042.au',\n",
              " 'genres/pop/pop.00043.au',\n",
              " 'genres/pop/pop.00044.au',\n",
              " 'genres/pop/pop.00045.au',\n",
              " 'genres/pop/pop.00046.au',\n",
              " 'genres/pop/pop.00047.au',\n",
              " 'genres/pop/pop.00048.au',\n",
              " 'genres/pop/pop.00049.au',\n",
              " 'genres/pop/pop.00050.au',\n",
              " 'genres/pop/pop.00051.au',\n",
              " 'genres/pop/pop.00052.au',\n",
              " 'genres/pop/pop.00053.au',\n",
              " 'genres/pop/pop.00054.au',\n",
              " 'genres/pop/pop.00055.au',\n",
              " 'genres/pop/pop.00056.au',\n",
              " 'genres/pop/pop.00057.au',\n",
              " 'genres/pop/pop.00058.au',\n",
              " 'genres/pop/pop.00059.au',\n",
              " 'genres/pop/pop.00060.au',\n",
              " 'genres/pop/pop.00061.au',\n",
              " 'genres/pop/pop.00062.au',\n",
              " 'genres/pop/pop.00063.au',\n",
              " 'genres/pop/pop.00064.au',\n",
              " 'genres/pop/pop.00065.au',\n",
              " 'genres/pop/pop.00066.au',\n",
              " 'genres/pop/pop.00067.au',\n",
              " 'genres/pop/pop.00068.au',\n",
              " 'genres/pop/pop.00069.au',\n",
              " 'genres/pop/pop.00070.au',\n",
              " 'genres/pop/pop.00071.au',\n",
              " 'genres/pop/pop.00072.au',\n",
              " 'genres/pop/pop.00073.au',\n",
              " 'genres/pop/pop.00074.au',\n",
              " 'genres/pop/pop.00075.au',\n",
              " 'genres/pop/pop.00076.au',\n",
              " 'genres/pop/pop.00077.au',\n",
              " 'genres/pop/pop.00078.au',\n",
              " 'genres/pop/pop.00079.au',\n",
              " 'genres/pop/pop.00080.au',\n",
              " 'genres/pop/pop.00081.au',\n",
              " 'genres/pop/pop.00082.au',\n",
              " 'genres/pop/pop.00083.au',\n",
              " 'genres/pop/pop.00084.au',\n",
              " 'genres/pop/pop.00085.au',\n",
              " 'genres/pop/pop.00086.au',\n",
              " 'genres/pop/pop.00087.au',\n",
              " 'genres/pop/pop.00088.au',\n",
              " 'genres/pop/pop.00089.au',\n",
              " 'genres/pop/pop.00090.au',\n",
              " 'genres/pop/pop.00091.au',\n",
              " 'genres/pop/pop.00092.au',\n",
              " 'genres/pop/pop.00093.au',\n",
              " 'genres/pop/pop.00094.au',\n",
              " 'genres/pop/pop.00095.au',\n",
              " 'genres/pop/pop.00096.au',\n",
              " 'genres/pop/pop.00097.au',\n",
              " 'genres/pop/pop.00098.au',\n",
              " 'genres/pop/pop.00099.au',\n",
              " 'genres/reggae/',\n",
              " 'genres/reggae/reggae.00000.au',\n",
              " 'genres/reggae/reggae.00001.au',\n",
              " 'genres/reggae/reggae.00002.au',\n",
              " 'genres/reggae/reggae.00003.au',\n",
              " 'genres/reggae/reggae.00004.au',\n",
              " 'genres/reggae/reggae.00005.au',\n",
              " 'genres/reggae/reggae.00006.au',\n",
              " 'genres/reggae/reggae.00007.au',\n",
              " 'genres/reggae/reggae.00008.au',\n",
              " 'genres/reggae/reggae.00009.au',\n",
              " 'genres/reggae/reggae.00010.au',\n",
              " 'genres/reggae/reggae.00011.au',\n",
              " 'genres/reggae/reggae.00012.au',\n",
              " 'genres/reggae/reggae.00013.au',\n",
              " 'genres/reggae/reggae.00014.au',\n",
              " 'genres/reggae/reggae.00015.au',\n",
              " 'genres/reggae/reggae.00016.au',\n",
              " 'genres/reggae/reggae.00017.au',\n",
              " 'genres/reggae/reggae.00018.au',\n",
              " 'genres/reggae/reggae.00019.au',\n",
              " 'genres/reggae/reggae.00020.au',\n",
              " 'genres/reggae/reggae.00021.au',\n",
              " 'genres/reggae/reggae.00022.au',\n",
              " 'genres/reggae/reggae.00023.au',\n",
              " 'genres/reggae/reggae.00024.au',\n",
              " 'genres/reggae/reggae.00025.au',\n",
              " 'genres/reggae/reggae.00026.au',\n",
              " 'genres/reggae/reggae.00027.au',\n",
              " 'genres/reggae/reggae.00028.au',\n",
              " 'genres/reggae/reggae.00029.au',\n",
              " 'genres/reggae/reggae.00030.au',\n",
              " 'genres/reggae/reggae.00031.au',\n",
              " 'genres/reggae/reggae.00032.au',\n",
              " 'genres/reggae/reggae.00033.au',\n",
              " 'genres/reggae/reggae.00034.au',\n",
              " 'genres/reggae/reggae.00035.au',\n",
              " 'genres/reggae/reggae.00036.au',\n",
              " 'genres/reggae/reggae.00037.au',\n",
              " 'genres/reggae/reggae.00038.au',\n",
              " 'genres/reggae/reggae.00039.au',\n",
              " 'genres/reggae/reggae.00040.au',\n",
              " 'genres/reggae/reggae.00041.au',\n",
              " 'genres/reggae/reggae.00042.au',\n",
              " 'genres/reggae/reggae.00043.au',\n",
              " 'genres/reggae/reggae.00044.au',\n",
              " 'genres/reggae/reggae.00045.au',\n",
              " 'genres/reggae/reggae.00046.au',\n",
              " 'genres/reggae/reggae.00047.au',\n",
              " 'genres/reggae/reggae.00048.au',\n",
              " 'genres/reggae/reggae.00049.au',\n",
              " 'genres/reggae/reggae.00050.au',\n",
              " 'genres/reggae/reggae.00051.au',\n",
              " 'genres/reggae/reggae.00052.au',\n",
              " 'genres/reggae/reggae.00053.au',\n",
              " 'genres/reggae/reggae.00054.au',\n",
              " 'genres/reggae/reggae.00055.au',\n",
              " 'genres/reggae/reggae.00056.au',\n",
              " 'genres/reggae/reggae.00057.au',\n",
              " 'genres/reggae/reggae.00058.au',\n",
              " 'genres/reggae/reggae.00059.au',\n",
              " 'genres/reggae/reggae.00060.au',\n",
              " 'genres/reggae/reggae.00061.au',\n",
              " 'genres/reggae/reggae.00062.au',\n",
              " 'genres/reggae/reggae.00063.au',\n",
              " 'genres/reggae/reggae.00064.au',\n",
              " 'genres/reggae/reggae.00065.au',\n",
              " 'genres/reggae/reggae.00066.au',\n",
              " 'genres/reggae/reggae.00067.au',\n",
              " 'genres/reggae/reggae.00068.au',\n",
              " 'genres/reggae/reggae.00069.au',\n",
              " 'genres/reggae/reggae.00070.au',\n",
              " 'genres/reggae/reggae.00071.au',\n",
              " 'genres/reggae/reggae.00072.au',\n",
              " 'genres/reggae/reggae.00073.au',\n",
              " 'genres/reggae/reggae.00074.au',\n",
              " 'genres/reggae/reggae.00075.au',\n",
              " 'genres/reggae/reggae.00076.au',\n",
              " 'genres/reggae/reggae.00077.au',\n",
              " 'genres/reggae/reggae.00078.au',\n",
              " 'genres/reggae/reggae.00079.au',\n",
              " 'genres/reggae/reggae.00080.au',\n",
              " 'genres/reggae/reggae.00081.au',\n",
              " 'genres/reggae/reggae.00082.au',\n",
              " 'genres/reggae/reggae.00083.au',\n",
              " 'genres/reggae/reggae.00084.au',\n",
              " 'genres/reggae/reggae.00085.au',\n",
              " 'genres/reggae/reggae.00086.au',\n",
              " 'genres/reggae/reggae.00087.au',\n",
              " 'genres/reggae/reggae.00088.au',\n",
              " 'genres/reggae/reggae.00089.au',\n",
              " 'genres/reggae/reggae.00090.au',\n",
              " 'genres/reggae/reggae.00091.au',\n",
              " 'genres/reggae/reggae.00092.au',\n",
              " 'genres/reggae/reggae.00093.au',\n",
              " 'genres/reggae/reggae.00094.au',\n",
              " 'genres/reggae/reggae.00095.au',\n",
              " 'genres/reggae/reggae.00096.au',\n",
              " 'genres/reggae/reggae.00097.au',\n",
              " 'genres/reggae/reggae.00098.au',\n",
              " 'genres/reggae/reggae.00099.au',\n",
              " 'genres/rock/',\n",
              " 'genres/rock/rock.00000.au',\n",
              " 'genres/rock/rock.00001.au',\n",
              " 'genres/rock/rock.00002.au',\n",
              " 'genres/rock/rock.00003.au',\n",
              " 'genres/rock/rock.00004.au',\n",
              " 'genres/rock/rock.00005.au',\n",
              " 'genres/rock/rock.00006.au',\n",
              " 'genres/rock/rock.00007.au',\n",
              " 'genres/rock/rock.00008.au',\n",
              " 'genres/rock/rock.00009.au',\n",
              " 'genres/rock/rock.00010.au',\n",
              " 'genres/rock/rock.00011.au',\n",
              " 'genres/rock/rock.00012.au',\n",
              " 'genres/rock/rock.00013.au',\n",
              " 'genres/rock/rock.00014.au',\n",
              " 'genres/rock/rock.00015.au',\n",
              " 'genres/rock/rock.00016.au',\n",
              " 'genres/rock/rock.00017.au',\n",
              " 'genres/rock/rock.00018.au',\n",
              " 'genres/rock/rock.00019.au',\n",
              " 'genres/rock/rock.00020.au',\n",
              " 'genres/rock/rock.00021.au',\n",
              " 'genres/rock/rock.00022.au',\n",
              " 'genres/rock/rock.00023.au',\n",
              " 'genres/rock/rock.00024.au',\n",
              " 'genres/rock/rock.00025.au',\n",
              " 'genres/rock/rock.00026.au',\n",
              " 'genres/rock/rock.00027.au',\n",
              " 'genres/rock/rock.00028.au',\n",
              " 'genres/rock/rock.00029.au',\n",
              " 'genres/rock/rock.00030.au',\n",
              " 'genres/rock/rock.00031.au',\n",
              " 'genres/rock/rock.00032.au',\n",
              " 'genres/rock/rock.00033.au',\n",
              " 'genres/rock/rock.00034.au',\n",
              " 'genres/rock/rock.00035.au',\n",
              " 'genres/rock/rock.00036.au',\n",
              " 'genres/rock/rock.00037.au',\n",
              " 'genres/rock/rock.00038.au',\n",
              " 'genres/rock/rock.00039.au',\n",
              " 'genres/rock/rock.00040.au',\n",
              " 'genres/rock/rock.00041.au',\n",
              " 'genres/rock/rock.00042.au',\n",
              " 'genres/rock/rock.00043.au',\n",
              " 'genres/rock/rock.00044.au',\n",
              " 'genres/rock/rock.00045.au',\n",
              " 'genres/rock/rock.00046.au',\n",
              " 'genres/rock/rock.00047.au',\n",
              " 'genres/rock/rock.00048.au',\n",
              " 'genres/rock/rock.00049.au',\n",
              " 'genres/rock/rock.00050.au',\n",
              " 'genres/rock/rock.00051.au',\n",
              " 'genres/rock/rock.00052.au',\n",
              " 'genres/rock/rock.00053.au',\n",
              " 'genres/rock/rock.00054.au',\n",
              " 'genres/rock/rock.00055.au',\n",
              " 'genres/rock/rock.00056.au',\n",
              " 'genres/rock/rock.00057.au',\n",
              " 'genres/rock/rock.00058.au',\n",
              " 'genres/rock/rock.00059.au',\n",
              " 'genres/rock/rock.00060.au',\n",
              " 'genres/rock/rock.00061.au',\n",
              " 'genres/rock/rock.00062.au',\n",
              " 'genres/rock/rock.00063.au',\n",
              " 'genres/rock/rock.00064.au',\n",
              " 'genres/rock/rock.00065.au',\n",
              " 'genres/rock/rock.00066.au',\n",
              " 'genres/rock/rock.00067.au',\n",
              " 'genres/rock/rock.00068.au',\n",
              " 'genres/rock/rock.00069.au',\n",
              " 'genres/rock/rock.00070.au',\n",
              " 'genres/rock/rock.00071.au',\n",
              " 'genres/rock/rock.00072.au',\n",
              " 'genres/rock/rock.00073.au',\n",
              " 'genres/rock/rock.00074.au',\n",
              " 'genres/rock/rock.00075.au',\n",
              " 'genres/rock/rock.00076.au',\n",
              " 'genres/rock/rock.00077.au',\n",
              " 'genres/rock/rock.00078.au',\n",
              " 'genres/rock/rock.00079.au',\n",
              " 'genres/rock/rock.00080.au',\n",
              " 'genres/rock/rock.00081.au',\n",
              " 'genres/rock/rock.00082.au',\n",
              " 'genres/rock/rock.00083.au',\n",
              " 'genres/rock/rock.00084.au',\n",
              " 'genres/rock/rock.00085.au',\n",
              " 'genres/rock/rock.00086.au',\n",
              " 'genres/rock/rock.00087.au',\n",
              " 'genres/rock/rock.00088.au',\n",
              " ...]"
            ]
          },
          "metadata": {},
          "execution_count": 4
        }
      ],
      "source": [
        "#!unzip set_a.zip -d audio\n",
        "!!tar -xvf genres.tar.gz?dl=0"
      ]
    },
    {
      "cell_type": "code",
      "source": [
        "!rm genres.tar.gz?dl=0"
      ],
      "metadata": {
        "id": "X0pM16wSH3ul"
      },
      "execution_count": 5,
      "outputs": []
    },
    {
      "cell_type": "code",
      "execution_count": 6,
      "metadata": {
        "id": "0rmT3zpCPIkT"
      },
      "outputs": [],
      "source": [
        "import os\n",
        "import pickle\n",
        "from glob import iglob\n",
        "import numpy as np\n",
        "import librosa\n",
        "\n",
        "DATA_AUDIO_DIR = './genres'\n",
        "TARGET_SR = 8000\n",
        "OUTPUT_DIR = './output'\n",
        "OUTPUT_DIR_TRAIN = os.path.join(OUTPUT_DIR, 'train')\n",
        "OUTPUT_DIR_TEST = os.path.join(OUTPUT_DIR, 'test')\n",
        "AUDIO_LENGTH = 10000"
      ]
    },
    {
      "cell_type": "code",
      "execution_count": 7,
      "metadata": {
        "id": "kd9IgrvJQtnw"
      },
      "outputs": [],
      "source": [
        "os.makedirs('/content/output/train/')\n",
        "os.makedirs('/content/output/test/')"
      ]
    },
    {
      "cell_type": "code",
      "execution_count": 8,
      "metadata": {
        "id": "ql2x2MyDQTt5"
      },
      "outputs": [],
      "source": [
        "class_ids = {\n",
        "    'blues': 0,\n",
        "    'classical': 1,\n",
        "    'country': 2,\n",
        "    'disco': 3,\n",
        "    'hiphop': 4,\n",
        "    'jazz':5,\n",
        "    'metal':6,\n",
        "    'pop':7,\n",
        "    'reggae':8,\n",
        "    'rock':9\n",
        "}\n",
        "\n",
        "audio_Class = ['blues', 'classical', 'country', 'disco', 'hiphop', 'jazz', 'metal', 'pop', 'reggae', 'rock']\n",
        "\n",
        "def extract_class_id(wav_filename):\n",
        "    if 'blues' in wav_filename:\n",
        "        return class_ids.get('blues')\n",
        "    elif 'classical' in wav_filename:\n",
        "        return class_ids.get('classical')\n",
        "    elif 'country' in wav_filename:\n",
        "        return class_ids.get('country')\n",
        "    elif 'disco' in wav_filename:\n",
        "        return class_ids.get('disco')\n",
        "    elif 'hiphop' in wav_filename:\n",
        "        return class_ids.get('hiphop')\n",
        "    elif 'jazz' in wav_filename:\n",
        "        return class_ids.get('jazz')\n",
        "    elif 'metal' in wav_filename:\n",
        "        return class_ids.get('metal')\n",
        "    elif 'pop' in wav_filename:\n",
        "        return class_ids.get('pop')\n",
        "    elif 'reggae' in wav_filename:\n",
        "        return class_ids.get('reggae')\n",
        "    else:\n",
        "        return class_ids.get('rock')"
      ]
    },
    {
      "cell_type": "code",
      "source": [
        "extract_class_id('/content/genres/pop/pop.00000.au')"
      ],
      "metadata": {
        "colab": {
          "base_uri": "https://localhost:8080/"
        },
        "id": "tdcfL7hGvmMT",
        "outputId": "28160b98-1ee2-4a6f-ec60-49b22a9cd692"
      },
      "execution_count": 9,
      "outputs": [
        {
          "output_type": "execute_result",
          "data": {
            "text/plain": [
              "7"
            ]
          },
          "metadata": {},
          "execution_count": 9
        }
      ]
    },
    {
      "cell_type": "code",
      "execution_count": 10,
      "metadata": {
        "id": "ihBaWO56Qand"
      },
      "outputs": [],
      "source": [
        "def read_audio_from_filename(filename, target_sr):\n",
        "    audio, _ = librosa.load(filename, sr=target_sr, mono=True)\n",
        "    audio = audio.reshape(-1, 1)\n",
        "    return audio"
      ]
    },
    {
      "cell_type": "code",
      "source": [],
      "metadata": {
        "id": "txSkjPSIPWOB"
      },
      "execution_count": 10,
      "outputs": []
    },
    {
      "cell_type": "code",
      "source": [],
      "metadata": {
        "id": "dNa1dwXhM_pX"
      },
      "execution_count": 10,
      "outputs": []
    },
    {
      "cell_type": "code",
      "execution_count": 11,
      "metadata": {
        "id": "6XxzE5fKQc1S"
      },
      "outputs": [],
      "source": [
        "def convert_data():\n",
        "  for audioItem in audio_Class:\n",
        "    path = DATA_AUDIO_DIR + '/' + audioItem\n",
        "    #print(path)\n",
        "    for i, wav_filename in enumerate(iglob(os.path.join(path, '**/**.au'), recursive=True)):\n",
        "        class_id = extract_class_id(wav_filename)\n",
        "        audio_buf = read_audio_from_filename(wav_filename, target_sr=TARGET_SR)\n",
        "        # normalize mean 0, variance 1\n",
        "        audio_buf = (audio_buf - np.mean(audio_buf)) / np.std(audio_buf)\n",
        "        original_length = len(audio_buf)\n",
        "        print(i, wav_filename, original_length, np.round(np.mean(audio_buf), 4), np.std(audio_buf))\n",
        "        if original_length < AUDIO_LENGTH:\n",
        "            audio_buf = np.concatenate((audio_buf, np.zeros(shape=(AUDIO_LENGTH - original_length, 1))))\n",
        "            #print('PAD New length =', len(audio_buf))\n",
        "        elif original_length > AUDIO_LENGTH:\n",
        "            audio_buf = audio_buf[0:AUDIO_LENGTH]\n",
        "            #print('CUT New length =', len(audio_buf))\n",
        "\n",
        "        output_folder = OUTPUT_DIR_TRAIN\n",
        "        if i // 10 == 0:\n",
        "            output_folder = OUTPUT_DIR_TEST\n",
        "\n",
        "        output_filename = os.path.join(output_folder, str(i) + audioItem + '.pkl')\n",
        "        print(output_filename)\n",
        "        out = {'class_id': class_id,\n",
        "               'audio': audio_buf,\n",
        "               'sr': TARGET_SR}\n",
        "        w=open(output_filename,'wb')\n",
        "        pickle.dump(out,w)\n",
        "        w.close()\n",
        "\n",
        ""
      ]
    },
    {
      "cell_type": "code",
      "execution_count": 12,
      "metadata": {
        "colab": {
          "base_uri": "https://localhost:8080/"
        },
        "id": "cZYi36QRRIyz",
        "outputId": "6bb48c91-665b-4509-be78-e738b1229140"
      },
      "outputs": [
        {
          "output_type": "stream",
          "name": "stdout",
          "text": [
            "0 ./genres/blues/blues.00021.au 240107 -0.0 0.9999999\n",
            "./output/test/0blues.pkl\n",
            "1 ./genres/blues/blues.00026.au 240107 0.0 1.0\n",
            "./output/test/1blues.pkl\n",
            "2 ./genres/blues/blues.00048.au 240107 -0.0 1.0\n",
            "./output/test/2blues.pkl\n",
            "3 ./genres/blues/blues.00002.au 240107 0.0 1.0\n",
            "./output/test/3blues.pkl\n",
            "4 ./genres/blues/blues.00069.au 240107 0.0 0.99999994\n",
            "./output/test/4blues.pkl\n",
            "5 ./genres/blues/blues.00017.au 240107 0.0 1.0\n",
            "./output/test/5blues.pkl\n",
            "6 ./genres/blues/blues.00079.au 240107 -0.0 1.0\n",
            "./output/test/6blues.pkl\n",
            "7 ./genres/blues/blues.00015.au 240107 0.0 1.0\n",
            "./output/test/7blues.pkl\n",
            "8 ./genres/blues/blues.00042.au 240107 0.0 0.9999999\n",
            "./output/test/8blues.pkl\n",
            "9 ./genres/blues/blues.00096.au 240107 -0.0 1.0\n",
            "./output/test/9blues.pkl\n",
            "10 ./genres/blues/blues.00076.au 240107 -0.0 1.0\n",
            "./output/train/10blues.pkl\n",
            "11 ./genres/blues/blues.00014.au 240107 0.0 0.99999994\n",
            "./output/train/11blues.pkl\n",
            "12 ./genres/blues/blues.00097.au 240107 0.0 1.0\n",
            "./output/train/12blues.pkl\n",
            "13 ./genres/blues/blues.00027.au 240107 0.0 0.99999994\n",
            "./output/train/13blues.pkl\n",
            "14 ./genres/blues/blues.00072.au 240107 0.0 1.0\n",
            "./output/train/14blues.pkl\n",
            "15 ./genres/blues/blues.00044.au 240107 -0.0 1.0000001\n",
            "./output/train/15blues.pkl\n",
            "16 ./genres/blues/blues.00029.au 240107 -0.0 1.0\n",
            "./output/train/16blues.pkl\n",
            "17 ./genres/blues/blues.00071.au 240107 -0.0 1.0\n",
            "./output/train/17blues.pkl\n",
            "18 ./genres/blues/blues.00006.au 240107 -0.0 1.0\n",
            "./output/train/18blues.pkl\n",
            "19 ./genres/blues/blues.00039.au 240107 -0.0 1.0\n",
            "./output/train/19blues.pkl\n",
            "20 ./genres/blues/blues.00054.au 240107 0.0 1.0\n",
            "./output/train/20blues.pkl\n",
            "21 ./genres/blues/blues.00092.au 240107 0.0 1.0\n",
            "./output/train/21blues.pkl\n",
            "22 ./genres/blues/blues.00053.au 240107 0.0 1.0\n",
            "./output/train/22blues.pkl\n",
            "23 ./genres/blues/blues.00074.au 240107 -0.0 1.0\n",
            "./output/train/23blues.pkl\n",
            "24 ./genres/blues/blues.00005.au 240107 0.0 1.0\n",
            "./output/train/24blues.pkl\n",
            "25 ./genres/blues/blues.00046.au 240107 0.0 0.99999994\n",
            "./output/train/25blues.pkl\n",
            "26 ./genres/blues/blues.00009.au 240107 0.0 1.0\n",
            "./output/train/26blues.pkl\n",
            "27 ./genres/blues/blues.00057.au 240107 0.0 1.0000001\n",
            "./output/train/27blues.pkl\n",
            "28 ./genres/blues/blues.00022.au 240107 0.0 0.99999994\n",
            "./output/train/28blues.pkl\n",
            "29 ./genres/blues/blues.00033.au 240107 0.0 0.9999999\n",
            "./output/train/29blues.pkl\n",
            "30 ./genres/blues/blues.00059.au 240107 0.0 0.99999994\n",
            "./output/train/30blues.pkl\n",
            "31 ./genres/blues/blues.00084.au 240107 0.0 0.99999994\n",
            "./output/train/31blues.pkl\n",
            "32 ./genres/blues/blues.00089.au 240107 0.0 1.0\n",
            "./output/train/32blues.pkl\n",
            "33 ./genres/blues/blues.00030.au 240107 -0.0 1.0\n",
            "./output/train/33blues.pkl\n",
            "34 ./genres/blues/blues.00040.au 240107 0.0 1.0000001\n",
            "./output/train/34blues.pkl\n",
            "35 ./genres/blues/blues.00082.au 240107 -0.0 0.99999994\n",
            "./output/train/35blues.pkl\n",
            "36 ./genres/blues/blues.00032.au 240107 0.0 1.0\n",
            "./output/train/36blues.pkl\n",
            "37 ./genres/blues/blues.00070.au 240107 0.0 1.0000001\n",
            "./output/train/37blues.pkl\n",
            "38 ./genres/blues/blues.00066.au 240107 -0.0 0.99999994\n",
            "./output/train/38blues.pkl\n",
            "39 ./genres/blues/blues.00018.au 240107 0.0 1.0\n",
            "./output/train/39blues.pkl\n",
            "40 ./genres/blues/blues.00093.au 240107 0.0 0.9999999\n",
            "./output/train/40blues.pkl\n",
            "41 ./genres/blues/blues.00060.au 240107 -0.0 1.0000001\n",
            "./output/train/41blues.pkl\n",
            "42 ./genres/blues/blues.00077.au 240107 -0.0 0.99999994\n",
            "./output/train/42blues.pkl\n",
            "43 ./genres/blues/blues.00034.au 240107 0.0 1.0\n",
            "./output/train/43blues.pkl\n",
            "44 ./genres/blues/blues.00012.au 240107 0.0 1.0\n",
            "./output/train/44blues.pkl\n",
            "45 ./genres/blues/blues.00038.au 240107 0.0 0.99999994\n",
            "./output/train/45blues.pkl\n",
            "46 ./genres/blues/blues.00000.au 240107 0.0 1.0\n",
            "./output/train/46blues.pkl\n",
            "47 ./genres/blues/blues.00090.au 240107 0.0 1.0\n",
            "./output/train/47blues.pkl\n",
            "48 ./genres/blues/blues.00041.au 240107 -0.0 1.0\n",
            "./output/train/48blues.pkl\n",
            "49 ./genres/blues/blues.00095.au 240107 0.0 0.99999994\n",
            "./output/train/49blues.pkl\n",
            "50 ./genres/blues/blues.00020.au 240107 0.0 0.99999994\n",
            "./output/train/50blues.pkl\n",
            "51 ./genres/blues/blues.00098.au 240107 -0.0 1.0\n",
            "./output/train/51blues.pkl\n",
            "52 ./genres/blues/blues.00068.au 240107 -0.0 1.0\n",
            "./output/train/52blues.pkl\n",
            "53 ./genres/blues/blues.00094.au 240107 -0.0 1.0\n",
            "./output/train/53blues.pkl\n",
            "54 ./genres/blues/blues.00031.au 240107 -0.0 1.0\n",
            "./output/train/54blues.pkl\n",
            "55 ./genres/blues/blues.00011.au 240107 -0.0 0.99999994\n",
            "./output/train/55blues.pkl\n",
            "56 ./genres/blues/blues.00049.au 240107 0.0 0.9999999\n",
            "./output/train/56blues.pkl\n",
            "57 ./genres/blues/blues.00016.au 240107 -0.0 0.9999999\n",
            "./output/train/57blues.pkl\n",
            "58 ./genres/blues/blues.00073.au 240107 -0.0 1.0\n",
            "./output/train/58blues.pkl\n",
            "59 ./genres/blues/blues.00086.au 240107 -0.0 1.0\n",
            "./output/train/59blues.pkl\n",
            "60 ./genres/blues/blues.00024.au 240107 -0.0 1.0\n",
            "./output/train/60blues.pkl\n",
            "61 ./genres/blues/blues.00028.au 240107 -0.0 1.0\n",
            "./output/train/61blues.pkl\n",
            "62 ./genres/blues/blues.00045.au 240107 0.0 1.0\n",
            "./output/train/62blues.pkl\n",
            "63 ./genres/blues/blues.00052.au 240107 -0.0 1.0\n",
            "./output/train/63blues.pkl\n",
            "64 ./genres/blues/blues.00043.au 240107 0.0 1.0\n",
            "./output/train/64blues.pkl\n",
            "65 ./genres/blues/blues.00061.au 240107 0.0 0.99999994\n",
            "./output/train/65blues.pkl\n",
            "66 ./genres/blues/blues.00067.au 240107 -0.0 1.0\n",
            "./output/train/66blues.pkl\n",
            "67 ./genres/blues/blues.00004.au 240107 -0.0 1.0\n",
            "./output/train/67blues.pkl\n",
            "68 ./genres/blues/blues.00037.au 240107 -0.0 1.0\n",
            "./output/train/68blues.pkl\n",
            "69 ./genres/blues/blues.00085.au 240107 0.0 0.99999994\n",
            "./output/train/69blues.pkl\n",
            "70 ./genres/blues/blues.00010.au 240107 -0.0 1.0\n",
            "./output/train/70blues.pkl\n",
            "71 ./genres/blues/blues.00047.au 240107 0.0 0.99999994\n",
            "./output/train/71blues.pkl\n",
            "72 ./genres/blues/blues.00091.au 240107 0.0 1.0\n",
            "./output/train/72blues.pkl\n",
            "73 ./genres/blues/blues.00075.au 240107 -0.0 1.0\n",
            "./output/train/73blues.pkl\n",
            "74 ./genres/blues/blues.00087.au 240107 0.0 1.0\n",
            "./output/train/74blues.pkl\n",
            "75 ./genres/blues/blues.00056.au 240107 -0.0 1.0000001\n",
            "./output/train/75blues.pkl\n",
            "76 ./genres/blues/blues.00088.au 240107 -0.0 0.99999994\n",
            "./output/train/76blues.pkl\n",
            "77 ./genres/blues/blues.00051.au 240107 -0.0 1.0\n",
            "./output/train/77blues.pkl\n",
            "78 ./genres/blues/blues.00055.au 240107 -0.0 1.0\n",
            "./output/train/78blues.pkl\n",
            "79 ./genres/blues/blues.00013.au 240107 -0.0 0.99999994\n",
            "./output/train/79blues.pkl\n",
            "80 ./genres/blues/blues.00083.au 240107 -0.0 0.99999976\n",
            "./output/train/80blues.pkl\n",
            "81 ./genres/blues/blues.00065.au 240107 0.0 1.0000001\n",
            "./output/train/81blues.pkl\n",
            "82 ./genres/blues/blues.00063.au 240107 0.0 1.0\n",
            "./output/train/82blues.pkl\n",
            "83 ./genres/blues/blues.00050.au 240107 -0.0 1.0\n",
            "./output/train/83blues.pkl\n",
            "84 ./genres/blues/blues.00008.au 240107 -0.0 0.9999998\n",
            "./output/train/84blues.pkl\n",
            "85 ./genres/blues/blues.00003.au 240107 0.0 0.99999994\n",
            "./output/train/85blues.pkl\n",
            "86 ./genres/blues/blues.00064.au 240107 0.0 0.9999998\n",
            "./output/train/86blues.pkl\n",
            "87 ./genres/blues/blues.00001.au 240107 0.0 1.0\n",
            "./output/train/87blues.pkl\n",
            "88 ./genres/blues/blues.00080.au 240107 0.0 1.0\n",
            "./output/train/88blues.pkl\n",
            "89 ./genres/blues/blues.00078.au 240107 -0.0 1.0\n",
            "./output/train/89blues.pkl\n",
            "90 ./genres/blues/blues.00007.au 240107 0.0 1.0\n",
            "./output/train/90blues.pkl\n",
            "91 ./genres/blues/blues.00099.au 240107 -0.0 0.99999994\n",
            "./output/train/91blues.pkl\n",
            "92 ./genres/blues/blues.00062.au 240107 -0.0 1.0\n",
            "./output/train/92blues.pkl\n",
            "93 ./genres/blues/blues.00081.au 240107 0.0 1.0\n",
            "./output/train/93blues.pkl\n",
            "94 ./genres/blues/blues.00058.au 240107 -0.0 1.0\n",
            "./output/train/94blues.pkl\n",
            "95 ./genres/blues/blues.00019.au 240107 -0.0 0.99999994\n",
            "./output/train/95blues.pkl\n",
            "96 ./genres/blues/blues.00023.au 240107 0.0 1.0\n",
            "./output/train/96blues.pkl\n",
            "97 ./genres/blues/blues.00025.au 240107 -0.0 0.99999994\n",
            "./output/train/97blues.pkl\n",
            "98 ./genres/blues/blues.00035.au 240107 -0.0 1.0\n",
            "./output/train/98blues.pkl\n",
            "99 ./genres/blues/blues.00036.au 240107 0.0 0.99999994\n",
            "./output/train/99blues.pkl\n",
            "0 ./genres/classical/classical.00003.au 240107 -0.0 0.99999994\n",
            "./output/test/0classical.pkl\n",
            "1 ./genres/classical/classical.00092.au 240107 -0.0 0.9999999\n",
            "./output/test/1classical.pkl\n",
            "2 ./genres/classical/classical.00017.au 240107 0.0 1.0\n",
            "./output/test/2classical.pkl\n",
            "3 ./genres/classical/classical.00013.au 240107 0.0 0.99999994\n",
            "./output/test/3classical.pkl\n",
            "4 ./genres/classical/classical.00052.au 240107 0.0 0.99999994\n",
            "./output/test/4classical.pkl\n",
            "5 ./genres/classical/classical.00005.au 240107 -0.0 1.0\n",
            "./output/test/5classical.pkl\n",
            "6 ./genres/classical/classical.00028.au 240107 0.0 0.99999994\n",
            "./output/test/6classical.pkl\n",
            "7 ./genres/classical/classical.00096.au 240107 0.0 1.0\n",
            "./output/test/7classical.pkl\n",
            "8 ./genres/classical/classical.00086.au 240107 0.0 1.0\n",
            "./output/test/8classical.pkl\n",
            "9 ./genres/classical/classical.00025.au 240107 -0.0 1.0\n",
            "./output/test/9classical.pkl\n",
            "10 ./genres/classical/classical.00050.au 240107 -0.0 0.99999994\n",
            "./output/train/10classical.pkl\n",
            "11 ./genres/classical/classical.00084.au 240107 -0.0 0.99999994\n",
            "./output/train/11classical.pkl\n",
            "12 ./genres/classical/classical.00078.au 240107 -0.0 1.0\n",
            "./output/train/12classical.pkl\n",
            "13 ./genres/classical/classical.00047.au 240107 0.0 1.0\n",
            "./output/train/13classical.pkl\n",
            "14 ./genres/classical/classical.00004.au 240107 0.0 1.0\n",
            "./output/train/14classical.pkl\n",
            "15 ./genres/classical/classical.00041.au 240107 0.0 0.99999994\n",
            "./output/train/15classical.pkl\n",
            "16 ./genres/classical/classical.00038.au 240107 -0.0 1.0\n",
            "./output/train/16classical.pkl\n",
            "17 ./genres/classical/classical.00007.au 240107 0.0 0.99999994\n",
            "./output/train/17classical.pkl\n",
            "18 ./genres/classical/classical.00071.au 240107 0.0 0.99999994\n",
            "./output/train/18classical.pkl\n",
            "19 ./genres/classical/classical.00032.au 240107 0.0 0.9999999\n",
            "./output/train/19classical.pkl\n",
            "20 ./genres/classical/classical.00056.au 240574 0.0 1.0000001\n",
            "./output/train/20classical.pkl\n",
            "21 ./genres/classical/classical.00024.au 240107 -0.0 1.0000001\n",
            "./output/train/21classical.pkl\n",
            "22 ./genres/classical/classical.00019.au 240107 0.0 1.0\n",
            "./output/train/22classical.pkl\n",
            "23 ./genres/classical/classical.00042.au 242968 0.0 1.0\n",
            "./output/train/23classical.pkl\n",
            "24 ./genres/classical/classical.00049.au 239967 0.0 0.99999994\n",
            "./output/train/24classical.pkl\n",
            "25 ./genres/classical/classical.00057.au 240107 -0.0 1.0\n",
            "./output/train/25classical.pkl\n",
            "26 ./genres/classical/classical.00020.au 240107 -0.0 0.99999994\n",
            "./output/train/26classical.pkl\n",
            "27 ./genres/classical/classical.00023.au 240107 0.0 1.0\n",
            "./output/train/27classical.pkl\n",
            "28 ./genres/classical/classical.00072.au 240107 -0.0 0.9999999\n",
            "./output/train/28classical.pkl\n",
            "29 ./genres/classical/classical.00074.au 240107 -0.0 1.0\n",
            "./output/train/29classical.pkl\n",
            "30 ./genres/classical/classical.00063.au 240107 0.0 0.99999994\n",
            "./output/train/30classical.pkl\n",
            "31 ./genres/classical/classical.00018.au 240107 0.0 1.0000001\n",
            "./output/train/31classical.pkl\n",
            "32 ./genres/classical/classical.00097.au 240107 0.0 1.0\n",
            "./output/train/32classical.pkl\n",
            "33 ./genres/classical/classical.00059.au 240107 -0.0 1.0\n",
            "./output/train/33classical.pkl\n",
            "34 ./genres/classical/classical.00083.au 240107 0.0 1.0\n",
            "./output/train/34classical.pkl\n",
            "35 ./genres/classical/classical.00066.au 240107 0.0 0.99999994\n",
            "./output/train/35classical.pkl\n",
            "36 ./genres/classical/classical.00064.au 240107 0.0 0.99999994\n",
            "./output/train/36classical.pkl\n",
            "37 ./genres/classical/classical.00090.au 240107 -0.0 1.0\n",
            "./output/train/37classical.pkl\n",
            "38 ./genres/classical/classical.00044.au 240107 0.0 1.0000001\n",
            "./output/train/38classical.pkl\n",
            "39 ./genres/classical/classical.00033.au 240107 0.0 0.99999994\n",
            "./output/train/39classical.pkl\n",
            "40 ./genres/classical/classical.00015.au 240107 0.0 0.99999994\n",
            "./output/train/40classical.pkl\n",
            "41 ./genres/classical/classical.00076.au 240107 -0.0 1.0000001\n",
            "./output/train/41classical.pkl\n",
            "42 ./genres/classical/classical.00068.au 240107 -0.0 1.0\n",
            "./output/train/42classical.pkl\n",
            "43 ./genres/classical/classical.00006.au 240107 -0.0 1.0\n",
            "./output/train/43classical.pkl\n",
            "44 ./genres/classical/classical.00051.au 239944 0.0 1.0\n",
            "./output/train/44classical.pkl\n",
            "45 ./genres/classical/classical.00082.au 240107 -0.0 1.0000001\n",
            "./output/train/45classical.pkl\n",
            "46 ./genres/classical/classical.00001.au 240107 -0.0 1.0\n",
            "./output/train/46classical.pkl\n",
            "47 ./genres/classical/classical.00031.au 240107 -0.0 1.0\n",
            "./output/train/47classical.pkl\n",
            "48 ./genres/classical/classical.00089.au 240107 0.0 0.99999994\n",
            "./output/train/48classical.pkl\n",
            "49 ./genres/classical/classical.00053.au 243128 0.0 1.0000001\n",
            "./output/train/49classical.pkl\n",
            "50 ./genres/classical/classical.00008.au 240107 0.0 1.0\n",
            "./output/train/50classical.pkl\n",
            "51 ./genres/classical/classical.00045.au 241372 0.0 1.0\n",
            "./output/train/51classical.pkl\n",
            "52 ./genres/classical/classical.00087.au 240107 0.0 0.99999994\n",
            "./output/train/52classical.pkl\n",
            "53 ./genres/classical/classical.00014.au 240107 0.0 0.9999999\n",
            "./output/train/53classical.pkl\n",
            "54 ./genres/classical/classical.00037.au 240107 0.0 0.99999994\n",
            "./output/train/54classical.pkl\n",
            "55 ./genres/classical/classical.00060.au 240107 0.0 1.0\n",
            "./output/train/55classical.pkl\n",
            "56 ./genres/classical/classical.00058.au 240107 0.0 1.0\n",
            "./output/train/56classical.pkl\n",
            "57 ./genres/classical/classical.00034.au 240107 0.0 0.99999994\n",
            "./output/train/57classical.pkl\n",
            "58 ./genres/classical/classical.00026.au 240107 -0.0 1.0\n",
            "./output/train/58classical.pkl\n",
            "59 ./genres/classical/classical.00098.au 240107 0.0 1.0\n",
            "./output/train/59classical.pkl\n",
            "60 ./genres/classical/classical.00069.au 240107 -0.0 0.9999999\n",
            "./output/train/60classical.pkl\n",
            "61 ./genres/classical/classical.00046.au 240095 -0.0 0.99999994\n",
            "./output/train/61classical.pkl\n",
            "62 ./genres/classical/classical.00002.au 240107 0.0 0.99999994\n",
            "./output/train/62classical.pkl\n",
            "63 ./genres/classical/classical.00093.au 240107 0.0 0.99999994\n",
            "./output/train/63classical.pkl\n",
            "64 ./genres/classical/classical.00067.au 240107 -0.0 0.99999994\n",
            "./output/train/64classical.pkl\n",
            "65 ./genres/classical/classical.00022.au 240107 0.0 1.0\n",
            "./output/train/65classical.pkl\n",
            "66 ./genres/classical/classical.00036.au 240107 0.0 1.0\n",
            "./output/train/66classical.pkl\n",
            "67 ./genres/classical/classical.00079.au 240107 -0.0 1.0\n",
            "./output/train/67classical.pkl\n",
            "68 ./genres/classical/classical.00030.au 240107 0.0 0.9999999\n",
            "./output/train/68classical.pkl\n",
            "69 ./genres/classical/classical.00088.au 240107 -0.0 0.99999994\n",
            "./output/train/69classical.pkl\n",
            "70 ./genres/classical/classical.00077.au 240107 0.0 1.0\n",
            "./output/train/70classical.pkl\n",
            "71 ./genres/classical/classical.00000.au 240107 -0.0 1.0\n",
            "./output/train/71classical.pkl\n",
            "72 ./genres/classical/classical.00085.au 240107 0.0 1.0\n",
            "./output/train/72classical.pkl\n",
            "73 ./genres/classical/classical.00061.au 240107 -0.0 1.0000001\n",
            "./output/train/73classical.pkl\n",
            "74 ./genres/classical/classical.00012.au 240107 -0.0 1.0\n",
            "./output/train/74classical.pkl\n",
            "75 ./genres/classical/classical.00075.au 240107 0.0 1.0\n",
            "./output/train/75classical.pkl\n",
            "76 ./genres/classical/classical.00094.au 240107 0.0 0.9999999\n",
            "./output/train/76classical.pkl\n",
            "77 ./genres/classical/classical.00040.au 240107 0.0 1.0\n",
            "./output/train/77classical.pkl\n",
            "78 ./genres/classical/classical.00010.au 240107 -0.0 0.99999994\n",
            "./output/train/78classical.pkl\n",
            "79 ./genres/classical/classical.00065.au 240107 -0.0 1.0\n",
            "./output/train/79classical.pkl\n",
            "80 ./genres/classical/classical.00099.au 240107 -0.0 1.0000001\n",
            "./output/train/80classical.pkl\n",
            "81 ./genres/classical/classical.00011.au 240107 -0.0 0.99999994\n",
            "./output/train/81classical.pkl\n",
            "82 ./genres/classical/classical.00073.au 240107 -0.0 1.0\n",
            "./output/train/82classical.pkl\n",
            "83 ./genres/classical/classical.00016.au 240107 0.0 0.99999994\n",
            "./output/train/83classical.pkl\n",
            "84 ./genres/classical/classical.00035.au 240107 0.0 1.0000001\n",
            "./output/train/84classical.pkl\n",
            "85 ./genres/classical/classical.00021.au 240107 0.0 1.0\n",
            "./output/train/85classical.pkl\n",
            "86 ./genres/classical/classical.00095.au 240107 -0.0 1.0000001\n",
            "./output/train/86classical.pkl\n",
            "87 ./genres/classical/classical.00062.au 240107 0.0 0.9999999\n",
            "./output/train/87classical.pkl\n",
            "88 ./genres/classical/classical.00055.au 240107 0.0 1.0\n",
            "./output/train/88classical.pkl\n",
            "89 ./genres/classical/classical.00070.au 240107 -0.0 0.99999994\n",
            "./output/train/89classical.pkl\n",
            "90 ./genres/classical/classical.00039.au 240107 0.0 0.99999994\n",
            "./output/train/90classical.pkl\n",
            "91 ./genres/classical/classical.00048.au 240733 0.0 0.99999994\n",
            "./output/train/91classical.pkl\n",
            "92 ./genres/classical/classical.00054.au 243912 0.0 1.0000001\n",
            "./output/train/92classical.pkl\n",
            "93 ./genres/classical/classical.00043.au 240064 0.0 0.99999994\n",
            "./output/train/93classical.pkl\n",
            "94 ./genres/classical/classical.00080.au 240107 0.0 0.9999999\n",
            "./output/train/94classical.pkl\n",
            "95 ./genres/classical/classical.00081.au 240107 -0.0 0.99999994\n",
            "./output/train/95classical.pkl\n",
            "96 ./genres/classical/classical.00029.au 240107 -0.0 1.0\n",
            "./output/train/96classical.pkl\n",
            "97 ./genres/classical/classical.00009.au 240107 -0.0 1.0\n",
            "./output/train/97classical.pkl\n",
            "98 ./genres/classical/classical.00091.au 240107 -0.0 1.0\n",
            "./output/train/98classical.pkl\n",
            "99 ./genres/classical/classical.00027.au 240107 0.0 1.0\n",
            "./output/train/99classical.pkl\n",
            "0 ./genres/country/country.00020.au 240107 -0.0 0.99999994\n",
            "./output/test/0country.pkl\n",
            "1 ./genres/country/country.00067.au 240107 -0.0 0.99999994\n",
            "./output/test/1country.pkl\n",
            "2 ./genres/country/country.00017.au 240107 0.0 0.99999994\n",
            "./output/test/2country.pkl\n",
            "3 ./genres/country/country.00095.au 240107 0.0 0.99999994\n",
            "./output/test/3country.pkl\n",
            "4 ./genres/country/country.00042.au 240107 0.0 1.0\n",
            "./output/test/4country.pkl\n",
            "5 ./genres/country/country.00012.au 240107 -0.0 0.9999999\n",
            "./output/test/5country.pkl\n",
            "6 ./genres/country/country.00045.au 240107 -0.0 1.0\n",
            "./output/test/6country.pkl\n",
            "7 ./genres/country/country.00016.au 240107 -0.0 0.99999994\n",
            "./output/test/7country.pkl\n",
            "8 ./genres/country/country.00080.au 240107 -0.0 1.0\n",
            "./output/test/8country.pkl\n",
            "9 ./genres/country/country.00098.au 240107 -0.0 0.99999994\n",
            "./output/test/9country.pkl\n",
            "10 ./genres/country/country.00099.au 240107 0.0 1.0000001\n",
            "./output/train/10country.pkl\n",
            "11 ./genres/country/country.00019.au 240107 -0.0 0.99999994\n",
            "./output/train/11country.pkl\n",
            "12 ./genres/country/country.00035.au 240107 0.0 0.99999994\n",
            "./output/train/12country.pkl\n",
            "13 ./genres/country/country.00009.au 240654 -0.0 1.0\n",
            "./output/train/13country.pkl\n",
            "14 ./genres/country/country.00002.au 242968 -0.0 1.0\n",
            "./output/train/14country.pkl\n",
            "15 ./genres/country/country.00008.au 240813 0.0 1.0000001\n",
            "./output/train/15country.pkl\n",
            "16 ./genres/country/country.00088.au 240107 0.0 1.0\n",
            "./output/train/16country.pkl\n",
            "17 ./genres/country/country.00069.au 240107 -0.0 1.0\n",
            "./output/train/17country.pkl\n",
            "18 ./genres/country/country.00086.au 240107 0.0 1.0\n",
            "./output/train/18country.pkl\n",
            "19 ./genres/country/country.00011.au 240107 -0.0 1.0000001\n",
            "./output/train/19country.pkl\n",
            "20 ./genres/country/country.00055.au 240107 0.0 1.0\n",
            "./output/train/20country.pkl\n",
            "21 ./genres/country/country.00054.au 240107 -0.0 0.99999994\n",
            "./output/train/21country.pkl\n",
            "22 ./genres/country/country.00096.au 240107 -0.0 1.0\n",
            "./output/train/22country.pkl\n",
            "23 ./genres/country/country.00010.au 240107 0.0 1.0\n",
            "./output/train/23country.pkl\n",
            "24 ./genres/country/country.00006.au 242649 -0.0 0.99999994\n",
            "./output/train/24country.pkl\n",
            "25 ./genres/country/country.00015.au 240107 -0.0 1.0\n",
            "./output/train/25country.pkl\n",
            "26 ./genres/country/country.00083.au 240107 0.0 0.9999999\n",
            "./output/train/26country.pkl\n",
            "27 ./genres/country/country.00000.au 240654 -0.0 1.0\n",
            "./output/train/27country.pkl\n",
            "28 ./genres/country/country.00034.au 240107 0.0 0.99999994\n",
            "./output/train/28country.pkl\n",
            "29 ./genres/country/country.00079.au 240107 0.0 1.0000001\n",
            "./output/train/29country.pkl\n",
            "30 ./genres/country/country.00060.au 240107 0.0 1.0\n",
            "./output/train/30country.pkl\n",
            "31 ./genres/country/country.00093.au 240107 -0.0 1.0\n",
            "./output/train/31country.pkl\n",
            "32 ./genres/country/country.00058.au 240107 -0.0 0.99999994\n",
            "./output/train/32country.pkl\n",
            "33 ./genres/country/country.00071.au 240107 0.0 1.0\n",
            "./output/train/33country.pkl\n",
            "34 ./genres/country/country.00021.au 240107 0.0 0.99999994\n",
            "./output/train/34country.pkl\n",
            "35 ./genres/country/country.00062.au 240107 -0.0 0.99999994\n",
            "./output/train/35country.pkl\n",
            "36 ./genres/country/country.00043.au 240107 0.0 1.0\n",
            "./output/train/36country.pkl\n",
            "37 ./genres/country/country.00024.au 240107 0.0 1.0\n",
            "./output/train/37country.pkl\n",
            "38 ./genres/country/country.00029.au 240107 0.0 0.99999994\n",
            "./output/train/38country.pkl\n",
            "39 ./genres/country/country.00030.au 240107 -0.0 0.9999999\n",
            "./output/train/39country.pkl\n",
            "40 ./genres/country/country.00078.au 240107 0.0 1.0\n",
            "./output/train/40country.pkl\n",
            "41 ./genres/country/country.00005.au 241931 0.0 1.0\n",
            "./output/train/41country.pkl\n",
            "42 ./genres/country/country.00047.au 240107 -0.0 1.0\n",
            "./output/train/42country.pkl\n",
            "43 ./genres/country/country.00007.au 239855 0.0 1.0000001\n",
            "./output/train/43country.pkl\n",
            "44 ./genres/country/country.00051.au 240107 -0.0 0.9999999\n",
            "./output/train/44country.pkl\n",
            "45 ./genres/country/country.00090.au 240107 -0.0 1.0\n",
            "./output/train/45country.pkl\n",
            "46 ./genres/country/country.00004.au 239967 -0.0 1.0\n",
            "./output/train/46country.pkl\n",
            "47 ./genres/country/country.00076.au 240107 -0.0 0.99999994\n",
            "./output/train/47country.pkl\n",
            "48 ./genres/country/country.00091.au 240107 0.0 0.99999994\n",
            "./output/train/48country.pkl\n",
            "49 ./genres/country/country.00068.au 240107 -0.0 0.99999994\n",
            "./output/train/49country.pkl\n",
            "50 ./genres/country/country.00023.au 240107 -0.0 0.9999999\n",
            "./output/train/50country.pkl\n",
            "51 ./genres/country/country.00056.au 240107 -0.0 1.0\n",
            "./output/train/51country.pkl\n",
            "52 ./genres/country/country.00073.au 240107 -0.0 1.0\n",
            "./output/train/52country.pkl\n",
            "53 ./genres/country/country.00075.au 240107 -0.0 1.0\n",
            "./output/train/53country.pkl\n",
            "54 ./genres/country/country.00064.au 240107 0.0 1.0\n",
            "./output/train/54country.pkl\n",
            "55 ./genres/country/country.00014.au 240107 0.0 0.99999994\n",
            "./output/train/55country.pkl\n",
            "56 ./genres/country/country.00094.au 240107 0.0 1.0\n",
            "./output/train/56country.pkl\n",
            "57 ./genres/country/country.00092.au 240107 -0.0 1.0\n",
            "./output/train/57country.pkl\n",
            "58 ./genres/country/country.00072.au 240107 -0.0 0.99999994\n",
            "./output/train/58country.pkl\n",
            "59 ./genres/country/country.00081.au 240107 0.0 0.99999994\n",
            "./output/train/59country.pkl\n",
            "60 ./genres/country/country.00061.au 240107 -0.0 1.0000001\n",
            "./output/train/60country.pkl\n",
            "61 ./genres/country/country.00087.au 240107 -0.0 0.99999994\n",
            "./output/train/61country.pkl\n",
            "62 ./genres/country/country.00057.au 240107 -0.0 1.0\n",
            "./output/train/62country.pkl\n",
            "63 ./genres/country/country.00033.au 240107 0.0 1.0000001\n",
            "./output/train/63country.pkl\n",
            "64 ./genres/country/country.00038.au 240107 0.0 0.99999994\n",
            "./output/train/64country.pkl\n",
            "65 ./genres/country/country.00074.au 240107 0.0 0.9999999\n",
            "./output/train/65country.pkl\n",
            "66 ./genres/country/country.00046.au 240107 0.0 1.0000001\n",
            "./output/train/66country.pkl\n",
            "67 ./genres/country/country.00027.au 240107 -0.0 1.0\n",
            "./output/train/67country.pkl\n",
            "68 ./genres/country/country.00082.au 240107 -0.0 1.0\n",
            "./output/train/68country.pkl\n",
            "69 ./genres/country/country.00031.au 240107 0.0 1.0\n",
            "./output/train/69country.pkl\n",
            "70 ./genres/country/country.00022.au 240107 -0.0 1.0\n",
            "./output/train/70country.pkl\n",
            "71 ./genres/country/country.00044.au 240107 -0.0 1.0\n",
            "./output/train/71country.pkl\n",
            "72 ./genres/country/country.00049.au 240107 -0.0 1.0\n",
            "./output/train/72country.pkl\n",
            "73 ./genres/country/country.00001.au 240095 0.0 0.99999994\n",
            "./output/train/73country.pkl\n",
            "74 ./genres/country/country.00059.au 240107 -0.0 1.0\n",
            "./output/train/74country.pkl\n",
            "75 ./genres/country/country.00028.au 240107 0.0 1.0\n",
            "./output/train/75country.pkl\n",
            "76 ./genres/country/country.00003.au 239967 0.0 1.0\n",
            "./output/train/76country.pkl\n",
            "77 ./genres/country/country.00040.au 240107 -0.0 1.0\n",
            "./output/train/77country.pkl\n",
            "78 ./genres/country/country.00089.au 240107 0.0 0.99999994\n",
            "./output/train/78country.pkl\n",
            "79 ./genres/country/country.00063.au 240107 -0.0 1.0\n",
            "./output/train/79country.pkl\n",
            "80 ./genres/country/country.00048.au 240107 -0.0 1.0000001\n",
            "./output/train/80country.pkl\n",
            "81 ./genres/country/country.00097.au 240107 0.0 1.0\n",
            "./output/train/81country.pkl\n",
            "82 ./genres/country/country.00041.au 240107 0.0 1.0\n",
            "./output/train/82country.pkl\n",
            "83 ./genres/country/country.00039.au 240107 -0.0 1.0\n",
            "./output/train/83country.pkl\n",
            "84 ./genres/country/country.00013.au 240107 0.0 1.0\n",
            "./output/train/84country.pkl\n",
            "85 ./genres/country/country.00036.au 240107 -0.0 1.0\n",
            "./output/train/85country.pkl\n",
            "86 ./genres/country/country.00037.au 240107 -0.0 1.0\n",
            "./output/train/86country.pkl\n",
            "87 ./genres/country/country.00018.au 240107 0.0 1.0\n",
            "./output/train/87country.pkl\n",
            "88 ./genres/country/country.00025.au 240107 -0.0 0.99999994\n",
            "./output/train/88country.pkl\n",
            "89 ./genres/country/country.00053.au 240107 0.0 1.0\n",
            "./output/train/89country.pkl\n",
            "90 ./genres/country/country.00065.au 240107 0.0 0.9999999\n",
            "./output/train/90country.pkl\n",
            "91 ./genres/country/country.00052.au 240107 0.0 1.0\n",
            "./output/train/91country.pkl\n",
            "92 ./genres/country/country.00066.au 240107 0.0 0.9999999\n",
            "./output/train/92country.pkl\n",
            "93 ./genres/country/country.00026.au 240107 -0.0 1.0\n",
            "./output/train/93country.pkl\n",
            "94 ./genres/country/country.00050.au 240107 0.0 1.0\n",
            "./output/train/94country.pkl\n",
            "95 ./genres/country/country.00077.au 240107 0.0 0.99999994\n",
            "./output/train/95country.pkl\n",
            "96 ./genres/country/country.00084.au 240107 0.0 1.0\n",
            "./output/train/96country.pkl\n",
            "97 ./genres/country/country.00070.au 240107 0.0 0.99999994\n",
            "./output/train/97country.pkl\n",
            "98 ./genres/country/country.00085.au 240107 -0.0 1.0\n",
            "./output/train/98country.pkl\n",
            "99 ./genres/country/country.00032.au 240107 -0.0 0.99999994\n",
            "./output/train/99country.pkl\n",
            "0 ./genres/disco/disco.00005.au 242330 0.0 1.0000001\n",
            "./output/test/0disco.pkl\n",
            "1 ./genres/disco/disco.00068.au 240002 -0.0 1.0\n",
            "./output/test/1disco.pkl\n",
            "2 ./genres/disco/disco.00003.au 242410 -0.0 1.0\n",
            "./output/test/2disco.pkl\n",
            "3 ./genres/disco/disco.00099.au 240002 -0.0 0.99999994\n",
            "./output/test/3disco.pkl\n",
            "4 ./genres/disco/disco.00025.au 240107 -0.0 1.0\n",
            "./output/test/4disco.pkl\n",
            "5 ./genres/disco/disco.00088.au 240002 0.0 1.0000001\n",
            "./output/test/5disco.pkl\n",
            "6 ./genres/disco/disco.00010.au 240095 -0.0 1.0\n",
            "./output/test/6disco.pkl\n",
            "7 ./genres/disco/disco.00047.au 240002 -0.0 0.9999999\n",
            "./output/test/7disco.pkl\n",
            "8 ./genres/disco/disco.00006.au 240064 0.0 1.0\n",
            "./output/test/8disco.pkl\n",
            "9 ./genres/disco/disco.00046.au 240002 -0.0 1.0\n",
            "./output/test/9disco.pkl\n",
            "10 ./genres/disco/disco.00000.au 240973 0.0 0.99999994\n",
            "./output/train/10disco.pkl\n",
            "11 ./genres/disco/disco.00067.au 240002 -0.0 1.0\n",
            "./output/train/11disco.pkl\n",
            "12 ./genres/disco/disco.00030.au 240107 -0.0 1.0\n",
            "./output/train/12disco.pkl\n",
            "13 ./genres/disco/disco.00017.au 240107 0.0 1.0\n",
            "./output/train/13disco.pkl\n",
            "14 ./genres/disco/disco.00049.au 240002 -0.0 1.0000001\n",
            "./output/train/14disco.pkl\n",
            "15 ./genres/disco/disco.00029.au 240107 -0.0 1.0\n",
            "./output/train/15disco.pkl\n",
            "16 ./genres/disco/disco.00080.au 240002 0.0 1.0\n",
            "./output/train/16disco.pkl\n",
            "17 ./genres/disco/disco.00015.au 240107 -0.0 1.0\n",
            "./output/train/17disco.pkl\n",
            "18 ./genres/disco/disco.00031.au 240107 -0.0 1.0\n",
            "./output/train/18disco.pkl\n",
            "19 ./genres/disco/disco.00038.au 240107 0.0 1.0\n",
            "./output/train/19disco.pkl\n",
            "20 ./genres/disco/disco.00093.au 240002 0.0 1.0\n",
            "./output/train/20disco.pkl\n",
            "21 ./genres/disco/disco.00054.au 240002 -0.0 1.0\n",
            "./output/train/21disco.pkl\n",
            "22 ./genres/disco/disco.00059.au 240002 -0.0 0.99999994\n",
            "./output/train/22disco.pkl\n",
            "23 ./genres/disco/disco.00004.au 240107 -0.0 1.0000001\n",
            "./output/train/23disco.pkl\n",
            "24 ./genres/disco/disco.00034.au 240107 0.0 0.99999994\n",
            "./output/train/24disco.pkl\n",
            "25 ./genres/disco/disco.00002.au 240107 0.0 1.0\n",
            "./output/train/25disco.pkl\n",
            "26 ./genres/disco/disco.00011.au 240107 -0.0 0.9999999\n",
            "./output/train/26disco.pkl\n",
            "27 ./genres/disco/disco.00078.au 240002 -0.0 1.0\n",
            "./output/train/27disco.pkl\n",
            "28 ./genres/disco/disco.00086.au 240002 0.0 1.0\n",
            "./output/train/28disco.pkl\n",
            "29 ./genres/disco/disco.00079.au 240002 0.0 1.0\n",
            "./output/train/29disco.pkl\n",
            "30 ./genres/disco/disco.00063.au 240002 0.0 0.9999998\n",
            "./output/train/30disco.pkl\n",
            "31 ./genres/disco/disco.00041.au 240107 0.0 1.0\n",
            "./output/train/31disco.pkl\n",
            "32 ./genres/disco/disco.00056.au 240002 -0.0 1.0\n",
            "./output/train/32disco.pkl\n",
            "33 ./genres/disco/disco.00061.au 240002 0.0 1.0\n",
            "./output/train/33disco.pkl\n",
            "34 ./genres/disco/disco.00082.au 240002 0.0 0.99999994\n",
            "./output/train/34disco.pkl\n",
            "35 ./genres/disco/disco.00071.au 240002 0.0 1.0\n",
            "./output/train/35disco.pkl\n",
            "36 ./genres/disco/disco.00021.au 240107 0.0 1.0\n",
            "./output/train/36disco.pkl\n",
            "37 ./genres/disco/disco.00009.au 240107 0.0 1.0\n",
            "./output/train/37disco.pkl\n",
            "38 ./genres/disco/disco.00075.au 240002 -0.0 1.0\n",
            "./output/train/38disco.pkl\n",
            "39 ./genres/disco/disco.00092.au 240002 -0.0 0.99999994\n",
            "./output/train/39disco.pkl\n",
            "40 ./genres/disco/disco.00012.au 240733 -0.0 1.0\n",
            "./output/train/40disco.pkl\n",
            "41 ./genres/disco/disco.00051.au 240002 -0.0 0.99999994\n",
            "./output/train/41disco.pkl\n",
            "42 ./genres/disco/disco.00098.au 240002 -0.0 0.99999994\n",
            "./output/train/42disco.pkl\n",
            "43 ./genres/disco/disco.00072.au 240002 -0.0 1.0\n",
            "./output/train/43disco.pkl\n",
            "44 ./genres/disco/disco.00089.au 240002 -0.0 1.0\n",
            "./output/train/44disco.pkl\n",
            "45 ./genres/disco/disco.00032.au 240107 -0.0 1.0\n",
            "./output/train/45disco.pkl\n",
            "46 ./genres/disco/disco.00062.au 240002 -0.0 1.0\n",
            "./output/train/46disco.pkl\n",
            "47 ./genres/disco/disco.00040.au 240107 -0.0 0.99999994\n",
            "./output/train/47disco.pkl\n",
            "48 ./genres/disco/disco.00016.au 242330 0.0 0.99999994\n",
            "./output/train/48disco.pkl\n",
            "49 ./genres/disco/disco.00091.au 240002 0.0 0.99999994\n",
            "./output/train/49disco.pkl\n",
            "50 ./genres/disco/disco.00036.au 240107 -0.0 1.0\n",
            "./output/train/50disco.pkl\n",
            "51 ./genres/disco/disco.00094.au 240002 -0.0 1.0\n",
            "./output/train/51disco.pkl\n",
            "52 ./genres/disco/disco.00028.au 240107 0.0 0.99999994\n",
            "./output/train/52disco.pkl\n",
            "53 ./genres/disco/disco.00043.au 240107 0.0 1.0\n",
            "./output/train/53disco.pkl\n",
            "54 ./genres/disco/disco.00064.au 240002 -0.0 1.0\n",
            "./output/train/54disco.pkl\n",
            "55 ./genres/disco/disco.00096.au 240002 0.0 1.0\n",
            "./output/train/55disco.pkl\n",
            "56 ./genres/disco/disco.00019.au 240107 0.0 0.99999994\n",
            "./output/train/56disco.pkl\n",
            "57 ./genres/disco/disco.00052.au 240002 -0.0 1.0\n",
            "./output/train/57disco.pkl\n",
            "58 ./genres/disco/disco.00048.au 240002 0.0 1.0\n",
            "./output/train/58disco.pkl\n",
            "59 ./genres/disco/disco.00027.au 240107 0.0 1.0\n",
            "./output/train/59disco.pkl\n",
            "60 ./genres/disco/disco.00057.au 240002 0.0 1.0\n",
            "./output/train/60disco.pkl\n",
            "61 ./genres/disco/disco.00060.au 240002 -0.0 1.0\n",
            "./output/train/61disco.pkl\n",
            "62 ./genres/disco/disco.00053.au 240002 -0.0 0.99999994\n",
            "./output/train/62disco.pkl\n",
            "63 ./genres/disco/disco.00050.au 240002 -0.0 1.0\n",
            "./output/train/63disco.pkl\n",
            "64 ./genres/disco/disco.00020.au 240107 0.0 1.0\n",
            "./output/train/64disco.pkl\n",
            "65 ./genres/disco/disco.00066.au 240002 0.0 0.9999999\n",
            "./output/train/65disco.pkl\n",
            "66 ./genres/disco/disco.00008.au 241292 -0.0 0.9999999\n",
            "./output/train/66disco.pkl\n",
            "67 ./genres/disco/disco.00073.au 240002 0.0 1.0\n",
            "./output/train/67disco.pkl\n",
            "68 ./genres/disco/disco.00074.au 240002 -0.0 1.0\n",
            "./output/train/68disco.pkl\n",
            "69 ./genres/disco/disco.00087.au 240002 0.0 1.0000001\n",
            "./output/train/69disco.pkl\n",
            "70 ./genres/disco/disco.00065.au 240002 0.0 1.0\n",
            "./output/train/70disco.pkl\n",
            "71 ./genres/disco/disco.00045.au 240107 0.0 1.0\n",
            "./output/train/71disco.pkl\n",
            "72 ./genres/disco/disco.00023.au 240107 -0.0 1.0\n",
            "./output/train/72disco.pkl\n",
            "73 ./genres/disco/disco.00095.au 240002 0.0 0.99999994\n",
            "./output/train/73disco.pkl\n",
            "74 ./genres/disco/disco.00085.au 240002 -0.0 1.0\n",
            "./output/train/74disco.pkl\n",
            "75 ./genres/disco/disco.00070.au 240002 -0.0 0.99999994\n",
            "./output/train/75disco.pkl\n",
            "76 ./genres/disco/disco.00084.au 240002 0.0 1.0\n",
            "./output/train/76disco.pkl\n",
            "77 ./genres/disco/disco.00083.au 240002 -0.0 1.0\n",
            "./output/train/77disco.pkl\n",
            "78 ./genres/disco/disco.00037.au 240107 -0.0 0.99999994\n",
            "./output/train/78disco.pkl\n",
            "79 ./genres/disco/disco.00058.au 240002 -0.0 1.0\n",
            "./output/train/79disco.pkl\n",
            "80 ./genres/disco/disco.00018.au 240107 0.0 1.0\n",
            "./output/train/80disco.pkl\n",
            "81 ./genres/disco/disco.00024.au 240107 -0.0 0.99999994\n",
            "./output/train/81disco.pkl\n",
            "82 ./genres/disco/disco.00013.au 240107 -0.0 1.0\n",
            "./output/train/82disco.pkl\n",
            "83 ./genres/disco/disco.00076.au 240002 -0.0 1.0\n",
            "./output/train/83disco.pkl\n",
            "84 ./genres/disco/disco.00007.au 240107 -0.0 1.0\n",
            "./output/train/84disco.pkl\n",
            "85 ./genres/disco/disco.00022.au 240107 -0.0 0.9999999\n",
            "./output/train/85disco.pkl\n",
            "86 ./genres/disco/disco.00097.au 240002 -0.0 1.0\n",
            "./output/train/86disco.pkl\n",
            "87 ./genres/disco/disco.00035.au 240107 -0.0 1.0\n",
            "./output/train/87disco.pkl\n",
            "88 ./genres/disco/disco.00069.au 240002 -0.0 0.99999994\n",
            "./output/train/88disco.pkl\n",
            "89 ./genres/disco/disco.00081.au 240002 -0.0 0.99999994\n",
            "./output/train/89disco.pkl\n",
            "90 ./genres/disco/disco.00044.au 240107 0.0 1.0\n",
            "./output/train/90disco.pkl\n",
            "91 ./genres/disco/disco.00039.au 240107 -0.0 1.0\n",
            "./output/train/91disco.pkl\n",
            "92 ./genres/disco/disco.00055.au 240002 0.0 0.99999994\n",
            "./output/train/92disco.pkl\n",
            "93 ./genres/disco/disco.00042.au 240107 -0.0 1.0\n",
            "./output/train/93disco.pkl\n",
            "94 ./genres/disco/disco.00090.au 240002 -0.0 0.99999994\n",
            "./output/train/94disco.pkl\n",
            "95 ./genres/disco/disco.00033.au 240107 -0.0 0.9999999\n",
            "./output/train/95disco.pkl\n",
            "96 ./genres/disco/disco.00001.au 241691 0.0 1.0\n",
            "./output/train/96disco.pkl\n",
            "97 ./genres/disco/disco.00014.au 239944 -0.0 0.99999994\n",
            "./output/train/97disco.pkl\n",
            "98 ./genres/disco/disco.00077.au 240002 0.0 1.0\n",
            "./output/train/98disco.pkl\n",
            "99 ./genres/disco/disco.00026.au 240107 0.0 0.99999994\n",
            "./output/train/99disco.pkl\n",
            "0 ./genres/hiphop/hiphop.00087.au 240107 0.0 1.0\n",
            "./output/test/0hiphop.pkl\n",
            "1 ./genres/hiphop/hiphop.00039.au 245192 0.0 1.0\n",
            "./output/test/1hiphop.pkl\n",
            "2 ./genres/hiphop/hiphop.00009.au 240107 -0.0 0.99999994\n",
            "./output/test/2hiphop.pkl\n",
            "3 ./genres/hiphop/hiphop.00034.au 242250 -0.0 0.99999994\n",
            "./output/test/3hiphop.pkl\n",
            "4 ./genres/hiphop/hiphop.00073.au 240107 0.0 0.99999994\n",
            "./output/test/4hiphop.pkl\n",
            "5 ./genres/hiphop/hiphop.00062.au 240107 0.0 1.0\n",
            "./output/test/5hiphop.pkl\n",
            "6 ./genres/hiphop/hiphop.00018.au 240107 -0.0 0.99999994\n",
            "./output/test/6hiphop.pkl\n",
            "7 ./genres/hiphop/hiphop.00076.au 240002 0.0 0.9999999\n",
            "./output/test/7hiphop.pkl\n",
            "8 ./genres/hiphop/hiphop.00061.au 240107 -0.0 0.99999994\n",
            "./output/test/8hiphop.pkl\n",
            "9 ./genres/hiphop/hiphop.00002.au 240002 0.0 0.9999999\n",
            "./output/test/9hiphop.pkl\n",
            "10 ./genres/hiphop/hiphop.00084.au 240107 -0.0 0.99999994\n",
            "./output/train/10hiphop.pkl\n",
            "11 ./genres/hiphop/hiphop.00054.au 240107 0.0 1.0000001\n",
            "./output/train/11hiphop.pkl\n",
            "12 ./genres/hiphop/hiphop.00017.au 240107 0.0 0.99999994\n",
            "./output/train/12hiphop.pkl\n",
            "13 ./genres/hiphop/hiphop.00080.au 240002 0.0 1.0\n",
            "./output/train/13hiphop.pkl\n",
            "14 ./genres/hiphop/hiphop.00000.au 240002 -0.0 1.0\n",
            "./output/train/14hiphop.pkl\n",
            "15 ./genres/hiphop/hiphop.00081.au 240107 -0.0 1.0\n",
            "./output/train/15hiphop.pkl\n",
            "16 ./genres/hiphop/hiphop.00086.au 240107 0.0 1.0\n",
            "./output/train/16hiphop.pkl\n",
            "17 ./genres/hiphop/hiphop.00099.au 240002 0.0 1.0\n",
            "./output/train/17hiphop.pkl\n",
            "18 ./genres/hiphop/hiphop.00095.au 240107 0.0 1.0000001\n",
            "./output/train/18hiphop.pkl\n",
            "19 ./genres/hiphop/hiphop.00096.au 240107 0.0 0.9999999\n",
            "./output/train/19hiphop.pkl\n",
            "20 ./genres/hiphop/hiphop.00047.au 240107 0.0 1.0\n",
            "./output/train/20hiphop.pkl\n",
            "21 ./genres/hiphop/hiphop.00091.au 240107 0.0 0.99999994\n",
            "./output/train/21hiphop.pkl\n",
            "22 ./genres/hiphop/hiphop.00065.au 240107 0.0 1.0\n",
            "./output/train/22hiphop.pkl\n",
            "23 ./genres/hiphop/hiphop.00001.au 240002 -0.0 1.0\n",
            "./output/train/23hiphop.pkl\n",
            "24 ./genres/hiphop/hiphop.00041.au 245192 -0.0 1.0\n",
            "./output/train/24hiphop.pkl\n",
            "25 ./genres/hiphop/hiphop.00050.au 240107 0.0 0.99999976\n",
            "./output/train/25hiphop.pkl\n",
            "26 ./genres/hiphop/hiphop.00014.au 240107 0.0 1.0\n",
            "./output/train/26hiphop.pkl\n",
            "27 ./genres/hiphop/hiphop.00026.au 242968 -0.0 1.0000001\n",
            "./output/train/27hiphop.pkl\n",
            "28 ./genres/hiphop/hiphop.00051.au 240107 0.0 1.0\n",
            "./output/train/28hiphop.pkl\n",
            "29 ./genres/hiphop/hiphop.00027.au 241053 0.0 0.99999994\n",
            "./output/train/29hiphop.pkl\n",
            "30 ./genres/hiphop/hiphop.00098.au 240107 0.0 1.0\n",
            "./output/train/30hiphop.pkl\n",
            "31 ./genres/hiphop/hiphop.00024.au 240107 0.0 1.0\n",
            "./output/train/31hiphop.pkl\n",
            "32 ./genres/hiphop/hiphop.00066.au 240107 -0.0 1.0\n",
            "./output/train/32hiphop.pkl\n",
            "33 ./genres/hiphop/hiphop.00022.au 240107 0.0 1.0000001\n",
            "./output/train/33hiphop.pkl\n",
            "34 ./genres/hiphop/hiphop.00048.au 240107 -0.0 1.0\n",
            "./output/train/34hiphop.pkl\n",
            "35 ./genres/hiphop/hiphop.00025.au 240107 0.0 0.99999994\n",
            "./output/train/35hiphop.pkl\n",
            "36 ./genres/hiphop/hiphop.00082.au 240107 0.0 0.99999994\n",
            "./output/train/36hiphop.pkl\n",
            "37 ./genres/hiphop/hiphop.00074.au 240107 -0.0 1.0\n",
            "./output/train/37hiphop.pkl\n",
            "38 ./genres/hiphop/hiphop.00042.au 245192 0.0 1.0\n",
            "./output/train/38hiphop.pkl\n",
            "39 ./genres/hiphop/hiphop.00031.au 239967 -0.0 1.0000001\n",
            "./output/train/39hiphop.pkl\n",
            "40 ./genres/hiphop/hiphop.00044.au 245192 -0.0 1.0\n",
            "./output/train/40hiphop.pkl\n",
            "41 ./genres/hiphop/hiphop.00003.au 240002 -0.0 0.99999994\n",
            "./output/train/41hiphop.pkl\n",
            "42 ./genres/hiphop/hiphop.00043.au 245192 -0.0 1.0\n",
            "./output/train/42hiphop.pkl\n",
            "43 ./genres/hiphop/hiphop.00085.au 240107 -0.0 1.0\n",
            "./output/train/43hiphop.pkl\n",
            "44 ./genres/hiphop/hiphop.00032.au 239456 0.0 0.99999994\n",
            "./output/train/44hiphop.pkl\n",
            "45 ./genres/hiphop/hiphop.00057.au 240107 0.0 0.99999994\n",
            "./output/train/45hiphop.pkl\n",
            "46 ./genres/hiphop/hiphop.00015.au 240107 0.0 1.0\n",
            "./output/train/46hiphop.pkl\n",
            "47 ./genres/hiphop/hiphop.00079.au 240002 0.0 1.0000001\n",
            "./output/train/47hiphop.pkl\n",
            "48 ./genres/hiphop/hiphop.00078.au 240002 0.0 0.9999999\n",
            "./output/train/48hiphop.pkl\n",
            "49 ./genres/hiphop/hiphop.00036.au 245192 0.0 1.0\n",
            "./output/train/49hiphop.pkl\n",
            "50 ./genres/hiphop/hiphop.00035.au 242410 0.0 0.99999994\n",
            "./output/train/50hiphop.pkl\n",
            "51 ./genres/hiphop/hiphop.00056.au 240107 0.0 0.99999994\n",
            "./output/train/51hiphop.pkl\n",
            "52 ./genres/hiphop/hiphop.00063.au 240107 -0.0 1.0\n",
            "./output/train/52hiphop.pkl\n",
            "53 ./genres/hiphop/hiphop.00072.au 240107 0.0 1.0\n",
            "./output/train/53hiphop.pkl\n",
            "54 ./genres/hiphop/hiphop.00094.au 240107 0.0 0.99999994\n",
            "./output/train/54hiphop.pkl\n",
            "55 ./genres/hiphop/hiphop.00053.au 240107 -0.0 1.0\n",
            "./output/train/55hiphop.pkl\n",
            "56 ./genres/hiphop/hiphop.00090.au 240107 -0.0 1.0000001\n",
            "./output/train/56hiphop.pkl\n",
            "57 ./genres/hiphop/hiphop.00023.au 240107 0.0 0.99999994\n",
            "./output/train/57hiphop.pkl\n",
            "58 ./genres/hiphop/hiphop.00005.au 240002 -0.0 1.0\n",
            "./output/train/58hiphop.pkl\n",
            "59 ./genres/hiphop/hiphop.00077.au 240002 0.0 0.99999994\n",
            "./output/train/59hiphop.pkl\n",
            "60 ./genres/hiphop/hiphop.00071.au 240107 -0.0 0.9999999\n",
            "./output/train/60hiphop.pkl\n",
            "61 ./genres/hiphop/hiphop.00046.au 240107 -0.0 0.9999999\n",
            "./output/train/61hiphop.pkl\n",
            "62 ./genres/hiphop/hiphop.00006.au 240002 -0.0 1.0\n",
            "./output/train/62hiphop.pkl\n",
            "63 ./genres/hiphop/hiphop.00049.au 240107 0.0 1.0\n",
            "./output/train/63hiphop.pkl\n",
            "64 ./genres/hiphop/hiphop.00030.au 240095 0.0 1.0\n",
            "./output/train/64hiphop.pkl\n",
            "65 ./genres/hiphop/hiphop.00069.au 240107 0.0 0.9999999\n",
            "./output/train/65hiphop.pkl\n",
            "66 ./genres/hiphop/hiphop.00068.au 240107 0.0 1.0\n",
            "./output/train/66hiphop.pkl\n",
            "67 ./genres/hiphop/hiphop.00064.au 240107 -0.0 1.0\n",
            "./output/train/67hiphop.pkl\n",
            "68 ./genres/hiphop/hiphop.00020.au 240107 -0.0 1.0\n",
            "./output/train/68hiphop.pkl\n",
            "69 ./genres/hiphop/hiphop.00019.au 240107 0.0 1.0\n",
            "./output/train/69hiphop.pkl\n",
            "70 ./genres/hiphop/hiphop.00075.au 240107 -0.0 1.0\n",
            "./output/train/70hiphop.pkl\n",
            "71 ./genres/hiphop/hiphop.00097.au 240107 0.0 0.9999999\n",
            "./output/train/71hiphop.pkl\n",
            "72 ./genres/hiphop/hiphop.00037.au 245192 -0.0 1.0\n",
            "./output/train/72hiphop.pkl\n",
            "73 ./genres/hiphop/hiphop.00033.au 241372 0.0 1.0\n",
            "./output/train/73hiphop.pkl\n",
            "74 ./genres/hiphop/hiphop.00011.au 240107 -0.0 1.0\n",
            "./output/train/74hiphop.pkl\n",
            "75 ./genres/hiphop/hiphop.00016.au 240107 0.0 0.99999994\n",
            "./output/train/75hiphop.pkl\n",
            "76 ./genres/hiphop/hiphop.00028.au 240064 0.0 1.0\n",
            "./output/train/76hiphop.pkl\n",
            "77 ./genres/hiphop/hiphop.00088.au 240107 0.0 0.99999994\n",
            "./output/train/77hiphop.pkl\n",
            "78 ./genres/hiphop/hiphop.00089.au 240107 -0.0 0.99999994\n",
            "./output/train/78hiphop.pkl\n",
            "79 ./genres/hiphop/hiphop.00012.au 240107 -0.0 1.0\n",
            "./output/train/79hiphop.pkl\n",
            "80 ./genres/hiphop/hiphop.00010.au 240107 -0.0 0.99999994\n",
            "./output/train/80hiphop.pkl\n",
            "81 ./genres/hiphop/hiphop.00070.au 240107 -0.0 0.9999999\n",
            "./output/train/81hiphop.pkl\n",
            "82 ./genres/hiphop/hiphop.00059.au 240107 0.0 0.99999994\n",
            "./output/train/82hiphop.pkl\n",
            "83 ./genres/hiphop/hiphop.00060.au 240107 0.0 0.99999994\n",
            "./output/train/83hiphop.pkl\n",
            "84 ./genres/hiphop/hiphop.00045.au 245192 0.0 1.0\n",
            "./output/train/84hiphop.pkl\n",
            "85 ./genres/hiphop/hiphop.00008.au 240107 0.0 0.9999998\n",
            "./output/train/85hiphop.pkl\n",
            "86 ./genres/hiphop/hiphop.00007.au 240002 0.0 1.0\n",
            "./output/train/86hiphop.pkl\n",
            "87 ./genres/hiphop/hiphop.00004.au 240002 0.0 1.0\n",
            "./output/train/87hiphop.pkl\n",
            "88 ./genres/hiphop/hiphop.00093.au 240107 -0.0 0.99999994\n",
            "./output/train/88hiphop.pkl\n",
            "89 ./genres/hiphop/hiphop.00055.au 240107 0.0 0.9999999\n",
            "./output/train/89hiphop.pkl\n",
            "90 ./genres/hiphop/hiphop.00083.au 240107 0.0 1.0\n",
            "./output/train/90hiphop.pkl\n",
            "91 ./genres/hiphop/hiphop.00013.au 240107 -0.0 1.0\n",
            "./output/train/91hiphop.pkl\n",
            "92 ./genres/hiphop/hiphop.00052.au 240107 -0.0 1.0\n",
            "./output/train/92hiphop.pkl\n",
            "93 ./genres/hiphop/hiphop.00058.au 240107 -0.0 0.9999999\n",
            "./output/train/93hiphop.pkl\n",
            "94 ./genres/hiphop/hiphop.00092.au 240107 0.0 1.0\n",
            "./output/train/94hiphop.pkl\n",
            "95 ./genres/hiphop/hiphop.00021.au 240107 -0.0 1.0\n",
            "./output/train/95hiphop.pkl\n",
            "96 ./genres/hiphop/hiphop.00038.au 245192 -0.0 0.9999999\n",
            "./output/train/96hiphop.pkl\n",
            "97 ./genres/hiphop/hiphop.00040.au 245192 0.0 1.0\n",
            "./output/train/97hiphop.pkl\n",
            "98 ./genres/hiphop/hiphop.00029.au 242809 -0.0 1.0\n",
            "./output/train/98hiphop.pkl\n",
            "99 ./genres/hiphop/hiphop.00067.au 240107 -0.0 1.0\n",
            "./output/train/99hiphop.pkl\n",
            "0 ./genres/jazz/jazz.00035.au 240107 0.0 0.9999999\n",
            "./output/test/0jazz.pkl\n",
            "1 ./genres/jazz/jazz.00043.au 240107 -0.0 1.0\n",
            "./output/test/1jazz.pkl\n",
            "2 ./genres/jazz/jazz.00093.au 240107 -0.0 0.99999994\n",
            "./output/test/2jazz.pkl\n",
            "3 ./genres/jazz/jazz.00058.au 240107 0.0 1.0000001\n",
            "./output/test/3jazz.pkl\n",
            "4 ./genres/jazz/jazz.00063.au 242809 -0.0 1.0\n",
            "./output/test/4jazz.pkl\n",
            "5 ./genres/jazz/jazz.00037.au 240107 0.0 0.99999994\n",
            "./output/test/5jazz.pkl\n",
            "6 ./genres/jazz/jazz.00056.au 241372 0.0 1.0\n",
            "./output/test/6jazz.pkl\n",
            "7 ./genres/jazz/jazz.00033.au 240107 -0.0 0.99999994\n",
            "./output/test/7jazz.pkl\n",
            "8 ./genres/jazz/jazz.00055.au 240107 0.0 0.99999994\n",
            "./output/test/8jazz.pkl\n",
            "9 ./genres/jazz/jazz.00092.au 240107 -0.0 0.99999994\n",
            "./output/test/9jazz.pkl\n",
            "10 ./genres/jazz/jazz.00007.au 240107 0.0 1.0\n",
            "./output/train/10jazz.pkl\n",
            "11 ./genres/jazz/jazz.00031.au 240107 0.0 0.99999994\n",
            "./output/train/11jazz.pkl\n",
            "12 ./genres/jazz/jazz.00032.au 240107 0.0 0.99999994\n",
            "./output/train/12jazz.pkl\n",
            "13 ./genres/jazz/jazz.00090.au 240107 0.0 1.0\n",
            "./output/train/13jazz.pkl\n",
            "14 ./genres/jazz/jazz.00048.au 240107 0.0 0.99999994\n",
            "./output/train/14jazz.pkl\n",
            "15 ./genres/jazz/jazz.00065.au 240107 -0.0 1.0000001\n",
            "./output/train/15jazz.pkl\n",
            "16 ./genres/jazz/jazz.00018.au 240107 0.0 1.0000001\n",
            "./output/train/16jazz.pkl\n",
            "17 ./genres/jazz/jazz.00023.au 240107 0.0 1.0\n",
            "./output/train/17jazz.pkl\n",
            "18 ./genres/jazz/jazz.00068.au 240107 0.0 1.0\n",
            "./output/train/18jazz.pkl\n",
            "19 ./genres/jazz/jazz.00070.au 240107 -0.0 1.0\n",
            "./output/train/19jazz.pkl\n",
            "20 ./genres/jazz/jazz.00029.au 240107 0.0 1.0\n",
            "./output/train/20jazz.pkl\n",
            "21 ./genres/jazz/jazz.00027.au 240107 0.0 1.0\n",
            "./output/train/21jazz.pkl\n",
            "22 ./genres/jazz/jazz.00088.au 240107 0.0 1.0\n",
            "./output/train/22jazz.pkl\n",
            "23 ./genres/jazz/jazz.00044.au 240107 -0.0 1.0\n",
            "./output/train/23jazz.pkl\n",
            "24 ./genres/jazz/jazz.00095.au 240107 0.0 1.0\n",
            "./output/train/24jazz.pkl\n",
            "25 ./genres/jazz/jazz.00021.au 240107 0.0 0.9999999\n",
            "./output/train/25jazz.pkl\n",
            "26 ./genres/jazz/jazz.00072.au 240107 0.0 1.0\n",
            "./output/train/26jazz.pkl\n",
            "27 ./genres/jazz/jazz.00089.au 240107 0.0 0.9999999\n",
            "./output/train/27jazz.pkl\n",
            "28 ./genres/jazz/jazz.00047.au 240107 0.0 1.0000001\n",
            "./output/train/28jazz.pkl\n",
            "29 ./genres/jazz/jazz.00087.au 240107 0.0 1.0000001\n",
            "./output/train/29jazz.pkl\n",
            "30 ./genres/jazz/jazz.00009.au 240107 -0.0 0.99999994\n",
            "./output/train/30jazz.pkl\n",
            "31 ./genres/jazz/jazz.00059.au 243846 -0.0 1.0\n",
            "./output/train/31jazz.pkl\n",
            "32 ./genres/jazz/jazz.00094.au 240107 0.0 0.99999994\n",
            "./output/train/32jazz.pkl\n",
            "33 ./genres/jazz/jazz.00051.au 240107 0.0 1.0\n",
            "./output/train/33jazz.pkl\n",
            "34 ./genres/jazz/jazz.00067.au 240107 -0.0 1.0\n",
            "./output/train/34jazz.pkl\n",
            "35 ./genres/jazz/jazz.00079.au 240107 -0.0 1.0\n",
            "./output/train/35jazz.pkl\n",
            "36 ./genres/jazz/jazz.00014.au 240107 -0.0 1.0\n",
            "./output/train/36jazz.pkl\n",
            "37 ./genres/jazz/jazz.00008.au 240107 0.0 0.99999994\n",
            "./output/train/37jazz.pkl\n",
            "38 ./genres/jazz/jazz.00003.au 240107 0.0 0.99999994\n",
            "./output/train/38jazz.pkl\n",
            "39 ./genres/jazz/jazz.00071.au 240107 -0.0 0.99999994\n",
            "./output/train/39jazz.pkl\n",
            "40 ./genres/jazz/jazz.00019.au 240107 -0.0 0.9999999\n",
            "./output/train/40jazz.pkl\n",
            "41 ./genres/jazz/jazz.00091.au 240107 -0.0 1.0000001\n",
            "./output/train/41jazz.pkl\n",
            "42 ./genres/jazz/jazz.00040.au 240107 -0.0 1.0\n",
            "./output/train/42jazz.pkl\n",
            "43 ./genres/jazz/jazz.00010.au 240107 0.0 0.9999999\n",
            "./output/train/43jazz.pkl\n",
            "44 ./genres/jazz/jazz.00001.au 240107 -0.0 1.0000001\n",
            "./output/train/44jazz.pkl\n",
            "45 ./genres/jazz/jazz.00052.au 241611 -0.0 1.0\n",
            "./output/train/45jazz.pkl\n",
            "46 ./genres/jazz/jazz.00064.au 240175 -0.0 1.0\n",
            "./output/train/46jazz.pkl\n",
            "47 ./genres/jazz/jazz.00073.au 240107 -0.0 1.0\n",
            "./output/train/47jazz.pkl\n",
            "48 ./genres/jazz/jazz.00061.au 241931 -0.0 1.0\n",
            "./output/train/48jazz.pkl\n",
            "49 ./genres/jazz/jazz.00022.au 240107 -0.0 1.0\n",
            "./output/train/49jazz.pkl\n",
            "50 ./genres/jazz/jazz.00000.au 240107 -0.0 1.0\n",
            "./output/train/50jazz.pkl\n",
            "51 ./genres/jazz/jazz.00078.au 240107 -0.0 1.0\n",
            "./output/train/51jazz.pkl\n",
            "52 ./genres/jazz/jazz.00002.au 240107 0.0 0.99999994\n",
            "./output/train/52jazz.pkl\n",
            "53 ./genres/jazz/jazz.00076.au 240107 0.0 1.0\n",
            "./output/train/53jazz.pkl\n",
            "54 ./genres/jazz/jazz.00039.au 240107 0.0 0.9999999\n",
            "./output/train/54jazz.pkl\n",
            "55 ./genres/jazz/jazz.00036.au 240107 0.0 0.99999994\n",
            "./output/train/55jazz.pkl\n",
            "56 ./genres/jazz/jazz.00046.au 240107 -0.0 0.99999994\n",
            "./output/train/56jazz.pkl\n",
            "57 ./genres/jazz/jazz.00030.au 240107 -0.0 0.99999994\n",
            "./output/train/57jazz.pkl\n",
            "58 ./genres/jazz/jazz.00024.au 240107 0.0 1.0\n",
            "./output/train/58jazz.pkl\n",
            "59 ./genres/jazz/jazz.00050.au 242809 0.0 1.0\n",
            "./output/train/59jazz.pkl\n",
            "60 ./genres/jazz/jazz.00069.au 240107 -0.0 1.0\n",
            "./output/train/60jazz.pkl\n",
            "61 ./genres/jazz/jazz.00034.au 240107 -0.0 0.99999994\n",
            "./output/train/61jazz.pkl\n",
            "62 ./genres/jazz/jazz.00020.au 240107 -0.0 0.99999994\n",
            "./output/train/62jazz.pkl\n",
            "63 ./genres/jazz/jazz.00077.au 240107 0.0 0.99999994\n",
            "./output/train/63jazz.pkl\n",
            "64 ./genres/jazz/jazz.00082.au 240107 -0.0 1.0\n",
            "./output/train/64jazz.pkl\n",
            "65 ./genres/jazz/jazz.00074.au 240107 -0.0 1.0000001\n",
            "./output/train/65jazz.pkl\n",
            "66 ./genres/jazz/jazz.00004.au 240107 0.0 1.0\n",
            "./output/train/66jazz.pkl\n",
            "67 ./genres/jazz/jazz.00025.au 240107 -0.0 1.0\n",
            "./output/train/67jazz.pkl\n",
            "68 ./genres/jazz/jazz.00028.au 240107 -0.0 1.0\n",
            "./output/train/68jazz.pkl\n",
            "69 ./genres/jazz/jazz.00041.au 240107 -0.0 0.99999994\n",
            "./output/train/69jazz.pkl\n",
            "70 ./genres/jazz/jazz.00057.au 240107 0.0 1.0\n",
            "./output/train/70jazz.pkl\n",
            "71 ./genres/jazz/jazz.00011.au 240107 -0.0 1.0000001\n",
            "./output/train/71jazz.pkl\n",
            "72 ./genres/jazz/jazz.00015.au 240107 0.0 1.0000001\n",
            "./output/train/72jazz.pkl\n",
            "73 ./genres/jazz/jazz.00017.au 240107 0.0 1.0\n",
            "./output/train/73jazz.pkl\n",
            "74 ./genres/jazz/jazz.00016.au 240107 -0.0 1.0000001\n",
            "./output/train/74jazz.pkl\n",
            "75 ./genres/jazz/jazz.00053.au 240107 -0.0 0.99999994\n",
            "./output/train/75jazz.pkl\n",
            "76 ./genres/jazz/jazz.00083.au 240107 -0.0 0.99999994\n",
            "./output/train/76jazz.pkl\n",
            "77 ./genres/jazz/jazz.00038.au 240107 0.0 1.0\n",
            "./output/train/77jazz.pkl\n",
            "78 ./genres/jazz/jazz.00081.au 240107 -0.0 0.99999994\n",
            "./output/train/78jazz.pkl\n",
            "79 ./genres/jazz/jazz.00084.au 240107 -0.0 0.99999994\n",
            "./output/train/79jazz.pkl\n",
            "80 ./genres/jazz/jazz.00045.au 240107 0.0 1.0\n",
            "./output/train/80jazz.pkl\n",
            "81 ./genres/jazz/jazz.00049.au 240064 0.0 1.0000001\n",
            "./output/train/81jazz.pkl\n",
            "82 ./genres/jazz/jazz.00005.au 240107 0.0 1.0\n",
            "./output/train/82jazz.pkl\n",
            "83 ./genres/jazz/jazz.00060.au 240107 -0.0 1.0000001\n",
            "./output/train/83jazz.pkl\n",
            "84 ./genres/jazz/jazz.00012.au 240107 -0.0 0.9999999\n",
            "./output/train/84jazz.pkl\n",
            "85 ./genres/jazz/jazz.00086.au 240107 -0.0 1.0\n",
            "./output/train/85jazz.pkl\n",
            "86 ./genres/jazz/jazz.00098.au 240107 -0.0 0.99999994\n",
            "./output/train/86jazz.pkl\n",
            "87 ./genres/jazz/jazz.00006.au 240107 0.0 1.0000001\n",
            "./output/train/87jazz.pkl\n",
            "88 ./genres/jazz/jazz.00066.au 242170 -0.0 0.99999994\n",
            "./output/train/88jazz.pkl\n",
            "89 ./genres/jazz/jazz.00054.au 240223 0.0 0.9999999\n",
            "./output/train/89jazz.pkl\n",
            "90 ./genres/jazz/jazz.00013.au 240107 0.0 0.99999994\n",
            "./output/train/90jazz.pkl\n",
            "91 ./genres/jazz/jazz.00062.au 240107 0.0 1.0\n",
            "./output/train/91jazz.pkl\n",
            "92 ./genres/jazz/jazz.00099.au 240107 -0.0 0.99999994\n",
            "./output/train/92jazz.pkl\n",
            "93 ./genres/jazz/jazz.00042.au 240107 -0.0 0.99999994\n",
            "./output/train/93jazz.pkl\n",
            "94 ./genres/jazz/jazz.00097.au 240107 -0.0 1.0\n",
            "./output/train/94jazz.pkl\n",
            "95 ./genres/jazz/jazz.00096.au 240107 -0.0 1.0\n",
            "./output/train/95jazz.pkl\n",
            "96 ./genres/jazz/jazz.00080.au 240107 -0.0 1.0\n",
            "./output/train/96jazz.pkl\n",
            "97 ./genres/jazz/jazz.00026.au 240107 0.0 0.9999999\n",
            "./output/train/97jazz.pkl\n",
            "98 ./genres/jazz/jazz.00085.au 240107 0.0 1.0\n",
            "./output/train/98jazz.pkl\n",
            "99 ./genres/jazz/jazz.00075.au 240107 0.0 1.0\n",
            "./output/train/99jazz.pkl\n",
            "0 ./genres/metal/metal.00038.au 240002 0.0 1.0000001\n",
            "./output/test/0metal.pkl\n",
            "1 ./genres/metal/metal.00062.au 240107 -0.0 1.0\n",
            "./output/test/1metal.pkl\n",
            "2 ./genres/metal/metal.00033.au 240002 0.0 1.0\n",
            "./output/test/2metal.pkl\n",
            "3 ./genres/metal/metal.00015.au 240002 0.0 0.99999994\n",
            "./output/test/3metal.pkl\n",
            "4 ./genres/metal/metal.00014.au 240002 -0.0 0.99999994\n",
            "./output/test/4metal.pkl\n",
            "5 ./genres/metal/metal.00010.au 240002 0.0 1.0000001\n",
            "./output/test/5metal.pkl\n",
            "6 ./genres/metal/metal.00053.au 240107 -0.0 1.0\n",
            "./output/test/6metal.pkl\n",
            "7 ./genres/metal/metal.00044.au 240107 0.0 1.0\n",
            "./output/test/7metal.pkl\n",
            "8 ./genres/metal/metal.00091.au 240002 0.0 1.0\n",
            "./output/test/8metal.pkl\n",
            "9 ./genres/metal/metal.00070.au 240002 -0.0 1.0\n",
            "./output/test/9metal.pkl\n",
            "10 ./genres/metal/metal.00061.au 240107 -0.0 1.0\n",
            "./output/train/10metal.pkl\n",
            "11 ./genres/metal/metal.00041.au 240107 -0.0 1.0\n",
            "./output/train/11metal.pkl\n",
            "12 ./genres/metal/metal.00040.au 240107 -0.0 1.0\n",
            "./output/train/12metal.pkl\n",
            "13 ./genres/metal/metal.00029.au 240002 0.0 1.0\n",
            "./output/train/13metal.pkl\n",
            "14 ./genres/metal/metal.00086.au 240002 -0.0 1.0000001\n",
            "./output/train/14metal.pkl\n",
            "15 ./genres/metal/metal.00095.au 240107 -0.0 1.0000001\n",
            "./output/train/15metal.pkl\n",
            "16 ./genres/metal/metal.00009.au 240002 -0.0 1.0\n",
            "./output/train/16metal.pkl\n",
            "17 ./genres/metal/metal.00039.au 240002 -0.0 1.0\n",
            "./output/train/17metal.pkl\n",
            "18 ./genres/metal/metal.00052.au 240107 -0.0 0.99999994\n",
            "./output/train/18metal.pkl\n",
            "19 ./genres/metal/metal.00020.au 240002 -0.0 0.99999994\n",
            "./output/train/19metal.pkl\n",
            "20 ./genres/metal/metal.00054.au 240107 -0.0 1.0\n",
            "./output/train/20metal.pkl\n",
            "21 ./genres/metal/metal.00049.au 240107 -0.0 1.0000001\n",
            "./output/train/21metal.pkl\n",
            "22 ./genres/metal/metal.00035.au 240002 0.0 1.0\n",
            "./output/train/22metal.pkl\n",
            "23 ./genres/metal/metal.00006.au 240002 0.0 1.0\n",
            "./output/train/23metal.pkl\n",
            "24 ./genres/metal/metal.00030.au 240002 -0.0 1.0\n",
            "./output/train/24metal.pkl\n",
            "25 ./genres/metal/metal.00017.au 240002 -0.0 1.0\n",
            "./output/train/25metal.pkl\n",
            "26 ./genres/metal/metal.00082.au 240002 0.0 0.99999994\n",
            "./output/train/26metal.pkl\n",
            "27 ./genres/metal/metal.00034.au 240002 0.0 1.0000001\n",
            "./output/train/27metal.pkl\n",
            "28 ./genres/metal/metal.00079.au 240002 -0.0 1.0\n",
            "./output/train/28metal.pkl\n",
            "29 ./genres/metal/metal.00072.au 240002 0.0 1.0\n",
            "./output/train/29metal.pkl\n",
            "30 ./genres/metal/metal.00092.au 240002 0.0 0.99999994\n",
            "./output/train/30metal.pkl\n",
            "31 ./genres/metal/metal.00024.au 240002 0.0 1.0\n",
            "./output/train/31metal.pkl\n",
            "32 ./genres/metal/metal.00055.au 240107 -0.0 1.0\n",
            "./output/train/32metal.pkl\n",
            "33 ./genres/metal/metal.00003.au 240002 -0.0 1.0\n",
            "./output/train/33metal.pkl\n",
            "34 ./genres/metal/metal.00069.au 240002 0.0 1.0000001\n",
            "./output/train/34metal.pkl\n",
            "35 ./genres/metal/metal.00005.au 240002 0.0 1.0000001\n",
            "./output/train/35metal.pkl\n",
            "36 ./genres/metal/metal.00058.au 240107 -0.0 0.99999994\n",
            "./output/train/36metal.pkl\n",
            "37 ./genres/metal/metal.00068.au 240002 0.0 1.0\n",
            "./output/train/37metal.pkl\n",
            "38 ./genres/metal/metal.00012.au 240002 0.0 1.0\n",
            "./output/train/38metal.pkl\n",
            "39 ./genres/metal/metal.00013.au 240002 -0.0 1.0000001\n",
            "./output/train/39metal.pkl\n",
            "40 ./genres/metal/metal.00083.au 240002 0.0 1.0\n",
            "./output/train/40metal.pkl\n",
            "41 ./genres/metal/metal.00093.au 240002 0.0 1.0\n",
            "./output/train/41metal.pkl\n",
            "42 ./genres/metal/metal.00051.au 240107 -0.0 1.0\n",
            "./output/train/42metal.pkl\n",
            "43 ./genres/metal/metal.00057.au 240107 -0.0 1.0\n",
            "./output/train/43metal.pkl\n",
            "44 ./genres/metal/metal.00031.au 240002 0.0 1.0000001\n",
            "./output/train/44metal.pkl\n",
            "45 ./genres/metal/metal.00000.au 240002 0.0 1.0\n",
            "./output/train/45metal.pkl\n",
            "46 ./genres/metal/metal.00036.au 240002 -0.0 0.9999999\n",
            "./output/train/46metal.pkl\n",
            "47 ./genres/metal/metal.00063.au 240107 0.0 0.99999994\n",
            "./output/train/47metal.pkl\n",
            "48 ./genres/metal/metal.00025.au 240002 0.0 1.0\n",
            "./output/train/48metal.pkl\n",
            "49 ./genres/metal/metal.00075.au 240002 -0.0 0.99999994\n",
            "./output/train/49metal.pkl\n",
            "50 ./genres/metal/metal.00004.au 240002 0.0 0.99999994\n",
            "./output/train/50metal.pkl\n",
            "51 ./genres/metal/metal.00047.au 240107 -0.0 1.0\n",
            "./output/train/51metal.pkl\n",
            "52 ./genres/metal/metal.00022.au 240002 -0.0 0.99999994\n",
            "./output/train/52metal.pkl\n",
            "53 ./genres/metal/metal.00073.au 240002 0.0 0.9999999\n",
            "./output/train/53metal.pkl\n",
            "54 ./genres/metal/metal.00048.au 240107 0.0 1.0\n",
            "./output/train/54metal.pkl\n",
            "55 ./genres/metal/metal.00046.au 240107 -0.0 1.0\n",
            "./output/train/55metal.pkl\n",
            "56 ./genres/metal/metal.00096.au 240107 0.0 0.99999994\n",
            "./output/train/56metal.pkl\n",
            "57 ./genres/metal/metal.00090.au 240002 -0.0 1.0\n",
            "./output/train/57metal.pkl\n",
            "58 ./genres/metal/metal.00078.au 240002 0.0 1.0\n",
            "./output/train/58metal.pkl\n",
            "59 ./genres/metal/metal.00071.au 240002 -0.0 0.99999994\n",
            "./output/train/59metal.pkl\n",
            "60 ./genres/metal/metal.00059.au 240107 -0.0 0.9999999\n",
            "./output/train/60metal.pkl\n",
            "61 ./genres/metal/metal.00050.au 240107 -0.0 0.9999999\n",
            "./output/train/61metal.pkl\n",
            "62 ./genres/metal/metal.00037.au 240002 -0.0 0.99999994\n",
            "./output/train/62metal.pkl\n",
            "63 ./genres/metal/metal.00011.au 240002 -0.0 0.99999994\n",
            "./output/train/63metal.pkl\n",
            "64 ./genres/metal/metal.00087.au 240002 -0.0 1.0\n",
            "./output/train/64metal.pkl\n",
            "65 ./genres/metal/metal.00026.au 240002 -0.0 0.99999994\n",
            "./output/train/65metal.pkl\n",
            "66 ./genres/metal/metal.00080.au 240002 0.0 1.0\n",
            "./output/train/66metal.pkl\n",
            "67 ./genres/metal/metal.00076.au 240002 0.0 1.0\n",
            "./output/train/67metal.pkl\n",
            "68 ./genres/metal/metal.00042.au 240107 0.0 0.99999994\n",
            "./output/train/68metal.pkl\n",
            "69 ./genres/metal/metal.00019.au 240002 0.0 1.0\n",
            "./output/train/69metal.pkl\n",
            "70 ./genres/metal/metal.00056.au 240107 -0.0 1.0\n",
            "./output/train/70metal.pkl\n",
            "71 ./genres/metal/metal.00085.au 240002 -0.0 0.99999994\n",
            "./output/train/71metal.pkl\n",
            "72 ./genres/metal/metal.00028.au 240002 -0.0 0.99999994\n",
            "./output/train/72metal.pkl\n",
            "73 ./genres/metal/metal.00018.au 240002 -0.0 0.99999994\n",
            "./output/train/73metal.pkl\n",
            "74 ./genres/metal/metal.00043.au 240107 0.0 1.0\n",
            "./output/train/74metal.pkl\n",
            "75 ./genres/metal/metal.00074.au 240002 0.0 1.0\n",
            "./output/train/75metal.pkl\n",
            "76 ./genres/metal/metal.00077.au 240002 0.0 1.0\n",
            "./output/train/76metal.pkl\n",
            "77 ./genres/metal/metal.00099.au 240107 0.0 1.0\n",
            "./output/train/77metal.pkl\n",
            "78 ./genres/metal/metal.00088.au 240002 0.0 1.0\n",
            "./output/train/78metal.pkl\n",
            "79 ./genres/metal/metal.00060.au 240107 -0.0 0.99999994\n",
            "./output/train/79metal.pkl\n",
            "80 ./genres/metal/metal.00007.au 240002 -0.0 1.0\n",
            "./output/train/80metal.pkl\n",
            "81 ./genres/metal/metal.00081.au 240002 0.0 0.99999994\n",
            "./output/train/81metal.pkl\n",
            "82 ./genres/metal/metal.00066.au 240107 -0.0 1.0\n",
            "./output/train/82metal.pkl\n",
            "83 ./genres/metal/metal.00067.au 240002 0.0 1.0000001\n",
            "./output/train/83metal.pkl\n",
            "84 ./genres/metal/metal.00065.au 240107 0.0 1.0\n",
            "./output/train/84metal.pkl\n",
            "85 ./genres/metal/metal.00002.au 240002 0.0 1.0000001\n",
            "./output/train/85metal.pkl\n",
            "86 ./genres/metal/metal.00008.au 240002 -0.0 1.0\n",
            "./output/train/86metal.pkl\n",
            "87 ./genres/metal/metal.00027.au 240002 0.0 1.0\n",
            "./output/train/87metal.pkl\n",
            "88 ./genres/metal/metal.00094.au 240002 0.0 1.0000001\n",
            "./output/train/88metal.pkl\n",
            "89 ./genres/metal/metal.00001.au 240002 0.0 0.99999994\n",
            "./output/train/89metal.pkl\n",
            "90 ./genres/metal/metal.00023.au 240002 0.0 0.99999994\n",
            "./output/train/90metal.pkl\n",
            "91 ./genres/metal/metal.00016.au 240002 -0.0 1.0\n",
            "./output/train/91metal.pkl\n",
            "92 ./genres/metal/metal.00098.au 240107 -0.0 1.0\n",
            "./output/train/92metal.pkl\n",
            "93 ./genres/metal/metal.00089.au 240002 -0.0 1.0\n",
            "./output/train/93metal.pkl\n",
            "94 ./genres/metal/metal.00021.au 240002 0.0 1.0\n",
            "./output/train/94metal.pkl\n",
            "95 ./genres/metal/metal.00064.au 240107 0.0 1.0\n",
            "./output/train/95metal.pkl\n",
            "96 ./genres/metal/metal.00084.au 240002 -0.0 1.0000001\n",
            "./output/train/96metal.pkl\n",
            "97 ./genres/metal/metal.00032.au 240002 0.0 0.99999994\n",
            "./output/train/97metal.pkl\n",
            "98 ./genres/metal/metal.00045.au 240107 -0.0 1.0\n",
            "./output/train/98metal.pkl\n",
            "99 ./genres/metal/metal.00097.au 240107 -0.0 1.0000001\n",
            "./output/train/99metal.pkl\n",
            "0 ./genres/pop/pop.00066.au 240002 0.0 1.0\n",
            "./output/test/0pop.pkl\n",
            "1 ./genres/pop/pop.00016.au 240002 -0.0 1.0000001\n",
            "./output/test/1pop.pkl\n",
            "2 ./genres/pop/pop.00092.au 240002 0.0 1.0\n",
            "./output/test/2pop.pkl\n",
            "3 ./genres/pop/pop.00014.au 240002 0.0 0.99999994\n",
            "./output/test/3pop.pkl\n",
            "4 ./genres/pop/pop.00085.au 240002 -0.0 0.99999994\n",
            "./output/test/4pop.pkl\n",
            "5 ./genres/pop/pop.00054.au 240002 -0.0 1.0000001\n",
            "./output/test/5pop.pkl\n",
            "6 ./genres/pop/pop.00095.au 240002 0.0 1.0\n",
            "./output/test/6pop.pkl\n",
            "7 ./genres/pop/pop.00039.au 240002 0.0 1.0\n",
            "./output/test/7pop.pkl\n",
            "8 ./genres/pop/pop.00099.au 240002 -0.0 1.0\n",
            "./output/test/8pop.pkl\n",
            "9 ./genres/pop/pop.00069.au 240002 -0.0 0.99999994\n",
            "./output/test/9pop.pkl\n",
            "10 ./genres/pop/pop.00032.au 240002 0.0 1.0\n",
            "./output/train/10pop.pkl\n",
            "11 ./genres/pop/pop.00078.au 240002 0.0 0.99999994\n",
            "./output/train/11pop.pkl\n",
            "12 ./genres/pop/pop.00080.au 240002 0.0 0.9999999\n",
            "./output/train/12pop.pkl\n",
            "13 ./genres/pop/pop.00018.au 240002 -0.0 1.0\n",
            "./output/train/13pop.pkl\n",
            "14 ./genres/pop/pop.00072.au 240002 0.0 1.0\n",
            "./output/train/14pop.pkl\n",
            "15 ./genres/pop/pop.00030.au 240002 -0.0 1.0000001\n",
            "./output/train/15pop.pkl\n",
            "16 ./genres/pop/pop.00007.au 240002 0.0 1.0\n",
            "./output/train/16pop.pkl\n",
            "17 ./genres/pop/pop.00053.au 240002 0.0 0.99999994\n",
            "./output/train/17pop.pkl\n",
            "18 ./genres/pop/pop.00097.au 240002 0.0 1.0000001\n",
            "./output/train/18pop.pkl\n",
            "19 ./genres/pop/pop.00008.au 240002 0.0 1.0\n",
            "./output/train/19pop.pkl\n",
            "20 ./genres/pop/pop.00033.au 240002 0.0 1.0000001\n",
            "./output/train/20pop.pkl\n",
            "21 ./genres/pop/pop.00081.au 240002 -0.0 1.0000001\n",
            "./output/train/21pop.pkl\n",
            "22 ./genres/pop/pop.00068.au 240002 0.0 0.99999994\n",
            "./output/train/22pop.pkl\n",
            "23 ./genres/pop/pop.00029.au 240002 0.0 1.0\n",
            "./output/train/23pop.pkl\n",
            "24 ./genres/pop/pop.00062.au 240002 -0.0 0.99999994\n",
            "./output/train/24pop.pkl\n",
            "25 ./genres/pop/pop.00028.au 240002 -0.0 0.99999994\n",
            "./output/train/25pop.pkl\n",
            "26 ./genres/pop/pop.00017.au 240002 -0.0 1.0000001\n",
            "./output/train/26pop.pkl\n",
            "27 ./genres/pop/pop.00074.au 240002 0.0 1.0000001\n",
            "./output/train/27pop.pkl\n",
            "28 ./genres/pop/pop.00011.au 240002 0.0 1.0\n",
            "./output/train/28pop.pkl\n",
            "29 ./genres/pop/pop.00070.au 240002 -0.0 1.0\n",
            "./output/train/29pop.pkl\n",
            "30 ./genres/pop/pop.00022.au 240002 -0.0 1.0\n",
            "./output/train/30pop.pkl\n",
            "31 ./genres/pop/pop.00027.au 240002 -0.0 1.0\n",
            "./output/train/31pop.pkl\n",
            "32 ./genres/pop/pop.00086.au 240002 0.0 1.0\n",
            "./output/train/32pop.pkl\n",
            "33 ./genres/pop/pop.00050.au 240002 0.0 1.0\n",
            "./output/train/33pop.pkl\n",
            "34 ./genres/pop/pop.00037.au 240002 0.0 1.0\n",
            "./output/train/34pop.pkl\n",
            "35 ./genres/pop/pop.00021.au 240002 -0.0 0.9999999\n",
            "./output/train/35pop.pkl\n",
            "36 ./genres/pop/pop.00067.au 240002 0.0 1.0\n",
            "./output/train/36pop.pkl\n",
            "37 ./genres/pop/pop.00096.au 240002 0.0 1.0000001\n",
            "./output/train/37pop.pkl\n",
            "38 ./genres/pop/pop.00005.au 240002 -0.0 0.99999994\n",
            "./output/train/38pop.pkl\n",
            "39 ./genres/pop/pop.00026.au 240002 -0.0 1.0\n",
            "./output/train/39pop.pkl\n",
            "40 ./genres/pop/pop.00049.au 240002 0.0 1.0000001\n",
            "./output/train/40pop.pkl\n",
            "41 ./genres/pop/pop.00010.au 240002 0.0 0.9999999\n",
            "./output/train/41pop.pkl\n",
            "42 ./genres/pop/pop.00056.au 240002 0.0 1.0\n",
            "./output/train/42pop.pkl\n",
            "43 ./genres/pop/pop.00047.au 240002 -0.0 1.0\n",
            "./output/train/43pop.pkl\n",
            "44 ./genres/pop/pop.00009.au 240002 0.0 0.99999994\n",
            "./output/train/44pop.pkl\n",
            "45 ./genres/pop/pop.00087.au 240002 -0.0 1.0\n",
            "./output/train/45pop.pkl\n",
            "46 ./genres/pop/pop.00071.au 240002 0.0 1.0\n",
            "./output/train/46pop.pkl\n",
            "47 ./genres/pop/pop.00088.au 240002 0.0 1.0\n",
            "./output/train/47pop.pkl\n",
            "48 ./genres/pop/pop.00064.au 240002 0.0 1.0\n",
            "./output/train/48pop.pkl\n",
            "49 ./genres/pop/pop.00090.au 240002 -0.0 1.0000001\n",
            "./output/train/49pop.pkl\n",
            "50 ./genres/pop/pop.00012.au 240002 0.0 1.0\n",
            "./output/train/50pop.pkl\n",
            "51 ./genres/pop/pop.00036.au 240002 -0.0 0.99999994\n",
            "./output/train/51pop.pkl\n",
            "52 ./genres/pop/pop.00052.au 240002 -0.0 1.0\n",
            "./output/train/52pop.pkl\n",
            "53 ./genres/pop/pop.00000.au 240002 0.0 0.99999994\n",
            "./output/train/53pop.pkl\n",
            "54 ./genres/pop/pop.00082.au 240002 -0.0 1.0\n",
            "./output/train/54pop.pkl\n",
            "55 ./genres/pop/pop.00057.au 240002 -0.0 1.0\n",
            "./output/train/55pop.pkl\n",
            "56 ./genres/pop/pop.00077.au 240002 -0.0 0.9999999\n",
            "./output/train/56pop.pkl\n",
            "57 ./genres/pop/pop.00063.au 240002 -0.0 0.99999994\n",
            "./output/train/57pop.pkl\n",
            "58 ./genres/pop/pop.00058.au 240002 -0.0 1.0\n",
            "./output/train/58pop.pkl\n",
            "59 ./genres/pop/pop.00065.au 240002 -0.0 0.99999994\n",
            "./output/train/59pop.pkl\n",
            "60 ./genres/pop/pop.00055.au 240002 -0.0 1.0\n",
            "./output/train/60pop.pkl\n",
            "61 ./genres/pop/pop.00024.au 240002 0.0 1.0\n",
            "./output/train/61pop.pkl\n",
            "62 ./genres/pop/pop.00006.au 240002 -0.0 0.99999994\n",
            "./output/train/62pop.pkl\n",
            "63 ./genres/pop/pop.00048.au 240002 -0.0 1.0000001\n",
            "./output/train/63pop.pkl\n",
            "64 ./genres/pop/pop.00023.au 240002 -0.0 1.0\n",
            "./output/train/64pop.pkl\n",
            "65 ./genres/pop/pop.00094.au 240002 0.0 0.99999994\n",
            "./output/train/65pop.pkl\n",
            "66 ./genres/pop/pop.00034.au 240002 -0.0 1.0\n",
            "./output/train/66pop.pkl\n",
            "67 ./genres/pop/pop.00076.au 240002 -0.0 1.0000001\n",
            "./output/train/67pop.pkl\n",
            "68 ./genres/pop/pop.00084.au 240002 0.0 0.99999994\n",
            "./output/train/68pop.pkl\n",
            "69 ./genres/pop/pop.00059.au 240002 -0.0 1.0\n",
            "./output/train/69pop.pkl\n",
            "70 ./genres/pop/pop.00015.au 240002 0.0 0.99999994\n",
            "./output/train/70pop.pkl\n",
            "71 ./genres/pop/pop.00004.au 240002 -0.0 1.0\n",
            "./output/train/71pop.pkl\n",
            "72 ./genres/pop/pop.00051.au 240002 0.0 1.0\n",
            "./output/train/72pop.pkl\n",
            "73 ./genres/pop/pop.00013.au 240002 -0.0 1.0000001\n",
            "./output/train/73pop.pkl\n",
            "74 ./genres/pop/pop.00093.au 240002 0.0 0.99999994\n",
            "./output/train/74pop.pkl\n",
            "75 ./genres/pop/pop.00079.au 240002 0.0 0.99999994\n",
            "./output/train/75pop.pkl\n",
            "76 ./genres/pop/pop.00041.au 240002 -0.0 1.0000001\n",
            "./output/train/76pop.pkl\n",
            "77 ./genres/pop/pop.00061.au 240002 -0.0 1.0\n",
            "./output/train/77pop.pkl\n",
            "78 ./genres/pop/pop.00002.au 240002 0.0 1.0\n",
            "./output/train/78pop.pkl\n",
            "79 ./genres/pop/pop.00046.au 240002 0.0 0.99999994\n",
            "./output/train/79pop.pkl\n",
            "80 ./genres/pop/pop.00073.au 240002 -0.0 1.0\n",
            "./output/train/80pop.pkl\n",
            "81 ./genres/pop/pop.00098.au 240002 0.0 0.99999994\n",
            "./output/train/81pop.pkl\n",
            "82 ./genres/pop/pop.00003.au 240002 -0.0 1.0\n",
            "./output/train/82pop.pkl\n",
            "83 ./genres/pop/pop.00035.au 240002 0.0 1.0\n",
            "./output/train/83pop.pkl\n",
            "84 ./genres/pop/pop.00083.au 240002 0.0 0.99999994\n",
            "./output/train/84pop.pkl\n",
            "85 ./genres/pop/pop.00089.au 240002 0.0 0.99999994\n",
            "./output/train/85pop.pkl\n",
            "86 ./genres/pop/pop.00001.au 240002 0.0 1.0000001\n",
            "./output/train/86pop.pkl\n",
            "87 ./genres/pop/pop.00042.au 240002 -0.0 0.99999994\n",
            "./output/train/87pop.pkl\n",
            "88 ./genres/pop/pop.00091.au 240002 -0.0 1.0\n",
            "./output/train/88pop.pkl\n",
            "89 ./genres/pop/pop.00060.au 240002 -0.0 1.0000001\n",
            "./output/train/89pop.pkl\n",
            "90 ./genres/pop/pop.00025.au 240002 -0.0 1.0\n",
            "./output/train/90pop.pkl\n",
            "91 ./genres/pop/pop.00045.au 240002 -0.0 1.0\n",
            "./output/train/91pop.pkl\n",
            "92 ./genres/pop/pop.00075.au 240002 0.0 0.9999999\n",
            "./output/train/92pop.pkl\n",
            "93 ./genres/pop/pop.00038.au 240002 0.0 1.0\n",
            "./output/train/93pop.pkl\n",
            "94 ./genres/pop/pop.00043.au 240002 0.0 1.0000001\n",
            "./output/train/94pop.pkl\n",
            "95 ./genres/pop/pop.00031.au 240002 0.0 1.0\n",
            "./output/train/95pop.pkl\n",
            "96 ./genres/pop/pop.00019.au 240002 0.0 1.0\n",
            "./output/train/96pop.pkl\n",
            "97 ./genres/pop/pop.00040.au 240002 0.0 1.0\n",
            "./output/train/97pop.pkl\n",
            "98 ./genres/pop/pop.00020.au 240002 0.0 0.99999994\n",
            "./output/train/98pop.pkl\n",
            "99 ./genres/pop/pop.00044.au 240002 0.0 1.0\n",
            "./output/train/99pop.pkl\n",
            "0 ./genres/reggae/reggae.00032.au 240107 0.0 1.0\n",
            "./output/test/0reggae.pkl\n",
            "1 ./genres/reggae/reggae.00070.au 240002 0.0 0.99999994\n",
            "./output/test/1reggae.pkl\n",
            "2 ./genres/reggae/reggae.00040.au 240107 0.0 1.0\n",
            "./output/test/2reggae.pkl\n",
            "3 ./genres/reggae/reggae.00022.au 240107 -0.0 0.9999999\n",
            "./output/test/3reggae.pkl\n",
            "4 ./genres/reggae/reggae.00098.au 240002 -0.0 1.0\n",
            "./output/test/4reggae.pkl\n",
            "5 ./genres/reggae/reggae.00034.au 240107 -0.0 0.99999994\n",
            "./output/test/5reggae.pkl\n",
            "6 ./genres/reggae/reggae.00085.au 240002 0.0 0.99999994\n",
            "./output/test/6reggae.pkl\n",
            "7 ./genres/reggae/reggae.00062.au 240002 0.0 1.0\n",
            "./output/test/7reggae.pkl\n",
            "8 ./genres/reggae/reggae.00091.au 240002 0.0 1.0\n",
            "./output/test/8reggae.pkl\n",
            "9 ./genres/reggae/reggae.00044.au 240002 0.0 1.0\n",
            "./output/test/9reggae.pkl\n",
            "10 ./genres/reggae/reggae.00099.au 240002 -0.0 0.9999999\n",
            "./output/train/10reggae.pkl\n",
            "11 ./genres/reggae/reggae.00055.au 240002 -0.0 0.99999994\n",
            "./output/train/11reggae.pkl\n",
            "12 ./genres/reggae/reggae.00002.au 240107 0.0 1.0\n",
            "./output/train/12reggae.pkl\n",
            "13 ./genres/reggae/reggae.00074.au 240002 -0.0 1.0\n",
            "./output/train/13reggae.pkl\n",
            "14 ./genres/reggae/reggae.00024.au 240107 0.0 0.99999994\n",
            "./output/train/14reggae.pkl\n",
            "15 ./genres/reggae/reggae.00096.au 240002 -0.0 1.0\n",
            "./output/train/15reggae.pkl\n",
            "16 ./genres/reggae/reggae.00007.au 240107 0.0 0.99999994\n",
            "./output/train/16reggae.pkl\n",
            "17 ./genres/reggae/reggae.00012.au 240107 -0.0 0.99999994\n",
            "./output/train/17reggae.pkl\n",
            "18 ./genres/reggae/reggae.00004.au 240107 0.0 1.0\n",
            "./output/train/18reggae.pkl\n",
            "19 ./genres/reggae/reggae.00011.au 240107 0.0 1.0\n",
            "./output/train/19reggae.pkl\n",
            "20 ./genres/reggae/reggae.00038.au 240107 0.0 1.0\n",
            "./output/train/20reggae.pkl\n",
            "21 ./genres/reggae/reggae.00021.au 240107 0.0 0.9999999\n",
            "./output/train/21reggae.pkl\n",
            "22 ./genres/reggae/reggae.00049.au 240002 -0.0 1.0\n",
            "./output/train/22reggae.pkl\n",
            "23 ./genres/reggae/reggae.00053.au 240002 0.0 1.0\n",
            "./output/train/23reggae.pkl\n",
            "24 ./genres/reggae/reggae.00039.au 240107 0.0 1.0\n",
            "./output/train/24reggae.pkl\n",
            "25 ./genres/reggae/reggae.00051.au 240002 -0.0 0.99999994\n",
            "./output/train/25reggae.pkl\n",
            "26 ./genres/reggae/reggae.00036.au 240107 0.0 0.99999994\n",
            "./output/train/26reggae.pkl\n",
            "27 ./genres/reggae/reggae.00082.au 240002 -0.0 0.99999994\n",
            "./output/train/27reggae.pkl\n",
            "28 ./genres/reggae/reggae.00092.au 240002 -0.0 1.0000001\n",
            "./output/train/28reggae.pkl\n",
            "29 ./genres/reggae/reggae.00023.au 240107 -0.0 1.0\n",
            "./output/train/29reggae.pkl\n",
            "30 ./genres/reggae/reggae.00072.au 240002 -0.0 0.99999994\n",
            "./output/train/30reggae.pkl\n",
            "31 ./genres/reggae/reggae.00077.au 240002 -0.0 1.0\n",
            "./output/train/31reggae.pkl\n",
            "32 ./genres/reggae/reggae.00010.au 240107 0.0 1.0000001\n",
            "./output/train/32reggae.pkl\n",
            "33 ./genres/reggae/reggae.00019.au 240107 -0.0 0.99999994\n",
            "./output/train/33reggae.pkl\n",
            "34 ./genres/reggae/reggae.00013.au 240107 -0.0 1.0000001\n",
            "./output/train/34reggae.pkl\n",
            "35 ./genres/reggae/reggae.00031.au 240107 0.0 1.0\n",
            "./output/train/35reggae.pkl\n",
            "36 ./genres/reggae/reggae.00073.au 240002 -0.0 1.0000001\n",
            "./output/train/36reggae.pkl\n",
            "37 ./genres/reggae/reggae.00079.au 240002 -0.0 1.0\n",
            "./output/train/37reggae.pkl\n",
            "38 ./genres/reggae/reggae.00025.au 240107 0.0 0.99999994\n",
            "./output/train/38reggae.pkl\n",
            "39 ./genres/reggae/reggae.00061.au 240002 0.0 1.0\n",
            "./output/train/39reggae.pkl\n",
            "40 ./genres/reggae/reggae.00071.au 240002 0.0 0.99999994\n",
            "./output/train/40reggae.pkl\n",
            "41 ./genres/reggae/reggae.00045.au 240002 -0.0 1.0\n",
            "./output/train/41reggae.pkl\n",
            "42 ./genres/reggae/reggae.00060.au 240002 -0.0 0.99999994\n",
            "./output/train/42reggae.pkl\n",
            "43 ./genres/reggae/reggae.00029.au 240107 0.0 1.0\n",
            "./output/train/43reggae.pkl\n",
            "44 ./genres/reggae/reggae.00005.au 240107 -0.0 0.99999976\n",
            "./output/train/44reggae.pkl\n",
            "45 ./genres/reggae/reggae.00035.au 240107 0.0 1.0\n",
            "./output/train/45reggae.pkl\n",
            "46 ./genres/reggae/reggae.00087.au 240002 -0.0 1.0\n",
            "./output/train/46reggae.pkl\n",
            "47 ./genres/reggae/reggae.00015.au 240107 -0.0 0.99999994\n",
            "./output/train/47reggae.pkl\n",
            "48 ./genres/reggae/reggae.00075.au 240002 -0.0 1.0\n",
            "./output/train/48reggae.pkl\n",
            "49 ./genres/reggae/reggae.00076.au 240002 0.0 1.0\n",
            "./output/train/49reggae.pkl\n",
            "50 ./genres/reggae/reggae.00016.au 240107 -0.0 1.0000001\n",
            "./output/train/50reggae.pkl\n",
            "51 ./genres/reggae/reggae.00033.au 240107 -0.0 0.99999994\n",
            "./output/train/51reggae.pkl\n",
            "52 ./genres/reggae/reggae.00014.au 240107 0.0 1.0\n",
            "./output/train/52reggae.pkl\n",
            "53 ./genres/reggae/reggae.00008.au 240107 0.0 0.99999994\n",
            "./output/train/53reggae.pkl\n",
            "54 ./genres/reggae/reggae.00026.au 240107 -0.0 0.99999994\n",
            "./output/train/54reggae.pkl\n",
            "55 ./genres/reggae/reggae.00088.au 240002 -0.0 1.0\n",
            "./output/train/55reggae.pkl\n",
            "56 ./genres/reggae/reggae.00042.au 240002 -0.0 1.0\n",
            "./output/train/56reggae.pkl\n",
            "57 ./genres/reggae/reggae.00006.au 240107 -0.0 1.0\n",
            "./output/train/57reggae.pkl\n",
            "58 ./genres/reggae/reggae.00018.au 240107 -0.0 1.0000001\n",
            "./output/train/58reggae.pkl\n",
            "59 ./genres/reggae/reggae.00066.au 240002 -0.0 0.99999994\n",
            "./output/train/59reggae.pkl\n",
            "60 ./genres/reggae/reggae.00089.au 240002 -0.0 0.99999994\n",
            "./output/train/60reggae.pkl\n",
            "61 ./genres/reggae/reggae.00017.au 240107 0.0 0.99999994\n",
            "./output/train/61reggae.pkl\n",
            "62 ./genres/reggae/reggae.00090.au 240002 -0.0 0.9999999\n",
            "./output/train/62reggae.pkl\n",
            "63 ./genres/reggae/reggae.00069.au 240002 -0.0 1.0\n",
            "./output/train/63reggae.pkl\n",
            "64 ./genres/reggae/reggae.00080.au 240002 -0.0 0.99999994\n",
            "./output/train/64reggae.pkl\n",
            "65 ./genres/reggae/reggae.00063.au 240002 -0.0 1.0\n",
            "./output/train/65reggae.pkl\n",
            "66 ./genres/reggae/reggae.00083.au 240002 -0.0 1.0\n",
            "./output/train/66reggae.pkl\n",
            "67 ./genres/reggae/reggae.00047.au 240002 0.0 1.0000001\n",
            "./output/train/67reggae.pkl\n",
            "68 ./genres/reggae/reggae.00093.au 240002 -0.0 1.0\n",
            "./output/train/68reggae.pkl\n",
            "69 ./genres/reggae/reggae.00041.au 240002 0.0 0.99999994\n",
            "./output/train/69reggae.pkl\n",
            "70 ./genres/reggae/reggae.00030.au 240107 0.0 0.99999994\n",
            "./output/train/70reggae.pkl\n",
            "71 ./genres/reggae/reggae.00000.au 240107 -0.0 1.0\n",
            "./output/train/71reggae.pkl\n",
            "72 ./genres/reggae/reggae.00067.au 240002 -0.0 0.99999994\n",
            "./output/train/72reggae.pkl\n",
            "73 ./genres/reggae/reggae.00027.au 240107 0.0 0.99999994\n",
            "./output/train/73reggae.pkl\n",
            "74 ./genres/reggae/reggae.00054.au 240002 0.0 0.99999994\n",
            "./output/train/74reggae.pkl\n",
            "75 ./genres/reggae/reggae.00028.au 240107 0.0 1.0000001\n",
            "./output/train/75reggae.pkl\n",
            "76 ./genres/reggae/reggae.00068.au 240002 -0.0 1.0\n",
            "./output/train/76reggae.pkl\n",
            "77 ./genres/reggae/reggae.00078.au 240002 -0.0 1.0\n",
            "./output/train/77reggae.pkl\n",
            "78 ./genres/reggae/reggae.00009.au 240107 0.0 1.0\n",
            "./output/train/78reggae.pkl\n",
            "79 ./genres/reggae/reggae.00020.au 240107 0.0 1.0000001\n",
            "./output/train/79reggae.pkl\n",
            "80 ./genres/reggae/reggae.00046.au 240002 0.0 1.0000001\n",
            "./output/train/80reggae.pkl\n",
            "81 ./genres/reggae/reggae.00086.au 240002 0.0 1.0\n",
            "./output/train/81reggae.pkl\n",
            "82 ./genres/reggae/reggae.00001.au 240107 0.0 1.0\n",
            "./output/train/82reggae.pkl\n",
            "83 ./genres/reggae/reggae.00095.au 240002 -0.0 0.99999994\n",
            "./output/train/83reggae.pkl\n",
            "84 ./genres/reggae/reggae.00084.au 240002 -0.0 1.0000001\n",
            "./output/train/84reggae.pkl\n",
            "85 ./genres/reggae/reggae.00081.au 240002 -0.0 0.99999994\n",
            "./output/train/85reggae.pkl\n",
            "86 ./genres/reggae/reggae.00058.au 240002 -0.0 0.99999994\n",
            "./output/train/86reggae.pkl\n",
            "87 ./genres/reggae/reggae.00043.au 240002 0.0 1.0\n",
            "./output/train/87reggae.pkl\n",
            "88 ./genres/reggae/reggae.00064.au 240002 -0.0 1.0\n",
            "./output/train/88reggae.pkl\n",
            "89 ./genres/reggae/reggae.00059.au 240002 -0.0 1.0\n",
            "./output/train/89reggae.pkl\n",
            "90 ./genres/reggae/reggae.00097.au 240002 0.0 1.0\n",
            "./output/train/90reggae.pkl\n",
            "91 ./genres/reggae/reggae.00056.au 240002 0.0 0.99999994\n",
            "./output/train/91reggae.pkl\n",
            "92 ./genres/reggae/reggae.00057.au 240002 -0.0 1.0\n",
            "./output/train/92reggae.pkl\n",
            "93 ./genres/reggae/reggae.00065.au 240002 0.0 0.99999994\n",
            "./output/train/93reggae.pkl\n",
            "94 ./genres/reggae/reggae.00037.au 240107 -0.0 1.0000001\n",
            "./output/train/94reggae.pkl\n",
            "95 ./genres/reggae/reggae.00052.au 240002 0.0 1.0\n",
            "./output/train/95reggae.pkl\n",
            "96 ./genres/reggae/reggae.00094.au 240002 -0.0 1.0\n",
            "./output/train/96reggae.pkl\n",
            "97 ./genres/reggae/reggae.00048.au 240002 -0.0 1.0\n",
            "./output/train/97reggae.pkl\n",
            "98 ./genres/reggae/reggae.00003.au 240107 0.0 1.0\n",
            "./output/train/98reggae.pkl\n",
            "99 ./genres/reggae/reggae.00050.au 240002 -0.0 1.0000001\n",
            "./output/train/99reggae.pkl\n",
            "0 ./genres/rock/rock.00011.au 240107 0.0 1.0000001\n",
            "./output/test/0rock.pkl\n",
            "1 ./genres/rock/rock.00023.au 240107 0.0 1.0\n",
            "./output/test/1rock.pkl\n",
            "2 ./genres/rock/rock.00006.au 240107 -0.0 0.99999994\n",
            "./output/test/2rock.pkl\n",
            "3 ./genres/rock/rock.00040.au 240107 -0.0 0.99999994\n",
            "./output/test/3rock.pkl\n",
            "4 ./genres/rock/rock.00041.au 240107 -0.0 1.0\n",
            "./output/test/4rock.pkl\n",
            "5 ./genres/rock/rock.00032.au 243208 -0.0 1.0\n",
            "./output/test/5rock.pkl\n",
            "6 ./genres/rock/rock.00009.au 240107 0.0 1.0\n",
            "./output/test/6rock.pkl\n",
            "7 ./genres/rock/rock.00019.au 240107 -0.0 1.0\n",
            "./output/test/7rock.pkl\n",
            "8 ./genres/rock/rock.00021.au 240107 0.0 0.9999999\n",
            "./output/test/8rock.pkl\n",
            "9 ./genres/rock/rock.00013.au 240107 -0.0 1.0\n",
            "./output/test/9rock.pkl\n",
            "10 ./genres/rock/rock.00026.au 240107 -0.0 1.0\n",
            "./output/train/10rock.pkl\n",
            "11 ./genres/rock/rock.00060.au 240107 0.0 0.99999994\n",
            "./output/train/11rock.pkl\n",
            "12 ./genres/rock/rock.00090.au 240107 -0.0 0.99999994\n",
            "./output/train/12rock.pkl\n",
            "13 ./genres/rock/rock.00083.au 240107 0.0 1.0\n",
            "./output/train/13rock.pkl\n",
            "14 ./genres/rock/rock.00029.au 240107 0.0 0.99999994\n",
            "./output/train/14rock.pkl\n",
            "15 ./genres/rock/rock.00038.au 239967 -0.0 0.99999994\n",
            "./output/train/15rock.pkl\n",
            "16 ./genres/rock/rock.00067.au 240107 -0.0 1.0\n",
            "./output/train/16rock.pkl\n",
            "17 ./genres/rock/rock.00024.au 240107 -0.0 1.0\n",
            "./output/train/17rock.pkl\n",
            "18 ./genres/rock/rock.00055.au 240107 -0.0 1.0\n",
            "./output/train/18rock.pkl\n",
            "19 ./genres/rock/rock.00000.au 240107 -0.0 1.0000001\n",
            "./output/train/19rock.pkl\n",
            "20 ./genres/rock/rock.00071.au 240107 0.0 1.0\n",
            "./output/train/20rock.pkl\n",
            "21 ./genres/rock/rock.00082.au 240107 0.0 0.99999994\n",
            "./output/train/21rock.pkl\n",
            "22 ./genres/rock/rock.00066.au 240107 0.0 1.0\n",
            "./output/train/22rock.pkl\n",
            "23 ./genres/rock/rock.00085.au 240107 -0.0 1.0000001\n",
            "./output/train/23rock.pkl\n",
            "24 ./genres/rock/rock.00064.au 240107 0.0 1.0\n",
            "./output/train/24rock.pkl\n",
            "25 ./genres/rock/rock.00078.au 240107 0.0 1.0\n",
            "./output/train/25rock.pkl\n",
            "26 ./genres/rock/rock.00068.au 240107 0.0 1.0\n",
            "./output/train/26rock.pkl\n",
            "27 ./genres/rock/rock.00002.au 240107 -0.0 1.0\n",
            "./output/train/27rock.pkl\n",
            "28 ./genres/rock/rock.00020.au 240107 0.0 0.99999994\n",
            "./output/train/28rock.pkl\n",
            "29 ./genres/rock/rock.00093.au 240107 0.0 1.0\n",
            "./output/train/29rock.pkl\n",
            "30 ./genres/rock/rock.00050.au 240107 0.0 0.99999994\n",
            "./output/train/30rock.pkl\n",
            "31 ./genres/rock/rock.00098.au 240107 0.0 1.0\n",
            "./output/train/31rock.pkl\n",
            "32 ./genres/rock/rock.00035.au 240107 0.0 1.0\n",
            "./output/train/32rock.pkl\n",
            "33 ./genres/rock/rock.00028.au 240107 -0.0 0.99999994\n",
            "./output/train/33rock.pkl\n",
            "34 ./genres/rock/rock.00091.au 240107 0.0 1.0\n",
            "./output/train/34rock.pkl\n",
            "35 ./genres/rock/rock.00031.au 240107 0.0 1.0\n",
            "./output/train/35rock.pkl\n",
            "36 ./genres/rock/rock.00012.au 240107 -0.0 1.0\n",
            "./output/train/36rock.pkl\n",
            "37 ./genres/rock/rock.00027.au 240000 0.0 1.0000001\n",
            "./output/train/37rock.pkl\n",
            "38 ./genres/rock/rock.00096.au 240107 -0.0 1.0\n",
            "./output/train/38rock.pkl\n",
            "39 ./genres/rock/rock.00042.au 240107 -0.0 1.0\n",
            "./output/train/39rock.pkl\n",
            "40 ./genres/rock/rock.00045.au 240107 -0.0 0.99999994\n",
            "./output/train/40rock.pkl\n",
            "41 ./genres/rock/rock.00037.au 240107 -0.0 0.99999994\n",
            "./output/train/41rock.pkl\n",
            "42 ./genres/rock/rock.00018.au 240107 0.0 0.9999999\n",
            "./output/train/42rock.pkl\n",
            "43 ./genres/rock/rock.00097.au 240107 0.0 1.0\n",
            "./output/train/43rock.pkl\n",
            "44 ./genres/rock/rock.00005.au 240107 0.0 1.0\n",
            "./output/train/44rock.pkl\n",
            "45 ./genres/rock/rock.00072.au 240107 0.0 1.0000001\n",
            "./output/train/45rock.pkl\n",
            "46 ./genres/rock/rock.00059.au 240107 0.0 1.0000001\n",
            "./output/train/46rock.pkl\n",
            "47 ./genres/rock/rock.00044.au 240107 -0.0 1.0\n",
            "./output/train/47rock.pkl\n",
            "48 ./genres/rock/rock.00034.au 242888 -0.0 1.0\n",
            "./output/train/48rock.pkl\n",
            "49 ./genres/rock/rock.00039.au 240107 0.0 1.0\n",
            "./output/train/49rock.pkl\n",
            "50 ./genres/rock/rock.00075.au 240107 0.0 0.99999994\n",
            "./output/train/50rock.pkl\n",
            "51 ./genres/rock/rock.00095.au 240107 -0.0 1.0000001\n",
            "./output/train/51rock.pkl\n",
            "52 ./genres/rock/rock.00080.au 240107 -0.0 0.99999994\n",
            "./output/train/52rock.pkl\n",
            "53 ./genres/rock/rock.00061.au 240107 0.0 0.99999994\n",
            "./output/train/53rock.pkl\n",
            "54 ./genres/rock/rock.00007.au 240107 -0.0 1.0000001\n",
            "./output/train/54rock.pkl\n",
            "55 ./genres/rock/rock.00049.au 240107 -0.0 0.99999994\n",
            "./output/train/55rock.pkl\n",
            "56 ./genres/rock/rock.00014.au 240107 -0.0 0.9999999\n",
            "./output/train/56rock.pkl\n",
            "57 ./genres/rock/rock.00043.au 240107 -0.0 0.99999994\n",
            "./output/train/57rock.pkl\n",
            "58 ./genres/rock/rock.00057.au 240107 0.0 1.0\n",
            "./output/train/58rock.pkl\n",
            "59 ./genres/rock/rock.00084.au 240107 0.0 0.9999999\n",
            "./output/train/59rock.pkl\n",
            "60 ./genres/rock/rock.00048.au 240107 -0.0 1.0000001\n",
            "./output/train/60rock.pkl\n",
            "61 ./genres/rock/rock.00008.au 240107 -0.0 0.99999994\n",
            "./output/train/61rock.pkl\n",
            "62 ./genres/rock/rock.00053.au 240107 -0.0 1.0\n",
            "./output/train/62rock.pkl\n",
            "63 ./genres/rock/rock.00079.au 240107 -0.0 0.99999994\n",
            "./output/train/63rock.pkl\n",
            "64 ./genres/rock/rock.00010.au 240107 -0.0 1.0\n",
            "./output/train/64rock.pkl\n",
            "65 ./genres/rock/rock.00001.au 240107 -0.0 0.99999994\n",
            "./output/train/65rock.pkl\n",
            "66 ./genres/rock/rock.00054.au 240107 -0.0 1.0000001\n",
            "./output/train/66rock.pkl\n",
            "67 ./genres/rock/rock.00065.au 240107 -0.0 1.0\n",
            "./output/train/67rock.pkl\n",
            "68 ./genres/rock/rock.00077.au 240107 0.0 1.0\n",
            "./output/train/68rock.pkl\n",
            "69 ./genres/rock/rock.00081.au 240107 0.0 1.0\n",
            "./output/train/69rock.pkl\n",
            "70 ./genres/rock/rock.00088.au 240107 0.0 1.0\n",
            "./output/train/70rock.pkl\n",
            "71 ./genres/rock/rock.00073.au 240107 0.0 1.0\n",
            "./output/train/71rock.pkl\n",
            "72 ./genres/rock/rock.00076.au 240107 0.0 0.99999994\n",
            "./output/train/72rock.pkl\n",
            "73 ./genres/rock/rock.00004.au 240107 0.0 0.99999994\n",
            "./output/train/73rock.pkl\n",
            "74 ./genres/rock/rock.00052.au 240107 -0.0 1.0\n",
            "./output/train/74rock.pkl\n",
            "75 ./genres/rock/rock.00016.au 240107 -0.0 0.99999994\n",
            "./output/train/75rock.pkl\n",
            "76 ./genres/rock/rock.00051.au 240107 0.0 1.0\n",
            "./output/train/76rock.pkl\n",
            "77 ./genres/rock/rock.00074.au 240107 -0.0 0.9999999\n",
            "./output/train/77rock.pkl\n",
            "78 ./genres/rock/rock.00033.au 240107 0.0 0.99999994\n",
            "./output/train/78rock.pkl\n",
            "79 ./genres/rock/rock.00058.au 240107 0.0 1.0\n",
            "./output/train/79rock.pkl\n",
            "80 ./genres/rock/rock.00092.au 240107 0.0 0.99999994\n",
            "./output/train/80rock.pkl\n",
            "81 ./genres/rock/rock.00099.au 240107 0.0 1.0\n",
            "./output/train/81rock.pkl\n",
            "82 ./genres/rock/rock.00003.au 240107 0.0 1.0000001\n",
            "./output/train/82rock.pkl\n",
            "83 ./genres/rock/rock.00047.au 240107 -0.0 0.9999999\n",
            "./output/train/83rock.pkl\n",
            "84 ./genres/rock/rock.00062.au 240107 0.0 1.0000001\n",
            "./output/train/84rock.pkl\n",
            "85 ./genres/rock/rock.00056.au 240107 -0.0 0.99999994\n",
            "./output/train/85rock.pkl\n",
            "86 ./genres/rock/rock.00063.au 240107 -0.0 1.0\n",
            "./output/train/86rock.pkl\n",
            "87 ./genres/rock/rock.00069.au 240107 0.0 1.0\n",
            "./output/train/87rock.pkl\n",
            "88 ./genres/rock/rock.00022.au 240107 0.0 1.0\n",
            "./output/train/88rock.pkl\n",
            "89 ./genres/rock/rock.00036.au 242330 -0.0 1.0\n",
            "./output/train/89rock.pkl\n",
            "90 ./genres/rock/rock.00030.au 240107 -0.0 0.99999994\n",
            "./output/train/90rock.pkl\n",
            "91 ./genres/rock/rock.00087.au 240107 -0.0 0.99999994\n",
            "./output/train/91rock.pkl\n",
            "92 ./genres/rock/rock.00094.au 240107 0.0 1.0\n",
            "./output/train/92rock.pkl\n",
            "93 ./genres/rock/rock.00015.au 240107 -0.0 0.99999994\n",
            "./output/train/93rock.pkl\n",
            "94 ./genres/rock/rock.00025.au 240107 0.0 1.0000001\n",
            "./output/train/94rock.pkl\n",
            "95 ./genres/rock/rock.00070.au 240107 0.0 1.0\n",
            "./output/train/95rock.pkl\n",
            "96 ./genres/rock/rock.00089.au 240107 0.0 1.0\n",
            "./output/train/96rock.pkl\n",
            "97 ./genres/rock/rock.00086.au 240107 0.0 1.0\n",
            "./output/train/97rock.pkl\n",
            "98 ./genres/rock/rock.00046.au 240107 -0.0 0.99999994\n",
            "./output/train/98rock.pkl\n",
            "99 ./genres/rock/rock.00017.au 240107 -0.0 0.99999994\n",
            "./output/train/99rock.pkl\n"
          ]
        }
      ],
      "source": [
        "convert_data()"
      ]
    },
    {
      "cell_type": "code",
      "source": [
        "\n"
      ],
      "metadata": {
        "id": "yvnbcl4VSfu8"
      },
      "execution_count": 12,
      "outputs": []
    },
    {
      "cell_type": "markdown",
      "source": [],
      "metadata": {
        "id": "PDNZ0LOQTeb5"
      }
    },
    {
      "cell_type": "code",
      "execution_count": 13,
      "metadata": {
        "id": "TZljH6seRaWy"
      },
      "outputs": [],
      "source": [
        "from tensorflow.keras.callbacks import ReduceLROnPlateau\n",
        "from tensorflow.keras.utils import to_categorical\n",
        "import tensorflow.keras.backend as K\n",
        "from tensorflow.keras import regularizers\n",
        "from tensorflow.keras.layers import Lambda,Conv1D, MaxPooling1D,Activation, Dense,BatchNormalization\n",
        "\n",
        "from tensorflow.keras.models import Sequential\n",
        "import numpy as np\n",
        "import pickle\n",
        "import os\n",
        "from glob import glob"
      ]
    },
    {
      "cell_type": "code",
      "execution_count": 14,
      "metadata": {
        "id": "KOCKY3tYSnRr"
      },
      "outputs": [],
      "source": [
        "AUDIO_LENGTH = 10000\n",
        "OUTPUT_DIR = './output'\n",
        "OUTPUT_DIR_TRAIN = os.path.join(OUTPUT_DIR, 'train')\n",
        "OUTPUT_DIR_TEST = os.path.join(OUTPUT_DIR, 'test')"
      ]
    },
    {
      "cell_type": "code",
      "execution_count": 15,
      "metadata": {
        "id": "ZJH3dqwSTwWI"
      },
      "outputs": [],
      "source": [
        "def m5(num_classes=5):\n",
        "    print('Using Model M5')\n",
        "    m = Sequential()\n",
        "    m.add(Conv1D(128,\n",
        "                 input_shape=[AUDIO_LENGTH, 1],\n",
        "                 kernel_size=80,\n",
        "                 strides=4,\n",
        "                 padding='same',\n",
        "                 kernel_initializer='glorot_uniform',\n",
        "                 kernel_regularizer=regularizers.l2(l=0.0001)))\n",
        "    m.add(BatchNormalization())\n",
        "    m.add(Activation('relu'))\n",
        "    m.add(MaxPooling1D(pool_size=4, strides=None))\n",
        "    m.add(Conv1D(128,\n",
        "                 kernel_size=3,\n",
        "                 strides=1,\n",
        "                 padding='same',\n",
        "                 kernel_initializer='glorot_uniform',\n",
        "                 kernel_regularizer=regularizers.l2(l=0.0001)))\n",
        "    m.add(BatchNormalization())\n",
        "    m.add(Activation('relu'))\n",
        "    m.add(MaxPooling1D(pool_size=4, strides=None))\n",
        "    m.add(Conv1D(256,\n",
        "                 kernel_size=3,\n",
        "                 strides=1,\n",
        "                 padding='same',\n",
        "                 kernel_initializer='glorot_uniform',\n",
        "                 kernel_regularizer=regularizers.l2(l=0.0001)))\n",
        "    m.add(BatchNormalization())\n",
        "    m.add(Activation('relu'))\n",
        "    m.add(MaxPooling1D(pool_size=4, strides=None))\n",
        "    m.add(Conv1D(512,\n",
        "                 kernel_size=3,\n",
        "                 strides=1,\n",
        "                 padding='same',\n",
        "                 kernel_initializer='glorot_uniform',\n",
        "                 kernel_regularizer=regularizers.l2(l=0.0001)))\n",
        "    m.add(BatchNormalization())\n",
        "    m.add(Activation('relu'))\n",
        "    m.add(MaxPooling1D(pool_size=4, strides=None))\n",
        "    m.add(Lambda(lambda x: K.mean(x, axis=1)))  # Same as GAP for 1D Conv Layer\n",
        "    m.add(Dense(num_classes, activation='softmax'))\n",
        "    return m"
      ]
    },
    {
      "cell_type": "code",
      "execution_count": 16,
      "metadata": {
        "id": "0-PyYnhOT0oZ"
      },
      "outputs": [],
      "source": [
        "def get_data(file_list):\n",
        "    def load_into(_filename, _x, _y):\n",
        "        #print(_filename)\n",
        "        with open(_filename, 'rb') as f:\n",
        "            audio_element = pickle.load(f)\n",
        "            _x.append(audio_element['audio'])\n",
        "            _y.append(int(audio_element['class_id']))\n",
        "\n",
        "    x, y = [], []\n",
        "    for filename in file_list:\n",
        "        load_into(filename, x, y)\n",
        "    return np.array(x), np.array(y)"
      ]
    },
    {
      "cell_type": "code",
      "source": [
        "#glob(os.path.join(OUTPUT_DIR_TRAIN, '**.pkl'))"
      ],
      "metadata": {
        "id": "Nx7Ye1hqyxYM"
      },
      "execution_count": 17,
      "outputs": []
    },
    {
      "cell_type": "code",
      "source": [
        "num_classes = len(audio_Class)\n",
        "model = m5(num_classes=num_classes)\n",
        "\n",
        "if model is None:\n",
        "    exit('Something went wrong!!')\n",
        "\n",
        "model.compile(optimizer='adam',\n",
        "              loss='categorical_crossentropy',\n",
        "              metrics=['accuracy'])\n",
        "print(model.summary())"
      ],
      "metadata": {
        "colab": {
          "base_uri": "https://localhost:8080/"
        },
        "id": "ayN2Kb0tsO3Y",
        "outputId": "1f36d777-9cd2-4a8c-9c7f-ddb46b130f93"
      },
      "execution_count": 18,
      "outputs": [
        {
          "output_type": "stream",
          "name": "stdout",
          "text": [
            "Using Model M5\n",
            "Model: \"sequential\"\n",
            "_________________________________________________________________\n",
            " Layer (type)                Output Shape              Param #   \n",
            "=================================================================\n",
            " conv1d (Conv1D)             (None, 2500, 128)         10368     \n",
            "                                                                 \n",
            " batch_normalization (BatchN  (None, 2500, 128)        512       \n",
            " ormalization)                                                   \n",
            "                                                                 \n",
            " activation (Activation)     (None, 2500, 128)         0         \n",
            "                                                                 \n",
            " max_pooling1d (MaxPooling1D  (None, 625, 128)         0         \n",
            " )                                                               \n",
            "                                                                 \n",
            " conv1d_1 (Conv1D)           (None, 625, 128)          49280     \n",
            "                                                                 \n",
            " batch_normalization_1 (Batc  (None, 625, 128)         512       \n",
            " hNormalization)                                                 \n",
            "                                                                 \n",
            " activation_1 (Activation)   (None, 625, 128)          0         \n",
            "                                                                 \n",
            " max_pooling1d_1 (MaxPooling  (None, 156, 128)         0         \n",
            " 1D)                                                             \n",
            "                                                                 \n",
            " conv1d_2 (Conv1D)           (None, 156, 256)          98560     \n",
            "                                                                 \n",
            " batch_normalization_2 (Batc  (None, 156, 256)         1024      \n",
            " hNormalization)                                                 \n",
            "                                                                 \n",
            " activation_2 (Activation)   (None, 156, 256)          0         \n",
            "                                                                 \n",
            " max_pooling1d_2 (MaxPooling  (None, 39, 256)          0         \n",
            " 1D)                                                             \n",
            "                                                                 \n",
            " conv1d_3 (Conv1D)           (None, 39, 512)           393728    \n",
            "                                                                 \n",
            " batch_normalization_3 (Batc  (None, 39, 512)          2048      \n",
            " hNormalization)                                                 \n",
            "                                                                 \n",
            " activation_3 (Activation)   (None, 39, 512)           0         \n",
            "                                                                 \n",
            " max_pooling1d_3 (MaxPooling  (None, 9, 512)           0         \n",
            " 1D)                                                             \n",
            "                                                                 \n",
            " lambda (Lambda)             (None, 512)               0         \n",
            "                                                                 \n",
            " dense (Dense)               (None, 10)                5130      \n",
            "                                                                 \n",
            "=================================================================\n",
            "Total params: 561,162\n",
            "Trainable params: 559,114\n",
            "Non-trainable params: 2,048\n",
            "_________________________________________________________________\n",
            "None\n"
          ]
        }
      ]
    },
    {
      "cell_type": "code",
      "source": [
        "train_files = glob(os.path.join(OUTPUT_DIR_TRAIN, '**.pkl'))\n",
        "#train_files"
      ],
      "metadata": {
        "id": "CG3QngxjsO6G"
      },
      "execution_count": 19,
      "outputs": []
    },
    {
      "cell_type": "code",
      "source": [
        "x_tr, y_tr = get_data(train_files)"
      ],
      "metadata": {
        "id": "LaOYTRlesO9H"
      },
      "execution_count": 20,
      "outputs": []
    },
    {
      "cell_type": "code",
      "source": [
        "x_tr, x_tr.shape"
      ],
      "metadata": {
        "colab": {
          "base_uri": "https://localhost:8080/"
        },
        "id": "gLZflhVUtYKL",
        "outputId": "5901c458-0473-4f2f-e241-c335c9f9d4af"
      },
      "execution_count": 21,
      "outputs": [
        {
          "output_type": "execute_result",
          "data": {
            "text/plain": [
              "(array([[[-0.2556215 ],\n",
              "         [-0.3030297 ],\n",
              "         [-0.96137387],\n",
              "         ...,\n",
              "         [-3.5525901 ],\n",
              "         [-2.8898184 ],\n",
              "         [-1.9176979 ]],\n",
              " \n",
              "        [[-0.08155504],\n",
              "         [-0.19547135],\n",
              "         [-0.21467946],\n",
              "         ...,\n",
              "         [ 0.5317789 ],\n",
              "         [-0.10659204],\n",
              "         [-0.64437836]],\n",
              " \n",
              "        [[ 0.63584816],\n",
              "         [ 2.258963  ],\n",
              "         [ 1.9075264 ],\n",
              "         ...,\n",
              "         [-0.01018783],\n",
              "         [-0.01857104],\n",
              "         [-0.34945825]],\n",
              " \n",
              "        ...,\n",
              " \n",
              "        [[-0.21481787],\n",
              "         [-1.0771586 ],\n",
              "         [-0.17563266],\n",
              "         ...,\n",
              "         [-0.4751068 ],\n",
              "         [-0.3576234 ],\n",
              "         [-0.37393615]],\n",
              " \n",
              "        [[ 0.36336818],\n",
              "         [-0.9366218 ],\n",
              "         [-0.8664393 ],\n",
              "         ...,\n",
              "         [-0.2811306 ],\n",
              "         [-0.10695738],\n",
              "         [-0.11848165]],\n",
              " \n",
              "        [[-0.2285599 ],\n",
              "         [-0.15716277],\n",
              "         [-0.25670153],\n",
              "         ...,\n",
              "         [-1.0509316 ],\n",
              "         [-0.39651468],\n",
              "         [ 0.44807094]]], dtype=float32),\n",
              " (900, 10000, 1))"
            ]
          },
          "metadata": {},
          "execution_count": 21
        }
      ]
    },
    {
      "cell_type": "code",
      "source": [
        "y_tr, y_tr.shape"
      ],
      "metadata": {
        "colab": {
          "base_uri": "https://localhost:8080/"
        },
        "id": "2qIbW8fktYM1",
        "outputId": "a5a085ea-74f1-458a-a48a-d10cd86c3e54"
      },
      "execution_count": 22,
      "outputs": [
        {
          "output_type": "execute_result",
          "data": {
            "text/plain": [
              "(array([8, 8, 5, 4, 6, 4, 6, 5, 1, 0, 0, 3, 9, 5, 6, 3, 9, 8, 6, 7, 4, 5,\n",
              "        4, 9, 0, 6, 8, 7, 8, 1, 8, 9, 5, 1, 0, 3, 0, 1, 5, 1, 3, 3, 3, 2,\n",
              "        0, 4, 0, 1, 8, 1, 9, 7, 1, 9, 1, 1, 7, 4, 9, 7, 9, 3, 9, 4, 9, 8,\n",
              "        4, 6, 9, 7, 9, 7, 6, 2, 0, 7, 2, 1, 5, 5, 4, 9, 9, 0, 5, 2, 1, 9,\n",
              "        4, 3, 6, 0, 6, 3, 0, 3, 7, 9, 3, 4, 8, 5, 8, 0, 1, 1, 5, 6, 1, 6,\n",
              "        7, 5, 2, 0, 4, 3, 5, 4, 8, 6, 7, 1, 3, 6, 7, 4, 6, 8, 8, 6, 7, 0,\n",
              "        4, 4, 6, 6, 4, 1, 7, 6, 6, 3, 3, 3, 3, 7, 1, 9, 3, 9, 4, 3, 7, 7,\n",
              "        2, 8, 6, 6, 8, 7, 6, 8, 4, 6, 3, 5, 0, 0, 7, 3, 2, 1, 7, 9, 9, 5,\n",
              "        5, 5, 2, 9, 4, 2, 7, 5, 5, 9, 6, 6, 0, 2, 9, 8, 7, 4, 1, 5, 8, 8,\n",
              "        9, 2, 8, 9, 2, 3, 6, 7, 2, 9, 0, 4, 3, 4, 7, 6, 9, 5, 2, 5, 8, 3,\n",
              "        4, 0, 1, 3, 7, 1, 7, 7, 5, 1, 6, 6, 5, 4, 4, 2, 8, 5, 9, 7, 4, 1,\n",
              "        2, 6, 4, 1, 5, 2, 7, 9, 8, 4, 6, 1, 9, 9, 3, 4, 1, 2, 0, 9, 3, 8,\n",
              "        3, 4, 1, 1, 2, 8, 1, 2, 7, 4, 3, 2, 4, 5, 3, 8, 3, 2, 6, 6, 3, 8,\n",
              "        1, 2, 3, 2, 6, 0, 7, 6, 9, 0, 3, 2, 7, 4, 3, 1, 2, 0, 3, 1, 9, 2,\n",
              "        1, 9, 0, 4, 3, 6, 2, 5, 4, 2, 7, 4, 0, 5, 5, 0, 5, 5, 0, 2, 8, 2,\n",
              "        6, 4, 9, 5, 9, 2, 5, 0, 4, 8, 4, 9, 6, 5, 0, 0, 9, 5, 4, 0, 9, 6,\n",
              "        0, 2, 0, 9, 5, 3, 1, 1, 0, 0, 4, 8, 5, 9, 7, 8, 7, 7, 1, 6, 3, 6,\n",
              "        7, 4, 4, 2, 0, 0, 7, 2, 6, 4, 9, 7, 1, 5, 0, 5, 7, 6, 8, 5, 3, 3,\n",
              "        6, 4, 4, 3, 3, 3, 4, 4, 9, 2, 6, 1, 7, 5, 6, 5, 4, 8, 4, 9, 9, 5,\n",
              "        8, 6, 7, 7, 4, 3, 1, 6, 8, 9, 7, 8, 8, 2, 6, 9, 2, 0, 9, 0, 0, 1,\n",
              "        4, 2, 4, 3, 7, 1, 7, 8, 6, 8, 8, 8, 7, 7, 3, 1, 5, 4, 9, 5, 7, 1,\n",
              "        0, 4, 5, 8, 1, 0, 1, 5, 9, 4, 9, 8, 7, 3, 7, 0, 4, 0, 2, 7, 0, 3,\n",
              "        7, 9, 4, 8, 5, 0, 0, 2, 2, 7, 0, 4, 7, 5, 5, 5, 2, 8, 3, 2, 3, 0,\n",
              "        8, 8, 2, 1, 7, 0, 6, 3, 3, 8, 1, 9, 1, 7, 7, 9, 9, 5, 4, 1, 9, 8,\n",
              "        7, 2, 0, 2, 6, 0, 8, 3, 5, 7, 9, 6, 0, 3, 5, 9, 6, 6, 2, 6, 0, 7,\n",
              "        1, 2, 4, 7, 5, 6, 6, 6, 8, 8, 2, 9, 5, 1, 8, 6, 0, 3, 6, 9, 0, 9,\n",
              "        8, 1, 1, 0, 2, 7, 4, 2, 3, 0, 4, 8, 7, 1, 5, 8, 4, 8, 1, 9, 3, 7,\n",
              "        6, 3, 8, 2, 6, 2, 2, 3, 3, 8, 6, 1, 0, 8, 7, 8, 7, 5, 3, 6, 4, 5,\n",
              "        9, 1, 2, 2, 1, 8, 3, 0, 4, 0, 3, 4, 6, 8, 7, 1, 8, 9, 7, 8, 4, 9,\n",
              "        3, 8, 2, 7, 8, 2, 6, 9, 4, 9, 3, 1, 9, 5, 6, 6, 4, 2, 0, 7, 4, 2,\n",
              "        6, 5, 7, 8, 8, 3, 3, 3, 7, 9, 4, 8, 2, 3, 4, 6, 5, 6, 7, 0, 5, 6,\n",
              "        9, 0, 1, 0, 3, 5, 8, 0, 8, 0, 7, 8, 7, 5, 2, 1, 9, 1, 3, 6, 2, 6,\n",
              "        2, 1, 8, 0, 5, 8, 2, 0, 5, 1, 7, 6, 9, 3, 3, 5, 6, 0, 8, 9, 0, 6,\n",
              "        4, 6, 6, 5, 5, 6, 5, 3, 3, 6, 2, 2, 1, 4, 5, 8, 7, 1, 1, 5, 2, 0,\n",
              "        0, 9, 3, 7, 4, 1, 0, 1, 9, 5, 7, 4, 9, 0, 9, 1, 3, 1, 2, 6, 8, 9,\n",
              "        2, 6, 2, 8, 0, 9, 4, 9, 7, 3, 5, 3, 7, 5, 2, 8, 1, 0, 4, 9, 5, 2,\n",
              "        4, 4, 4, 6, 1, 0, 1, 8, 5, 1, 2, 0, 1, 2, 5, 5, 3, 9, 2, 0, 9, 0,\n",
              "        8, 2, 1, 9, 4, 3, 4, 1, 7, 7, 3, 9, 5, 7, 7, 0, 4, 5, 5, 2, 2, 7,\n",
              "        1, 2, 8, 1, 3, 6, 2, 9, 3, 0, 3, 5, 7, 8, 5, 8, 0, 8, 4, 6, 4, 5,\n",
              "        2, 5, 1, 4, 2, 0, 2, 0, 1, 1, 5, 9, 9, 4, 2, 2, 2, 9, 8, 2, 2, 0,\n",
              "        8, 3, 1, 1, 1, 0, 5, 1, 0, 8, 1, 6, 6, 8, 3, 7, 6, 3, 3, 7]),\n",
              " (900,))"
            ]
          },
          "metadata": {},
          "execution_count": 22
        }
      ]
    },
    {
      "cell_type": "code",
      "source": [
        "y_tr = to_categorical(y_tr, num_classes=num_classes)"
      ],
      "metadata": {
        "id": "CAzSWeCYsPAI"
      },
      "execution_count": 23,
      "outputs": []
    },
    {
      "cell_type": "code",
      "source": [
        "test_files = glob(os.path.join(OUTPUT_DIR_TEST, '**.pkl'))\n",
        "x_te, y_te = get_data(test_files)"
      ],
      "metadata": {
        "id": "bVkvACTiscdI"
      },
      "execution_count": 24,
      "outputs": []
    },
    {
      "cell_type": "code",
      "source": [
        "y_te = to_categorical(y_te, num_classes=num_classes)"
      ],
      "metadata": {
        "id": "hEb9z_yoscf8"
      },
      "execution_count": 25,
      "outputs": []
    },
    {
      "cell_type": "code",
      "source": [
        "\n",
        "print('x_tr.shape =', x_tr.shape)\n",
        "print('y_tr.shape =', y_tr.shape)\n",
        "print('x_te.shape =', x_te.shape)\n",
        "print('y_te.shape =', y_te.shape)"
      ],
      "metadata": {
        "colab": {
          "base_uri": "https://localhost:8080/"
        },
        "id": "ApCE7sqSscjE",
        "outputId": "bbcf347f-79f8-48a8-b5ca-a306e4247efa"
      },
      "execution_count": 26,
      "outputs": [
        {
          "output_type": "stream",
          "name": "stdout",
          "text": [
            "x_tr.shape = (900, 10000, 1)\n",
            "y_tr.shape = (900, 10)\n",
            "x_te.shape = (100, 10000, 1)\n",
            "y_te.shape = (100, 10)\n"
          ]
        }
      ]
    },
    {
      "cell_type": "code",
      "source": [
        "# if the accuracy does not increase over 10 epochs, reduce the learning rate by half.\n",
        "reduce_lr = ReduceLROnPlateau(monitor='acc', factor=0.5, patience=10, min_lr=0.0001, verbose=1)\n",
        "batch_size = 128\n",
        "model.fit(x=x_tr,\n",
        "          y=y_tr,\n",
        "          batch_size=batch_size,\n",
        "          epochs=400,\n",
        "          verbose=1,\n",
        "          shuffle=True,\n",
        "          validation_data=(x_te, y_te),\n",
        "          callbacks=[reduce_lr])"
      ],
      "metadata": {
        "colab": {
          "base_uri": "https://localhost:8080/"
        },
        "id": "mmOIYc62scm0",
        "outputId": "f957d59a-a60e-4105-9ef6-11b99d30fde8"
      },
      "execution_count": 27,
      "outputs": [
        {
          "output_type": "stream",
          "name": "stdout",
          "text": [
            "Epoch 1/400\n",
            "8/8 [==============================] - ETA: 0s - loss: 2.3448 - accuracy: 0.2367"
          ]
        },
        {
          "output_type": "stream",
          "name": "stderr",
          "text": [
            "WARNING:tensorflow:Learning rate reduction is conditioned on metric `acc` which is not available. Available metrics are: loss,accuracy,val_loss,val_accuracy,lr\n"
          ]
        },
        {
          "output_type": "stream",
          "name": "stdout",
          "text": [
            "\b\b\b\b\b\b\b\b\b\b\b\b\b\b\b\b\b\b\b\b\b\b\b\b\b\b\b\b\b\b\b\b\b\b\b\b\b\b\b\b\b\b\b\b\b\b\b\b\b\b\b\b\b\b\b\b\b\b\b\b\b\b\b\b\b\b\b\b\b\b\b\b\b\b\b\b\b\b\b\b\r8/8 [==============================] - 16s 170ms/step - loss: 2.3448 - accuracy: 0.2367 - val_loss: 2.3354 - val_accuracy: 0.1400 - lr: 0.0010\n",
            "Epoch 2/400\n",
            "7/8 [=========================>....] - ETA: 0s - loss: 1.8473 - accuracy: 0.3482"
          ]
        },
        {
          "output_type": "stream",
          "name": "stderr",
          "text": [
            "WARNING:tensorflow:Learning rate reduction is conditioned on metric `acc` which is not available. Available metrics are: loss,accuracy,val_loss,val_accuracy,lr\n"
          ]
        },
        {
          "output_type": "stream",
          "name": "stdout",
          "text": [
            "\b\b\b\b\b\b\b\b\b\b\b\b\b\b\b\b\b\b\b\b\b\b\b\b\b\b\b\b\b\b\b\b\b\b\b\b\b\b\b\b\b\b\b\b\b\b\b\b\b\b\b\b\b\b\b\b\b\b\b\b\b\b\b\b\b\b\b\b\b\b\b\b\b\b\b\b\b\b\b\b\r8/8 [==============================] - 1s 79ms/step - loss: 1.8462 - accuracy: 0.3489 - val_loss: 2.2825 - val_accuracy: 0.2300 - lr: 0.0010\n",
            "Epoch 3/400\n",
            "7/8 [=========================>....] - ETA: 0s - loss: 1.6774 - accuracy: 0.4252"
          ]
        },
        {
          "output_type": "stream",
          "name": "stderr",
          "text": [
            "WARNING:tensorflow:Learning rate reduction is conditioned on metric `acc` which is not available. Available metrics are: loss,accuracy,val_loss,val_accuracy,lr\n"
          ]
        },
        {
          "output_type": "stream",
          "name": "stdout",
          "text": [
            "\b\b\b\b\b\b\b\b\b\b\b\b\b\b\b\b\b\b\b\b\b\b\b\b\b\b\b\b\b\b\b\b\b\b\b\b\b\b\b\b\b\b\b\b\b\b\b\b\b\b\b\b\b\b\b\b\b\b\b\b\b\b\b\b\b\b\b\b\b\b\b\b\b\b\b\b\b\b\b\b\r8/8 [==============================] - 1s 78ms/step - loss: 1.6780 - accuracy: 0.4244 - val_loss: 2.2377 - val_accuracy: 0.2900 - lr: 0.0010\n",
            "Epoch 4/400\n",
            "7/8 [=========================>....] - ETA: 0s - loss: 1.5785 - accuracy: 0.4621"
          ]
        },
        {
          "output_type": "stream",
          "name": "stderr",
          "text": [
            "WARNING:tensorflow:Learning rate reduction is conditioned on metric `acc` which is not available. Available metrics are: loss,accuracy,val_loss,val_accuracy,lr\n"
          ]
        },
        {
          "output_type": "stream",
          "name": "stdout",
          "text": [
            "\b\b\b\b\b\b\b\b\b\b\b\b\b\b\b\b\b\b\b\b\b\b\b\b\b\b\b\b\b\b\b\b\b\b\b\b\b\b\b\b\b\b\b\b\b\b\b\b\b\b\b\b\b\b\b\b\b\b\b\b\b\b\b\b\b\b\b\b\b\b\b\b\b\b\b\b\b\b\b\b\r8/8 [==============================] - 1s 78ms/step - loss: 1.5826 - accuracy: 0.4611 - val_loss: 2.2740 - val_accuracy: 0.2400 - lr: 0.0010\n",
            "Epoch 5/400\n",
            "7/8 [=========================>....] - ETA: 0s - loss: 1.5190 - accuracy: 0.4766"
          ]
        },
        {
          "output_type": "stream",
          "name": "stderr",
          "text": [
            "WARNING:tensorflow:Learning rate reduction is conditioned on metric `acc` which is not available. Available metrics are: loss,accuracy,val_loss,val_accuracy,lr\n"
          ]
        },
        {
          "output_type": "stream",
          "name": "stdout",
          "text": [
            "\b\b\b\b\b\b\b\b\b\b\b\b\b\b\b\b\b\b\b\b\b\b\b\b\b\b\b\b\b\b\b\b\b\b\b\b\b\b\b\b\b\b\b\b\b\b\b\b\b\b\b\b\b\b\b\b\b\b\b\b\b\b\b\b\b\b\b\b\b\b\b\b\b\b\b\b\b\b\b\b\r8/8 [==============================] - 1s 78ms/step - loss: 1.5205 - accuracy: 0.4756 - val_loss: 2.3042 - val_accuracy: 0.1700 - lr: 0.0010\n",
            "Epoch 6/400\n",
            "7/8 [=========================>....] - ETA: 0s - loss: 1.4491 - accuracy: 0.4922"
          ]
        },
        {
          "output_type": "stream",
          "name": "stderr",
          "text": [
            "WARNING:tensorflow:Learning rate reduction is conditioned on metric `acc` which is not available. Available metrics are: loss,accuracy,val_loss,val_accuracy,lr\n"
          ]
        },
        {
          "output_type": "stream",
          "name": "stdout",
          "text": [
            "\b\b\b\b\b\b\b\b\b\b\b\b\b\b\b\b\b\b\b\b\b\b\b\b\b\b\b\b\b\b\b\b\b\b\b\b\b\b\b\b\b\b\b\b\b\b\b\b\b\b\b\b\b\b\b\b\b\b\b\b\b\b\b\b\b\b\b\b\b\b\b\b\b\b\b\b\b\b\b\b\r8/8 [==============================] - 1s 78ms/step - loss: 1.4489 - accuracy: 0.4933 - val_loss: 2.3591 - val_accuracy: 0.1700 - lr: 0.0010\n",
            "Epoch 7/400\n",
            "7/8 [=========================>....] - ETA: 0s - loss: 1.4744 - accuracy: 0.4911"
          ]
        },
        {
          "output_type": "stream",
          "name": "stderr",
          "text": [
            "WARNING:tensorflow:Learning rate reduction is conditioned on metric `acc` which is not available. Available metrics are: loss,accuracy,val_loss,val_accuracy,lr\n"
          ]
        },
        {
          "output_type": "stream",
          "name": "stdout",
          "text": [
            "\b\b\b\b\b\b\b\b\b\b\b\b\b\b\b\b\b\b\b\b\b\b\b\b\b\b\b\b\b\b\b\b\b\b\b\b\b\b\b\b\b\b\b\b\b\b\b\b\b\b\b\b\b\b\b\b\b\b\b\b\b\b\b\b\b\b\b\b\b\b\b\b\b\b\b\b\b\b\b\b\r8/8 [==============================] - 1s 81ms/step - loss: 1.4794 - accuracy: 0.4900 - val_loss: 2.4900 - val_accuracy: 0.2500 - lr: 0.0010\n",
            "Epoch 8/400\n",
            "7/8 [=========================>....] - ETA: 0s - loss: 1.2892 - accuracy: 0.5837"
          ]
        },
        {
          "output_type": "stream",
          "name": "stderr",
          "text": [
            "WARNING:tensorflow:Learning rate reduction is conditioned on metric `acc` which is not available. Available metrics are: loss,accuracy,val_loss,val_accuracy,lr\n"
          ]
        },
        {
          "output_type": "stream",
          "name": "stdout",
          "text": [
            "\b\b\b\b\b\b\b\b\b\b\b\b\b\b\b\b\b\b\b\b\b\b\b\b\b\b\b\b\b\b\b\b\b\b\b\b\b\b\b\b\b\b\b\b\b\b\b\b\b\b\b\b\b\b\b\b\b\b\b\b\b\b\b\b\b\b\b\b\b\b\b\b\b\b\b\b\b\b\b\b\r8/8 [==============================] - 1s 85ms/step - loss: 1.2921 - accuracy: 0.5822 - val_loss: 2.6491 - val_accuracy: 0.1700 - lr: 0.0010\n",
            "Epoch 9/400\n",
            "7/8 [=========================>....] - ETA: 0s - loss: 1.3417 - accuracy: 0.5480"
          ]
        },
        {
          "output_type": "stream",
          "name": "stderr",
          "text": [
            "WARNING:tensorflow:Learning rate reduction is conditioned on metric `acc` which is not available. Available metrics are: loss,accuracy,val_loss,val_accuracy,lr\n"
          ]
        },
        {
          "output_type": "stream",
          "name": "stdout",
          "text": [
            "\b\b\b\b\b\b\b\b\b\b\b\b\b\b\b\b\b\b\b\b\b\b\b\b\b\b\b\b\b\b\b\b\b\b\b\b\b\b\b\b\b\b\b\b\b\b\b\b\b\b\b\b\b\b\b\b\b\b\b\b\b\b\b\b\b\b\b\b\b\b\b\b\b\b\b\b\b\b\b\b\r8/8 [==============================] - 1s 84ms/step - loss: 1.3487 - accuracy: 0.5467 - val_loss: 2.7191 - val_accuracy: 0.1900 - lr: 0.0010\n",
            "Epoch 10/400\n",
            "7/8 [=========================>....] - ETA: 0s - loss: 1.4412 - accuracy: 0.5435"
          ]
        },
        {
          "output_type": "stream",
          "name": "stderr",
          "text": [
            "WARNING:tensorflow:Learning rate reduction is conditioned on metric `acc` which is not available. Available metrics are: loss,accuracy,val_loss,val_accuracy,lr\n"
          ]
        },
        {
          "output_type": "stream",
          "name": "stdout",
          "text": [
            "\b\b\b\b\b\b\b\b\b\b\b\b\b\b\b\b\b\b\b\b\b\b\b\b\b\b\b\b\b\b\b\b\b\b\b\b\b\b\b\b\b\b\b\b\b\b\b\b\b\b\b\b\b\b\b\b\b\b\b\b\b\b\b\b\b\b\b\b\b\b\b\b\b\b\b\b\b\b\b\b\r8/8 [==============================] - 1s 89ms/step - loss: 1.4412 - accuracy: 0.5433 - val_loss: 2.5252 - val_accuracy: 0.1900 - lr: 0.0010\n",
            "Epoch 11/400\n",
            "7/8 [=========================>....] - ETA: 0s - loss: 1.3927 - accuracy: 0.5223"
          ]
        },
        {
          "output_type": "stream",
          "name": "stderr",
          "text": [
            "WARNING:tensorflow:Learning rate reduction is conditioned on metric `acc` which is not available. Available metrics are: loss,accuracy,val_loss,val_accuracy,lr\n"
          ]
        },
        {
          "output_type": "stream",
          "name": "stdout",
          "text": [
            "\b\b\b\b\b\b\b\b\b\b\b\b\b\b\b\b\b\b\b\b\b\b\b\b\b\b\b\b\b\b\b\b\b\b\b\b\b\b\b\b\b\b\b\b\b\b\b\b\b\b\b\b\b\b\b\b\b\b\b\b\b\b\b\b\b\b\b\b\b\b\b\b\b\b\b\b\b\b\b\b\r8/8 [==============================] - 1s 85ms/step - loss: 1.3947 - accuracy: 0.5222 - val_loss: 2.5334 - val_accuracy: 0.2400 - lr: 0.0010\n",
            "Epoch 12/400\n",
            "7/8 [=========================>....] - ETA: 0s - loss: 1.2920 - accuracy: 0.5781"
          ]
        },
        {
          "output_type": "stream",
          "name": "stderr",
          "text": [
            "WARNING:tensorflow:Learning rate reduction is conditioned on metric `acc` which is not available. Available metrics are: loss,accuracy,val_loss,val_accuracy,lr\n"
          ]
        },
        {
          "output_type": "stream",
          "name": "stdout",
          "text": [
            "\b\b\b\b\b\b\b\b\b\b\b\b\b\b\b\b\b\b\b\b\b\b\b\b\b\b\b\b\b\b\b\b\b\b\b\b\b\b\b\b\b\b\b\b\b\b\b\b\b\b\b\b\b\b\b\b\b\b\b\b\b\b\b\b\b\b\b\b\b\b\b\b\b\b\b\b\b\b\b\b\r8/8 [==============================] - 1s 78ms/step - loss: 1.2908 - accuracy: 0.5789 - val_loss: 2.4989 - val_accuracy: 0.2600 - lr: 0.0010\n",
            "Epoch 13/400\n",
            "7/8 [=========================>....] - ETA: 0s - loss: 1.2063 - accuracy: 0.6138"
          ]
        },
        {
          "output_type": "stream",
          "name": "stderr",
          "text": [
            "WARNING:tensorflow:Learning rate reduction is conditioned on metric `acc` which is not available. Available metrics are: loss,accuracy,val_loss,val_accuracy,lr\n"
          ]
        },
        {
          "output_type": "stream",
          "name": "stdout",
          "text": [
            "\b\b\b\b\b\b\b\b\b\b\b\b\b\b\b\b\b\b\b\b\b\b\b\b\b\b\b\b\b\b\b\b\b\b\b\b\b\b\b\b\b\b\b\b\b\b\b\b\b\b\b\b\b\b\b\b\b\b\b\b\b\b\b\b\b\b\b\b\b\b\b\b\b\b\b\b\b\b\b\b\r8/8 [==============================] - 1s 79ms/step - loss: 1.2100 - accuracy: 0.6122 - val_loss: 2.6574 - val_accuracy: 0.1700 - lr: 0.0010\n",
            "Epoch 14/400\n",
            "7/8 [=========================>....] - ETA: 0s - loss: 1.2150 - accuracy: 0.5915"
          ]
        },
        {
          "output_type": "stream",
          "name": "stderr",
          "text": [
            "WARNING:tensorflow:Learning rate reduction is conditioned on metric `acc` which is not available. Available metrics are: loss,accuracy,val_loss,val_accuracy,lr\n"
          ]
        },
        {
          "output_type": "stream",
          "name": "stdout",
          "text": [
            "\b\b\b\b\b\b\b\b\b\b\b\b\b\b\b\b\b\b\b\b\b\b\b\b\b\b\b\b\b\b\b\b\b\b\b\b\b\b\b\b\b\b\b\b\b\b\b\b\b\b\b\b\b\b\b\b\b\b\b\b\b\b\b\b\b\b\b\b\b\b\b\b\b\b\b\b\b\b\b\b\r8/8 [==============================] - 1s 85ms/step - loss: 1.2143 - accuracy: 0.5911 - val_loss: 2.7204 - val_accuracy: 0.1600 - lr: 0.0010\n",
            "Epoch 15/400\n",
            "7/8 [=========================>....] - ETA: 0s - loss: 1.1169 - accuracy: 0.6362"
          ]
        },
        {
          "output_type": "stream",
          "name": "stderr",
          "text": [
            "WARNING:tensorflow:Learning rate reduction is conditioned on metric `acc` which is not available. Available metrics are: loss,accuracy,val_loss,val_accuracy,lr\n"
          ]
        },
        {
          "output_type": "stream",
          "name": "stdout",
          "text": [
            "\b\b\b\b\b\b\b\b\b\b\b\b\b\b\b\b\b\b\b\b\b\b\b\b\b\b\b\b\b\b\b\b\b\b\b\b\b\b\b\b\b\b\b\b\b\b\b\b\b\b\b\b\b\b\b\b\b\b\b\b\b\b\b\b\b\b\b\b\b\b\b\b\b\b\b\b\b\b\b\b\r8/8 [==============================] - 1s 80ms/step - loss: 1.1180 - accuracy: 0.6356 - val_loss: 2.8531 - val_accuracy: 0.1500 - lr: 0.0010\n",
            "Epoch 16/400\n",
            "7/8 [=========================>....] - ETA: 0s - loss: 1.1257 - accuracy: 0.6429"
          ]
        },
        {
          "output_type": "stream",
          "name": "stderr",
          "text": [
            "WARNING:tensorflow:Learning rate reduction is conditioned on metric `acc` which is not available. Available metrics are: loss,accuracy,val_loss,val_accuracy,lr\n"
          ]
        },
        {
          "output_type": "stream",
          "name": "stdout",
          "text": [
            "\b\b\b\b\b\b\b\b\b\b\b\b\b\b\b\b\b\b\b\b\b\b\b\b\b\b\b\b\b\b\b\b\b\b\b\b\b\b\b\b\b\b\b\b\b\b\b\b\b\b\b\b\b\b\b\b\b\b\b\b\b\b\b\b\b\b\b\b\b\b\b\b\b\b\b\b\b\b\b\b\r8/8 [==============================] - 1s 78ms/step - loss: 1.1276 - accuracy: 0.6433 - val_loss: 2.6628 - val_accuracy: 0.1600 - lr: 0.0010\n",
            "Epoch 17/400\n",
            "7/8 [=========================>....] - ETA: 0s - loss: 1.1812 - accuracy: 0.6295"
          ]
        },
        {
          "output_type": "stream",
          "name": "stderr",
          "text": [
            "WARNING:tensorflow:Learning rate reduction is conditioned on metric `acc` which is not available. Available metrics are: loss,accuracy,val_loss,val_accuracy,lr\n"
          ]
        },
        {
          "output_type": "stream",
          "name": "stdout",
          "text": [
            "\b\b\b\b\b\b\b\b\b\b\b\b\b\b\b\b\b\b\b\b\b\b\b\b\b\b\b\b\b\b\b\b\b\b\b\b\b\b\b\b\b\b\b\b\b\b\b\b\b\b\b\b\b\b\b\b\b\b\b\b\b\b\b\b\b\b\b\b\b\b\b\b\b\b\b\b\b\b\b\b\r8/8 [==============================] - 1s 80ms/step - loss: 1.1862 - accuracy: 0.6289 - val_loss: 2.2647 - val_accuracy: 0.2400 - lr: 0.0010\n",
            "Epoch 18/400\n",
            "7/8 [=========================>....] - ETA: 0s - loss: 1.1825 - accuracy: 0.6272"
          ]
        },
        {
          "output_type": "stream",
          "name": "stderr",
          "text": [
            "WARNING:tensorflow:Learning rate reduction is conditioned on metric `acc` which is not available. Available metrics are: loss,accuracy,val_loss,val_accuracy,lr\n"
          ]
        },
        {
          "output_type": "stream",
          "name": "stdout",
          "text": [
            "\b\b\b\b\b\b\b\b\b\b\b\b\b\b\b\b\b\b\b\b\b\b\b\b\b\b\b\b\b\b\b\b\b\b\b\b\b\b\b\b\b\b\b\b\b\b\b\b\b\b\b\b\b\b\b\b\b\b\b\b\b\b\b\b\b\b\b\b\b\b\b\b\b\b\b\b\b\b\b\b\r8/8 [==============================] - 1s 79ms/step - loss: 1.1865 - accuracy: 0.6256 - val_loss: 2.4838 - val_accuracy: 0.1600 - lr: 0.0010\n",
            "Epoch 19/400\n",
            "7/8 [=========================>....] - ETA: 0s - loss: 1.0404 - accuracy: 0.6730"
          ]
        },
        {
          "output_type": "stream",
          "name": "stderr",
          "text": [
            "WARNING:tensorflow:Learning rate reduction is conditioned on metric `acc` which is not available. Available metrics are: loss,accuracy,val_loss,val_accuracy,lr\n"
          ]
        },
        {
          "output_type": "stream",
          "name": "stdout",
          "text": [
            "\b\b\b\b\b\b\b\b\b\b\b\b\b\b\b\b\b\b\b\b\b\b\b\b\b\b\b\b\b\b\b\b\b\b\b\b\b\b\b\b\b\b\b\b\b\b\b\b\b\b\b\b\b\b\b\b\b\b\b\b\b\b\b\b\b\b\b\b\b\b\b\b\b\b\b\b\b\b\b\b\r8/8 [==============================] - 1s 79ms/step - loss: 1.0394 - accuracy: 0.6733 - val_loss: 2.6015 - val_accuracy: 0.1100 - lr: 0.0010\n",
            "Epoch 20/400\n",
            "7/8 [=========================>....] - ETA: 0s - loss: 0.9664 - accuracy: 0.7132"
          ]
        },
        {
          "output_type": "stream",
          "name": "stderr",
          "text": [
            "WARNING:tensorflow:Learning rate reduction is conditioned on metric `acc` which is not available. Available metrics are: loss,accuracy,val_loss,val_accuracy,lr\n"
          ]
        },
        {
          "output_type": "stream",
          "name": "stdout",
          "text": [
            "\b\b\b\b\b\b\b\b\b\b\b\b\b\b\b\b\b\b\b\b\b\b\b\b\b\b\b\b\b\b\b\b\b\b\b\b\b\b\b\b\b\b\b\b\b\b\b\b\b\b\b\b\b\b\b\b\b\b\b\b\b\b\b\b\b\b\b\b\b\b\b\b\b\b\b\b\b\b\b\b\r8/8 [==============================] - 1s 79ms/step - loss: 0.9688 - accuracy: 0.7111 - val_loss: 2.8155 - val_accuracy: 0.1600 - lr: 0.0010\n",
            "Epoch 21/400\n",
            "7/8 [=========================>....] - ETA: 0s - loss: 1.0133 - accuracy: 0.6752"
          ]
        },
        {
          "output_type": "stream",
          "name": "stderr",
          "text": [
            "WARNING:tensorflow:Learning rate reduction is conditioned on metric `acc` which is not available. Available metrics are: loss,accuracy,val_loss,val_accuracy,lr\n"
          ]
        },
        {
          "output_type": "stream",
          "name": "stdout",
          "text": [
            "\b\b\b\b\b\b\b\b\b\b\b\b\b\b\b\b\b\b\b\b\b\b\b\b\b\b\b\b\b\b\b\b\b\b\b\b\b\b\b\b\b\b\b\b\b\b\b\b\b\b\b\b\b\b\b\b\b\b\b\b\b\b\b\b\b\b\b\b\b\b\b\b\b\b\b\b\b\b\b\b\r8/8 [==============================] - 1s 81ms/step - loss: 1.0151 - accuracy: 0.6744 - val_loss: 2.9613 - val_accuracy: 0.1500 - lr: 0.0010\n",
            "Epoch 22/400\n",
            "7/8 [=========================>....] - ETA: 0s - loss: 0.9325 - accuracy: 0.7199"
          ]
        },
        {
          "output_type": "stream",
          "name": "stderr",
          "text": [
            "WARNING:tensorflow:Learning rate reduction is conditioned on metric `acc` which is not available. Available metrics are: loss,accuracy,val_loss,val_accuracy,lr\n"
          ]
        },
        {
          "output_type": "stream",
          "name": "stdout",
          "text": [
            "\b\b\b\b\b\b\b\b\b\b\b\b\b\b\b\b\b\b\b\b\b\b\b\b\b\b\b\b\b\b\b\b\b\b\b\b\b\b\b\b\b\b\b\b\b\b\b\b\b\b\b\b\b\b\b\b\b\b\b\b\b\b\b\b\b\b\b\b\b\b\b\b\b\b\b\b\b\b\b\b\r8/8 [==============================] - 1s 84ms/step - loss: 0.9323 - accuracy: 0.7200 - val_loss: 2.7063 - val_accuracy: 0.1400 - lr: 0.0010\n",
            "Epoch 23/400\n",
            "7/8 [=========================>....] - ETA: 0s - loss: 0.9069 - accuracy: 0.7277"
          ]
        },
        {
          "output_type": "stream",
          "name": "stderr",
          "text": [
            "WARNING:tensorflow:Learning rate reduction is conditioned on metric `acc` which is not available. Available metrics are: loss,accuracy,val_loss,val_accuracy,lr\n"
          ]
        },
        {
          "output_type": "stream",
          "name": "stdout",
          "text": [
            "\b\b\b\b\b\b\b\b\b\b\b\b\b\b\b\b\b\b\b\b\b\b\b\b\b\b\b\b\b\b\b\b\b\b\b\b\b\b\b\b\b\b\b\b\b\b\b\b\b\b\b\b\b\b\b\b\b\b\b\b\b\b\b\b\b\b\b\b\b\b\b\b\b\b\b\b\b\b\b\b\r8/8 [==============================] - 1s 79ms/step - loss: 0.9068 - accuracy: 0.7278 - val_loss: 2.3997 - val_accuracy: 0.2300 - lr: 0.0010\n",
            "Epoch 24/400\n",
            "7/8 [=========================>....] - ETA: 0s - loss: 0.8295 - accuracy: 0.7533"
          ]
        },
        {
          "output_type": "stream",
          "name": "stderr",
          "text": [
            "WARNING:tensorflow:Learning rate reduction is conditioned on metric `acc` which is not available. Available metrics are: loss,accuracy,val_loss,val_accuracy,lr\n"
          ]
        },
        {
          "output_type": "stream",
          "name": "stdout",
          "text": [
            "\b\b\b\b\b\b\b\b\b\b\b\b\b\b\b\b\b\b\b\b\b\b\b\b\b\b\b\b\b\b\b\b\b\b\b\b\b\b\b\b\b\b\b\b\b\b\b\b\b\b\b\b\b\b\b\b\b\b\b\b\b\b\b\b\b\b\b\b\b\b\b\b\b\b\b\b\b\b\b\b\r8/8 [==============================] - 1s 79ms/step - loss: 0.8320 - accuracy: 0.7522 - val_loss: 3.2165 - val_accuracy: 0.1200 - lr: 0.0010\n",
            "Epoch 25/400\n",
            "7/8 [=========================>....] - ETA: 0s - loss: 0.7461 - accuracy: 0.7969"
          ]
        },
        {
          "output_type": "stream",
          "name": "stderr",
          "text": [
            "WARNING:tensorflow:Learning rate reduction is conditioned on metric `acc` which is not available. Available metrics are: loss,accuracy,val_loss,val_accuracy,lr\n"
          ]
        },
        {
          "output_type": "stream",
          "name": "stdout",
          "text": [
            "\b\b\b\b\b\b\b\b\b\b\b\b\b\b\b\b\b\b\b\b\b\b\b\b\b\b\b\b\b\b\b\b\b\b\b\b\b\b\b\b\b\b\b\b\b\b\b\b\b\b\b\b\b\b\b\b\b\b\b\b\b\b\b\b\b\b\b\b\b\b\b\b\b\b\b\b\b\b\b\b\r8/8 [==============================] - 1s 80ms/step - loss: 0.7448 - accuracy: 0.7978 - val_loss: 2.4137 - val_accuracy: 0.2000 - lr: 0.0010\n",
            "Epoch 26/400\n",
            "7/8 [=========================>....] - ETA: 0s - loss: 0.7020 - accuracy: 0.8170"
          ]
        },
        {
          "output_type": "stream",
          "name": "stderr",
          "text": [
            "WARNING:tensorflow:Learning rate reduction is conditioned on metric `acc` which is not available. Available metrics are: loss,accuracy,val_loss,val_accuracy,lr\n"
          ]
        },
        {
          "output_type": "stream",
          "name": "stdout",
          "text": [
            "\b\b\b\b\b\b\b\b\b\b\b\b\b\b\b\b\b\b\b\b\b\b\b\b\b\b\b\b\b\b\b\b\b\b\b\b\b\b\b\b\b\b\b\b\b\b\b\b\b\b\b\b\b\b\b\b\b\b\b\b\b\b\b\b\b\b\b\b\b\b\b\b\b\b\b\b\b\b\b\b\r8/8 [==============================] - 1s 88ms/step - loss: 0.7044 - accuracy: 0.8156 - val_loss: 2.6188 - val_accuracy: 0.2000 - lr: 0.0010\n",
            "Epoch 27/400\n",
            "7/8 [=========================>....] - ETA: 0s - loss: 0.9278 - accuracy: 0.7377"
          ]
        },
        {
          "output_type": "stream",
          "name": "stderr",
          "text": [
            "WARNING:tensorflow:Learning rate reduction is conditioned on metric `acc` which is not available. Available metrics are: loss,accuracy,val_loss,val_accuracy,lr\n"
          ]
        },
        {
          "output_type": "stream",
          "name": "stdout",
          "text": [
            "\b\b\b\b\b\b\b\b\b\b\b\b\b\b\b\b\b\b\b\b\b\b\b\b\b\b\b\b\b\b\b\b\b\b\b\b\b\b\b\b\b\b\b\b\b\b\b\b\b\b\b\b\b\b\b\b\b\b\b\b\b\b\b\b\b\b\b\b\b\b\b\b\b\b\b\b\b\b\b\b\r8/8 [==============================] - 1s 86ms/step - loss: 0.9283 - accuracy: 0.7356 - val_loss: 2.3564 - val_accuracy: 0.2900 - lr: 0.0010\n",
            "Epoch 28/400\n",
            "7/8 [=========================>....] - ETA: 0s - loss: 0.9950 - accuracy: 0.6886"
          ]
        },
        {
          "output_type": "stream",
          "name": "stderr",
          "text": [
            "WARNING:tensorflow:Learning rate reduction is conditioned on metric `acc` which is not available. Available metrics are: loss,accuracy,val_loss,val_accuracy,lr\n"
          ]
        },
        {
          "output_type": "stream",
          "name": "stdout",
          "text": [
            "\b\b\b\b\b\b\b\b\b\b\b\b\b\b\b\b\b\b\b\b\b\b\b\b\b\b\b\b\b\b\b\b\b\b\b\b\b\b\b\b\b\b\b\b\b\b\b\b\b\b\b\b\b\b\b\b\b\b\b\b\b\b\b\b\b\b\b\b\b\b\b\b\b\b\b\b\b\b\b\b\r8/8 [==============================] - 1s 89ms/step - loss: 0.9974 - accuracy: 0.6889 - val_loss: 2.3632 - val_accuracy: 0.2700 - lr: 0.0010\n",
            "Epoch 29/400\n",
            "7/8 [=========================>....] - ETA: 0s - loss: 0.8818 - accuracy: 0.7422"
          ]
        },
        {
          "output_type": "stream",
          "name": "stderr",
          "text": [
            "WARNING:tensorflow:Learning rate reduction is conditioned on metric `acc` which is not available. Available metrics are: loss,accuracy,val_loss,val_accuracy,lr\n"
          ]
        },
        {
          "output_type": "stream",
          "name": "stdout",
          "text": [
            "\b\b\b\b\b\b\b\b\b\b\b\b\b\b\b\b\b\b\b\b\b\b\b\b\b\b\b\b\b\b\b\b\b\b\b\b\b\b\b\b\b\b\b\b\b\b\b\b\b\b\b\b\b\b\b\b\b\b\b\b\b\b\b\b\b\b\b\b\b\b\b\b\b\b\b\b\b\b\b\b\r8/8 [==============================] - 1s 84ms/step - loss: 0.8819 - accuracy: 0.7422 - val_loss: 1.9646 - val_accuracy: 0.4100 - lr: 0.0010\n",
            "Epoch 30/400\n",
            "7/8 [=========================>....] - ETA: 0s - loss: 0.7589 - accuracy: 0.7835"
          ]
        },
        {
          "output_type": "stream",
          "name": "stderr",
          "text": [
            "WARNING:tensorflow:Learning rate reduction is conditioned on metric `acc` which is not available. Available metrics are: loss,accuracy,val_loss,val_accuracy,lr\n"
          ]
        },
        {
          "output_type": "stream",
          "name": "stdout",
          "text": [
            "\b\b\b\b\b\b\b\b\b\b\b\b\b\b\b\b\b\b\b\b\b\b\b\b\b\b\b\b\b\b\b\b\b\b\b\b\b\b\b\b\b\b\b\b\b\b\b\b\b\b\b\b\b\b\b\b\b\b\b\b\b\b\b\b\b\b\b\b\b\b\b\b\b\b\b\b\b\b\b\b\r8/8 [==============================] - 1s 80ms/step - loss: 0.7599 - accuracy: 0.7822 - val_loss: 2.1257 - val_accuracy: 0.4000 - lr: 0.0010\n",
            "Epoch 31/400\n",
            "7/8 [=========================>....] - ETA: 0s - loss: 0.7512 - accuracy: 0.8080"
          ]
        },
        {
          "output_type": "stream",
          "name": "stderr",
          "text": [
            "WARNING:tensorflow:Learning rate reduction is conditioned on metric `acc` which is not available. Available metrics are: loss,accuracy,val_loss,val_accuracy,lr\n"
          ]
        },
        {
          "output_type": "stream",
          "name": "stdout",
          "text": [
            "\b\b\b\b\b\b\b\b\b\b\b\b\b\b\b\b\b\b\b\b\b\b\b\b\b\b\b\b\b\b\b\b\b\b\b\b\b\b\b\b\b\b\b\b\b\b\b\b\b\b\b\b\b\b\b\b\b\b\b\b\b\b\b\b\b\b\b\b\b\b\b\b\b\b\b\b\b\b\b\b\r8/8 [==============================] - 1s 79ms/step - loss: 0.7495 - accuracy: 0.8078 - val_loss: 2.8200 - val_accuracy: 0.2900 - lr: 0.0010\n",
            "Epoch 32/400\n",
            "7/8 [=========================>....] - ETA: 0s - loss: 0.6730 - accuracy: 0.8259"
          ]
        },
        {
          "output_type": "stream",
          "name": "stderr",
          "text": [
            "WARNING:tensorflow:Learning rate reduction is conditioned on metric `acc` which is not available. Available metrics are: loss,accuracy,val_loss,val_accuracy,lr\n"
          ]
        },
        {
          "output_type": "stream",
          "name": "stdout",
          "text": [
            "\b\b\b\b\b\b\b\b\b\b\b\b\b\b\b\b\b\b\b\b\b\b\b\b\b\b\b\b\b\b\b\b\b\b\b\b\b\b\b\b\b\b\b\b\b\b\b\b\b\b\b\b\b\b\b\b\b\b\b\b\b\b\b\b\b\b\b\b\b\b\b\b\b\b\b\b\b\b\b\b\r8/8 [==============================] - 1s 80ms/step - loss: 0.6733 - accuracy: 0.8267 - val_loss: 2.6743 - val_accuracy: 0.2300 - lr: 0.0010\n",
            "Epoch 33/400\n",
            "7/8 [=========================>....] - ETA: 0s - loss: 0.6286 - accuracy: 0.8393"
          ]
        },
        {
          "output_type": "stream",
          "name": "stderr",
          "text": [
            "WARNING:tensorflow:Learning rate reduction is conditioned on metric `acc` which is not available. Available metrics are: loss,accuracy,val_loss,val_accuracy,lr\n"
          ]
        },
        {
          "output_type": "stream",
          "name": "stdout",
          "text": [
            "\b\b\b\b\b\b\b\b\b\b\b\b\b\b\b\b\b\b\b\b\b\b\b\b\b\b\b\b\b\b\b\b\b\b\b\b\b\b\b\b\b\b\b\b\b\b\b\b\b\b\b\b\b\b\b\b\b\b\b\b\b\b\b\b\b\b\b\b\b\b\b\b\b\b\b\b\b\b\b\b\r8/8 [==============================] - 1s 80ms/step - loss: 0.6335 - accuracy: 0.8378 - val_loss: 3.2670 - val_accuracy: 0.2700 - lr: 0.0010\n",
            "Epoch 34/400\n",
            "7/8 [=========================>....] - ETA: 0s - loss: 0.7565 - accuracy: 0.7779"
          ]
        },
        {
          "output_type": "stream",
          "name": "stderr",
          "text": [
            "WARNING:tensorflow:Learning rate reduction is conditioned on metric `acc` which is not available. Available metrics are: loss,accuracy,val_loss,val_accuracy,lr\n"
          ]
        },
        {
          "output_type": "stream",
          "name": "stdout",
          "text": [
            "\b\b\b\b\b\b\b\b\b\b\b\b\b\b\b\b\b\b\b\b\b\b\b\b\b\b\b\b\b\b\b\b\b\b\b\b\b\b\b\b\b\b\b\b\b\b\b\b\b\b\b\b\b\b\b\b\b\b\b\b\b\b\b\b\b\b\b\b\b\b\b\b\b\b\b\b\b\b\b\b\r8/8 [==============================] - 1s 79ms/step - loss: 0.7605 - accuracy: 0.7767 - val_loss: 3.1033 - val_accuracy: 0.2600 - lr: 0.0010\n",
            "Epoch 35/400\n",
            "7/8 [=========================>....] - ETA: 0s - loss: 0.7315 - accuracy: 0.7879"
          ]
        },
        {
          "output_type": "stream",
          "name": "stderr",
          "text": [
            "WARNING:tensorflow:Learning rate reduction is conditioned on metric `acc` which is not available. Available metrics are: loss,accuracy,val_loss,val_accuracy,lr\n"
          ]
        },
        {
          "output_type": "stream",
          "name": "stdout",
          "text": [
            "\b\b\b\b\b\b\b\b\b\b\b\b\b\b\b\b\b\b\b\b\b\b\b\b\b\b\b\b\b\b\b\b\b\b\b\b\b\b\b\b\b\b\b\b\b\b\b\b\b\b\b\b\b\b\b\b\b\b\b\b\b\b\b\b\b\b\b\b\b\b\b\b\b\b\b\b\b\b\b\b\r8/8 [==============================] - 1s 80ms/step - loss: 0.7336 - accuracy: 0.7867 - val_loss: 2.8898 - val_accuracy: 0.2900 - lr: 0.0010\n",
            "Epoch 36/400\n",
            "7/8 [=========================>....] - ETA: 0s - loss: 0.7128 - accuracy: 0.8125"
          ]
        },
        {
          "output_type": "stream",
          "name": "stderr",
          "text": [
            "WARNING:tensorflow:Learning rate reduction is conditioned on metric `acc` which is not available. Available metrics are: loss,accuracy,val_loss,val_accuracy,lr\n"
          ]
        },
        {
          "output_type": "stream",
          "name": "stdout",
          "text": [
            "\b\b\b\b\b\b\b\b\b\b\b\b\b\b\b\b\b\b\b\b\b\b\b\b\b\b\b\b\b\b\b\b\b\b\b\b\b\b\b\b\b\b\b\b\b\b\b\b\b\b\b\b\b\b\b\b\b\b\b\b\b\b\b\b\b\b\b\b\b\b\b\b\b\b\b\b\b\b\b\b\r8/8 [==============================] - 1s 81ms/step - loss: 0.7117 - accuracy: 0.8133 - val_loss: 2.2648 - val_accuracy: 0.3500 - lr: 0.0010\n",
            "Epoch 37/400\n",
            "7/8 [=========================>....] - ETA: 0s - loss: 0.6591 - accuracy: 0.8259"
          ]
        },
        {
          "output_type": "stream",
          "name": "stderr",
          "text": [
            "WARNING:tensorflow:Learning rate reduction is conditioned on metric `acc` which is not available. Available metrics are: loss,accuracy,val_loss,val_accuracy,lr\n"
          ]
        },
        {
          "output_type": "stream",
          "name": "stdout",
          "text": [
            "\b\b\b\b\b\b\b\b\b\b\b\b\b\b\b\b\b\b\b\b\b\b\b\b\b\b\b\b\b\b\b\b\b\b\b\b\b\b\b\b\b\b\b\b\b\b\b\b\b\b\b\b\b\b\b\b\b\b\b\b\b\b\b\b\b\b\b\b\b\b\b\b\b\b\b\b\b\b\b\b\r8/8 [==============================] - 1s 80ms/step - loss: 0.6593 - accuracy: 0.8256 - val_loss: 1.9923 - val_accuracy: 0.4000 - lr: 0.0010\n",
            "Epoch 38/400\n",
            "7/8 [=========================>....] - ETA: 0s - loss: 0.6605 - accuracy: 0.8214"
          ]
        },
        {
          "output_type": "stream",
          "name": "stderr",
          "text": [
            "WARNING:tensorflow:Learning rate reduction is conditioned on metric `acc` which is not available. Available metrics are: loss,accuracy,val_loss,val_accuracy,lr\n"
          ]
        },
        {
          "output_type": "stream",
          "name": "stdout",
          "text": [
            "\b\b\b\b\b\b\b\b\b\b\b\b\b\b\b\b\b\b\b\b\b\b\b\b\b\b\b\b\b\b\b\b\b\b\b\b\b\b\b\b\b\b\b\b\b\b\b\b\b\b\b\b\b\b\b\b\b\b\b\b\b\b\b\b\b\b\b\b\b\b\b\b\b\b\b\b\b\b\b\b\r8/8 [==============================] - 1s 81ms/step - loss: 0.6619 - accuracy: 0.8211 - val_loss: 3.1869 - val_accuracy: 0.2900 - lr: 0.0010\n",
            "Epoch 39/400\n",
            "7/8 [=========================>....] - ETA: 0s - loss: 0.8451 - accuracy: 0.7522"
          ]
        },
        {
          "output_type": "stream",
          "name": "stderr",
          "text": [
            "WARNING:tensorflow:Learning rate reduction is conditioned on metric `acc` which is not available. Available metrics are: loss,accuracy,val_loss,val_accuracy,lr\n"
          ]
        },
        {
          "output_type": "stream",
          "name": "stdout",
          "text": [
            "\b\b\b\b\b\b\b\b\b\b\b\b\b\b\b\b\b\b\b\b\b\b\b\b\b\b\b\b\b\b\b\b\b\b\b\b\b\b\b\b\b\b\b\b\b\b\b\b\b\b\b\b\b\b\b\b\b\b\b\b\b\b\b\b\b\b\b\b\b\b\b\b\b\b\b\b\b\b\b\b\r8/8 [==============================] - 1s 79ms/step - loss: 0.8460 - accuracy: 0.7522 - val_loss: 2.9205 - val_accuracy: 0.2700 - lr: 0.0010\n",
            "Epoch 40/400\n",
            "7/8 [=========================>....] - ETA: 0s - loss: 0.7297 - accuracy: 0.7946"
          ]
        },
        {
          "output_type": "stream",
          "name": "stderr",
          "text": [
            "WARNING:tensorflow:Learning rate reduction is conditioned on metric `acc` which is not available. Available metrics are: loss,accuracy,val_loss,val_accuracy,lr\n"
          ]
        },
        {
          "output_type": "stream",
          "name": "stdout",
          "text": [
            "\b\b\b\b\b\b\b\b\b\b\b\b\b\b\b\b\b\b\b\b\b\b\b\b\b\b\b\b\b\b\b\b\b\b\b\b\b\b\b\b\b\b\b\b\b\b\b\b\b\b\b\b\b\b\b\b\b\b\b\b\b\b\b\b\b\b\b\b\b\b\b\b\b\b\b\b\b\b\b\b\r8/8 [==============================] - 1s 80ms/step - loss: 0.7359 - accuracy: 0.7922 - val_loss: 2.5053 - val_accuracy: 0.3300 - lr: 0.0010\n",
            "Epoch 41/400\n",
            "7/8 [=========================>....] - ETA: 0s - loss: 0.7344 - accuracy: 0.8103"
          ]
        },
        {
          "output_type": "stream",
          "name": "stderr",
          "text": [
            "WARNING:tensorflow:Learning rate reduction is conditioned on metric `acc` which is not available. Available metrics are: loss,accuracy,val_loss,val_accuracy,lr\n"
          ]
        },
        {
          "output_type": "stream",
          "name": "stdout",
          "text": [
            "\b\b\b\b\b\b\b\b\b\b\b\b\b\b\b\b\b\b\b\b\b\b\b\b\b\b\b\b\b\b\b\b\b\b\b\b\b\b\b\b\b\b\b\b\b\b\b\b\b\b\b\b\b\b\b\b\b\b\b\b\b\b\b\b\b\b\b\b\b\b\b\b\b\b\b\b\b\b\b\b\r8/8 [==============================] - 1s 79ms/step - loss: 0.7335 - accuracy: 0.8111 - val_loss: 2.7358 - val_accuracy: 0.3300 - lr: 0.0010\n",
            "Epoch 42/400\n",
            "7/8 [=========================>....] - ETA: 0s - loss: 0.6114 - accuracy: 0.8404"
          ]
        },
        {
          "output_type": "stream",
          "name": "stderr",
          "text": [
            "WARNING:tensorflow:Learning rate reduction is conditioned on metric `acc` which is not available. Available metrics are: loss,accuracy,val_loss,val_accuracy,lr\n"
          ]
        },
        {
          "output_type": "stream",
          "name": "stdout",
          "text": [
            "\b\b\b\b\b\b\b\b\b\b\b\b\b\b\b\b\b\b\b\b\b\b\b\b\b\b\b\b\b\b\b\b\b\b\b\b\b\b\b\b\b\b\b\b\b\b\b\b\b\b\b\b\b\b\b\b\b\b\b\b\b\b\b\b\b\b\b\b\b\b\b\b\b\b\b\b\b\b\b\b\r8/8 [==============================] - 1s 80ms/step - loss: 0.6172 - accuracy: 0.8378 - val_loss: 2.5327 - val_accuracy: 0.3300 - lr: 0.0010\n",
            "Epoch 43/400\n",
            "7/8 [=========================>....] - ETA: 0s - loss: 0.6978 - accuracy: 0.8069"
          ]
        },
        {
          "output_type": "stream",
          "name": "stderr",
          "text": [
            "WARNING:tensorflow:Learning rate reduction is conditioned on metric `acc` which is not available. Available metrics are: loss,accuracy,val_loss,val_accuracy,lr\n"
          ]
        },
        {
          "output_type": "stream",
          "name": "stdout",
          "text": [
            "\b\b\b\b\b\b\b\b\b\b\b\b\b\b\b\b\b\b\b\b\b\b\b\b\b\b\b\b\b\b\b\b\b\b\b\b\b\b\b\b\b\b\b\b\b\b\b\b\b\b\b\b\b\b\b\b\b\b\b\b\b\b\b\b\b\b\b\b\b\b\b\b\b\b\b\b\b\b\b\b\r8/8 [==============================] - 1s 82ms/step - loss: 0.6973 - accuracy: 0.8067 - val_loss: 2.9732 - val_accuracy: 0.2400 - lr: 0.0010\n",
            "Epoch 44/400\n",
            "7/8 [=========================>....] - ETA: 0s - loss: 0.6295 - accuracy: 0.8348"
          ]
        },
        {
          "output_type": "stream",
          "name": "stderr",
          "text": [
            "WARNING:tensorflow:Learning rate reduction is conditioned on metric `acc` which is not available. Available metrics are: loss,accuracy,val_loss,val_accuracy,lr\n"
          ]
        },
        {
          "output_type": "stream",
          "name": "stdout",
          "text": [
            "\b\b\b\b\b\b\b\b\b\b\b\b\b\b\b\b\b\b\b\b\b\b\b\b\b\b\b\b\b\b\b\b\b\b\b\b\b\b\b\b\b\b\b\b\b\b\b\b\b\b\b\b\b\b\b\b\b\b\b\b\b\b\b\b\b\b\b\b\b\b\b\b\b\b\b\b\b\b\b\b\r8/8 [==============================] - 1s 80ms/step - loss: 0.6320 - accuracy: 0.8333 - val_loss: 1.9487 - val_accuracy: 0.4300 - lr: 0.0010\n",
            "Epoch 45/400\n",
            "7/8 [=========================>....] - ETA: 0s - loss: 0.6165 - accuracy: 0.8348"
          ]
        },
        {
          "output_type": "stream",
          "name": "stderr",
          "text": [
            "WARNING:tensorflow:Learning rate reduction is conditioned on metric `acc` which is not available. Available metrics are: loss,accuracy,val_loss,val_accuracy,lr\n"
          ]
        },
        {
          "output_type": "stream",
          "name": "stdout",
          "text": [
            "\b\b\b\b\b\b\b\b\b\b\b\b\b\b\b\b\b\b\b\b\b\b\b\b\b\b\b\b\b\b\b\b\b\b\b\b\b\b\b\b\b\b\b\b\b\b\b\b\b\b\b\b\b\b\b\b\b\b\b\b\b\b\b\b\b\b\b\b\b\b\b\b\b\b\b\b\b\b\b\b\r8/8 [==============================] - 1s 83ms/step - loss: 0.6177 - accuracy: 0.8333 - val_loss: 2.5831 - val_accuracy: 0.3700 - lr: 0.0010\n",
            "Epoch 46/400\n",
            "7/8 [=========================>....] - ETA: 0s - loss: 0.5309 - accuracy: 0.8772"
          ]
        },
        {
          "output_type": "stream",
          "name": "stderr",
          "text": [
            "WARNING:tensorflow:Learning rate reduction is conditioned on metric `acc` which is not available. Available metrics are: loss,accuracy,val_loss,val_accuracy,lr\n"
          ]
        },
        {
          "output_type": "stream",
          "name": "stdout",
          "text": [
            "\b\b\b\b\b\b\b\b\b\b\b\b\b\b\b\b\b\b\b\b\b\b\b\b\b\b\b\b\b\b\b\b\b\b\b\b\b\b\b\b\b\b\b\b\b\b\b\b\b\b\b\b\b\b\b\b\b\b\b\b\b\b\b\b\b\b\b\b\b\b\b\b\b\b\b\b\b\b\b\b\r8/8 [==============================] - 1s 90ms/step - loss: 0.5300 - accuracy: 0.8778 - val_loss: 2.3274 - val_accuracy: 0.3400 - lr: 0.0010\n",
            "Epoch 47/400\n",
            "7/8 [=========================>....] - ETA: 0s - loss: 0.4672 - accuracy: 0.9129"
          ]
        },
        {
          "output_type": "stream",
          "name": "stderr",
          "text": [
            "WARNING:tensorflow:Learning rate reduction is conditioned on metric `acc` which is not available. Available metrics are: loss,accuracy,val_loss,val_accuracy,lr\n"
          ]
        },
        {
          "output_type": "stream",
          "name": "stdout",
          "text": [
            "\b\b\b\b\b\b\b\b\b\b\b\b\b\b\b\b\b\b\b\b\b\b\b\b\b\b\b\b\b\b\b\b\b\b\b\b\b\b\b\b\b\b\b\b\b\b\b\b\b\b\b\b\b\b\b\b\b\b\b\b\b\b\b\b\b\b\b\b\b\b\b\b\b\b\b\b\b\b\b\b\r8/8 [==============================] - 1s 85ms/step - loss: 0.4685 - accuracy: 0.9122 - val_loss: 2.3632 - val_accuracy: 0.3700 - lr: 0.0010\n",
            "Epoch 48/400\n",
            "7/8 [=========================>....] - ETA: 0s - loss: 0.6501 - accuracy: 0.8337"
          ]
        },
        {
          "output_type": "stream",
          "name": "stderr",
          "text": [
            "WARNING:tensorflow:Learning rate reduction is conditioned on metric `acc` which is not available. Available metrics are: loss,accuracy,val_loss,val_accuracy,lr\n"
          ]
        },
        {
          "output_type": "stream",
          "name": "stdout",
          "text": [
            "\b\b\b\b\b\b\b\b\b\b\b\b\b\b\b\b\b\b\b\b\b\b\b\b\b\b\b\b\b\b\b\b\b\b\b\b\b\b\b\b\b\b\b\b\b\b\b\b\b\b\b\b\b\b\b\b\b\b\b\b\b\b\b\b\b\b\b\b\b\b\b\b\b\b\b\b\b\b\b\b\r8/8 [==============================] - 1s 82ms/step - loss: 0.6550 - accuracy: 0.8322 - val_loss: 4.3544 - val_accuracy: 0.2500 - lr: 0.0010\n",
            "Epoch 49/400\n",
            "7/8 [=========================>....] - ETA: 0s - loss: 0.7063 - accuracy: 0.7924"
          ]
        },
        {
          "output_type": "stream",
          "name": "stderr",
          "text": [
            "WARNING:tensorflow:Learning rate reduction is conditioned on metric `acc` which is not available. Available metrics are: loss,accuracy,val_loss,val_accuracy,lr\n"
          ]
        },
        {
          "output_type": "stream",
          "name": "stdout",
          "text": [
            "\b\b\b\b\b\b\b\b\b\b\b\b\b\b\b\b\b\b\b\b\b\b\b\b\b\b\b\b\b\b\b\b\b\b\b\b\b\b\b\b\b\b\b\b\b\b\b\b\b\b\b\b\b\b\b\b\b\b\b\b\b\b\b\b\b\b\b\b\b\b\b\b\b\b\b\b\b\b\b\b\r8/8 [==============================] - 1s 81ms/step - loss: 0.7071 - accuracy: 0.7922 - val_loss: 3.1767 - val_accuracy: 0.2900 - lr: 0.0010\n",
            "Epoch 50/400\n",
            "7/8 [=========================>....] - ETA: 0s - loss: 0.6057 - accuracy: 0.8237"
          ]
        },
        {
          "output_type": "stream",
          "name": "stderr",
          "text": [
            "WARNING:tensorflow:Learning rate reduction is conditioned on metric `acc` which is not available. Available metrics are: loss,accuracy,val_loss,val_accuracy,lr\n"
          ]
        },
        {
          "output_type": "stream",
          "name": "stdout",
          "text": [
            "\b\b\b\b\b\b\b\b\b\b\b\b\b\b\b\b\b\b\b\b\b\b\b\b\b\b\b\b\b\b\b\b\b\b\b\b\b\b\b\b\b\b\b\b\b\b\b\b\b\b\b\b\b\b\b\b\b\b\b\b\b\b\b\b\b\b\b\b\b\b\b\b\b\b\b\b\b\b\b\b\r8/8 [==============================] - 1s 81ms/step - loss: 0.6061 - accuracy: 0.8233 - val_loss: 5.1873 - val_accuracy: 0.2000 - lr: 0.0010\n",
            "Epoch 51/400\n",
            "7/8 [=========================>....] - ETA: 0s - loss: 0.6165 - accuracy: 0.8404"
          ]
        },
        {
          "output_type": "stream",
          "name": "stderr",
          "text": [
            "WARNING:tensorflow:Learning rate reduction is conditioned on metric `acc` which is not available. Available metrics are: loss,accuracy,val_loss,val_accuracy,lr\n"
          ]
        },
        {
          "output_type": "stream",
          "name": "stdout",
          "text": [
            "\b\b\b\b\b\b\b\b\b\b\b\b\b\b\b\b\b\b\b\b\b\b\b\b\b\b\b\b\b\b\b\b\b\b\b\b\b\b\b\b\b\b\b\b\b\b\b\b\b\b\b\b\b\b\b\b\b\b\b\b\b\b\b\b\b\b\b\b\b\b\b\b\b\b\b\b\b\b\b\b\r8/8 [==============================] - 1s 85ms/step - loss: 0.6183 - accuracy: 0.8389 - val_loss: 2.9426 - val_accuracy: 0.3000 - lr: 0.0010\n",
            "Epoch 52/400\n",
            "7/8 [=========================>....] - ETA: 0s - loss: 0.6465 - accuracy: 0.8092"
          ]
        },
        {
          "output_type": "stream",
          "name": "stderr",
          "text": [
            "WARNING:tensorflow:Learning rate reduction is conditioned on metric `acc` which is not available. Available metrics are: loss,accuracy,val_loss,val_accuracy,lr\n"
          ]
        },
        {
          "output_type": "stream",
          "name": "stdout",
          "text": [
            "\b\b\b\b\b\b\b\b\b\b\b\b\b\b\b\b\b\b\b\b\b\b\b\b\b\b\b\b\b\b\b\b\b\b\b\b\b\b\b\b\b\b\b\b\b\b\b\b\b\b\b\b\b\b\b\b\b\b\b\b\b\b\b\b\b\b\b\b\b\b\b\b\b\b\b\b\b\b\b\b\r8/8 [==============================] - 1s 81ms/step - loss: 0.6475 - accuracy: 0.8089 - val_loss: 3.3892 - val_accuracy: 0.3000 - lr: 0.0010\n",
            "Epoch 53/400\n",
            "7/8 [=========================>....] - ETA: 0s - loss: 0.4668 - accuracy: 0.9085"
          ]
        },
        {
          "output_type": "stream",
          "name": "stderr",
          "text": [
            "WARNING:tensorflow:Learning rate reduction is conditioned on metric `acc` which is not available. Available metrics are: loss,accuracy,val_loss,val_accuracy,lr\n"
          ]
        },
        {
          "output_type": "stream",
          "name": "stdout",
          "text": [
            "\b\b\b\b\b\b\b\b\b\b\b\b\b\b\b\b\b\b\b\b\b\b\b\b\b\b\b\b\b\b\b\b\b\b\b\b\b\b\b\b\b\b\b\b\b\b\b\b\b\b\b\b\b\b\b\b\b\b\b\b\b\b\b\b\b\b\b\b\b\b\b\b\b\b\b\b\b\b\b\b\r8/8 [==============================] - 1s 82ms/step - loss: 0.4672 - accuracy: 0.9078 - val_loss: 2.0853 - val_accuracy: 0.4000 - lr: 0.0010\n",
            "Epoch 54/400\n",
            "7/8 [=========================>....] - ETA: 0s - loss: 0.4225 - accuracy: 0.9263"
          ]
        },
        {
          "output_type": "stream",
          "name": "stderr",
          "text": [
            "WARNING:tensorflow:Learning rate reduction is conditioned on metric `acc` which is not available. Available metrics are: loss,accuracy,val_loss,val_accuracy,lr\n"
          ]
        },
        {
          "output_type": "stream",
          "name": "stdout",
          "text": [
            "\b\b\b\b\b\b\b\b\b\b\b\b\b\b\b\b\b\b\b\b\b\b\b\b\b\b\b\b\b\b\b\b\b\b\b\b\b\b\b\b\b\b\b\b\b\b\b\b\b\b\b\b\b\b\b\b\b\b\b\b\b\b\b\b\b\b\b\b\b\b\b\b\b\b\b\b\b\b\b\b\r8/8 [==============================] - 1s 80ms/step - loss: 0.4231 - accuracy: 0.9256 - val_loss: 2.2783 - val_accuracy: 0.4200 - lr: 0.0010\n",
            "Epoch 55/400\n",
            "7/8 [=========================>....] - ETA: 0s - loss: 0.4002 - accuracy: 0.9208"
          ]
        },
        {
          "output_type": "stream",
          "name": "stderr",
          "text": [
            "WARNING:tensorflow:Learning rate reduction is conditioned on metric `acc` which is not available. Available metrics are: loss,accuracy,val_loss,val_accuracy,lr\n"
          ]
        },
        {
          "output_type": "stream",
          "name": "stdout",
          "text": [
            "\b\b\b\b\b\b\b\b\b\b\b\b\b\b\b\b\b\b\b\b\b\b\b\b\b\b\b\b\b\b\b\b\b\b\b\b\b\b\b\b\b\b\b\b\b\b\b\b\b\b\b\b\b\b\b\b\b\b\b\b\b\b\b\b\b\b\b\b\b\b\b\b\b\b\b\b\b\b\b\b\r8/8 [==============================] - 1s 86ms/step - loss: 0.4045 - accuracy: 0.9178 - val_loss: 2.2445 - val_accuracy: 0.3600 - lr: 0.0010\n",
            "Epoch 56/400\n",
            "7/8 [=========================>....] - ETA: 0s - loss: 0.5588 - accuracy: 0.8661"
          ]
        },
        {
          "output_type": "stream",
          "name": "stderr",
          "text": [
            "WARNING:tensorflow:Learning rate reduction is conditioned on metric `acc` which is not available. Available metrics are: loss,accuracy,val_loss,val_accuracy,lr\n"
          ]
        },
        {
          "output_type": "stream",
          "name": "stdout",
          "text": [
            "\b\b\b\b\b\b\b\b\b\b\b\b\b\b\b\b\b\b\b\b\b\b\b\b\b\b\b\b\b\b\b\b\b\b\b\b\b\b\b\b\b\b\b\b\b\b\b\b\b\b\b\b\b\b\b\b\b\b\b\b\b\b\b\b\b\b\b\b\b\b\b\b\b\b\b\b\b\b\b\b\r8/8 [==============================] - 1s 80ms/step - loss: 0.5644 - accuracy: 0.8656 - val_loss: 3.7500 - val_accuracy: 0.3200 - lr: 0.0010\n",
            "Epoch 57/400\n",
            "7/8 [=========================>....] - ETA: 0s - loss: 0.6695 - accuracy: 0.8036"
          ]
        },
        {
          "output_type": "stream",
          "name": "stderr",
          "text": [
            "WARNING:tensorflow:Learning rate reduction is conditioned on metric `acc` which is not available. Available metrics are: loss,accuracy,val_loss,val_accuracy,lr\n"
          ]
        },
        {
          "output_type": "stream",
          "name": "stdout",
          "text": [
            "\b\b\b\b\b\b\b\b\b\b\b\b\b\b\b\b\b\b\b\b\b\b\b\b\b\b\b\b\b\b\b\b\b\b\b\b\b\b\b\b\b\b\b\b\b\b\b\b\b\b\b\b\b\b\b\b\b\b\b\b\b\b\b\b\b\b\b\b\b\b\b\b\b\b\b\b\b\b\b\b\r8/8 [==============================] - 1s 81ms/step - loss: 0.6685 - accuracy: 0.8044 - val_loss: 4.6378 - val_accuracy: 0.2200 - lr: 0.0010\n",
            "Epoch 58/400\n",
            "7/8 [=========================>....] - ETA: 0s - loss: 0.5146 - accuracy: 0.8806"
          ]
        },
        {
          "output_type": "stream",
          "name": "stderr",
          "text": [
            "WARNING:tensorflow:Learning rate reduction is conditioned on metric `acc` which is not available. Available metrics are: loss,accuracy,val_loss,val_accuracy,lr\n"
          ]
        },
        {
          "output_type": "stream",
          "name": "stdout",
          "text": [
            "\b\b\b\b\b\b\b\b\b\b\b\b\b\b\b\b\b\b\b\b\b\b\b\b\b\b\b\b\b\b\b\b\b\b\b\b\b\b\b\b\b\b\b\b\b\b\b\b\b\b\b\b\b\b\b\b\b\b\b\b\b\b\b\b\b\b\b\b\b\b\b\b\b\b\b\b\b\b\b\b\r8/8 [==============================] - 1s 80ms/step - loss: 0.5167 - accuracy: 0.8800 - val_loss: 2.0300 - val_accuracy: 0.4800 - lr: 0.0010\n",
            "Epoch 59/400\n",
            "7/8 [=========================>....] - ETA: 0s - loss: 0.5920 - accuracy: 0.8460"
          ]
        },
        {
          "output_type": "stream",
          "name": "stderr",
          "text": [
            "WARNING:tensorflow:Learning rate reduction is conditioned on metric `acc` which is not available. Available metrics are: loss,accuracy,val_loss,val_accuracy,lr\n"
          ]
        },
        {
          "output_type": "stream",
          "name": "stdout",
          "text": [
            "\b\b\b\b\b\b\b\b\b\b\b\b\b\b\b\b\b\b\b\b\b\b\b\b\b\b\b\b\b\b\b\b\b\b\b\b\b\b\b\b\b\b\b\b\b\b\b\b\b\b\b\b\b\b\b\b\b\b\b\b\b\b\b\b\b\b\b\b\b\b\b\b\b\b\b\b\b\b\b\b\r8/8 [==============================] - 1s 82ms/step - loss: 0.5906 - accuracy: 0.8467 - val_loss: 3.0102 - val_accuracy: 0.3700 - lr: 0.0010\n",
            "Epoch 60/400\n",
            "7/8 [=========================>....] - ETA: 0s - loss: 0.4297 - accuracy: 0.9096"
          ]
        },
        {
          "output_type": "stream",
          "name": "stderr",
          "text": [
            "WARNING:tensorflow:Learning rate reduction is conditioned on metric `acc` which is not available. Available metrics are: loss,accuracy,val_loss,val_accuracy,lr\n"
          ]
        },
        {
          "output_type": "stream",
          "name": "stdout",
          "text": [
            "\b\b\b\b\b\b\b\b\b\b\b\b\b\b\b\b\b\b\b\b\b\b\b\b\b\b\b\b\b\b\b\b\b\b\b\b\b\b\b\b\b\b\b\b\b\b\b\b\b\b\b\b\b\b\b\b\b\b\b\b\b\b\b\b\b\b\b\b\b\b\b\b\b\b\b\b\b\b\b\b\r8/8 [==============================] - 1s 81ms/step - loss: 0.4315 - accuracy: 0.9089 - val_loss: 3.8831 - val_accuracy: 0.3700 - lr: 0.0010\n",
            "Epoch 61/400\n",
            "7/8 [=========================>....] - ETA: 0s - loss: 0.4629 - accuracy: 0.8929"
          ]
        },
        {
          "output_type": "stream",
          "name": "stderr",
          "text": [
            "WARNING:tensorflow:Learning rate reduction is conditioned on metric `acc` which is not available. Available metrics are: loss,accuracy,val_loss,val_accuracy,lr\n"
          ]
        },
        {
          "output_type": "stream",
          "name": "stdout",
          "text": [
            "\b\b\b\b\b\b\b\b\b\b\b\b\b\b\b\b\b\b\b\b\b\b\b\b\b\b\b\b\b\b\b\b\b\b\b\b\b\b\b\b\b\b\b\b\b\b\b\b\b\b\b\b\b\b\b\b\b\b\b\b\b\b\b\b\b\b\b\b\b\b\b\b\b\b\b\b\b\b\b\b\r8/8 [==============================] - 1s 81ms/step - loss: 0.4682 - accuracy: 0.8922 - val_loss: 3.3998 - val_accuracy: 0.3700 - lr: 0.0010\n",
            "Epoch 62/400\n",
            "7/8 [=========================>....] - ETA: 0s - loss: 0.5068 - accuracy: 0.8895"
          ]
        },
        {
          "output_type": "stream",
          "name": "stderr",
          "text": [
            "WARNING:tensorflow:Learning rate reduction is conditioned on metric `acc` which is not available. Available metrics are: loss,accuracy,val_loss,val_accuracy,lr\n"
          ]
        },
        {
          "output_type": "stream",
          "name": "stdout",
          "text": [
            "\b\b\b\b\b\b\b\b\b\b\b\b\b\b\b\b\b\b\b\b\b\b\b\b\b\b\b\b\b\b\b\b\b\b\b\b\b\b\b\b\b\b\b\b\b\b\b\b\b\b\b\b\b\b\b\b\b\b\b\b\b\b\b\b\b\b\b\b\b\b\b\b\b\b\b\b\b\b\b\b\r8/8 [==============================] - 1s 82ms/step - loss: 0.5116 - accuracy: 0.8889 - val_loss: 4.3997 - val_accuracy: 0.1400 - lr: 0.0010\n",
            "Epoch 63/400\n",
            "7/8 [=========================>....] - ETA: 0s - loss: 0.4593 - accuracy: 0.9051"
          ]
        },
        {
          "output_type": "stream",
          "name": "stderr",
          "text": [
            "WARNING:tensorflow:Learning rate reduction is conditioned on metric `acc` which is not available. Available metrics are: loss,accuracy,val_loss,val_accuracy,lr\n"
          ]
        },
        {
          "output_type": "stream",
          "name": "stdout",
          "text": [
            "\b\b\b\b\b\b\b\b\b\b\b\b\b\b\b\b\b\b\b\b\b\b\b\b\b\b\b\b\b\b\b\b\b\b\b\b\b\b\b\b\b\b\b\b\b\b\b\b\b\b\b\b\b\b\b\b\b\b\b\b\b\b\b\b\b\b\b\b\b\b\b\b\b\b\b\b\b\b\b\b\r8/8 [==============================] - 1s 86ms/step - loss: 0.4673 - accuracy: 0.9033 - val_loss: 10.6561 - val_accuracy: 0.1400 - lr: 0.0010\n",
            "Epoch 64/400\n",
            "7/8 [=========================>....] - ETA: 0s - loss: 0.6168 - accuracy: 0.8281"
          ]
        },
        {
          "output_type": "stream",
          "name": "stderr",
          "text": [
            "WARNING:tensorflow:Learning rate reduction is conditioned on metric `acc` which is not available. Available metrics are: loss,accuracy,val_loss,val_accuracy,lr\n"
          ]
        },
        {
          "output_type": "stream",
          "name": "stdout",
          "text": [
            "\b\b\b\b\b\b\b\b\b\b\b\b\b\b\b\b\b\b\b\b\b\b\b\b\b\b\b\b\b\b\b\b\b\b\b\b\b\b\b\b\b\b\b\b\b\b\b\b\b\b\b\b\b\b\b\b\b\b\b\b\b\b\b\b\b\b\b\b\b\b\b\b\b\b\b\b\b\b\b\b\r8/8 [==============================] - 1s 85ms/step - loss: 0.6192 - accuracy: 0.8267 - val_loss: 6.3280 - val_accuracy: 0.2100 - lr: 0.0010\n",
            "Epoch 65/400\n",
            "7/8 [=========================>....] - ETA: 0s - loss: 0.5846 - accuracy: 0.8493"
          ]
        },
        {
          "output_type": "stream",
          "name": "stderr",
          "text": [
            "WARNING:tensorflow:Learning rate reduction is conditioned on metric `acc` which is not available. Available metrics are: loss,accuracy,val_loss,val_accuracy,lr\n"
          ]
        },
        {
          "output_type": "stream",
          "name": "stdout",
          "text": [
            "\b\b\b\b\b\b\b\b\b\b\b\b\b\b\b\b\b\b\b\b\b\b\b\b\b\b\b\b\b\b\b\b\b\b\b\b\b\b\b\b\b\b\b\b\b\b\b\b\b\b\b\b\b\b\b\b\b\b\b\b\b\b\b\b\b\b\b\b\b\b\b\b\b\b\b\b\b\b\b\b\r8/8 [==============================] - 1s 86ms/step - loss: 0.5849 - accuracy: 0.8489 - val_loss: 3.0436 - val_accuracy: 0.4100 - lr: 0.0010\n",
            "Epoch 66/400\n",
            "7/8 [=========================>....] - ETA: 0s - loss: 0.5342 - accuracy: 0.8661"
          ]
        },
        {
          "output_type": "stream",
          "name": "stderr",
          "text": [
            "WARNING:tensorflow:Learning rate reduction is conditioned on metric `acc` which is not available. Available metrics are: loss,accuracy,val_loss,val_accuracy,lr\n"
          ]
        },
        {
          "output_type": "stream",
          "name": "stdout",
          "text": [
            "\b\b\b\b\b\b\b\b\b\b\b\b\b\b\b\b\b\b\b\b\b\b\b\b\b\b\b\b\b\b\b\b\b\b\b\b\b\b\b\b\b\b\b\b\b\b\b\b\b\b\b\b\b\b\b\b\b\b\b\b\b\b\b\b\b\b\b\b\b\b\b\b\b\b\b\b\b\b\b\b\r8/8 [==============================] - 1s 84ms/step - loss: 0.5385 - accuracy: 0.8633 - val_loss: 3.0095 - val_accuracy: 0.3900 - lr: 0.0010\n",
            "Epoch 67/400\n",
            "7/8 [=========================>....] - ETA: 0s - loss: 0.4971 - accuracy: 0.8739"
          ]
        },
        {
          "output_type": "stream",
          "name": "stderr",
          "text": [
            "WARNING:tensorflow:Learning rate reduction is conditioned on metric `acc` which is not available. Available metrics are: loss,accuracy,val_loss,val_accuracy,lr\n"
          ]
        },
        {
          "output_type": "stream",
          "name": "stdout",
          "text": [
            "\b\b\b\b\b\b\b\b\b\b\b\b\b\b\b\b\b\b\b\b\b\b\b\b\b\b\b\b\b\b\b\b\b\b\b\b\b\b\b\b\b\b\b\b\b\b\b\b\b\b\b\b\b\b\b\b\b\b\b\b\b\b\b\b\b\b\b\b\b\b\b\b\b\b\b\b\b\b\b\b\r8/8 [==============================] - 1s 83ms/step - loss: 0.5006 - accuracy: 0.8722 - val_loss: 2.9671 - val_accuracy: 0.3400 - lr: 0.0010\n",
            "Epoch 68/400\n",
            "7/8 [=========================>....] - ETA: 0s - loss: 0.4783 - accuracy: 0.9029"
          ]
        },
        {
          "output_type": "stream",
          "name": "stderr",
          "text": [
            "WARNING:tensorflow:Learning rate reduction is conditioned on metric `acc` which is not available. Available metrics are: loss,accuracy,val_loss,val_accuracy,lr\n"
          ]
        },
        {
          "output_type": "stream",
          "name": "stdout",
          "text": [
            "\b\b\b\b\b\b\b\b\b\b\b\b\b\b\b\b\b\b\b\b\b\b\b\b\b\b\b\b\b\b\b\b\b\b\b\b\b\b\b\b\b\b\b\b\b\b\b\b\b\b\b\b\b\b\b\b\b\b\b\b\b\b\b\b\b\b\b\b\b\b\b\b\b\b\b\b\b\b\b\b\r8/8 [==============================] - 1s 81ms/step - loss: 0.4836 - accuracy: 0.9011 - val_loss: 3.3608 - val_accuracy: 0.3200 - lr: 0.0010\n",
            "Epoch 69/400\n",
            "7/8 [=========================>....] - ETA: 0s - loss: 0.5544 - accuracy: 0.8694"
          ]
        },
        {
          "output_type": "stream",
          "name": "stderr",
          "text": [
            "WARNING:tensorflow:Learning rate reduction is conditioned on metric `acc` which is not available. Available metrics are: loss,accuracy,val_loss,val_accuracy,lr\n"
          ]
        },
        {
          "output_type": "stream",
          "name": "stdout",
          "text": [
            "\b\b\b\b\b\b\b\b\b\b\b\b\b\b\b\b\b\b\b\b\b\b\b\b\b\b\b\b\b\b\b\b\b\b\b\b\b\b\b\b\b\b\b\b\b\b\b\b\b\b\b\b\b\b\b\b\b\b\b\b\b\b\b\b\b\b\b\b\b\b\b\b\b\b\b\b\b\b\b\b\r8/8 [==============================] - 1s 82ms/step - loss: 0.5531 - accuracy: 0.8700 - val_loss: 5.2137 - val_accuracy: 0.2300 - lr: 0.0010\n",
            "Epoch 70/400\n",
            "7/8 [=========================>....] - ETA: 0s - loss: 0.4320 - accuracy: 0.9196"
          ]
        },
        {
          "output_type": "stream",
          "name": "stderr",
          "text": [
            "WARNING:tensorflow:Learning rate reduction is conditioned on metric `acc` which is not available. Available metrics are: loss,accuracy,val_loss,val_accuracy,lr\n"
          ]
        },
        {
          "output_type": "stream",
          "name": "stdout",
          "text": [
            "\b\b\b\b\b\b\b\b\b\b\b\b\b\b\b\b\b\b\b\b\b\b\b\b\b\b\b\b\b\b\b\b\b\b\b\b\b\b\b\b\b\b\b\b\b\b\b\b\b\b\b\b\b\b\b\b\b\b\b\b\b\b\b\b\b\b\b\b\b\b\b\b\b\b\b\b\b\b\b\b\r8/8 [==============================] - 1s 82ms/step - loss: 0.4342 - accuracy: 0.9178 - val_loss: 3.5162 - val_accuracy: 0.3100 - lr: 0.0010\n",
            "Epoch 71/400\n",
            "7/8 [=========================>....] - ETA: 0s - loss: 0.4552 - accuracy: 0.8984"
          ]
        },
        {
          "output_type": "stream",
          "name": "stderr",
          "text": [
            "WARNING:tensorflow:Learning rate reduction is conditioned on metric `acc` which is not available. Available metrics are: loss,accuracy,val_loss,val_accuracy,lr\n"
          ]
        },
        {
          "output_type": "stream",
          "name": "stdout",
          "text": [
            "\b\b\b\b\b\b\b\b\b\b\b\b\b\b\b\b\b\b\b\b\b\b\b\b\b\b\b\b\b\b\b\b\b\b\b\b\b\b\b\b\b\b\b\b\b\b\b\b\b\b\b\b\b\b\b\b\b\b\b\b\b\b\b\b\b\b\b\b\b\b\b\b\b\b\b\b\b\b\b\b\r8/8 [==============================] - 1s 81ms/step - loss: 0.4567 - accuracy: 0.8978 - val_loss: 5.0298 - val_accuracy: 0.1700 - lr: 0.0010\n",
            "Epoch 72/400\n",
            "7/8 [=========================>....] - ETA: 0s - loss: 0.4440 - accuracy: 0.8996"
          ]
        },
        {
          "output_type": "stream",
          "name": "stderr",
          "text": [
            "WARNING:tensorflow:Learning rate reduction is conditioned on metric `acc` which is not available. Available metrics are: loss,accuracy,val_loss,val_accuracy,lr\n"
          ]
        },
        {
          "output_type": "stream",
          "name": "stdout",
          "text": [
            "\b\b\b\b\b\b\b\b\b\b\b\b\b\b\b\b\b\b\b\b\b\b\b\b\b\b\b\b\b\b\b\b\b\b\b\b\b\b\b\b\b\b\b\b\b\b\b\b\b\b\b\b\b\b\b\b\b\b\b\b\b\b\b\b\b\b\b\b\b\b\b\b\b\b\b\b\b\b\b\b\r8/8 [==============================] - 1s 81ms/step - loss: 0.4466 - accuracy: 0.8978 - val_loss: 4.1451 - val_accuracy: 0.2700 - lr: 0.0010\n",
            "Epoch 73/400\n",
            "7/8 [=========================>....] - ETA: 0s - loss: 0.4168 - accuracy: 0.9051"
          ]
        },
        {
          "output_type": "stream",
          "name": "stderr",
          "text": [
            "WARNING:tensorflow:Learning rate reduction is conditioned on metric `acc` which is not available. Available metrics are: loss,accuracy,val_loss,val_accuracy,lr\n"
          ]
        },
        {
          "output_type": "stream",
          "name": "stdout",
          "text": [
            "\b\b\b\b\b\b\b\b\b\b\b\b\b\b\b\b\b\b\b\b\b\b\b\b\b\b\b\b\b\b\b\b\b\b\b\b\b\b\b\b\b\b\b\b\b\b\b\b\b\b\b\b\b\b\b\b\b\b\b\b\b\b\b\b\b\b\b\b\b\b\b\b\b\b\b\b\b\b\b\b\r8/8 [==============================] - 1s 81ms/step - loss: 0.4241 - accuracy: 0.9033 - val_loss: 2.4945 - val_accuracy: 0.3800 - lr: 0.0010\n",
            "Epoch 74/400\n",
            "7/8 [=========================>....] - ETA: 0s - loss: 0.5655 - accuracy: 0.8672"
          ]
        },
        {
          "output_type": "stream",
          "name": "stderr",
          "text": [
            "WARNING:tensorflow:Learning rate reduction is conditioned on metric `acc` which is not available. Available metrics are: loss,accuracy,val_loss,val_accuracy,lr\n"
          ]
        },
        {
          "output_type": "stream",
          "name": "stdout",
          "text": [
            "\b\b\b\b\b\b\b\b\b\b\b\b\b\b\b\b\b\b\b\b\b\b\b\b\b\b\b\b\b\b\b\b\b\b\b\b\b\b\b\b\b\b\b\b\b\b\b\b\b\b\b\b\b\b\b\b\b\b\b\b\b\b\b\b\b\b\b\b\b\b\b\b\b\b\b\b\b\b\b\b\r8/8 [==============================] - 1s 81ms/step - loss: 0.5686 - accuracy: 0.8667 - val_loss: 4.2332 - val_accuracy: 0.2800 - lr: 0.0010\n",
            "Epoch 75/400\n",
            "7/8 [=========================>....] - ETA: 0s - loss: 0.4616 - accuracy: 0.8839"
          ]
        },
        {
          "output_type": "stream",
          "name": "stderr",
          "text": [
            "WARNING:tensorflow:Learning rate reduction is conditioned on metric `acc` which is not available. Available metrics are: loss,accuracy,val_loss,val_accuracy,lr\n"
          ]
        },
        {
          "output_type": "stream",
          "name": "stdout",
          "text": [
            "\b\b\b\b\b\b\b\b\b\b\b\b\b\b\b\b\b\b\b\b\b\b\b\b\b\b\b\b\b\b\b\b\b\b\b\b\b\b\b\b\b\b\b\b\b\b\b\b\b\b\b\b\b\b\b\b\b\b\b\b\b\b\b\b\b\b\b\b\b\b\b\b\b\b\b\b\b\b\b\b\r8/8 [==============================] - 1s 81ms/step - loss: 0.4630 - accuracy: 0.8833 - val_loss: 2.5111 - val_accuracy: 0.3400 - lr: 0.0010\n",
            "Epoch 76/400\n",
            "7/8 [=========================>....] - ETA: 0s - loss: 0.4797 - accuracy: 0.8873"
          ]
        },
        {
          "output_type": "stream",
          "name": "stderr",
          "text": [
            "WARNING:tensorflow:Learning rate reduction is conditioned on metric `acc` which is not available. Available metrics are: loss,accuracy,val_loss,val_accuracy,lr\n"
          ]
        },
        {
          "output_type": "stream",
          "name": "stdout",
          "text": [
            "\b\b\b\b\b\b\b\b\b\b\b\b\b\b\b\b\b\b\b\b\b\b\b\b\b\b\b\b\b\b\b\b\b\b\b\b\b\b\b\b\b\b\b\b\b\b\b\b\b\b\b\b\b\b\b\b\b\b\b\b\b\b\b\b\b\b\b\b\b\b\b\b\b\b\b\b\b\b\b\b\r8/8 [==============================] - 1s 82ms/step - loss: 0.4802 - accuracy: 0.8867 - val_loss: 2.2843 - val_accuracy: 0.3800 - lr: 0.0010\n",
            "Epoch 77/400\n",
            "7/8 [=========================>....] - ETA: 0s - loss: 0.3978 - accuracy: 0.9219"
          ]
        },
        {
          "output_type": "stream",
          "name": "stderr",
          "text": [
            "WARNING:tensorflow:Learning rate reduction is conditioned on metric `acc` which is not available. Available metrics are: loss,accuracy,val_loss,val_accuracy,lr\n"
          ]
        },
        {
          "output_type": "stream",
          "name": "stdout",
          "text": [
            "\b\b\b\b\b\b\b\b\b\b\b\b\b\b\b\b\b\b\b\b\b\b\b\b\b\b\b\b\b\b\b\b\b\b\b\b\b\b\b\b\b\b\b\b\b\b\b\b\b\b\b\b\b\b\b\b\b\b\b\b\b\b\b\b\b\b\b\b\b\b\b\b\b\b\b\b\b\b\b\b\r8/8 [==============================] - 1s 82ms/step - loss: 0.4010 - accuracy: 0.9200 - val_loss: 2.9596 - val_accuracy: 0.4000 - lr: 0.0010\n",
            "Epoch 78/400\n",
            "7/8 [=========================>....] - ETA: 0s - loss: 0.4986 - accuracy: 0.8884"
          ]
        },
        {
          "output_type": "stream",
          "name": "stderr",
          "text": [
            "WARNING:tensorflow:Learning rate reduction is conditioned on metric `acc` which is not available. Available metrics are: loss,accuracy,val_loss,val_accuracy,lr\n"
          ]
        },
        {
          "output_type": "stream",
          "name": "stdout",
          "text": [
            "\b\b\b\b\b\b\b\b\b\b\b\b\b\b\b\b\b\b\b\b\b\b\b\b\b\b\b\b\b\b\b\b\b\b\b\b\b\b\b\b\b\b\b\b\b\b\b\b\b\b\b\b\b\b\b\b\b\b\b\b\b\b\b\b\b\b\b\b\b\b\b\b\b\b\b\b\b\b\b\b\r8/8 [==============================] - 1s 81ms/step - loss: 0.4998 - accuracy: 0.8878 - val_loss: 5.2257 - val_accuracy: 0.3000 - lr: 0.0010\n",
            "Epoch 79/400\n",
            "7/8 [=========================>....] - ETA: 0s - loss: 0.4032 - accuracy: 0.9129"
          ]
        },
        {
          "output_type": "stream",
          "name": "stderr",
          "text": [
            "WARNING:tensorflow:Learning rate reduction is conditioned on metric `acc` which is not available. Available metrics are: loss,accuracy,val_loss,val_accuracy,lr\n"
          ]
        },
        {
          "output_type": "stream",
          "name": "stdout",
          "text": [
            "\b\b\b\b\b\b\b\b\b\b\b\b\b\b\b\b\b\b\b\b\b\b\b\b\b\b\b\b\b\b\b\b\b\b\b\b\b\b\b\b\b\b\b\b\b\b\b\b\b\b\b\b\b\b\b\b\b\b\b\b\b\b\b\b\b\b\b\b\b\b\b\b\b\b\b\b\b\b\b\b\r8/8 [==============================] - 1s 82ms/step - loss: 0.4032 - accuracy: 0.9133 - val_loss: 2.1734 - val_accuracy: 0.3600 - lr: 0.0010\n",
            "Epoch 80/400\n",
            "7/8 [=========================>....] - ETA: 0s - loss: 0.2844 - accuracy: 0.9688"
          ]
        },
        {
          "output_type": "stream",
          "name": "stderr",
          "text": [
            "WARNING:tensorflow:Learning rate reduction is conditioned on metric `acc` which is not available. Available metrics are: loss,accuracy,val_loss,val_accuracy,lr\n"
          ]
        },
        {
          "output_type": "stream",
          "name": "stdout",
          "text": [
            "\b\b\b\b\b\b\b\b\b\b\b\b\b\b\b\b\b\b\b\b\b\b\b\b\b\b\b\b\b\b\b\b\b\b\b\b\b\b\b\b\b\b\b\b\b\b\b\b\b\b\b\b\b\b\b\b\b\b\b\b\b\b\b\b\b\b\b\b\b\b\b\b\b\b\b\b\b\b\b\b\r8/8 [==============================] - 1s 81ms/step - loss: 0.2849 - accuracy: 0.9689 - val_loss: 2.0787 - val_accuracy: 0.4500 - lr: 0.0010\n",
            "Epoch 81/400\n",
            "7/8 [=========================>....] - ETA: 0s - loss: 0.2922 - accuracy: 0.9654"
          ]
        },
        {
          "output_type": "stream",
          "name": "stderr",
          "text": [
            "WARNING:tensorflow:Learning rate reduction is conditioned on metric `acc` which is not available. Available metrics are: loss,accuracy,val_loss,val_accuracy,lr\n"
          ]
        },
        {
          "output_type": "stream",
          "name": "stdout",
          "text": [
            "\b\b\b\b\b\b\b\b\b\b\b\b\b\b\b\b\b\b\b\b\b\b\b\b\b\b\b\b\b\b\b\b\b\b\b\b\b\b\b\b\b\b\b\b\b\b\b\b\b\b\b\b\b\b\b\b\b\b\b\b\b\b\b\b\b\b\b\b\b\b\b\b\b\b\b\b\b\b\b\b\r8/8 [==============================] - 1s 83ms/step - loss: 0.2953 - accuracy: 0.9644 - val_loss: 2.0814 - val_accuracy: 0.4200 - lr: 0.0010\n",
            "Epoch 82/400\n",
            "7/8 [=========================>....] - ETA: 0s - loss: 0.3547 - accuracy: 0.9319"
          ]
        },
        {
          "output_type": "stream",
          "name": "stderr",
          "text": [
            "WARNING:tensorflow:Learning rate reduction is conditioned on metric `acc` which is not available. Available metrics are: loss,accuracy,val_loss,val_accuracy,lr\n"
          ]
        },
        {
          "output_type": "stream",
          "name": "stdout",
          "text": [
            "\b\b\b\b\b\b\b\b\b\b\b\b\b\b\b\b\b\b\b\b\b\b\b\b\b\b\b\b\b\b\b\b\b\b\b\b\b\b\b\b\b\b\b\b\b\b\b\b\b\b\b\b\b\b\b\b\b\b\b\b\b\b\b\b\b\b\b\b\b\b\b\b\b\b\b\b\b\b\b\b\r8/8 [==============================] - 1s 87ms/step - loss: 0.3546 - accuracy: 0.9322 - val_loss: 2.4058 - val_accuracy: 0.3900 - lr: 0.0010\n",
            "Epoch 83/400\n",
            "7/8 [=========================>....] - ETA: 0s - loss: 0.3211 - accuracy: 0.9342"
          ]
        },
        {
          "output_type": "stream",
          "name": "stderr",
          "text": [
            "WARNING:tensorflow:Learning rate reduction is conditioned on metric `acc` which is not available. Available metrics are: loss,accuracy,val_loss,val_accuracy,lr\n"
          ]
        },
        {
          "output_type": "stream",
          "name": "stdout",
          "text": [
            "\b\b\b\b\b\b\b\b\b\b\b\b\b\b\b\b\b\b\b\b\b\b\b\b\b\b\b\b\b\b\b\b\b\b\b\b\b\b\b\b\b\b\b\b\b\b\b\b\b\b\b\b\b\b\b\b\b\b\b\b\b\b\b\b\b\b\b\b\b\b\b\b\b\b\b\b\b\b\b\b\r8/8 [==============================] - 1s 86ms/step - loss: 0.3206 - accuracy: 0.9344 - val_loss: 2.9827 - val_accuracy: 0.4100 - lr: 0.0010\n",
            "Epoch 84/400\n",
            "7/8 [=========================>....] - ETA: 0s - loss: 0.2409 - accuracy: 0.9732"
          ]
        },
        {
          "output_type": "stream",
          "name": "stderr",
          "text": [
            "WARNING:tensorflow:Learning rate reduction is conditioned on metric `acc` which is not available. Available metrics are: loss,accuracy,val_loss,val_accuracy,lr\n"
          ]
        },
        {
          "output_type": "stream",
          "name": "stdout",
          "text": [
            "\b\b\b\b\b\b\b\b\b\b\b\b\b\b\b\b\b\b\b\b\b\b\b\b\b\b\b\b\b\b\b\b\b\b\b\b\b\b\b\b\b\b\b\b\b\b\b\b\b\b\b\b\b\b\b\b\b\b\b\b\b\b\b\b\b\b\b\b\b\b\b\b\b\b\b\b\b\b\b\b\r8/8 [==============================] - 1s 88ms/step - loss: 0.2415 - accuracy: 0.9733 - val_loss: 2.4243 - val_accuracy: 0.4800 - lr: 0.0010\n",
            "Epoch 85/400\n",
            "7/8 [=========================>....] - ETA: 0s - loss: 0.2641 - accuracy: 0.9587"
          ]
        },
        {
          "output_type": "stream",
          "name": "stderr",
          "text": [
            "WARNING:tensorflow:Learning rate reduction is conditioned on metric `acc` which is not available. Available metrics are: loss,accuracy,val_loss,val_accuracy,lr\n"
          ]
        },
        {
          "output_type": "stream",
          "name": "stdout",
          "text": [
            "\b\b\b\b\b\b\b\b\b\b\b\b\b\b\b\b\b\b\b\b\b\b\b\b\b\b\b\b\b\b\b\b\b\b\b\b\b\b\b\b\b\b\b\b\b\b\b\b\b\b\b\b\b\b\b\b\b\b\b\b\b\b\b\b\b\b\b\b\b\b\b\b\b\b\b\b\b\b\b\b\r8/8 [==============================] - 1s 89ms/step - loss: 0.2652 - accuracy: 0.9578 - val_loss: 2.3722 - val_accuracy: 0.4200 - lr: 0.0010\n",
            "Epoch 86/400\n",
            "7/8 [=========================>....] - ETA: 0s - loss: 0.2557 - accuracy: 0.9710"
          ]
        },
        {
          "output_type": "stream",
          "name": "stderr",
          "text": [
            "WARNING:tensorflow:Learning rate reduction is conditioned on metric `acc` which is not available. Available metrics are: loss,accuracy,val_loss,val_accuracy,lr\n"
          ]
        },
        {
          "output_type": "stream",
          "name": "stdout",
          "text": [
            "\b\b\b\b\b\b\b\b\b\b\b\b\b\b\b\b\b\b\b\b\b\b\b\b\b\b\b\b\b\b\b\b\b\b\b\b\b\b\b\b\b\b\b\b\b\b\b\b\b\b\b\b\b\b\b\b\b\b\b\b\b\b\b\b\b\b\b\b\b\b\b\b\b\b\b\b\b\b\b\b\r8/8 [==============================] - 1s 87ms/step - loss: 0.2558 - accuracy: 0.9711 - val_loss: 3.7671 - val_accuracy: 0.3300 - lr: 0.0010\n",
            "Epoch 87/400\n",
            "7/8 [=========================>....] - ETA: 0s - loss: 0.2214 - accuracy: 0.9777"
          ]
        },
        {
          "output_type": "stream",
          "name": "stderr",
          "text": [
            "WARNING:tensorflow:Learning rate reduction is conditioned on metric `acc` which is not available. Available metrics are: loss,accuracy,val_loss,val_accuracy,lr\n"
          ]
        },
        {
          "output_type": "stream",
          "name": "stdout",
          "text": [
            "\b\b\b\b\b\b\b\b\b\b\b\b\b\b\b\b\b\b\b\b\b\b\b\b\b\b\b\b\b\b\b\b\b\b\b\b\b\b\b\b\b\b\b\b\b\b\b\b\b\b\b\b\b\b\b\b\b\b\b\b\b\b\b\b\b\b\b\b\b\b\b\b\b\b\b\b\b\b\b\b\r8/8 [==============================] - 1s 82ms/step - loss: 0.2274 - accuracy: 0.9756 - val_loss: 3.3748 - val_accuracy: 0.3600 - lr: 0.0010\n",
            "Epoch 88/400\n",
            "7/8 [=========================>....] - ETA: 0s - loss: 0.4024 - accuracy: 0.9096"
          ]
        },
        {
          "output_type": "stream",
          "name": "stderr",
          "text": [
            "WARNING:tensorflow:Learning rate reduction is conditioned on metric `acc` which is not available. Available metrics are: loss,accuracy,val_loss,val_accuracy,lr\n"
          ]
        },
        {
          "output_type": "stream",
          "name": "stdout",
          "text": [
            "\b\b\b\b\b\b\b\b\b\b\b\b\b\b\b\b\b\b\b\b\b\b\b\b\b\b\b\b\b\b\b\b\b\b\b\b\b\b\b\b\b\b\b\b\b\b\b\b\b\b\b\b\b\b\b\b\b\b\b\b\b\b\b\b\b\b\b\b\b\b\b\b\b\b\b\b\b\b\b\b\r8/8 [==============================] - 1s 89ms/step - loss: 0.4019 - accuracy: 0.9100 - val_loss: 6.8217 - val_accuracy: 0.2800 - lr: 0.0010\n",
            "Epoch 89/400\n",
            "7/8 [=========================>....] - ETA: 0s - loss: 0.3063 - accuracy: 0.9531"
          ]
        },
        {
          "output_type": "stream",
          "name": "stderr",
          "text": [
            "WARNING:tensorflow:Learning rate reduction is conditioned on metric `acc` which is not available. Available metrics are: loss,accuracy,val_loss,val_accuracy,lr\n"
          ]
        },
        {
          "output_type": "stream",
          "name": "stdout",
          "text": [
            "\b\b\b\b\b\b\b\b\b\b\b\b\b\b\b\b\b\b\b\b\b\b\b\b\b\b\b\b\b\b\b\b\b\b\b\b\b\b\b\b\b\b\b\b\b\b\b\b\b\b\b\b\b\b\b\b\b\b\b\b\b\b\b\b\b\b\b\b\b\b\b\b\b\b\b\b\b\b\b\b\r8/8 [==============================] - 1s 83ms/step - loss: 0.3058 - accuracy: 0.9533 - val_loss: 3.6292 - val_accuracy: 0.2800 - lr: 0.0010\n",
            "Epoch 90/400\n",
            "7/8 [=========================>....] - ETA: 0s - loss: 0.2505 - accuracy: 0.9743"
          ]
        },
        {
          "output_type": "stream",
          "name": "stderr",
          "text": [
            "WARNING:tensorflow:Learning rate reduction is conditioned on metric `acc` which is not available. Available metrics are: loss,accuracy,val_loss,val_accuracy,lr\n"
          ]
        },
        {
          "output_type": "stream",
          "name": "stdout",
          "text": [
            "\b\b\b\b\b\b\b\b\b\b\b\b\b\b\b\b\b\b\b\b\b\b\b\b\b\b\b\b\b\b\b\b\b\b\b\b\b\b\b\b\b\b\b\b\b\b\b\b\b\b\b\b\b\b\b\b\b\b\b\b\b\b\b\b\b\b\b\b\b\b\b\b\b\b\b\b\b\b\b\b\r8/8 [==============================] - 1s 82ms/step - loss: 0.2520 - accuracy: 0.9733 - val_loss: 4.2188 - val_accuracy: 0.2700 - lr: 0.0010\n",
            "Epoch 91/400\n",
            "7/8 [=========================>....] - ETA: 0s - loss: 0.2780 - accuracy: 0.9598"
          ]
        },
        {
          "output_type": "stream",
          "name": "stderr",
          "text": [
            "WARNING:tensorflow:Learning rate reduction is conditioned on metric `acc` which is not available. Available metrics are: loss,accuracy,val_loss,val_accuracy,lr\n"
          ]
        },
        {
          "output_type": "stream",
          "name": "stdout",
          "text": [
            "\b\b\b\b\b\b\b\b\b\b\b\b\b\b\b\b\b\b\b\b\b\b\b\b\b\b\b\b\b\b\b\b\b\b\b\b\b\b\b\b\b\b\b\b\b\b\b\b\b\b\b\b\b\b\b\b\b\b\b\b\b\b\b\b\b\b\b\b\b\b\b\b\b\b\b\b\b\b\b\b\r8/8 [==============================] - 1s 83ms/step - loss: 0.2824 - accuracy: 0.9578 - val_loss: 3.9119 - val_accuracy: 0.3300 - lr: 0.0010\n",
            "Epoch 92/400\n",
            "7/8 [=========================>....] - ETA: 0s - loss: 0.4647 - accuracy: 0.8839"
          ]
        },
        {
          "output_type": "stream",
          "name": "stderr",
          "text": [
            "WARNING:tensorflow:Learning rate reduction is conditioned on metric `acc` which is not available. Available metrics are: loss,accuracy,val_loss,val_accuracy,lr\n"
          ]
        },
        {
          "output_type": "stream",
          "name": "stdout",
          "text": [
            "\b\b\b\b\b\b\b\b\b\b\b\b\b\b\b\b\b\b\b\b\b\b\b\b\b\b\b\b\b\b\b\b\b\b\b\b\b\b\b\b\b\b\b\b\b\b\b\b\b\b\b\b\b\b\b\b\b\b\b\b\b\b\b\b\b\b\b\b\b\b\b\b\b\b\b\b\b\b\b\b\r8/8 [==============================] - 1s 82ms/step - loss: 0.4678 - accuracy: 0.8833 - val_loss: 4.1725 - val_accuracy: 0.3000 - lr: 0.0010\n",
            "Epoch 93/400\n",
            "7/8 [=========================>....] - ETA: 0s - loss: 0.4926 - accuracy: 0.8828"
          ]
        },
        {
          "output_type": "stream",
          "name": "stderr",
          "text": [
            "WARNING:tensorflow:Learning rate reduction is conditioned on metric `acc` which is not available. Available metrics are: loss,accuracy,val_loss,val_accuracy,lr\n"
          ]
        },
        {
          "output_type": "stream",
          "name": "stdout",
          "text": [
            "\b\b\b\b\b\b\b\b\b\b\b\b\b\b\b\b\b\b\b\b\b\b\b\b\b\b\b\b\b\b\b\b\b\b\b\b\b\b\b\b\b\b\b\b\b\b\b\b\b\b\b\b\b\b\b\b\b\b\b\b\b\b\b\b\b\b\b\b\b\b\b\b\b\b\b\b\b\b\b\b\r8/8 [==============================] - 1s 81ms/step - loss: 0.4936 - accuracy: 0.8822 - val_loss: 3.3322 - val_accuracy: 0.3900 - lr: 0.0010\n",
            "Epoch 94/400\n",
            "7/8 [=========================>....] - ETA: 0s - loss: 0.4513 - accuracy: 0.9018"
          ]
        },
        {
          "output_type": "stream",
          "name": "stderr",
          "text": [
            "WARNING:tensorflow:Learning rate reduction is conditioned on metric `acc` which is not available. Available metrics are: loss,accuracy,val_loss,val_accuracy,lr\n"
          ]
        },
        {
          "output_type": "stream",
          "name": "stdout",
          "text": [
            "\b\b\b\b\b\b\b\b\b\b\b\b\b\b\b\b\b\b\b\b\b\b\b\b\b\b\b\b\b\b\b\b\b\b\b\b\b\b\b\b\b\b\b\b\b\b\b\b\b\b\b\b\b\b\b\b\b\b\b\b\b\b\b\b\b\b\b\b\b\b\b\b\b\b\b\b\b\b\b\b\r8/8 [==============================] - 1s 84ms/step - loss: 0.4512 - accuracy: 0.9022 - val_loss: 3.0149 - val_accuracy: 0.3500 - lr: 0.0010\n",
            "Epoch 95/400\n",
            "7/8 [=========================>....] - ETA: 0s - loss: 0.3613 - accuracy: 0.9219"
          ]
        },
        {
          "output_type": "stream",
          "name": "stderr",
          "text": [
            "WARNING:tensorflow:Learning rate reduction is conditioned on metric `acc` which is not available. Available metrics are: loss,accuracy,val_loss,val_accuracy,lr\n"
          ]
        },
        {
          "output_type": "stream",
          "name": "stdout",
          "text": [
            "\b\b\b\b\b\b\b\b\b\b\b\b\b\b\b\b\b\b\b\b\b\b\b\b\b\b\b\b\b\b\b\b\b\b\b\b\b\b\b\b\b\b\b\b\b\b\b\b\b\b\b\b\b\b\b\b\b\b\b\b\b\b\b\b\b\b\b\b\b\b\b\b\b\b\b\b\b\b\b\b\r8/8 [==============================] - 1s 81ms/step - loss: 0.3615 - accuracy: 0.9222 - val_loss: 3.5673 - val_accuracy: 0.3600 - lr: 0.0010\n",
            "Epoch 96/400\n",
            "7/8 [=========================>....] - ETA: 0s - loss: 0.2694 - accuracy: 0.9654"
          ]
        },
        {
          "output_type": "stream",
          "name": "stderr",
          "text": [
            "WARNING:tensorflow:Learning rate reduction is conditioned on metric `acc` which is not available. Available metrics are: loss,accuracy,val_loss,val_accuracy,lr\n"
          ]
        },
        {
          "output_type": "stream",
          "name": "stdout",
          "text": [
            "\b\b\b\b\b\b\b\b\b\b\b\b\b\b\b\b\b\b\b\b\b\b\b\b\b\b\b\b\b\b\b\b\b\b\b\b\b\b\b\b\b\b\b\b\b\b\b\b\b\b\b\b\b\b\b\b\b\b\b\b\b\b\b\b\b\b\b\b\b\b\b\b\b\b\b\b\b\b\b\b\r8/8 [==============================] - 1s 88ms/step - loss: 0.2719 - accuracy: 0.9644 - val_loss: 3.1373 - val_accuracy: 0.3000 - lr: 0.0010\n",
            "Epoch 97/400\n",
            "7/8 [=========================>....] - ETA: 0s - loss: 0.2822 - accuracy: 0.9565"
          ]
        },
        {
          "output_type": "stream",
          "name": "stderr",
          "text": [
            "WARNING:tensorflow:Learning rate reduction is conditioned on metric `acc` which is not available. Available metrics are: loss,accuracy,val_loss,val_accuracy,lr\n"
          ]
        },
        {
          "output_type": "stream",
          "name": "stdout",
          "text": [
            "\b\b\b\b\b\b\b\b\b\b\b\b\b\b\b\b\b\b\b\b\b\b\b\b\b\b\b\b\b\b\b\b\b\b\b\b\b\b\b\b\b\b\b\b\b\b\b\b\b\b\b\b\b\b\b\b\b\b\b\b\b\b\b\b\b\b\b\b\b\b\b\b\b\b\b\b\b\b\b\b\r8/8 [==============================] - 1s 81ms/step - loss: 0.2859 - accuracy: 0.9544 - val_loss: 3.8286 - val_accuracy: 0.3400 - lr: 0.0010\n",
            "Epoch 98/400\n",
            "7/8 [=========================>....] - ETA: 0s - loss: 0.5723 - accuracy: 0.8605"
          ]
        },
        {
          "output_type": "stream",
          "name": "stderr",
          "text": [
            "WARNING:tensorflow:Learning rate reduction is conditioned on metric `acc` which is not available. Available metrics are: loss,accuracy,val_loss,val_accuracy,lr\n"
          ]
        },
        {
          "output_type": "stream",
          "name": "stdout",
          "text": [
            "\b\b\b\b\b\b\b\b\b\b\b\b\b\b\b\b\b\b\b\b\b\b\b\b\b\b\b\b\b\b\b\b\b\b\b\b\b\b\b\b\b\b\b\b\b\b\b\b\b\b\b\b\b\b\b\b\b\b\b\b\b\b\b\b\b\b\b\b\b\b\b\b\b\b\b\b\b\b\b\b\r8/8 [==============================] - 1s 82ms/step - loss: 0.5732 - accuracy: 0.8589 - val_loss: 4.5762 - val_accuracy: 0.3600 - lr: 0.0010\n",
            "Epoch 99/400\n",
            "7/8 [=========================>....] - ETA: 0s - loss: 0.4619 - accuracy: 0.8839"
          ]
        },
        {
          "output_type": "stream",
          "name": "stderr",
          "text": [
            "WARNING:tensorflow:Learning rate reduction is conditioned on metric `acc` which is not available. Available metrics are: loss,accuracy,val_loss,val_accuracy,lr\n"
          ]
        },
        {
          "output_type": "stream",
          "name": "stdout",
          "text": [
            "\b\b\b\b\b\b\b\b\b\b\b\b\b\b\b\b\b\b\b\b\b\b\b\b\b\b\b\b\b\b\b\b\b\b\b\b\b\b\b\b\b\b\b\b\b\b\b\b\b\b\b\b\b\b\b\b\b\b\b\b\b\b\b\b\b\b\b\b\b\b\b\b\b\b\b\b\b\b\b\b\r8/8 [==============================] - 1s 82ms/step - loss: 0.4664 - accuracy: 0.8822 - val_loss: 19.7049 - val_accuracy: 0.1000 - lr: 0.0010\n",
            "Epoch 100/400\n",
            "7/8 [=========================>....] - ETA: 0s - loss: 0.5964 - accuracy: 0.8493"
          ]
        },
        {
          "output_type": "stream",
          "name": "stderr",
          "text": [
            "WARNING:tensorflow:Learning rate reduction is conditioned on metric `acc` which is not available. Available metrics are: loss,accuracy,val_loss,val_accuracy,lr\n"
          ]
        },
        {
          "output_type": "stream",
          "name": "stdout",
          "text": [
            "\b\b\b\b\b\b\b\b\b\b\b\b\b\b\b\b\b\b\b\b\b\b\b\b\b\b\b\b\b\b\b\b\b\b\b\b\b\b\b\b\b\b\b\b\b\b\b\b\b\b\b\b\b\b\b\b\b\b\b\b\b\b\b\b\b\b\b\b\b\b\b\b\b\b\b\b\b\b\b\b\r8/8 [==============================] - 1s 81ms/step - loss: 0.6003 - accuracy: 0.8478 - val_loss: 8.5552 - val_accuracy: 0.2400 - lr: 0.0010\n",
            "Epoch 101/400\n",
            "7/8 [=========================>....] - ETA: 0s - loss: 0.4732 - accuracy: 0.8895"
          ]
        },
        {
          "output_type": "stream",
          "name": "stderr",
          "text": [
            "WARNING:tensorflow:Learning rate reduction is conditioned on metric `acc` which is not available. Available metrics are: loss,accuracy,val_loss,val_accuracy,lr\n"
          ]
        },
        {
          "output_type": "stream",
          "name": "stdout",
          "text": [
            "\b\b\b\b\b\b\b\b\b\b\b\b\b\b\b\b\b\b\b\b\b\b\b\b\b\b\b\b\b\b\b\b\b\b\b\b\b\b\b\b\b\b\b\b\b\b\b\b\b\b\b\b\b\b\b\b\b\b\b\b\b\b\b\b\b\b\b\b\b\b\b\b\b\b\b\b\b\b\b\b\r8/8 [==============================] - 1s 84ms/step - loss: 0.4753 - accuracy: 0.8889 - val_loss: 4.7343 - val_accuracy: 0.3700 - lr: 0.0010\n",
            "Epoch 102/400\n",
            "7/8 [=========================>....] - ETA: 0s - loss: 0.4324 - accuracy: 0.8929"
          ]
        },
        {
          "output_type": "stream",
          "name": "stderr",
          "text": [
            "WARNING:tensorflow:Learning rate reduction is conditioned on metric `acc` which is not available. Available metrics are: loss,accuracy,val_loss,val_accuracy,lr\n"
          ]
        },
        {
          "output_type": "stream",
          "name": "stdout",
          "text": [
            "\b\b\b\b\b\b\b\b\b\b\b\b\b\b\b\b\b\b\b\b\b\b\b\b\b\b\b\b\b\b\b\b\b\b\b\b\b\b\b\b\b\b\b\b\b\b\b\b\b\b\b\b\b\b\b\b\b\b\b\b\b\b\b\b\b\b\b\b\b\b\b\b\b\b\b\b\b\b\b\b\r8/8 [==============================] - 1s 90ms/step - loss: 0.4357 - accuracy: 0.8922 - val_loss: 3.3781 - val_accuracy: 0.4100 - lr: 0.0010\n",
            "Epoch 103/400\n",
            "7/8 [=========================>....] - ETA: 0s - loss: 0.3840 - accuracy: 0.9263"
          ]
        },
        {
          "output_type": "stream",
          "name": "stderr",
          "text": [
            "WARNING:tensorflow:Learning rate reduction is conditioned on metric `acc` which is not available. Available metrics are: loss,accuracy,val_loss,val_accuracy,lr\n"
          ]
        },
        {
          "output_type": "stream",
          "name": "stdout",
          "text": [
            "\b\b\b\b\b\b\b\b\b\b\b\b\b\b\b\b\b\b\b\b\b\b\b\b\b\b\b\b\b\b\b\b\b\b\b\b\b\b\b\b\b\b\b\b\b\b\b\b\b\b\b\b\b\b\b\b\b\b\b\b\b\b\b\b\b\b\b\b\b\b\b\b\b\b\b\b\b\b\b\b\r8/8 [==============================] - 1s 88ms/step - loss: 0.3858 - accuracy: 0.9256 - val_loss: 3.1882 - val_accuracy: 0.3800 - lr: 0.0010\n",
            "Epoch 104/400\n",
            "7/8 [=========================>....] - ETA: 0s - loss: 0.3493 - accuracy: 0.9364"
          ]
        },
        {
          "output_type": "stream",
          "name": "stderr",
          "text": [
            "WARNING:tensorflow:Learning rate reduction is conditioned on metric `acc` which is not available. Available metrics are: loss,accuracy,val_loss,val_accuracy,lr\n"
          ]
        },
        {
          "output_type": "stream",
          "name": "stdout",
          "text": [
            "\b\b\b\b\b\b\b\b\b\b\b\b\b\b\b\b\b\b\b\b\b\b\b\b\b\b\b\b\b\b\b\b\b\b\b\b\b\b\b\b\b\b\b\b\b\b\b\b\b\b\b\b\b\b\b\b\b\b\b\b\b\b\b\b\b\b\b\b\b\b\b\b\b\b\b\b\b\b\b\b\r8/8 [==============================] - 1s 82ms/step - loss: 0.3497 - accuracy: 0.9367 - val_loss: 4.0006 - val_accuracy: 0.2800 - lr: 0.0010\n",
            "Epoch 105/400\n",
            "7/8 [=========================>....] - ETA: 0s - loss: 0.2913 - accuracy: 0.9598"
          ]
        },
        {
          "output_type": "stream",
          "name": "stderr",
          "text": [
            "WARNING:tensorflow:Learning rate reduction is conditioned on metric `acc` which is not available. Available metrics are: loss,accuracy,val_loss,val_accuracy,lr\n"
          ]
        },
        {
          "output_type": "stream",
          "name": "stdout",
          "text": [
            "\b\b\b\b\b\b\b\b\b\b\b\b\b\b\b\b\b\b\b\b\b\b\b\b\b\b\b\b\b\b\b\b\b\b\b\b\b\b\b\b\b\b\b\b\b\b\b\b\b\b\b\b\b\b\b\b\b\b\b\b\b\b\b\b\b\b\b\b\b\b\b\b\b\b\b\b\b\b\b\b\r8/8 [==============================] - 1s 82ms/step - loss: 0.2916 - accuracy: 0.9600 - val_loss: 2.5756 - val_accuracy: 0.4300 - lr: 0.0010\n",
            "Epoch 106/400\n",
            "7/8 [=========================>....] - ETA: 0s - loss: 0.2565 - accuracy: 0.9643"
          ]
        },
        {
          "output_type": "stream",
          "name": "stderr",
          "text": [
            "WARNING:tensorflow:Learning rate reduction is conditioned on metric `acc` which is not available. Available metrics are: loss,accuracy,val_loss,val_accuracy,lr\n"
          ]
        },
        {
          "output_type": "stream",
          "name": "stdout",
          "text": [
            "\b\b\b\b\b\b\b\b\b\b\b\b\b\b\b\b\b\b\b\b\b\b\b\b\b\b\b\b\b\b\b\b\b\b\b\b\b\b\b\b\b\b\b\b\b\b\b\b\b\b\b\b\b\b\b\b\b\b\b\b\b\b\b\b\b\b\b\b\b\b\b\b\b\b\b\b\b\b\b\b\r8/8 [==============================] - 1s 82ms/step - loss: 0.2563 - accuracy: 0.9644 - val_loss: 2.0271 - val_accuracy: 0.5100 - lr: 0.0010\n",
            "Epoch 107/400\n",
            "7/8 [=========================>....] - ETA: 0s - loss: 0.2085 - accuracy: 0.9788"
          ]
        },
        {
          "output_type": "stream",
          "name": "stderr",
          "text": [
            "WARNING:tensorflow:Learning rate reduction is conditioned on metric `acc` which is not available. Available metrics are: loss,accuracy,val_loss,val_accuracy,lr\n"
          ]
        },
        {
          "output_type": "stream",
          "name": "stdout",
          "text": [
            "\b\b\b\b\b\b\b\b\b\b\b\b\b\b\b\b\b\b\b\b\b\b\b\b\b\b\b\b\b\b\b\b\b\b\b\b\b\b\b\b\b\b\b\b\b\b\b\b\b\b\b\b\b\b\b\b\b\b\b\b\b\b\b\b\b\b\b\b\b\b\b\b\b\b\b\b\b\b\b\b\r8/8 [==============================] - 1s 82ms/step - loss: 0.2082 - accuracy: 0.9789 - val_loss: 2.1545 - val_accuracy: 0.4600 - lr: 0.0010\n",
            "Epoch 108/400\n",
            "7/8 [=========================>....] - ETA: 0s - loss: 0.1836 - accuracy: 0.9855"
          ]
        },
        {
          "output_type": "stream",
          "name": "stderr",
          "text": [
            "WARNING:tensorflow:Learning rate reduction is conditioned on metric `acc` which is not available. Available metrics are: loss,accuracy,val_loss,val_accuracy,lr\n"
          ]
        },
        {
          "output_type": "stream",
          "name": "stdout",
          "text": [
            "\b\b\b\b\b\b\b\b\b\b\b\b\b\b\b\b\b\b\b\b\b\b\b\b\b\b\b\b\b\b\b\b\b\b\b\b\b\b\b\b\b\b\b\b\b\b\b\b\b\b\b\b\b\b\b\b\b\b\b\b\b\b\b\b\b\b\b\b\b\b\b\b\b\b\b\b\b\b\b\b\r8/8 [==============================] - 1s 83ms/step - loss: 0.1845 - accuracy: 0.9856 - val_loss: 2.0050 - val_accuracy: 0.4700 - lr: 0.0010\n",
            "Epoch 109/400\n",
            "7/8 [=========================>....] - ETA: 0s - loss: 0.2001 - accuracy: 0.9777"
          ]
        },
        {
          "output_type": "stream",
          "name": "stderr",
          "text": [
            "WARNING:tensorflow:Learning rate reduction is conditioned on metric `acc` which is not available. Available metrics are: loss,accuracy,val_loss,val_accuracy,lr\n"
          ]
        },
        {
          "output_type": "stream",
          "name": "stdout",
          "text": [
            "\b\b\b\b\b\b\b\b\b\b\b\b\b\b\b\b\b\b\b\b\b\b\b\b\b\b\b\b\b\b\b\b\b\b\b\b\b\b\b\b\b\b\b\b\b\b\b\b\b\b\b\b\b\b\b\b\b\b\b\b\b\b\b\b\b\b\b\b\b\b\b\b\b\b\b\b\b\b\b\b\r8/8 [==============================] - 1s 82ms/step - loss: 0.1997 - accuracy: 0.9778 - val_loss: 2.4062 - val_accuracy: 0.4100 - lr: 0.0010\n",
            "Epoch 110/400\n",
            "7/8 [=========================>....] - ETA: 0s - loss: 0.1669 - accuracy: 0.9888"
          ]
        },
        {
          "output_type": "stream",
          "name": "stderr",
          "text": [
            "WARNING:tensorflow:Learning rate reduction is conditioned on metric `acc` which is not available. Available metrics are: loss,accuracy,val_loss,val_accuracy,lr\n"
          ]
        },
        {
          "output_type": "stream",
          "name": "stdout",
          "text": [
            "\b\b\b\b\b\b\b\b\b\b\b\b\b\b\b\b\b\b\b\b\b\b\b\b\b\b\b\b\b\b\b\b\b\b\b\b\b\b\b\b\b\b\b\b\b\b\b\b\b\b\b\b\b\b\b\b\b\b\b\b\b\b\b\b\b\b\b\b\b\b\b\b\b\b\b\b\b\b\b\b\r8/8 [==============================] - 1s 82ms/step - loss: 0.1669 - accuracy: 0.9889 - val_loss: 2.0233 - val_accuracy: 0.4200 - lr: 0.0010\n",
            "Epoch 111/400\n",
            "7/8 [=========================>....] - ETA: 0s - loss: 0.1610 - accuracy: 0.9900"
          ]
        },
        {
          "output_type": "stream",
          "name": "stderr",
          "text": [
            "WARNING:tensorflow:Learning rate reduction is conditioned on metric `acc` which is not available. Available metrics are: loss,accuracy,val_loss,val_accuracy,lr\n"
          ]
        },
        {
          "output_type": "stream",
          "name": "stdout",
          "text": [
            "\b\b\b\b\b\b\b\b\b\b\b\b\b\b\b\b\b\b\b\b\b\b\b\b\b\b\b\b\b\b\b\b\b\b\b\b\b\b\b\b\b\b\b\b\b\b\b\b\b\b\b\b\b\b\b\b\b\b\b\b\b\b\b\b\b\b\b\b\b\b\b\b\b\b\b\b\b\b\b\b\r8/8 [==============================] - 1s 82ms/step - loss: 0.1612 - accuracy: 0.9900 - val_loss: 2.2489 - val_accuracy: 0.4700 - lr: 0.0010\n",
            "Epoch 112/400\n",
            "7/8 [=========================>....] - ETA: 0s - loss: 0.1471 - accuracy: 0.9933"
          ]
        },
        {
          "output_type": "stream",
          "name": "stderr",
          "text": [
            "WARNING:tensorflow:Learning rate reduction is conditioned on metric `acc` which is not available. Available metrics are: loss,accuracy,val_loss,val_accuracy,lr\n"
          ]
        },
        {
          "output_type": "stream",
          "name": "stdout",
          "text": [
            "\b\b\b\b\b\b\b\b\b\b\b\b\b\b\b\b\b\b\b\b\b\b\b\b\b\b\b\b\b\b\b\b\b\b\b\b\b\b\b\b\b\b\b\b\b\b\b\b\b\b\b\b\b\b\b\b\b\b\b\b\b\b\b\b\b\b\b\b\b\b\b\b\b\b\b\b\b\b\b\b\r8/8 [==============================] - 1s 81ms/step - loss: 0.1470 - accuracy: 0.9933 - val_loss: 1.7420 - val_accuracy: 0.4900 - lr: 0.0010\n",
            "Epoch 113/400\n",
            "7/8 [=========================>....] - ETA: 0s - loss: 0.1428 - accuracy: 0.9922"
          ]
        },
        {
          "output_type": "stream",
          "name": "stderr",
          "text": [
            "WARNING:tensorflow:Learning rate reduction is conditioned on metric `acc` which is not available. Available metrics are: loss,accuracy,val_loss,val_accuracy,lr\n"
          ]
        },
        {
          "output_type": "stream",
          "name": "stdout",
          "text": [
            "\b\b\b\b\b\b\b\b\b\b\b\b\b\b\b\b\b\b\b\b\b\b\b\b\b\b\b\b\b\b\b\b\b\b\b\b\b\b\b\b\b\b\b\b\b\b\b\b\b\b\b\b\b\b\b\b\b\b\b\b\b\b\b\b\b\b\b\b\b\b\b\b\b\b\b\b\b\b\b\b\r8/8 [==============================] - 1s 82ms/step - loss: 0.1429 - accuracy: 0.9922 - val_loss: 1.8705 - val_accuracy: 0.4600 - lr: 0.0010\n",
            "Epoch 114/400\n",
            "7/8 [=========================>....] - ETA: 0s - loss: 0.1451 - accuracy: 0.9877"
          ]
        },
        {
          "output_type": "stream",
          "name": "stderr",
          "text": [
            "WARNING:tensorflow:Learning rate reduction is conditioned on metric `acc` which is not available. Available metrics are: loss,accuracy,val_loss,val_accuracy,lr\n"
          ]
        },
        {
          "output_type": "stream",
          "name": "stdout",
          "text": [
            "\b\b\b\b\b\b\b\b\b\b\b\b\b\b\b\b\b\b\b\b\b\b\b\b\b\b\b\b\b\b\b\b\b\b\b\b\b\b\b\b\b\b\b\b\b\b\b\b\b\b\b\b\b\b\b\b\b\b\b\b\b\b\b\b\b\b\b\b\b\b\b\b\b\b\b\b\b\b\b\b\r8/8 [==============================] - 1s 82ms/step - loss: 0.1454 - accuracy: 0.9878 - val_loss: 1.7874 - val_accuracy: 0.4500 - lr: 0.0010\n",
            "Epoch 115/400\n",
            "7/8 [=========================>....] - ETA: 0s - loss: 0.1831 - accuracy: 0.9777"
          ]
        },
        {
          "output_type": "stream",
          "name": "stderr",
          "text": [
            "WARNING:tensorflow:Learning rate reduction is conditioned on metric `acc` which is not available. Available metrics are: loss,accuracy,val_loss,val_accuracy,lr\n"
          ]
        },
        {
          "output_type": "stream",
          "name": "stdout",
          "text": [
            "\b\b\b\b\b\b\b\b\b\b\b\b\b\b\b\b\b\b\b\b\b\b\b\b\b\b\b\b\b\b\b\b\b\b\b\b\b\b\b\b\b\b\b\b\b\b\b\b\b\b\b\b\b\b\b\b\b\b\b\b\b\b\b\b\b\b\b\b\b\b\b\b\b\b\b\b\b\b\b\b\r8/8 [==============================] - 1s 82ms/step - loss: 0.1829 - accuracy: 0.9778 - val_loss: 2.8065 - val_accuracy: 0.3500 - lr: 0.0010\n",
            "Epoch 116/400\n",
            "7/8 [=========================>....] - ETA: 0s - loss: 0.1598 - accuracy: 0.9821"
          ]
        },
        {
          "output_type": "stream",
          "name": "stderr",
          "text": [
            "WARNING:tensorflow:Learning rate reduction is conditioned on metric `acc` which is not available. Available metrics are: loss,accuracy,val_loss,val_accuracy,lr\n"
          ]
        },
        {
          "output_type": "stream",
          "name": "stdout",
          "text": [
            "\b\b\b\b\b\b\b\b\b\b\b\b\b\b\b\b\b\b\b\b\b\b\b\b\b\b\b\b\b\b\b\b\b\b\b\b\b\b\b\b\b\b\b\b\b\b\b\b\b\b\b\b\b\b\b\b\b\b\b\b\b\b\b\b\b\b\b\b\b\b\b\b\b\b\b\b\b\b\b\b\r8/8 [==============================] - 1s 82ms/step - loss: 0.1597 - accuracy: 0.9822 - val_loss: 2.0470 - val_accuracy: 0.4800 - lr: 0.0010\n",
            "Epoch 117/400\n",
            "7/8 [=========================>....] - ETA: 0s - loss: 0.1446 - accuracy: 0.9933"
          ]
        },
        {
          "output_type": "stream",
          "name": "stderr",
          "text": [
            "WARNING:tensorflow:Learning rate reduction is conditioned on metric `acc` which is not available. Available metrics are: loss,accuracy,val_loss,val_accuracy,lr\n"
          ]
        },
        {
          "output_type": "stream",
          "name": "stdout",
          "text": [
            "\b\b\b\b\b\b\b\b\b\b\b\b\b\b\b\b\b\b\b\b\b\b\b\b\b\b\b\b\b\b\b\b\b\b\b\b\b\b\b\b\b\b\b\b\b\b\b\b\b\b\b\b\b\b\b\b\b\b\b\b\b\b\b\b\b\b\b\b\b\b\b\b\b\b\b\b\b\b\b\b\r8/8 [==============================] - 1s 83ms/step - loss: 0.1457 - accuracy: 0.9933 - val_loss: 1.7138 - val_accuracy: 0.5200 - lr: 0.0010\n",
            "Epoch 118/400\n",
            "7/8 [=========================>....] - ETA: 0s - loss: 0.1625 - accuracy: 0.9888"
          ]
        },
        {
          "output_type": "stream",
          "name": "stderr",
          "text": [
            "WARNING:tensorflow:Learning rate reduction is conditioned on metric `acc` which is not available. Available metrics are: loss,accuracy,val_loss,val_accuracy,lr\n"
          ]
        },
        {
          "output_type": "stream",
          "name": "stdout",
          "text": [
            "\b\b\b\b\b\b\b\b\b\b\b\b\b\b\b\b\b\b\b\b\b\b\b\b\b\b\b\b\b\b\b\b\b\b\b\b\b\b\b\b\b\b\b\b\b\b\b\b\b\b\b\b\b\b\b\b\b\b\b\b\b\b\b\b\b\b\b\b\b\b\b\b\b\b\b\b\b\b\b\b\r8/8 [==============================] - 1s 81ms/step - loss: 0.1727 - accuracy: 0.9856 - val_loss: 3.3952 - val_accuracy: 0.3700 - lr: 0.0010\n",
            "Epoch 119/400\n",
            "7/8 [=========================>....] - ETA: 0s - loss: 0.4176 - accuracy: 0.9085"
          ]
        },
        {
          "output_type": "stream",
          "name": "stderr",
          "text": [
            "WARNING:tensorflow:Learning rate reduction is conditioned on metric `acc` which is not available. Available metrics are: loss,accuracy,val_loss,val_accuracy,lr\n"
          ]
        },
        {
          "output_type": "stream",
          "name": "stdout",
          "text": [
            "\b\b\b\b\b\b\b\b\b\b\b\b\b\b\b\b\b\b\b\b\b\b\b\b\b\b\b\b\b\b\b\b\b\b\b\b\b\b\b\b\b\b\b\b\b\b\b\b\b\b\b\b\b\b\b\b\b\b\b\b\b\b\b\b\b\b\b\b\b\b\b\b\b\b\b\b\b\b\b\b\r8/8 [==============================] - 1s 84ms/step - loss: 0.4166 - accuracy: 0.9089 - val_loss: 6.8827 - val_accuracy: 0.2600 - lr: 0.0010\n",
            "Epoch 120/400\n",
            "7/8 [=========================>....] - ETA: 0s - loss: 0.2822 - accuracy: 0.9565"
          ]
        },
        {
          "output_type": "stream",
          "name": "stderr",
          "text": [
            "WARNING:tensorflow:Learning rate reduction is conditioned on metric `acc` which is not available. Available metrics are: loss,accuracy,val_loss,val_accuracy,lr\n"
          ]
        },
        {
          "output_type": "stream",
          "name": "stdout",
          "text": [
            "\b\b\b\b\b\b\b\b\b\b\b\b\b\b\b\b\b\b\b\b\b\b\b\b\b\b\b\b\b\b\b\b\b\b\b\b\b\b\b\b\b\b\b\b\b\b\b\b\b\b\b\b\b\b\b\b\b\b\b\b\b\b\b\b\b\b\b\b\b\b\b\b\b\b\b\b\b\b\b\b\r8/8 [==============================] - 1s 85ms/step - loss: 0.2819 - accuracy: 0.9567 - val_loss: 5.8222 - val_accuracy: 0.3000 - lr: 0.0010\n",
            "Epoch 121/400\n",
            "7/8 [=========================>....] - ETA: 0s - loss: 0.2435 - accuracy: 0.9721"
          ]
        },
        {
          "output_type": "stream",
          "name": "stderr",
          "text": [
            "WARNING:tensorflow:Learning rate reduction is conditioned on metric `acc` which is not available. Available metrics are: loss,accuracy,val_loss,val_accuracy,lr\n"
          ]
        },
        {
          "output_type": "stream",
          "name": "stdout",
          "text": [
            "\b\b\b\b\b\b\b\b\b\b\b\b\b\b\b\b\b\b\b\b\b\b\b\b\b\b\b\b\b\b\b\b\b\b\b\b\b\b\b\b\b\b\b\b\b\b\b\b\b\b\b\b\b\b\b\b\b\b\b\b\b\b\b\b\b\b\b\b\b\b\b\b\b\b\b\b\b\b\b\b\r8/8 [==============================] - 1s 84ms/step - loss: 0.2431 - accuracy: 0.9722 - val_loss: 3.7201 - val_accuracy: 0.3700 - lr: 0.0010\n",
            "Epoch 122/400\n",
            "7/8 [=========================>....] - ETA: 0s - loss: 0.1849 - accuracy: 0.9900"
          ]
        },
        {
          "output_type": "stream",
          "name": "stderr",
          "text": [
            "WARNING:tensorflow:Learning rate reduction is conditioned on metric `acc` which is not available. Available metrics are: loss,accuracy,val_loss,val_accuracy,lr\n"
          ]
        },
        {
          "output_type": "stream",
          "name": "stdout",
          "text": [
            "\b\b\b\b\b\b\b\b\b\b\b\b\b\b\b\b\b\b\b\b\b\b\b\b\b\b\b\b\b\b\b\b\b\b\b\b\b\b\b\b\b\b\b\b\b\b\b\b\b\b\b\b\b\b\b\b\b\b\b\b\b\b\b\b\b\b\b\b\b\b\b\b\b\b\b\b\b\b\b\b\r8/8 [==============================] - 1s 85ms/step - loss: 0.1852 - accuracy: 0.9900 - val_loss: 2.2166 - val_accuracy: 0.4300 - lr: 0.0010\n",
            "Epoch 123/400\n",
            "7/8 [=========================>....] - ETA: 0s - loss: 0.1683 - accuracy: 0.9911"
          ]
        },
        {
          "output_type": "stream",
          "name": "stderr",
          "text": [
            "WARNING:tensorflow:Learning rate reduction is conditioned on metric `acc` which is not available. Available metrics are: loss,accuracy,val_loss,val_accuracy,lr\n"
          ]
        },
        {
          "output_type": "stream",
          "name": "stdout",
          "text": [
            "\b\b\b\b\b\b\b\b\b\b\b\b\b\b\b\b\b\b\b\b\b\b\b\b\b\b\b\b\b\b\b\b\b\b\b\b\b\b\b\b\b\b\b\b\b\b\b\b\b\b\b\b\b\b\b\b\b\b\b\b\b\b\b\b\b\b\b\b\b\b\b\b\b\b\b\b\b\b\b\b\r8/8 [==============================] - 1s 82ms/step - loss: 0.1684 - accuracy: 0.9911 - val_loss: 1.8239 - val_accuracy: 0.4600 - lr: 0.0010\n",
            "Epoch 124/400\n",
            "7/8 [=========================>....] - ETA: 0s - loss: 0.1607 - accuracy: 0.9877"
          ]
        },
        {
          "output_type": "stream",
          "name": "stderr",
          "text": [
            "WARNING:tensorflow:Learning rate reduction is conditioned on metric `acc` which is not available. Available metrics are: loss,accuracy,val_loss,val_accuracy,lr\n"
          ]
        },
        {
          "output_type": "stream",
          "name": "stdout",
          "text": [
            "\b\b\b\b\b\b\b\b\b\b\b\b\b\b\b\b\b\b\b\b\b\b\b\b\b\b\b\b\b\b\b\b\b\b\b\b\b\b\b\b\b\b\b\b\b\b\b\b\b\b\b\b\b\b\b\b\b\b\b\b\b\b\b\b\b\b\b\b\b\b\b\b\b\b\b\b\b\b\b\b\r8/8 [==============================] - 1s 82ms/step - loss: 0.1607 - accuracy: 0.9878 - val_loss: 2.1635 - val_accuracy: 0.4600 - lr: 0.0010\n",
            "Epoch 125/400\n",
            "7/8 [=========================>....] - ETA: 0s - loss: 0.1526 - accuracy: 0.9877"
          ]
        },
        {
          "output_type": "stream",
          "name": "stderr",
          "text": [
            "WARNING:tensorflow:Learning rate reduction is conditioned on metric `acc` which is not available. Available metrics are: loss,accuracy,val_loss,val_accuracy,lr\n"
          ]
        },
        {
          "output_type": "stream",
          "name": "stdout",
          "text": [
            "\b\b\b\b\b\b\b\b\b\b\b\b\b\b\b\b\b\b\b\b\b\b\b\b\b\b\b\b\b\b\b\b\b\b\b\b\b\b\b\b\b\b\b\b\b\b\b\b\b\b\b\b\b\b\b\b\b\b\b\b\b\b\b\b\b\b\b\b\b\b\b\b\b\b\b\b\b\b\b\b\r8/8 [==============================] - 1s 82ms/step - loss: 0.1526 - accuracy: 0.9878 - val_loss: 2.1259 - val_accuracy: 0.4900 - lr: 0.0010\n",
            "Epoch 126/400\n",
            "7/8 [=========================>....] - ETA: 0s - loss: 0.1387 - accuracy: 0.9955"
          ]
        },
        {
          "output_type": "stream",
          "name": "stderr",
          "text": [
            "WARNING:tensorflow:Learning rate reduction is conditioned on metric `acc` which is not available. Available metrics are: loss,accuracy,val_loss,val_accuracy,lr\n"
          ]
        },
        {
          "output_type": "stream",
          "name": "stdout",
          "text": [
            "\b\b\b\b\b\b\b\b\b\b\b\b\b\b\b\b\b\b\b\b\b\b\b\b\b\b\b\b\b\b\b\b\b\b\b\b\b\b\b\b\b\b\b\b\b\b\b\b\b\b\b\b\b\b\b\b\b\b\b\b\b\b\b\b\b\b\b\b\b\b\b\b\b\b\b\b\b\b\b\b\r8/8 [==============================] - 1s 82ms/step - loss: 0.1410 - accuracy: 0.9944 - val_loss: 2.7364 - val_accuracy: 0.4800 - lr: 0.0010\n",
            "Epoch 127/400\n",
            "7/8 [=========================>....] - ETA: 0s - loss: 0.3057 - accuracy: 0.9475"
          ]
        },
        {
          "output_type": "stream",
          "name": "stderr",
          "text": [
            "WARNING:tensorflow:Learning rate reduction is conditioned on metric `acc` which is not available. Available metrics are: loss,accuracy,val_loss,val_accuracy,lr\n"
          ]
        },
        {
          "output_type": "stream",
          "name": "stdout",
          "text": [
            "\b\b\b\b\b\b\b\b\b\b\b\b\b\b\b\b\b\b\b\b\b\b\b\b\b\b\b\b\b\b\b\b\b\b\b\b\b\b\b\b\b\b\b\b\b\b\b\b\b\b\b\b\b\b\b\b\b\b\b\b\b\b\b\b\b\b\b\b\b\b\b\b\b\b\b\b\b\b\b\b\r8/8 [==============================] - 1s 82ms/step - loss: 0.3050 - accuracy: 0.9478 - val_loss: 4.5833 - val_accuracy: 0.3800 - lr: 0.0010\n",
            "Epoch 128/400\n",
            "7/8 [=========================>....] - ETA: 0s - loss: 0.2089 - accuracy: 0.9699"
          ]
        },
        {
          "output_type": "stream",
          "name": "stderr",
          "text": [
            "WARNING:tensorflow:Learning rate reduction is conditioned on metric `acc` which is not available. Available metrics are: loss,accuracy,val_loss,val_accuracy,lr\n"
          ]
        },
        {
          "output_type": "stream",
          "name": "stdout",
          "text": [
            "\b\b\b\b\b\b\b\b\b\b\b\b\b\b\b\b\b\b\b\b\b\b\b\b\b\b\b\b\b\b\b\b\b\b\b\b\b\b\b\b\b\b\b\b\b\b\b\b\b\b\b\b\b\b\b\b\b\b\b\b\b\b\b\b\b\b\b\b\b\b\b\b\b\b\b\b\b\b\b\b\r8/8 [==============================] - 1s 82ms/step - loss: 0.2094 - accuracy: 0.9700 - val_loss: 3.1680 - val_accuracy: 0.4100 - lr: 0.0010\n",
            "Epoch 129/400\n",
            "7/8 [=========================>....] - ETA: 0s - loss: 0.1852 - accuracy: 0.9855"
          ]
        },
        {
          "output_type": "stream",
          "name": "stderr",
          "text": [
            "WARNING:tensorflow:Learning rate reduction is conditioned on metric `acc` which is not available. Available metrics are: loss,accuracy,val_loss,val_accuracy,lr\n"
          ]
        },
        {
          "output_type": "stream",
          "name": "stdout",
          "text": [
            "\b\b\b\b\b\b\b\b\b\b\b\b\b\b\b\b\b\b\b\b\b\b\b\b\b\b\b\b\b\b\b\b\b\b\b\b\b\b\b\b\b\b\b\b\b\b\b\b\b\b\b\b\b\b\b\b\b\b\b\b\b\b\b\b\b\b\b\b\b\b\b\b\b\b\b\b\b\b\b\b\r8/8 [==============================] - 1s 83ms/step - loss: 0.1859 - accuracy: 0.9856 - val_loss: 2.8731 - val_accuracy: 0.4000 - lr: 0.0010\n",
            "Epoch 130/400\n",
            "7/8 [=========================>....] - ETA: 0s - loss: 0.1699 - accuracy: 0.9866"
          ]
        },
        {
          "output_type": "stream",
          "name": "stderr",
          "text": [
            "WARNING:tensorflow:Learning rate reduction is conditioned on metric `acc` which is not available. Available metrics are: loss,accuracy,val_loss,val_accuracy,lr\n"
          ]
        },
        {
          "output_type": "stream",
          "name": "stdout",
          "text": [
            "\b\b\b\b\b\b\b\b\b\b\b\b\b\b\b\b\b\b\b\b\b\b\b\b\b\b\b\b\b\b\b\b\b\b\b\b\b\b\b\b\b\b\b\b\b\b\b\b\b\b\b\b\b\b\b\b\b\b\b\b\b\b\b\b\b\b\b\b\b\b\b\b\b\b\b\b\b\b\b\b\r8/8 [==============================] - 1s 81ms/step - loss: 0.1701 - accuracy: 0.9867 - val_loss: 2.9361 - val_accuracy: 0.4100 - lr: 0.0010\n",
            "Epoch 131/400\n",
            "7/8 [=========================>....] - ETA: 0s - loss: 0.1749 - accuracy: 0.9866"
          ]
        },
        {
          "output_type": "stream",
          "name": "stderr",
          "text": [
            "WARNING:tensorflow:Learning rate reduction is conditioned on metric `acc` which is not available. Available metrics are: loss,accuracy,val_loss,val_accuracy,lr\n"
          ]
        },
        {
          "output_type": "stream",
          "name": "stdout",
          "text": [
            "\b\b\b\b\b\b\b\b\b\b\b\b\b\b\b\b\b\b\b\b\b\b\b\b\b\b\b\b\b\b\b\b\b\b\b\b\b\b\b\b\b\b\b\b\b\b\b\b\b\b\b\b\b\b\b\b\b\b\b\b\b\b\b\b\b\b\b\b\b\b\b\b\b\b\b\b\b\b\b\b\r8/8 [==============================] - 1s 81ms/step - loss: 0.1752 - accuracy: 0.9867 - val_loss: 2.8076 - val_accuracy: 0.4300 - lr: 0.0010\n",
            "Epoch 132/400\n",
            "7/8 [=========================>....] - ETA: 0s - loss: 0.1656 - accuracy: 0.9888"
          ]
        },
        {
          "output_type": "stream",
          "name": "stderr",
          "text": [
            "WARNING:tensorflow:Learning rate reduction is conditioned on metric `acc` which is not available. Available metrics are: loss,accuracy,val_loss,val_accuracy,lr\n"
          ]
        },
        {
          "output_type": "stream",
          "name": "stdout",
          "text": [
            "\b\b\b\b\b\b\b\b\b\b\b\b\b\b\b\b\b\b\b\b\b\b\b\b\b\b\b\b\b\b\b\b\b\b\b\b\b\b\b\b\b\b\b\b\b\b\b\b\b\b\b\b\b\b\b\b\b\b\b\b\b\b\b\b\b\b\b\b\b\b\b\b\b\b\b\b\b\b\b\b\r8/8 [==============================] - 1s 81ms/step - loss: 0.1658 - accuracy: 0.9889 - val_loss: 5.6083 - val_accuracy: 0.2000 - lr: 0.0010\n",
            "Epoch 133/400\n",
            "7/8 [=========================>....] - ETA: 0s - loss: 0.1472 - accuracy: 0.9900"
          ]
        },
        {
          "output_type": "stream",
          "name": "stderr",
          "text": [
            "WARNING:tensorflow:Learning rate reduction is conditioned on metric `acc` which is not available. Available metrics are: loss,accuracy,val_loss,val_accuracy,lr\n"
          ]
        },
        {
          "output_type": "stream",
          "name": "stdout",
          "text": [
            "\b\b\b\b\b\b\b\b\b\b\b\b\b\b\b\b\b\b\b\b\b\b\b\b\b\b\b\b\b\b\b\b\b\b\b\b\b\b\b\b\b\b\b\b\b\b\b\b\b\b\b\b\b\b\b\b\b\b\b\b\b\b\b\b\b\b\b\b\b\b\b\b\b\b\b\b\b\b\b\b\r8/8 [==============================] - 1s 81ms/step - loss: 0.1472 - accuracy: 0.9900 - val_loss: 2.8080 - val_accuracy: 0.4300 - lr: 0.0010\n",
            "Epoch 134/400\n",
            "7/8 [=========================>....] - ETA: 0s - loss: 0.1358 - accuracy: 0.9944"
          ]
        },
        {
          "output_type": "stream",
          "name": "stderr",
          "text": [
            "WARNING:tensorflow:Learning rate reduction is conditioned on metric `acc` which is not available. Available metrics are: loss,accuracy,val_loss,val_accuracy,lr\n"
          ]
        },
        {
          "output_type": "stream",
          "name": "stdout",
          "text": [
            "\b\b\b\b\b\b\b\b\b\b\b\b\b\b\b\b\b\b\b\b\b\b\b\b\b\b\b\b\b\b\b\b\b\b\b\b\b\b\b\b\b\b\b\b\b\b\b\b\b\b\b\b\b\b\b\b\b\b\b\b\b\b\b\b\b\b\b\b\b\b\b\b\b\b\b\b\b\b\b\b\r8/8 [==============================] - 1s 82ms/step - loss: 0.1360 - accuracy: 0.9944 - val_loss: 2.5509 - val_accuracy: 0.4300 - lr: 0.0010\n",
            "Epoch 135/400\n",
            "7/8 [=========================>....] - ETA: 0s - loss: 0.1386 - accuracy: 0.9933"
          ]
        },
        {
          "output_type": "stream",
          "name": "stderr",
          "text": [
            "WARNING:tensorflow:Learning rate reduction is conditioned on metric `acc` which is not available. Available metrics are: loss,accuracy,val_loss,val_accuracy,lr\n"
          ]
        },
        {
          "output_type": "stream",
          "name": "stdout",
          "text": [
            "\b\b\b\b\b\b\b\b\b\b\b\b\b\b\b\b\b\b\b\b\b\b\b\b\b\b\b\b\b\b\b\b\b\b\b\b\b\b\b\b\b\b\b\b\b\b\b\b\b\b\b\b\b\b\b\b\b\b\b\b\b\b\b\b\b\b\b\b\b\b\b\b\b\b\b\b\b\b\b\b\r8/8 [==============================] - 1s 80ms/step - loss: 0.1385 - accuracy: 0.9933 - val_loss: 2.8476 - val_accuracy: 0.3700 - lr: 0.0010\n",
            "Epoch 136/400\n",
            "7/8 [=========================>....] - ETA: 0s - loss: 0.1356 - accuracy: 0.9933"
          ]
        },
        {
          "output_type": "stream",
          "name": "stderr",
          "text": [
            "WARNING:tensorflow:Learning rate reduction is conditioned on metric `acc` which is not available. Available metrics are: loss,accuracy,val_loss,val_accuracy,lr\n"
          ]
        },
        {
          "output_type": "stream",
          "name": "stdout",
          "text": [
            "\b\b\b\b\b\b\b\b\b\b\b\b\b\b\b\b\b\b\b\b\b\b\b\b\b\b\b\b\b\b\b\b\b\b\b\b\b\b\b\b\b\b\b\b\b\b\b\b\b\b\b\b\b\b\b\b\b\b\b\b\b\b\b\b\b\b\b\b\b\b\b\b\b\b\b\b\b\b\b\b\r8/8 [==============================] - 1s 83ms/step - loss: 0.1356 - accuracy: 0.9933 - val_loss: 2.2822 - val_accuracy: 0.4400 - lr: 0.0010\n",
            "Epoch 137/400\n",
            "7/8 [=========================>....] - ETA: 0s - loss: 0.1252 - accuracy: 0.9967"
          ]
        },
        {
          "output_type": "stream",
          "name": "stderr",
          "text": [
            "WARNING:tensorflow:Learning rate reduction is conditioned on metric `acc` which is not available. Available metrics are: loss,accuracy,val_loss,val_accuracy,lr\n"
          ]
        },
        {
          "output_type": "stream",
          "name": "stdout",
          "text": [
            "\b\b\b\b\b\b\b\b\b\b\b\b\b\b\b\b\b\b\b\b\b\b\b\b\b\b\b\b\b\b\b\b\b\b\b\b\b\b\b\b\b\b\b\b\b\b\b\b\b\b\b\b\b\b\b\b\b\b\b\b\b\b\b\b\b\b\b\b\b\b\b\b\b\b\b\b\b\b\b\b\r8/8 [==============================] - 1s 81ms/step - loss: 0.1252 - accuracy: 0.9967 - val_loss: 1.7669 - val_accuracy: 0.4900 - lr: 0.0010\n",
            "Epoch 138/400\n",
            "7/8 [=========================>....] - ETA: 0s - loss: 0.1203 - accuracy: 0.9978"
          ]
        },
        {
          "output_type": "stream",
          "name": "stderr",
          "text": [
            "WARNING:tensorflow:Learning rate reduction is conditioned on metric `acc` which is not available. Available metrics are: loss,accuracy,val_loss,val_accuracy,lr\n"
          ]
        },
        {
          "output_type": "stream",
          "name": "stdout",
          "text": [
            "\b\b\b\b\b\b\b\b\b\b\b\b\b\b\b\b\b\b\b\b\b\b\b\b\b\b\b\b\b\b\b\b\b\b\b\b\b\b\b\b\b\b\b\b\b\b\b\b\b\b\b\b\b\b\b\b\b\b\b\b\b\b\b\b\b\b\b\b\b\b\b\b\b\b\b\b\b\b\b\b\r8/8 [==============================] - 1s 89ms/step - loss: 0.1209 - accuracy: 0.9978 - val_loss: 1.8187 - val_accuracy: 0.5100 - lr: 0.0010\n",
            "Epoch 139/400\n",
            "7/8 [=========================>....] - ETA: 0s - loss: 0.1593 - accuracy: 0.9833"
          ]
        },
        {
          "output_type": "stream",
          "name": "stderr",
          "text": [
            "WARNING:tensorflow:Learning rate reduction is conditioned on metric `acc` which is not available. Available metrics are: loss,accuracy,val_loss,val_accuracy,lr\n"
          ]
        },
        {
          "output_type": "stream",
          "name": "stdout",
          "text": [
            "\b\b\b\b\b\b\b\b\b\b\b\b\b\b\b\b\b\b\b\b\b\b\b\b\b\b\b\b\b\b\b\b\b\b\b\b\b\b\b\b\b\b\b\b\b\b\b\b\b\b\b\b\b\b\b\b\b\b\b\b\b\b\b\b\b\b\b\b\b\b\b\b\b\b\b\b\b\b\b\b\r8/8 [==============================] - 1s 86ms/step - loss: 0.1600 - accuracy: 0.9833 - val_loss: 2.5842 - val_accuracy: 0.4500 - lr: 0.0010\n",
            "Epoch 140/400\n",
            "7/8 [=========================>....] - ETA: 0s - loss: 0.1660 - accuracy: 0.9877"
          ]
        },
        {
          "output_type": "stream",
          "name": "stderr",
          "text": [
            "WARNING:tensorflow:Learning rate reduction is conditioned on metric `acc` which is not available. Available metrics are: loss,accuracy,val_loss,val_accuracy,lr\n"
          ]
        },
        {
          "output_type": "stream",
          "name": "stdout",
          "text": [
            "\b\b\b\b\b\b\b\b\b\b\b\b\b\b\b\b\b\b\b\b\b\b\b\b\b\b\b\b\b\b\b\b\b\b\b\b\b\b\b\b\b\b\b\b\b\b\b\b\b\b\b\b\b\b\b\b\b\b\b\b\b\b\b\b\b\b\b\b\b\b\b\b\b\b\b\b\b\b\b\b\r8/8 [==============================] - 1s 86ms/step - loss: 0.1677 - accuracy: 0.9856 - val_loss: 3.4084 - val_accuracy: 0.4400 - lr: 0.0010\n",
            "Epoch 141/400\n",
            "7/8 [=========================>....] - ETA: 0s - loss: 0.3453 - accuracy: 0.9286"
          ]
        },
        {
          "output_type": "stream",
          "name": "stderr",
          "text": [
            "WARNING:tensorflow:Learning rate reduction is conditioned on metric `acc` which is not available. Available metrics are: loss,accuracy,val_loss,val_accuracy,lr\n"
          ]
        },
        {
          "output_type": "stream",
          "name": "stdout",
          "text": [
            "\b\b\b\b\b\b\b\b\b\b\b\b\b\b\b\b\b\b\b\b\b\b\b\b\b\b\b\b\b\b\b\b\b\b\b\b\b\b\b\b\b\b\b\b\b\b\b\b\b\b\b\b\b\b\b\b\b\b\b\b\b\b\b\b\b\b\b\b\b\b\b\b\b\b\b\b\b\b\b\b\r8/8 [==============================] - 1s 84ms/step - loss: 0.3536 - accuracy: 0.9267 - val_loss: 4.4533 - val_accuracy: 0.4000 - lr: 0.0010\n",
            "Epoch 142/400\n",
            "7/8 [=========================>....] - ETA: 0s - loss: 0.3672 - accuracy: 0.9241"
          ]
        },
        {
          "output_type": "stream",
          "name": "stderr",
          "text": [
            "WARNING:tensorflow:Learning rate reduction is conditioned on metric `acc` which is not available. Available metrics are: loss,accuracy,val_loss,val_accuracy,lr\n"
          ]
        },
        {
          "output_type": "stream",
          "name": "stdout",
          "text": [
            "\b\b\b\b\b\b\b\b\b\b\b\b\b\b\b\b\b\b\b\b\b\b\b\b\b\b\b\b\b\b\b\b\b\b\b\b\b\b\b\b\b\b\b\b\b\b\b\b\b\b\b\b\b\b\b\b\b\b\b\b\b\b\b\b\b\b\b\b\b\b\b\b\b\b\b\b\b\b\b\b\r8/8 [==============================] - 1s 83ms/step - loss: 0.3697 - accuracy: 0.9233 - val_loss: 6.4024 - val_accuracy: 0.2800 - lr: 0.0010\n",
            "Epoch 143/400\n",
            "7/8 [=========================>....] - ETA: 0s - loss: 0.5727 - accuracy: 0.8873"
          ]
        },
        {
          "output_type": "stream",
          "name": "stderr",
          "text": [
            "WARNING:tensorflow:Learning rate reduction is conditioned on metric `acc` which is not available. Available metrics are: loss,accuracy,val_loss,val_accuracy,lr\n"
          ]
        },
        {
          "output_type": "stream",
          "name": "stdout",
          "text": [
            "\b\b\b\b\b\b\b\b\b\b\b\b\b\b\b\b\b\b\b\b\b\b\b\b\b\b\b\b\b\b\b\b\b\b\b\b\b\b\b\b\b\b\b\b\b\b\b\b\b\b\b\b\b\b\b\b\b\b\b\b\b\b\b\b\b\b\b\b\b\b\b\b\b\b\b\b\b\b\b\b\r8/8 [==============================] - 1s 82ms/step - loss: 0.5710 - accuracy: 0.8878 - val_loss: 5.8509 - val_accuracy: 0.2900 - lr: 0.0010\n",
            "Epoch 144/400\n",
            "7/8 [=========================>....] - ETA: 0s - loss: 0.2672 - accuracy: 0.9576"
          ]
        },
        {
          "output_type": "stream",
          "name": "stderr",
          "text": [
            "WARNING:tensorflow:Learning rate reduction is conditioned on metric `acc` which is not available. Available metrics are: loss,accuracy,val_loss,val_accuracy,lr\n"
          ]
        },
        {
          "output_type": "stream",
          "name": "stdout",
          "text": [
            "\b\b\b\b\b\b\b\b\b\b\b\b\b\b\b\b\b\b\b\b\b\b\b\b\b\b\b\b\b\b\b\b\b\b\b\b\b\b\b\b\b\b\b\b\b\b\b\b\b\b\b\b\b\b\b\b\b\b\b\b\b\b\b\b\b\b\b\b\b\b\b\b\b\b\b\b\b\b\b\b\r8/8 [==============================] - 1s 82ms/step - loss: 0.2708 - accuracy: 0.9556 - val_loss: 3.0294 - val_accuracy: 0.3600 - lr: 0.0010\n",
            "Epoch 145/400\n",
            "7/8 [=========================>....] - ETA: 0s - loss: 0.3040 - accuracy: 0.9364"
          ]
        },
        {
          "output_type": "stream",
          "name": "stderr",
          "text": [
            "WARNING:tensorflow:Learning rate reduction is conditioned on metric `acc` which is not available. Available metrics are: loss,accuracy,val_loss,val_accuracy,lr\n"
          ]
        },
        {
          "output_type": "stream",
          "name": "stdout",
          "text": [
            "\b\b\b\b\b\b\b\b\b\b\b\b\b\b\b\b\b\b\b\b\b\b\b\b\b\b\b\b\b\b\b\b\b\b\b\b\b\b\b\b\b\b\b\b\b\b\b\b\b\b\b\b\b\b\b\b\b\b\b\b\b\b\b\b\b\b\b\b\b\b\b\b\b\b\b\b\b\b\b\b\r8/8 [==============================] - 1s 81ms/step - loss: 0.3038 - accuracy: 0.9367 - val_loss: 4.7888 - val_accuracy: 0.3500 - lr: 0.0010\n",
            "Epoch 146/400\n",
            "7/8 [=========================>....] - ETA: 0s - loss: 0.2697 - accuracy: 0.9554"
          ]
        },
        {
          "output_type": "stream",
          "name": "stderr",
          "text": [
            "WARNING:tensorflow:Learning rate reduction is conditioned on metric `acc` which is not available. Available metrics are: loss,accuracy,val_loss,val_accuracy,lr\n"
          ]
        },
        {
          "output_type": "stream",
          "name": "stdout",
          "text": [
            "\b\b\b\b\b\b\b\b\b\b\b\b\b\b\b\b\b\b\b\b\b\b\b\b\b\b\b\b\b\b\b\b\b\b\b\b\b\b\b\b\b\b\b\b\b\b\b\b\b\b\b\b\b\b\b\b\b\b\b\b\b\b\b\b\b\b\b\b\b\b\b\b\b\b\b\b\b\b\b\b\r8/8 [==============================] - 1s 82ms/step - loss: 0.2692 - accuracy: 0.9556 - val_loss: 4.9702 - val_accuracy: 0.3300 - lr: 0.0010\n",
            "Epoch 147/400\n",
            "7/8 [=========================>....] - ETA: 0s - loss: 0.2077 - accuracy: 0.9777"
          ]
        },
        {
          "output_type": "stream",
          "name": "stderr",
          "text": [
            "WARNING:tensorflow:Learning rate reduction is conditioned on metric `acc` which is not available. Available metrics are: loss,accuracy,val_loss,val_accuracy,lr\n"
          ]
        },
        {
          "output_type": "stream",
          "name": "stdout",
          "text": [
            "\b\b\b\b\b\b\b\b\b\b\b\b\b\b\b\b\b\b\b\b\b\b\b\b\b\b\b\b\b\b\b\b\b\b\b\b\b\b\b\b\b\b\b\b\b\b\b\b\b\b\b\b\b\b\b\b\b\b\b\b\b\b\b\b\b\b\b\b\b\b\b\b\b\b\b\b\b\b\b\b\r8/8 [==============================] - 1s 80ms/step - loss: 0.2081 - accuracy: 0.9778 - val_loss: 3.1193 - val_accuracy: 0.4400 - lr: 0.0010\n",
            "Epoch 148/400\n",
            "7/8 [=========================>....] - ETA: 0s - loss: 0.1672 - accuracy: 0.9911"
          ]
        },
        {
          "output_type": "stream",
          "name": "stderr",
          "text": [
            "WARNING:tensorflow:Learning rate reduction is conditioned on metric `acc` which is not available. Available metrics are: loss,accuracy,val_loss,val_accuracy,lr\n"
          ]
        },
        {
          "output_type": "stream",
          "name": "stdout",
          "text": [
            "\b\b\b\b\b\b\b\b\b\b\b\b\b\b\b\b\b\b\b\b\b\b\b\b\b\b\b\b\b\b\b\b\b\b\b\b\b\b\b\b\b\b\b\b\b\b\b\b\b\b\b\b\b\b\b\b\b\b\b\b\b\b\b\b\b\b\b\b\b\b\b\b\b\b\b\b\b\b\b\b\r8/8 [==============================] - 1s 80ms/step - loss: 0.1670 - accuracy: 0.9911 - val_loss: 2.3481 - val_accuracy: 0.4500 - lr: 0.0010\n",
            "Epoch 149/400\n",
            "7/8 [=========================>....] - ETA: 0s - loss: 0.1579 - accuracy: 0.9944"
          ]
        },
        {
          "output_type": "stream",
          "name": "stderr",
          "text": [
            "WARNING:tensorflow:Learning rate reduction is conditioned on metric `acc` which is not available. Available metrics are: loss,accuracy,val_loss,val_accuracy,lr\n"
          ]
        },
        {
          "output_type": "stream",
          "name": "stdout",
          "text": [
            "\b\b\b\b\b\b\b\b\b\b\b\b\b\b\b\b\b\b\b\b\b\b\b\b\b\b\b\b\b\b\b\b\b\b\b\b\b\b\b\b\b\b\b\b\b\b\b\b\b\b\b\b\b\b\b\b\b\b\b\b\b\b\b\b\b\b\b\b\b\b\b\b\b\b\b\b\b\b\b\b\r8/8 [==============================] - 1s 81ms/step - loss: 0.1577 - accuracy: 0.9944 - val_loss: 2.3091 - val_accuracy: 0.4300 - lr: 0.0010\n",
            "Epoch 150/400\n",
            "7/8 [=========================>....] - ETA: 0s - loss: 0.1422 - accuracy: 0.9955"
          ]
        },
        {
          "output_type": "stream",
          "name": "stderr",
          "text": [
            "WARNING:tensorflow:Learning rate reduction is conditioned on metric `acc` which is not available. Available metrics are: loss,accuracy,val_loss,val_accuracy,lr\n"
          ]
        },
        {
          "output_type": "stream",
          "name": "stdout",
          "text": [
            "\b\b\b\b\b\b\b\b\b\b\b\b\b\b\b\b\b\b\b\b\b\b\b\b\b\b\b\b\b\b\b\b\b\b\b\b\b\b\b\b\b\b\b\b\b\b\b\b\b\b\b\b\b\b\b\b\b\b\b\b\b\b\b\b\b\b\b\b\b\b\b\b\b\b\b\b\b\b\b\b\r8/8 [==============================] - 1s 81ms/step - loss: 0.1434 - accuracy: 0.9944 - val_loss: 2.3929 - val_accuracy: 0.4500 - lr: 0.0010\n",
            "Epoch 151/400\n",
            "7/8 [=========================>....] - ETA: 0s - loss: 0.2015 - accuracy: 0.9699"
          ]
        },
        {
          "output_type": "stream",
          "name": "stderr",
          "text": [
            "WARNING:tensorflow:Learning rate reduction is conditioned on metric `acc` which is not available. Available metrics are: loss,accuracy,val_loss,val_accuracy,lr\n"
          ]
        },
        {
          "output_type": "stream",
          "name": "stdout",
          "text": [
            "\b\b\b\b\b\b\b\b\b\b\b\b\b\b\b\b\b\b\b\b\b\b\b\b\b\b\b\b\b\b\b\b\b\b\b\b\b\b\b\b\b\b\b\b\b\b\b\b\b\b\b\b\b\b\b\b\b\b\b\b\b\b\b\b\b\b\b\b\b\b\b\b\b\b\b\b\b\b\b\b\r8/8 [==============================] - 1s 80ms/step - loss: 0.2052 - accuracy: 0.9678 - val_loss: 5.2576 - val_accuracy: 0.3000 - lr: 0.0010\n",
            "Epoch 152/400\n",
            "7/8 [=========================>....] - ETA: 0s - loss: 0.4385 - accuracy: 0.8940"
          ]
        },
        {
          "output_type": "stream",
          "name": "stderr",
          "text": [
            "WARNING:tensorflow:Learning rate reduction is conditioned on metric `acc` which is not available. Available metrics are: loss,accuracy,val_loss,val_accuracy,lr\n"
          ]
        },
        {
          "output_type": "stream",
          "name": "stdout",
          "text": [
            "\b\b\b\b\b\b\b\b\b\b\b\b\b\b\b\b\b\b\b\b\b\b\b\b\b\b\b\b\b\b\b\b\b\b\b\b\b\b\b\b\b\b\b\b\b\b\b\b\b\b\b\b\b\b\b\b\b\b\b\b\b\b\b\b\b\b\b\b\b\b\b\b\b\b\b\b\b\b\b\b\r8/8 [==============================] - 1s 81ms/step - loss: 0.4388 - accuracy: 0.8933 - val_loss: 3.6054 - val_accuracy: 0.3700 - lr: 0.0010\n",
            "Epoch 153/400\n",
            "7/8 [=========================>....] - ETA: 0s - loss: 0.4014 - accuracy: 0.9107"
          ]
        },
        {
          "output_type": "stream",
          "name": "stderr",
          "text": [
            "WARNING:tensorflow:Learning rate reduction is conditioned on metric `acc` which is not available. Available metrics are: loss,accuracy,val_loss,val_accuracy,lr\n"
          ]
        },
        {
          "output_type": "stream",
          "name": "stdout",
          "text": [
            "\b\b\b\b\b\b\b\b\b\b\b\b\b\b\b\b\b\b\b\b\b\b\b\b\b\b\b\b\b\b\b\b\b\b\b\b\b\b\b\b\b\b\b\b\b\b\b\b\b\b\b\b\b\b\b\b\b\b\b\b\b\b\b\b\b\b\b\b\b\b\b\b\b\b\b\b\b\b\b\b\r8/8 [==============================] - 1s 82ms/step - loss: 0.4108 - accuracy: 0.9100 - val_loss: 5.9343 - val_accuracy: 0.3100 - lr: 0.0010\n",
            "Epoch 154/400\n",
            "7/8 [=========================>....] - ETA: 0s - loss: 0.3525 - accuracy: 0.9219"
          ]
        },
        {
          "output_type": "stream",
          "name": "stderr",
          "text": [
            "WARNING:tensorflow:Learning rate reduction is conditioned on metric `acc` which is not available. Available metrics are: loss,accuracy,val_loss,val_accuracy,lr\n"
          ]
        },
        {
          "output_type": "stream",
          "name": "stdout",
          "text": [
            "\b\b\b\b\b\b\b\b\b\b\b\b\b\b\b\b\b\b\b\b\b\b\b\b\b\b\b\b\b\b\b\b\b\b\b\b\b\b\b\b\b\b\b\b\b\b\b\b\b\b\b\b\b\b\b\b\b\b\b\b\b\b\b\b\b\b\b\b\b\b\b\b\b\b\b\b\b\b\b\b\r8/8 [==============================] - 1s 81ms/step - loss: 0.3518 - accuracy: 0.9222 - val_loss: 17.9155 - val_accuracy: 0.1200 - lr: 0.0010\n",
            "Epoch 155/400\n",
            "7/8 [=========================>....] - ETA: 0s - loss: 0.3485 - accuracy: 0.9442"
          ]
        },
        {
          "output_type": "stream",
          "name": "stderr",
          "text": [
            "WARNING:tensorflow:Learning rate reduction is conditioned on metric `acc` which is not available. Available metrics are: loss,accuracy,val_loss,val_accuracy,lr\n"
          ]
        },
        {
          "output_type": "stream",
          "name": "stdout",
          "text": [
            "\b\b\b\b\b\b\b\b\b\b\b\b\b\b\b\b\b\b\b\b\b\b\b\b\b\b\b\b\b\b\b\b\b\b\b\b\b\b\b\b\b\b\b\b\b\b\b\b\b\b\b\b\b\b\b\b\b\b\b\b\b\b\b\b\b\b\b\b\b\b\b\b\b\b\b\b\b\b\b\b\r8/8 [==============================] - 1s 80ms/step - loss: 0.3545 - accuracy: 0.9422 - val_loss: 7.9222 - val_accuracy: 0.2500 - lr: 0.0010\n",
            "Epoch 156/400\n",
            "7/8 [=========================>....] - ETA: 0s - loss: 0.2845 - accuracy: 0.9587"
          ]
        },
        {
          "output_type": "stream",
          "name": "stderr",
          "text": [
            "WARNING:tensorflow:Learning rate reduction is conditioned on metric `acc` which is not available. Available metrics are: loss,accuracy,val_loss,val_accuracy,lr\n"
          ]
        },
        {
          "output_type": "stream",
          "name": "stdout",
          "text": [
            "\b\b\b\b\b\b\b\b\b\b\b\b\b\b\b\b\b\b\b\b\b\b\b\b\b\b\b\b\b\b\b\b\b\b\b\b\b\b\b\b\b\b\b\b\b\b\b\b\b\b\b\b\b\b\b\b\b\b\b\b\b\b\b\b\b\b\b\b\b\b\b\b\b\b\b\b\b\b\b\b\r8/8 [==============================] - 1s 86ms/step - loss: 0.2866 - accuracy: 0.9567 - val_loss: 3.0128 - val_accuracy: 0.4300 - lr: 0.0010\n",
            "Epoch 157/400\n",
            "7/8 [=========================>....] - ETA: 0s - loss: 0.3200 - accuracy: 0.9487"
          ]
        },
        {
          "output_type": "stream",
          "name": "stderr",
          "text": [
            "WARNING:tensorflow:Learning rate reduction is conditioned on metric `acc` which is not available. Available metrics are: loss,accuracy,val_loss,val_accuracy,lr\n"
          ]
        },
        {
          "output_type": "stream",
          "name": "stdout",
          "text": [
            "\b\b\b\b\b\b\b\b\b\b\b\b\b\b\b\b\b\b\b\b\b\b\b\b\b\b\b\b\b\b\b\b\b\b\b\b\b\b\b\b\b\b\b\b\b\b\b\b\b\b\b\b\b\b\b\b\b\b\b\b\b\b\b\b\b\b\b\b\b\b\b\b\b\b\b\b\b\b\b\b\r8/8 [==============================] - 1s 85ms/step - loss: 0.3206 - accuracy: 0.9478 - val_loss: 3.8081 - val_accuracy: 0.3700 - lr: 0.0010\n",
            "Epoch 158/400\n",
            "7/8 [=========================>....] - ETA: 0s - loss: 0.3111 - accuracy: 0.9386"
          ]
        },
        {
          "output_type": "stream",
          "name": "stderr",
          "text": [
            "WARNING:tensorflow:Learning rate reduction is conditioned on metric `acc` which is not available. Available metrics are: loss,accuracy,val_loss,val_accuracy,lr\n"
          ]
        },
        {
          "output_type": "stream",
          "name": "stdout",
          "text": [
            "\b\b\b\b\b\b\b\b\b\b\b\b\b\b\b\b\b\b\b\b\b\b\b\b\b\b\b\b\b\b\b\b\b\b\b\b\b\b\b\b\b\b\b\b\b\b\b\b\b\b\b\b\b\b\b\b\b\b\b\b\b\b\b\b\b\b\b\b\b\b\b\b\b\b\b\b\b\b\b\b\r8/8 [==============================] - 1s 86ms/step - loss: 0.3104 - accuracy: 0.9389 - val_loss: 3.4268 - val_accuracy: 0.3300 - lr: 0.0010\n",
            "Epoch 159/400\n",
            "7/8 [=========================>....] - ETA: 0s - loss: 0.2284 - accuracy: 0.9699"
          ]
        },
        {
          "output_type": "stream",
          "name": "stderr",
          "text": [
            "WARNING:tensorflow:Learning rate reduction is conditioned on metric `acc` which is not available. Available metrics are: loss,accuracy,val_loss,val_accuracy,lr\n"
          ]
        },
        {
          "output_type": "stream",
          "name": "stdout",
          "text": [
            "\b\b\b\b\b\b\b\b\b\b\b\b\b\b\b\b\b\b\b\b\b\b\b\b\b\b\b\b\b\b\b\b\b\b\b\b\b\b\b\b\b\b\b\b\b\b\b\b\b\b\b\b\b\b\b\b\b\b\b\b\b\b\b\b\b\b\b\b\b\b\b\b\b\b\b\b\b\b\b\b\r8/8 [==============================] - 1s 90ms/step - loss: 0.2280 - accuracy: 0.9700 - val_loss: 2.6561 - val_accuracy: 0.4000 - lr: 0.0010\n",
            "Epoch 160/400\n",
            "7/8 [=========================>....] - ETA: 0s - loss: 0.1749 - accuracy: 0.9922"
          ]
        },
        {
          "output_type": "stream",
          "name": "stderr",
          "text": [
            "WARNING:tensorflow:Learning rate reduction is conditioned on metric `acc` which is not available. Available metrics are: loss,accuracy,val_loss,val_accuracy,lr\n"
          ]
        },
        {
          "output_type": "stream",
          "name": "stdout",
          "text": [
            "\b\b\b\b\b\b\b\b\b\b\b\b\b\b\b\b\b\b\b\b\b\b\b\b\b\b\b\b\b\b\b\b\b\b\b\b\b\b\b\b\b\b\b\b\b\b\b\b\b\b\b\b\b\b\b\b\b\b\b\b\b\b\b\b\b\b\b\b\b\b\b\b\b\b\b\b\b\b\b\b\r8/8 [==============================] - 1s 84ms/step - loss: 0.1778 - accuracy: 0.9911 - val_loss: 4.2689 - val_accuracy: 0.2700 - lr: 0.0010\n",
            "Epoch 161/400\n",
            "7/8 [=========================>....] - ETA: 0s - loss: 0.2783 - accuracy: 0.9520"
          ]
        },
        {
          "output_type": "stream",
          "name": "stderr",
          "text": [
            "WARNING:tensorflow:Learning rate reduction is conditioned on metric `acc` which is not available. Available metrics are: loss,accuracy,val_loss,val_accuracy,lr\n"
          ]
        },
        {
          "output_type": "stream",
          "name": "stdout",
          "text": [
            "\b\b\b\b\b\b\b\b\b\b\b\b\b\b\b\b\b\b\b\b\b\b\b\b\b\b\b\b\b\b\b\b\b\b\b\b\b\b\b\b\b\b\b\b\b\b\b\b\b\b\b\b\b\b\b\b\b\b\b\b\b\b\b\b\b\b\b\b\b\b\b\b\b\b\b\b\b\b\b\b\r8/8 [==============================] - 1s 81ms/step - loss: 0.2788 - accuracy: 0.9522 - val_loss: 3.5858 - val_accuracy: 0.3300 - lr: 0.0010\n",
            "Epoch 162/400\n",
            "7/8 [=========================>....] - ETA: 0s - loss: 0.2491 - accuracy: 0.9688"
          ]
        },
        {
          "output_type": "stream",
          "name": "stderr",
          "text": [
            "WARNING:tensorflow:Learning rate reduction is conditioned on metric `acc` which is not available. Available metrics are: loss,accuracy,val_loss,val_accuracy,lr\n"
          ]
        },
        {
          "output_type": "stream",
          "name": "stdout",
          "text": [
            "\b\b\b\b\b\b\b\b\b\b\b\b\b\b\b\b\b\b\b\b\b\b\b\b\b\b\b\b\b\b\b\b\b\b\b\b\b\b\b\b\b\b\b\b\b\b\b\b\b\b\b\b\b\b\b\b\b\b\b\b\b\b\b\b\b\b\b\b\b\b\b\b\b\b\b\b\b\b\b\b\r8/8 [==============================] - 1s 82ms/step - loss: 0.2490 - accuracy: 0.9689 - val_loss: 3.3973 - val_accuracy: 0.3200 - lr: 0.0010\n",
            "Epoch 163/400\n",
            "7/8 [=========================>....] - ETA: 0s - loss: 0.2075 - accuracy: 0.9721"
          ]
        },
        {
          "output_type": "stream",
          "name": "stderr",
          "text": [
            "WARNING:tensorflow:Learning rate reduction is conditioned on metric `acc` which is not available. Available metrics are: loss,accuracy,val_loss,val_accuracy,lr\n"
          ]
        },
        {
          "output_type": "stream",
          "name": "stdout",
          "text": [
            "\b\b\b\b\b\b\b\b\b\b\b\b\b\b\b\b\b\b\b\b\b\b\b\b\b\b\b\b\b\b\b\b\b\b\b\b\b\b\b\b\b\b\b\b\b\b\b\b\b\b\b\b\b\b\b\b\b\b\b\b\b\b\b\b\b\b\b\b\b\b\b\b\b\b\b\b\b\b\b\b\r8/8 [==============================] - 1s 82ms/step - loss: 0.2120 - accuracy: 0.9700 - val_loss: 7.1341 - val_accuracy: 0.1900 - lr: 0.0010\n",
            "Epoch 164/400\n",
            "7/8 [=========================>....] - ETA: 0s - loss: 0.4408 - accuracy: 0.9085"
          ]
        },
        {
          "output_type": "stream",
          "name": "stderr",
          "text": [
            "WARNING:tensorflow:Learning rate reduction is conditioned on metric `acc` which is not available. Available metrics are: loss,accuracy,val_loss,val_accuracy,lr\n"
          ]
        },
        {
          "output_type": "stream",
          "name": "stdout",
          "text": [
            "\b\b\b\b\b\b\b\b\b\b\b\b\b\b\b\b\b\b\b\b\b\b\b\b\b\b\b\b\b\b\b\b\b\b\b\b\b\b\b\b\b\b\b\b\b\b\b\b\b\b\b\b\b\b\b\b\b\b\b\b\b\b\b\b\b\b\b\b\b\b\b\b\b\b\b\b\b\b\b\b\r8/8 [==============================] - 1s 82ms/step - loss: 0.4476 - accuracy: 0.9067 - val_loss: 4.6376 - val_accuracy: 0.3300 - lr: 0.0010\n",
            "Epoch 165/400\n",
            "7/8 [=========================>....] - ETA: 0s - loss: 0.4506 - accuracy: 0.8795"
          ]
        },
        {
          "output_type": "stream",
          "name": "stderr",
          "text": [
            "WARNING:tensorflow:Learning rate reduction is conditioned on metric `acc` which is not available. Available metrics are: loss,accuracy,val_loss,val_accuracy,lr\n"
          ]
        },
        {
          "output_type": "stream",
          "name": "stdout",
          "text": [
            "\b\b\b\b\b\b\b\b\b\b\b\b\b\b\b\b\b\b\b\b\b\b\b\b\b\b\b\b\b\b\b\b\b\b\b\b\b\b\b\b\b\b\b\b\b\b\b\b\b\b\b\b\b\b\b\b\b\b\b\b\b\b\b\b\b\b\b\b\b\b\b\b\b\b\b\b\b\b\b\b\r8/8 [==============================] - 1s 83ms/step - loss: 0.4663 - accuracy: 0.8778 - val_loss: 6.0776 - val_accuracy: 0.2900 - lr: 0.0010\n",
            "Epoch 166/400\n",
            "7/8 [=========================>....] - ETA: 0s - loss: 0.5389 - accuracy: 0.8504"
          ]
        },
        {
          "output_type": "stream",
          "name": "stderr",
          "text": [
            "WARNING:tensorflow:Learning rate reduction is conditioned on metric `acc` which is not available. Available metrics are: loss,accuracy,val_loss,val_accuracy,lr\n"
          ]
        },
        {
          "output_type": "stream",
          "name": "stdout",
          "text": [
            "\b\b\b\b\b\b\b\b\b\b\b\b\b\b\b\b\b\b\b\b\b\b\b\b\b\b\b\b\b\b\b\b\b\b\b\b\b\b\b\b\b\b\b\b\b\b\b\b\b\b\b\b\b\b\b\b\b\b\b\b\b\b\b\b\b\b\b\b\b\b\b\b\b\b\b\b\b\b\b\b\r8/8 [==============================] - 1s 81ms/step - loss: 0.5382 - accuracy: 0.8511 - val_loss: 4.8427 - val_accuracy: 0.3700 - lr: 0.0010\n",
            "Epoch 167/400\n",
            "7/8 [=========================>....] - ETA: 0s - loss: 0.4604 - accuracy: 0.8817"
          ]
        },
        {
          "output_type": "stream",
          "name": "stderr",
          "text": [
            "WARNING:tensorflow:Learning rate reduction is conditioned on metric `acc` which is not available. Available metrics are: loss,accuracy,val_loss,val_accuracy,lr\n"
          ]
        },
        {
          "output_type": "stream",
          "name": "stdout",
          "text": [
            "\b\b\b\b\b\b\b\b\b\b\b\b\b\b\b\b\b\b\b\b\b\b\b\b\b\b\b\b\b\b\b\b\b\b\b\b\b\b\b\b\b\b\b\b\b\b\b\b\b\b\b\b\b\b\b\b\b\b\b\b\b\b\b\b\b\b\b\b\b\b\b\b\b\b\b\b\b\b\b\b\r8/8 [==============================] - 1s 81ms/step - loss: 0.4616 - accuracy: 0.8811 - val_loss: 3.7526 - val_accuracy: 0.3800 - lr: 0.0010\n",
            "Epoch 168/400\n",
            "7/8 [=========================>....] - ETA: 0s - loss: 0.4413 - accuracy: 0.9107"
          ]
        },
        {
          "output_type": "stream",
          "name": "stderr",
          "text": [
            "WARNING:tensorflow:Learning rate reduction is conditioned on metric `acc` which is not available. Available metrics are: loss,accuracy,val_loss,val_accuracy,lr\n"
          ]
        },
        {
          "output_type": "stream",
          "name": "stdout",
          "text": [
            "\b\b\b\b\b\b\b\b\b\b\b\b\b\b\b\b\b\b\b\b\b\b\b\b\b\b\b\b\b\b\b\b\b\b\b\b\b\b\b\b\b\b\b\b\b\b\b\b\b\b\b\b\b\b\b\b\b\b\b\b\b\b\b\b\b\b\b\b\b\b\b\b\b\b\b\b\b\b\b\b\r8/8 [==============================] - 1s 81ms/step - loss: 0.4405 - accuracy: 0.9111 - val_loss: 5.2021 - val_accuracy: 0.3500 - lr: 0.0010\n",
            "Epoch 169/400\n",
            "7/8 [=========================>....] - ETA: 0s - loss: 0.2815 - accuracy: 0.9643"
          ]
        },
        {
          "output_type": "stream",
          "name": "stderr",
          "text": [
            "WARNING:tensorflow:Learning rate reduction is conditioned on metric `acc` which is not available. Available metrics are: loss,accuracy,val_loss,val_accuracy,lr\n"
          ]
        },
        {
          "output_type": "stream",
          "name": "stdout",
          "text": [
            "\b\b\b\b\b\b\b\b\b\b\b\b\b\b\b\b\b\b\b\b\b\b\b\b\b\b\b\b\b\b\b\b\b\b\b\b\b\b\b\b\b\b\b\b\b\b\b\b\b\b\b\b\b\b\b\b\b\b\b\b\b\b\b\b\b\b\b\b\b\b\b\b\b\b\b\b\b\b\b\b\r8/8 [==============================] - 1s 81ms/step - loss: 0.2821 - accuracy: 0.9644 - val_loss: 3.3739 - val_accuracy: 0.3100 - lr: 0.0010\n",
            "Epoch 170/400\n",
            "7/8 [=========================>....] - ETA: 0s - loss: 0.2808 - accuracy: 0.9464"
          ]
        },
        {
          "output_type": "stream",
          "name": "stderr",
          "text": [
            "WARNING:tensorflow:Learning rate reduction is conditioned on metric `acc` which is not available. Available metrics are: loss,accuracy,val_loss,val_accuracy,lr\n"
          ]
        },
        {
          "output_type": "stream",
          "name": "stdout",
          "text": [
            "\b\b\b\b\b\b\b\b\b\b\b\b\b\b\b\b\b\b\b\b\b\b\b\b\b\b\b\b\b\b\b\b\b\b\b\b\b\b\b\b\b\b\b\b\b\b\b\b\b\b\b\b\b\b\b\b\b\b\b\b\b\b\b\b\b\b\b\b\b\b\b\b\b\b\b\b\b\b\b\b\r8/8 [==============================] - 1s 80ms/step - loss: 0.2837 - accuracy: 0.9456 - val_loss: 3.4378 - val_accuracy: 0.3800 - lr: 0.0010\n",
            "Epoch 171/400\n",
            "7/8 [=========================>....] - ETA: 0s - loss: 0.3041 - accuracy: 0.9442"
          ]
        },
        {
          "output_type": "stream",
          "name": "stderr",
          "text": [
            "WARNING:tensorflow:Learning rate reduction is conditioned on metric `acc` which is not available. Available metrics are: loss,accuracy,val_loss,val_accuracy,lr\n"
          ]
        },
        {
          "output_type": "stream",
          "name": "stdout",
          "text": [
            "\b\b\b\b\b\b\b\b\b\b\b\b\b\b\b\b\b\b\b\b\b\b\b\b\b\b\b\b\b\b\b\b\b\b\b\b\b\b\b\b\b\b\b\b\b\b\b\b\b\b\b\b\b\b\b\b\b\b\b\b\b\b\b\b\b\b\b\b\b\b\b\b\b\b\b\b\b\b\b\b\r8/8 [==============================] - 1s 81ms/step - loss: 0.3092 - accuracy: 0.9433 - val_loss: 3.7697 - val_accuracy: 0.3300 - lr: 0.0010\n",
            "Epoch 172/400\n",
            "7/8 [=========================>....] - ETA: 0s - loss: 0.5464 - accuracy: 0.8839"
          ]
        },
        {
          "output_type": "stream",
          "name": "stderr",
          "text": [
            "WARNING:tensorflow:Learning rate reduction is conditioned on metric `acc` which is not available. Available metrics are: loss,accuracy,val_loss,val_accuracy,lr\n"
          ]
        },
        {
          "output_type": "stream",
          "name": "stdout",
          "text": [
            "\b\b\b\b\b\b\b\b\b\b\b\b\b\b\b\b\b\b\b\b\b\b\b\b\b\b\b\b\b\b\b\b\b\b\b\b\b\b\b\b\b\b\b\b\b\b\b\b\b\b\b\b\b\b\b\b\b\b\b\b\b\b\b\b\b\b\b\b\b\b\b\b\b\b\b\b\b\b\b\b\r8/8 [==============================] - 1s 82ms/step - loss: 0.5555 - accuracy: 0.8833 - val_loss: 8.7261 - val_accuracy: 0.2100 - lr: 0.0010\n",
            "Epoch 173/400\n",
            "7/8 [=========================>....] - ETA: 0s - loss: 0.5855 - accuracy: 0.9040"
          ]
        },
        {
          "output_type": "stream",
          "name": "stderr",
          "text": [
            "WARNING:tensorflow:Learning rate reduction is conditioned on metric `acc` which is not available. Available metrics are: loss,accuracy,val_loss,val_accuracy,lr\n"
          ]
        },
        {
          "output_type": "stream",
          "name": "stdout",
          "text": [
            "\b\b\b\b\b\b\b\b\b\b\b\b\b\b\b\b\b\b\b\b\b\b\b\b\b\b\b\b\b\b\b\b\b\b\b\b\b\b\b\b\b\b\b\b\b\b\b\b\b\b\b\b\b\b\b\b\b\b\b\b\b\b\b\b\b\b\b\b\b\b\b\b\b\b\b\b\b\b\b\b\r8/8 [==============================] - 1s 87ms/step - loss: 0.5944 - accuracy: 0.9011 - val_loss: 5.7987 - val_accuracy: 0.3200 - lr: 0.0010\n",
            "Epoch 174/400\n",
            "7/8 [=========================>....] - ETA: 0s - loss: 0.9279 - accuracy: 0.7667"
          ]
        },
        {
          "output_type": "stream",
          "name": "stderr",
          "text": [
            "WARNING:tensorflow:Learning rate reduction is conditioned on metric `acc` which is not available. Available metrics are: loss,accuracy,val_loss,val_accuracy,lr\n"
          ]
        },
        {
          "output_type": "stream",
          "name": "stdout",
          "text": [
            "\b\b\b\b\b\b\b\b\b\b\b\b\b\b\b\b\b\b\b\b\b\b\b\b\b\b\b\b\b\b\b\b\b\b\b\b\b\b\b\b\b\b\b\b\b\b\b\b\b\b\b\b\b\b\b\b\b\b\b\b\b\b\b\b\b\b\b\b\b\b\b\b\b\b\b\b\b\b\b\b\r8/8 [==============================] - 1s 81ms/step - loss: 0.9315 - accuracy: 0.7656 - val_loss: 7.0813 - val_accuracy: 0.2700 - lr: 0.0010\n",
            "Epoch 175/400\n",
            "7/8 [=========================>....] - ETA: 0s - loss: 0.5721 - accuracy: 0.8538"
          ]
        },
        {
          "output_type": "stream",
          "name": "stderr",
          "text": [
            "WARNING:tensorflow:Learning rate reduction is conditioned on metric `acc` which is not available. Available metrics are: loss,accuracy,val_loss,val_accuracy,lr\n"
          ]
        },
        {
          "output_type": "stream",
          "name": "stdout",
          "text": [
            "\b\b\b\b\b\b\b\b\b\b\b\b\b\b\b\b\b\b\b\b\b\b\b\b\b\b\b\b\b\b\b\b\b\b\b\b\b\b\b\b\b\b\b\b\b\b\b\b\b\b\b\b\b\b\b\b\b\b\b\b\b\b\b\b\b\b\b\b\b\b\b\b\b\b\b\b\b\b\b\b\r8/8 [==============================] - 1s 89ms/step - loss: 0.5756 - accuracy: 0.8522 - val_loss: 8.8581 - val_accuracy: 0.2200 - lr: 0.0010\n",
            "Epoch 176/400\n",
            "7/8 [=========================>....] - ETA: 0s - loss: 0.6208 - accuracy: 0.8426"
          ]
        },
        {
          "output_type": "stream",
          "name": "stderr",
          "text": [
            "WARNING:tensorflow:Learning rate reduction is conditioned on metric `acc` which is not available. Available metrics are: loss,accuracy,val_loss,val_accuracy,lr\n"
          ]
        },
        {
          "output_type": "stream",
          "name": "stdout",
          "text": [
            "\b\b\b\b\b\b\b\b\b\b\b\b\b\b\b\b\b\b\b\b\b\b\b\b\b\b\b\b\b\b\b\b\b\b\b\b\b\b\b\b\b\b\b\b\b\b\b\b\b\b\b\b\b\b\b\b\b\b\b\b\b\b\b\b\b\b\b\b\b\b\b\b\b\b\b\b\b\b\b\b\r8/8 [==============================] - 1s 87ms/step - loss: 0.6245 - accuracy: 0.8400 - val_loss: 6.2246 - val_accuracy: 0.2300 - lr: 0.0010\n",
            "Epoch 177/400\n",
            "7/8 [=========================>....] - ETA: 0s - loss: 0.5351 - accuracy: 0.8583"
          ]
        },
        {
          "output_type": "stream",
          "name": "stderr",
          "text": [
            "WARNING:tensorflow:Learning rate reduction is conditioned on metric `acc` which is not available. Available metrics are: loss,accuracy,val_loss,val_accuracy,lr\n"
          ]
        },
        {
          "output_type": "stream",
          "name": "stdout",
          "text": [
            "\b\b\b\b\b\b\b\b\b\b\b\b\b\b\b\b\b\b\b\b\b\b\b\b\b\b\b\b\b\b\b\b\b\b\b\b\b\b\b\b\b\b\b\b\b\b\b\b\b\b\b\b\b\b\b\b\b\b\b\b\b\b\b\b\b\b\b\b\b\b\b\b\b\b\b\b\b\b\b\b\r8/8 [==============================] - 1s 85ms/step - loss: 0.5353 - accuracy: 0.8589 - val_loss: 5.4232 - val_accuracy: 0.2200 - lr: 0.0010\n",
            "Epoch 178/400\n",
            "7/8 [=========================>....] - ETA: 0s - loss: 0.3668 - accuracy: 0.9319"
          ]
        },
        {
          "output_type": "stream",
          "name": "stderr",
          "text": [
            "WARNING:tensorflow:Learning rate reduction is conditioned on metric `acc` which is not available. Available metrics are: loss,accuracy,val_loss,val_accuracy,lr\n"
          ]
        },
        {
          "output_type": "stream",
          "name": "stdout",
          "text": [
            "\b\b\b\b\b\b\b\b\b\b\b\b\b\b\b\b\b\b\b\b\b\b\b\b\b\b\b\b\b\b\b\b\b\b\b\b\b\b\b\b\b\b\b\b\b\b\b\b\b\b\b\b\b\b\b\b\b\b\b\b\b\b\b\b\b\b\b\b\b\b\b\b\b\b\b\b\b\b\b\b\r8/8 [==============================] - 1s 86ms/step - loss: 0.3659 - accuracy: 0.9322 - val_loss: 5.0623 - val_accuracy: 0.2700 - lr: 0.0010\n",
            "Epoch 179/400\n",
            "7/8 [=========================>....] - ETA: 0s - loss: 0.2967 - accuracy: 0.9509"
          ]
        },
        {
          "output_type": "stream",
          "name": "stderr",
          "text": [
            "WARNING:tensorflow:Learning rate reduction is conditioned on metric `acc` which is not available. Available metrics are: loss,accuracy,val_loss,val_accuracy,lr\n"
          ]
        },
        {
          "output_type": "stream",
          "name": "stdout",
          "text": [
            "\b\b\b\b\b\b\b\b\b\b\b\b\b\b\b\b\b\b\b\b\b\b\b\b\b\b\b\b\b\b\b\b\b\b\b\b\b\b\b\b\b\b\b\b\b\b\b\b\b\b\b\b\b\b\b\b\b\b\b\b\b\b\b\b\b\b\b\b\b\b\b\b\b\b\b\b\b\b\b\b\r8/8 [==============================] - 1s 84ms/step - loss: 0.2985 - accuracy: 0.9500 - val_loss: 2.9383 - val_accuracy: 0.4200 - lr: 0.0010\n",
            "Epoch 180/400\n",
            "7/8 [=========================>....] - ETA: 0s - loss: 0.3263 - accuracy: 0.9420"
          ]
        },
        {
          "output_type": "stream",
          "name": "stderr",
          "text": [
            "WARNING:tensorflow:Learning rate reduction is conditioned on metric `acc` which is not available. Available metrics are: loss,accuracy,val_loss,val_accuracy,lr\n"
          ]
        },
        {
          "output_type": "stream",
          "name": "stdout",
          "text": [
            "\b\b\b\b\b\b\b\b\b\b\b\b\b\b\b\b\b\b\b\b\b\b\b\b\b\b\b\b\b\b\b\b\b\b\b\b\b\b\b\b\b\b\b\b\b\b\b\b\b\b\b\b\b\b\b\b\b\b\b\b\b\b\b\b\b\b\b\b\b\b\b\b\b\b\b\b\b\b\b\b\r8/8 [==============================] - 1s 81ms/step - loss: 0.3326 - accuracy: 0.9400 - val_loss: 2.3613 - val_accuracy: 0.4800 - lr: 0.0010\n",
            "Epoch 181/400\n",
            "7/8 [=========================>....] - ETA: 0s - loss: 0.4315 - accuracy: 0.9107"
          ]
        },
        {
          "output_type": "stream",
          "name": "stderr",
          "text": [
            "WARNING:tensorflow:Learning rate reduction is conditioned on metric `acc` which is not available. Available metrics are: loss,accuracy,val_loss,val_accuracy,lr\n"
          ]
        },
        {
          "output_type": "stream",
          "name": "stdout",
          "text": [
            "\b\b\b\b\b\b\b\b\b\b\b\b\b\b\b\b\b\b\b\b\b\b\b\b\b\b\b\b\b\b\b\b\b\b\b\b\b\b\b\b\b\b\b\b\b\b\b\b\b\b\b\b\b\b\b\b\b\b\b\b\b\b\b\b\b\b\b\b\b\b\b\b\b\b\b\b\b\b\b\b\r8/8 [==============================] - 1s 81ms/step - loss: 0.4342 - accuracy: 0.9100 - val_loss: 5.8132 - val_accuracy: 0.1800 - lr: 0.0010\n",
            "Epoch 182/400\n",
            "7/8 [=========================>....] - ETA: 0s - loss: 0.2849 - accuracy: 0.9632"
          ]
        },
        {
          "output_type": "stream",
          "name": "stderr",
          "text": [
            "WARNING:tensorflow:Learning rate reduction is conditioned on metric `acc` which is not available. Available metrics are: loss,accuracy,val_loss,val_accuracy,lr\n"
          ]
        },
        {
          "output_type": "stream",
          "name": "stdout",
          "text": [
            "\b\b\b\b\b\b\b\b\b\b\b\b\b\b\b\b\b\b\b\b\b\b\b\b\b\b\b\b\b\b\b\b\b\b\b\b\b\b\b\b\b\b\b\b\b\b\b\b\b\b\b\b\b\b\b\b\b\b\b\b\b\b\b\b\b\b\b\b\b\b\b\b\b\b\b\b\b\b\b\b\r8/8 [==============================] - 1s 80ms/step - loss: 0.2857 - accuracy: 0.9633 - val_loss: 3.0304 - val_accuracy: 0.4200 - lr: 0.0010\n",
            "Epoch 183/400\n",
            "7/8 [=========================>....] - ETA: 0s - loss: 0.2677 - accuracy: 0.9766"
          ]
        },
        {
          "output_type": "stream",
          "name": "stderr",
          "text": [
            "WARNING:tensorflow:Learning rate reduction is conditioned on metric `acc` which is not available. Available metrics are: loss,accuracy,val_loss,val_accuracy,lr\n"
          ]
        },
        {
          "output_type": "stream",
          "name": "stdout",
          "text": [
            "\b\b\b\b\b\b\b\b\b\b\b\b\b\b\b\b\b\b\b\b\b\b\b\b\b\b\b\b\b\b\b\b\b\b\b\b\b\b\b\b\b\b\b\b\b\b\b\b\b\b\b\b\b\b\b\b\b\b\b\b\b\b\b\b\b\b\b\b\b\b\b\b\b\b\b\b\b\b\b\b\r8/8 [==============================] - 1s 83ms/step - loss: 0.2675 - accuracy: 0.9767 - val_loss: 3.4137 - val_accuracy: 0.4300 - lr: 0.0010\n",
            "Epoch 184/400\n",
            "7/8 [=========================>....] - ETA: 0s - loss: 0.2444 - accuracy: 0.9810"
          ]
        },
        {
          "output_type": "stream",
          "name": "stderr",
          "text": [
            "WARNING:tensorflow:Learning rate reduction is conditioned on metric `acc` which is not available. Available metrics are: loss,accuracy,val_loss,val_accuracy,lr\n"
          ]
        },
        {
          "output_type": "stream",
          "name": "stdout",
          "text": [
            "\b\b\b\b\b\b\b\b\b\b\b\b\b\b\b\b\b\b\b\b\b\b\b\b\b\b\b\b\b\b\b\b\b\b\b\b\b\b\b\b\b\b\b\b\b\b\b\b\b\b\b\b\b\b\b\b\b\b\b\b\b\b\b\b\b\b\b\b\b\b\b\b\b\b\b\b\b\b\b\b\r8/8 [==============================] - 1s 81ms/step - loss: 0.2443 - accuracy: 0.9811 - val_loss: 3.0071 - val_accuracy: 0.4500 - lr: 0.0010\n",
            "Epoch 185/400\n",
            "7/8 [=========================>....] - ETA: 0s - loss: 0.2107 - accuracy: 0.9855"
          ]
        },
        {
          "output_type": "stream",
          "name": "stderr",
          "text": [
            "WARNING:tensorflow:Learning rate reduction is conditioned on metric `acc` which is not available. Available metrics are: loss,accuracy,val_loss,val_accuracy,lr\n"
          ]
        },
        {
          "output_type": "stream",
          "name": "stdout",
          "text": [
            "\b\b\b\b\b\b\b\b\b\b\b\b\b\b\b\b\b\b\b\b\b\b\b\b\b\b\b\b\b\b\b\b\b\b\b\b\b\b\b\b\b\b\b\b\b\b\b\b\b\b\b\b\b\b\b\b\b\b\b\b\b\b\b\b\b\b\b\b\b\b\b\b\b\b\b\b\b\b\b\b\r8/8 [==============================] - 1s 86ms/step - loss: 0.2130 - accuracy: 0.9844 - val_loss: 2.2393 - val_accuracy: 0.4800 - lr: 0.0010\n",
            "Epoch 186/400\n",
            "7/8 [=========================>....] - ETA: 0s - loss: 0.2095 - accuracy: 0.9888"
          ]
        },
        {
          "output_type": "stream",
          "name": "stderr",
          "text": [
            "WARNING:tensorflow:Learning rate reduction is conditioned on metric `acc` which is not available. Available metrics are: loss,accuracy,val_loss,val_accuracy,lr\n"
          ]
        },
        {
          "output_type": "stream",
          "name": "stdout",
          "text": [
            "\b\b\b\b\b\b\b\b\b\b\b\b\b\b\b\b\b\b\b\b\b\b\b\b\b\b\b\b\b\b\b\b\b\b\b\b\b\b\b\b\b\b\b\b\b\b\b\b\b\b\b\b\b\b\b\b\b\b\b\b\b\b\b\b\b\b\b\b\b\b\b\b\b\b\b\b\b\b\b\b\r8/8 [==============================] - 1s 87ms/step - loss: 0.2097 - accuracy: 0.9889 - val_loss: 1.9556 - val_accuracy: 0.5400 - lr: 0.0010\n",
            "Epoch 187/400\n",
            "7/8 [=========================>....] - ETA: 0s - loss: 0.2334 - accuracy: 0.9766"
          ]
        },
        {
          "output_type": "stream",
          "name": "stderr",
          "text": [
            "WARNING:tensorflow:Learning rate reduction is conditioned on metric `acc` which is not available. Available metrics are: loss,accuracy,val_loss,val_accuracy,lr\n"
          ]
        },
        {
          "output_type": "stream",
          "name": "stdout",
          "text": [
            "\b\b\b\b\b\b\b\b\b\b\b\b\b\b\b\b\b\b\b\b\b\b\b\b\b\b\b\b\b\b\b\b\b\b\b\b\b\b\b\b\b\b\b\b\b\b\b\b\b\b\b\b\b\b\b\b\b\b\b\b\b\b\b\b\b\b\b\b\b\b\b\b\b\b\b\b\b\b\b\b\r8/8 [==============================] - 1s 82ms/step - loss: 0.2345 - accuracy: 0.9756 - val_loss: 2.0543 - val_accuracy: 0.4900 - lr: 0.0010\n",
            "Epoch 188/400\n",
            "7/8 [=========================>....] - ETA: 0s - loss: 0.2499 - accuracy: 0.9743"
          ]
        },
        {
          "output_type": "stream",
          "name": "stderr",
          "text": [
            "WARNING:tensorflow:Learning rate reduction is conditioned on metric `acc` which is not available. Available metrics are: loss,accuracy,val_loss,val_accuracy,lr\n"
          ]
        },
        {
          "output_type": "stream",
          "name": "stdout",
          "text": [
            "\b\b\b\b\b\b\b\b\b\b\b\b\b\b\b\b\b\b\b\b\b\b\b\b\b\b\b\b\b\b\b\b\b\b\b\b\b\b\b\b\b\b\b\b\b\b\b\b\b\b\b\b\b\b\b\b\b\b\b\b\b\b\b\b\b\b\b\b\b\b\b\b\b\b\b\b\b\b\b\b\r8/8 [==============================] - 1s 82ms/step - loss: 0.2498 - accuracy: 0.9744 - val_loss: 2.1500 - val_accuracy: 0.4800 - lr: 0.0010\n",
            "Epoch 189/400\n",
            "7/8 [=========================>....] - ETA: 0s - loss: 0.2831 - accuracy: 0.9587"
          ]
        },
        {
          "output_type": "stream",
          "name": "stderr",
          "text": [
            "WARNING:tensorflow:Learning rate reduction is conditioned on metric `acc` which is not available. Available metrics are: loss,accuracy,val_loss,val_accuracy,lr\n"
          ]
        },
        {
          "output_type": "stream",
          "name": "stdout",
          "text": [
            "\b\b\b\b\b\b\b\b\b\b\b\b\b\b\b\b\b\b\b\b\b\b\b\b\b\b\b\b\b\b\b\b\b\b\b\b\b\b\b\b\b\b\b\b\b\b\b\b\b\b\b\b\b\b\b\b\b\b\b\b\b\b\b\b\b\b\b\b\b\b\b\b\b\b\b\b\b\b\b\b\r8/8 [==============================] - 1s 81ms/step - loss: 0.2829 - accuracy: 0.9589 - val_loss: 1.9100 - val_accuracy: 0.5200 - lr: 0.0010\n",
            "Epoch 190/400\n",
            "7/8 [=========================>....] - ETA: 0s - loss: 0.1980 - accuracy: 0.9810"
          ]
        },
        {
          "output_type": "stream",
          "name": "stderr",
          "text": [
            "WARNING:tensorflow:Learning rate reduction is conditioned on metric `acc` which is not available. Available metrics are: loss,accuracy,val_loss,val_accuracy,lr\n"
          ]
        },
        {
          "output_type": "stream",
          "name": "stdout",
          "text": [
            "\b\b\b\b\b\b\b\b\b\b\b\b\b\b\b\b\b\b\b\b\b\b\b\b\b\b\b\b\b\b\b\b\b\b\b\b\b\b\b\b\b\b\b\b\b\b\b\b\b\b\b\b\b\b\b\b\b\b\b\b\b\b\b\b\b\b\b\b\b\b\b\b\b\b\b\b\b\b\b\b\r8/8 [==============================] - 1s 81ms/step - loss: 0.1984 - accuracy: 0.9811 - val_loss: 1.8973 - val_accuracy: 0.5100 - lr: 0.0010\n",
            "Epoch 191/400\n",
            "7/8 [=========================>....] - ETA: 0s - loss: 0.1833 - accuracy: 0.9888"
          ]
        },
        {
          "output_type": "stream",
          "name": "stderr",
          "text": [
            "WARNING:tensorflow:Learning rate reduction is conditioned on metric `acc` which is not available. Available metrics are: loss,accuracy,val_loss,val_accuracy,lr\n"
          ]
        },
        {
          "output_type": "stream",
          "name": "stdout",
          "text": [
            "\b\b\b\b\b\b\b\b\b\b\b\b\b\b\b\b\b\b\b\b\b\b\b\b\b\b\b\b\b\b\b\b\b\b\b\b\b\b\b\b\b\b\b\b\b\b\b\b\b\b\b\b\b\b\b\b\b\b\b\b\b\b\b\b\b\b\b\b\b\b\b\b\b\b\b\b\b\b\b\b\r8/8 [==============================] - 1s 82ms/step - loss: 0.1831 - accuracy: 0.9889 - val_loss: 1.9734 - val_accuracy: 0.5000 - lr: 0.0010\n",
            "Epoch 192/400\n",
            "7/8 [=========================>....] - ETA: 0s - loss: 0.1662 - accuracy: 0.9933"
          ]
        },
        {
          "output_type": "stream",
          "name": "stderr",
          "text": [
            "WARNING:tensorflow:Learning rate reduction is conditioned on metric `acc` which is not available. Available metrics are: loss,accuracy,val_loss,val_accuracy,lr\n"
          ]
        },
        {
          "output_type": "stream",
          "name": "stdout",
          "text": [
            "\b\b\b\b\b\b\b\b\b\b\b\b\b\b\b\b\b\b\b\b\b\b\b\b\b\b\b\b\b\b\b\b\b\b\b\b\b\b\b\b\b\b\b\b\b\b\b\b\b\b\b\b\b\b\b\b\b\b\b\b\b\b\b\b\b\b\b\b\b\b\b\b\b\b\b\b\b\b\b\b\r8/8 [==============================] - 1s 83ms/step - loss: 0.1664 - accuracy: 0.9933 - val_loss: 1.8491 - val_accuracy: 0.5200 - lr: 0.0010\n",
            "Epoch 193/400\n",
            "7/8 [=========================>....] - ETA: 0s - loss: 0.1497 - accuracy: 0.9955"
          ]
        },
        {
          "output_type": "stream",
          "name": "stderr",
          "text": [
            "WARNING:tensorflow:Learning rate reduction is conditioned on metric `acc` which is not available. Available metrics are: loss,accuracy,val_loss,val_accuracy,lr\n"
          ]
        },
        {
          "output_type": "stream",
          "name": "stdout",
          "text": [
            "\b\b\b\b\b\b\b\b\b\b\b\b\b\b\b\b\b\b\b\b\b\b\b\b\b\b\b\b\b\b\b\b\b\b\b\b\b\b\b\b\b\b\b\b\b\b\b\b\b\b\b\b\b\b\b\b\b\b\b\b\b\b\b\b\b\b\b\b\b\b\b\b\b\b\b\b\b\b\b\b\r8/8 [==============================] - 1s 82ms/step - loss: 0.1498 - accuracy: 0.9956 - val_loss: 1.8068 - val_accuracy: 0.6000 - lr: 0.0010\n",
            "Epoch 194/400\n",
            "7/8 [=========================>....] - ETA: 0s - loss: 0.1447 - accuracy: 0.9967"
          ]
        },
        {
          "output_type": "stream",
          "name": "stderr",
          "text": [
            "WARNING:tensorflow:Learning rate reduction is conditioned on metric `acc` which is not available. Available metrics are: loss,accuracy,val_loss,val_accuracy,lr\n"
          ]
        },
        {
          "output_type": "stream",
          "name": "stdout",
          "text": [
            "\b\b\b\b\b\b\b\b\b\b\b\b\b\b\b\b\b\b\b\b\b\b\b\b\b\b\b\b\b\b\b\b\b\b\b\b\b\b\b\b\b\b\b\b\b\b\b\b\b\b\b\b\b\b\b\b\b\b\b\b\b\b\b\b\b\b\b\b\b\b\b\b\b\b\b\b\b\b\b\b\r8/8 [==============================] - 1s 89ms/step - loss: 0.1456 - accuracy: 0.9967 - val_loss: 1.6690 - val_accuracy: 0.5800 - lr: 0.0010\n",
            "Epoch 195/400\n",
            "7/8 [=========================>....] - ETA: 0s - loss: 0.1546 - accuracy: 0.9922"
          ]
        },
        {
          "output_type": "stream",
          "name": "stderr",
          "text": [
            "WARNING:tensorflow:Learning rate reduction is conditioned on metric `acc` which is not available. Available metrics are: loss,accuracy,val_loss,val_accuracy,lr\n"
          ]
        },
        {
          "output_type": "stream",
          "name": "stdout",
          "text": [
            "\b\b\b\b\b\b\b\b\b\b\b\b\b\b\b\b\b\b\b\b\b\b\b\b\b\b\b\b\b\b\b\b\b\b\b\b\b\b\b\b\b\b\b\b\b\b\b\b\b\b\b\b\b\b\b\b\b\b\b\b\b\b\b\b\b\b\b\b\b\b\b\b\b\b\b\b\b\b\b\b\r8/8 [==============================] - 1s 85ms/step - loss: 0.1576 - accuracy: 0.9911 - val_loss: 1.8485 - val_accuracy: 0.5000 - lr: 0.0010\n",
            "Epoch 196/400\n",
            "7/8 [=========================>....] - ETA: 0s - loss: 0.1736 - accuracy: 0.9877"
          ]
        },
        {
          "output_type": "stream",
          "name": "stderr",
          "text": [
            "WARNING:tensorflow:Learning rate reduction is conditioned on metric `acc` which is not available. Available metrics are: loss,accuracy,val_loss,val_accuracy,lr\n"
          ]
        },
        {
          "output_type": "stream",
          "name": "stdout",
          "text": [
            "\b\b\b\b\b\b\b\b\b\b\b\b\b\b\b\b\b\b\b\b\b\b\b\b\b\b\b\b\b\b\b\b\b\b\b\b\b\b\b\b\b\b\b\b\b\b\b\b\b\b\b\b\b\b\b\b\b\b\b\b\b\b\b\b\b\b\b\b\b\b\b\b\b\b\b\b\b\b\b\b\r8/8 [==============================] - 1s 86ms/step - loss: 0.1745 - accuracy: 0.9878 - val_loss: 3.6908 - val_accuracy: 0.3300 - lr: 0.0010\n",
            "Epoch 197/400\n",
            "7/8 [=========================>....] - ETA: 0s - loss: 0.2090 - accuracy: 0.9743"
          ]
        },
        {
          "output_type": "stream",
          "name": "stderr",
          "text": [
            "WARNING:tensorflow:Learning rate reduction is conditioned on metric `acc` which is not available. Available metrics are: loss,accuracy,val_loss,val_accuracy,lr\n"
          ]
        },
        {
          "output_type": "stream",
          "name": "stdout",
          "text": [
            "\b\b\b\b\b\b\b\b\b\b\b\b\b\b\b\b\b\b\b\b\b\b\b\b\b\b\b\b\b\b\b\b\b\b\b\b\b\b\b\b\b\b\b\b\b\b\b\b\b\b\b\b\b\b\b\b\b\b\b\b\b\b\b\b\b\b\b\b\b\b\b\b\b\b\b\b\b\b\b\b\r8/8 [==============================] - 1s 82ms/step - loss: 0.2089 - accuracy: 0.9744 - val_loss: 3.4205 - val_accuracy: 0.3900 - lr: 0.0010\n",
            "Epoch 198/400\n",
            "7/8 [=========================>....] - ETA: 0s - loss: 0.1725 - accuracy: 0.9888"
          ]
        },
        {
          "output_type": "stream",
          "name": "stderr",
          "text": [
            "WARNING:tensorflow:Learning rate reduction is conditioned on metric `acc` which is not available. Available metrics are: loss,accuracy,val_loss,val_accuracy,lr\n"
          ]
        },
        {
          "output_type": "stream",
          "name": "stdout",
          "text": [
            "\b\b\b\b\b\b\b\b\b\b\b\b\b\b\b\b\b\b\b\b\b\b\b\b\b\b\b\b\b\b\b\b\b\b\b\b\b\b\b\b\b\b\b\b\b\b\b\b\b\b\b\b\b\b\b\b\b\b\b\b\b\b\b\b\b\b\b\b\b\b\b\b\b\b\b\b\b\b\b\b\r8/8 [==============================] - 1s 81ms/step - loss: 0.1726 - accuracy: 0.9889 - val_loss: 2.3251 - val_accuracy: 0.5400 - lr: 0.0010\n",
            "Epoch 199/400\n",
            "7/8 [=========================>....] - ETA: 0s - loss: 0.1548 - accuracy: 0.9955"
          ]
        },
        {
          "output_type": "stream",
          "name": "stderr",
          "text": [
            "WARNING:tensorflow:Learning rate reduction is conditioned on metric `acc` which is not available. Available metrics are: loss,accuracy,val_loss,val_accuracy,lr\n"
          ]
        },
        {
          "output_type": "stream",
          "name": "stdout",
          "text": [
            "\b\b\b\b\b\b\b\b\b\b\b\b\b\b\b\b\b\b\b\b\b\b\b\b\b\b\b\b\b\b\b\b\b\b\b\b\b\b\b\b\b\b\b\b\b\b\b\b\b\b\b\b\b\b\b\b\b\b\b\b\b\b\b\b\b\b\b\b\b\b\b\b\b\b\b\b\b\b\b\b\r8/8 [==============================] - 1s 82ms/step - loss: 0.1546 - accuracy: 0.9956 - val_loss: 2.3215 - val_accuracy: 0.5200 - lr: 0.0010\n",
            "Epoch 200/400\n",
            "7/8 [=========================>....] - ETA: 0s - loss: 0.1511 - accuracy: 0.9922"
          ]
        },
        {
          "output_type": "stream",
          "name": "stderr",
          "text": [
            "WARNING:tensorflow:Learning rate reduction is conditioned on metric `acc` which is not available. Available metrics are: loss,accuracy,val_loss,val_accuracy,lr\n"
          ]
        },
        {
          "output_type": "stream",
          "name": "stdout",
          "text": [
            "\b\b\b\b\b\b\b\b\b\b\b\b\b\b\b\b\b\b\b\b\b\b\b\b\b\b\b\b\b\b\b\b\b\b\b\b\b\b\b\b\b\b\b\b\b\b\b\b\b\b\b\b\b\b\b\b\b\b\b\b\b\b\b\b\b\b\b\b\b\b\b\b\b\b\b\b\b\b\b\b\r8/8 [==============================] - 1s 82ms/step - loss: 0.1576 - accuracy: 0.9900 - val_loss: 1.9354 - val_accuracy: 0.5300 - lr: 0.0010\n",
            "Epoch 201/400\n",
            "7/8 [=========================>....] - ETA: 0s - loss: 0.3507 - accuracy: 0.9230"
          ]
        },
        {
          "output_type": "stream",
          "name": "stderr",
          "text": [
            "WARNING:tensorflow:Learning rate reduction is conditioned on metric `acc` which is not available. Available metrics are: loss,accuracy,val_loss,val_accuracy,lr\n"
          ]
        },
        {
          "output_type": "stream",
          "name": "stdout",
          "text": [
            "\b\b\b\b\b\b\b\b\b\b\b\b\b\b\b\b\b\b\b\b\b\b\b\b\b\b\b\b\b\b\b\b\b\b\b\b\b\b\b\b\b\b\b\b\b\b\b\b\b\b\b\b\b\b\b\b\b\b\b\b\b\b\b\b\b\b\b\b\b\b\b\b\b\b\b\b\b\b\b\b\r8/8 [==============================] - 1s 82ms/step - loss: 0.3523 - accuracy: 0.9222 - val_loss: 7.2420 - val_accuracy: 0.2000 - lr: 0.0010\n",
            "Epoch 202/400\n",
            "7/8 [=========================>....] - ETA: 0s - loss: 0.2837 - accuracy: 0.9498"
          ]
        },
        {
          "output_type": "stream",
          "name": "stderr",
          "text": [
            "WARNING:tensorflow:Learning rate reduction is conditioned on metric `acc` which is not available. Available metrics are: loss,accuracy,val_loss,val_accuracy,lr\n"
          ]
        },
        {
          "output_type": "stream",
          "name": "stdout",
          "text": [
            "\b\b\b\b\b\b\b\b\b\b\b\b\b\b\b\b\b\b\b\b\b\b\b\b\b\b\b\b\b\b\b\b\b\b\b\b\b\b\b\b\b\b\b\b\b\b\b\b\b\b\b\b\b\b\b\b\b\b\b\b\b\b\b\b\b\b\b\b\b\b\b\b\b\b\b\b\b\b\b\b\r8/8 [==============================] - 1s 81ms/step - loss: 0.2844 - accuracy: 0.9489 - val_loss: 11.8091 - val_accuracy: 0.1600 - lr: 0.0010\n",
            "Epoch 203/400\n",
            "7/8 [=========================>....] - ETA: 0s - loss: 0.2471 - accuracy: 0.9643"
          ]
        },
        {
          "output_type": "stream",
          "name": "stderr",
          "text": [
            "WARNING:tensorflow:Learning rate reduction is conditioned on metric `acc` which is not available. Available metrics are: loss,accuracy,val_loss,val_accuracy,lr\n"
          ]
        },
        {
          "output_type": "stream",
          "name": "stdout",
          "text": [
            "\b\b\b\b\b\b\b\b\b\b\b\b\b\b\b\b\b\b\b\b\b\b\b\b\b\b\b\b\b\b\b\b\b\b\b\b\b\b\b\b\b\b\b\b\b\b\b\b\b\b\b\b\b\b\b\b\b\b\b\b\b\b\b\b\b\b\b\b\b\b\b\b\b\b\b\b\b\b\b\b\r8/8 [==============================] - 1s 82ms/step - loss: 0.2490 - accuracy: 0.9633 - val_loss: 7.1604 - val_accuracy: 0.2400 - lr: 0.0010\n",
            "Epoch 204/400\n",
            "7/8 [=========================>....] - ETA: 0s - loss: 0.2776 - accuracy: 0.9442"
          ]
        },
        {
          "output_type": "stream",
          "name": "stderr",
          "text": [
            "WARNING:tensorflow:Learning rate reduction is conditioned on metric `acc` which is not available. Available metrics are: loss,accuracy,val_loss,val_accuracy,lr\n"
          ]
        },
        {
          "output_type": "stream",
          "name": "stdout",
          "text": [
            "\b\b\b\b\b\b\b\b\b\b\b\b\b\b\b\b\b\b\b\b\b\b\b\b\b\b\b\b\b\b\b\b\b\b\b\b\b\b\b\b\b\b\b\b\b\b\b\b\b\b\b\b\b\b\b\b\b\b\b\b\b\b\b\b\b\b\b\b\b\b\b\b\b\b\b\b\b\b\b\b\r8/8 [==============================] - 1s 81ms/step - loss: 0.2776 - accuracy: 0.9444 - val_loss: 5.7235 - val_accuracy: 0.3100 - lr: 0.0010\n",
            "Epoch 205/400\n",
            "7/8 [=========================>....] - ETA: 0s - loss: 0.1938 - accuracy: 0.9821"
          ]
        },
        {
          "output_type": "stream",
          "name": "stderr",
          "text": [
            "WARNING:tensorflow:Learning rate reduction is conditioned on metric `acc` which is not available. Available metrics are: loss,accuracy,val_loss,val_accuracy,lr\n"
          ]
        },
        {
          "output_type": "stream",
          "name": "stdout",
          "text": [
            "\b\b\b\b\b\b\b\b\b\b\b\b\b\b\b\b\b\b\b\b\b\b\b\b\b\b\b\b\b\b\b\b\b\b\b\b\b\b\b\b\b\b\b\b\b\b\b\b\b\b\b\b\b\b\b\b\b\b\b\b\b\b\b\b\b\b\b\b\b\b\b\b\b\b\b\b\b\b\b\b\r8/8 [==============================] - 1s 82ms/step - loss: 0.1936 - accuracy: 0.9822 - val_loss: 3.0052 - val_accuracy: 0.4100 - lr: 0.0010\n",
            "Epoch 206/400\n",
            "7/8 [=========================>....] - ETA: 0s - loss: 0.1680 - accuracy: 0.9911"
          ]
        },
        {
          "output_type": "stream",
          "name": "stderr",
          "text": [
            "WARNING:tensorflow:Learning rate reduction is conditioned on metric `acc` which is not available. Available metrics are: loss,accuracy,val_loss,val_accuracy,lr\n"
          ]
        },
        {
          "output_type": "stream",
          "name": "stdout",
          "text": [
            "\b\b\b\b\b\b\b\b\b\b\b\b\b\b\b\b\b\b\b\b\b\b\b\b\b\b\b\b\b\b\b\b\b\b\b\b\b\b\b\b\b\b\b\b\b\b\b\b\b\b\b\b\b\b\b\b\b\b\b\b\b\b\b\b\b\b\b\b\b\b\b\b\b\b\b\b\b\b\b\b\r8/8 [==============================] - 1s 81ms/step - loss: 0.1692 - accuracy: 0.9900 - val_loss: 3.5937 - val_accuracy: 0.3500 - lr: 0.0010\n",
            "Epoch 207/400\n",
            "7/8 [=========================>....] - ETA: 0s - loss: 0.2211 - accuracy: 0.9665"
          ]
        },
        {
          "output_type": "stream",
          "name": "stderr",
          "text": [
            "WARNING:tensorflow:Learning rate reduction is conditioned on metric `acc` which is not available. Available metrics are: loss,accuracy,val_loss,val_accuracy,lr\n"
          ]
        },
        {
          "output_type": "stream",
          "name": "stdout",
          "text": [
            "\b\b\b\b\b\b\b\b\b\b\b\b\b\b\b\b\b\b\b\b\b\b\b\b\b\b\b\b\b\b\b\b\b\b\b\b\b\b\b\b\b\b\b\b\b\b\b\b\b\b\b\b\b\b\b\b\b\b\b\b\b\b\b\b\b\b\b\b\b\b\b\b\b\b\b\b\b\b\b\b\r8/8 [==============================] - 1s 81ms/step - loss: 0.2217 - accuracy: 0.9656 - val_loss: 5.2561 - val_accuracy: 0.2900 - lr: 0.0010\n",
            "Epoch 208/400\n",
            "7/8 [=========================>....] - ETA: 0s - loss: 0.1992 - accuracy: 0.9766"
          ]
        },
        {
          "output_type": "stream",
          "name": "stderr",
          "text": [
            "WARNING:tensorflow:Learning rate reduction is conditioned on metric `acc` which is not available. Available metrics are: loss,accuracy,val_loss,val_accuracy,lr\n"
          ]
        },
        {
          "output_type": "stream",
          "name": "stdout",
          "text": [
            "\b\b\b\b\b\b\b\b\b\b\b\b\b\b\b\b\b\b\b\b\b\b\b\b\b\b\b\b\b\b\b\b\b\b\b\b\b\b\b\b\b\b\b\b\b\b\b\b\b\b\b\b\b\b\b\b\b\b\b\b\b\b\b\b\b\b\b\b\b\b\b\b\b\b\b\b\b\b\b\b\r8/8 [==============================] - 1s 82ms/step - loss: 0.2015 - accuracy: 0.9756 - val_loss: 6.8782 - val_accuracy: 0.1400 - lr: 0.0010\n",
            "Epoch 209/400\n",
            "7/8 [=========================>....] - ETA: 0s - loss: 0.2000 - accuracy: 0.9788"
          ]
        },
        {
          "output_type": "stream",
          "name": "stderr",
          "text": [
            "WARNING:tensorflow:Learning rate reduction is conditioned on metric `acc` which is not available. Available metrics are: loss,accuracy,val_loss,val_accuracy,lr\n"
          ]
        },
        {
          "output_type": "stream",
          "name": "stdout",
          "text": [
            "\b\b\b\b\b\b\b\b\b\b\b\b\b\b\b\b\b\b\b\b\b\b\b\b\b\b\b\b\b\b\b\b\b\b\b\b\b\b\b\b\b\b\b\b\b\b\b\b\b\b\b\b\b\b\b\b\b\b\b\b\b\b\b\b\b\b\b\b\b\b\b\b\b\b\b\b\b\b\b\b\r8/8 [==============================] - 1s 88ms/step - loss: 0.2000 - accuracy: 0.9789 - val_loss: 4.2654 - val_accuracy: 0.3200 - lr: 0.0010\n",
            "Epoch 210/400\n",
            "7/8 [=========================>....] - ETA: 0s - loss: 0.1736 - accuracy: 0.9833"
          ]
        },
        {
          "output_type": "stream",
          "name": "stderr",
          "text": [
            "WARNING:tensorflow:Learning rate reduction is conditioned on metric `acc` which is not available. Available metrics are: loss,accuracy,val_loss,val_accuracy,lr\n"
          ]
        },
        {
          "output_type": "stream",
          "name": "stdout",
          "text": [
            "\b\b\b\b\b\b\b\b\b\b\b\b\b\b\b\b\b\b\b\b\b\b\b\b\b\b\b\b\b\b\b\b\b\b\b\b\b\b\b\b\b\b\b\b\b\b\b\b\b\b\b\b\b\b\b\b\b\b\b\b\b\b\b\b\b\b\b\b\b\b\b\b\b\b\b\b\b\b\b\b\r8/8 [==============================] - 1s 83ms/step - loss: 0.1736 - accuracy: 0.9833 - val_loss: 2.8864 - val_accuracy: 0.4000 - lr: 0.0010\n",
            "Epoch 211/400\n",
            "7/8 [=========================>....] - ETA: 0s - loss: 0.1546 - accuracy: 0.9900"
          ]
        },
        {
          "output_type": "stream",
          "name": "stderr",
          "text": [
            "WARNING:tensorflow:Learning rate reduction is conditioned on metric `acc` which is not available. Available metrics are: loss,accuracy,val_loss,val_accuracy,lr\n"
          ]
        },
        {
          "output_type": "stream",
          "name": "stdout",
          "text": [
            "\b\b\b\b\b\b\b\b\b\b\b\b\b\b\b\b\b\b\b\b\b\b\b\b\b\b\b\b\b\b\b\b\b\b\b\b\b\b\b\b\b\b\b\b\b\b\b\b\b\b\b\b\b\b\b\b\b\b\b\b\b\b\b\b\b\b\b\b\b\b\b\b\b\b\b\b\b\b\b\b\r8/8 [==============================] - 1s 84ms/step - loss: 0.1561 - accuracy: 0.9889 - val_loss: 2.7030 - val_accuracy: 0.3900 - lr: 0.0010\n",
            "Epoch 212/400\n",
            "7/8 [=========================>....] - ETA: 0s - loss: 0.1758 - accuracy: 0.9877"
          ]
        },
        {
          "output_type": "stream",
          "name": "stderr",
          "text": [
            "WARNING:tensorflow:Learning rate reduction is conditioned on metric `acc` which is not available. Available metrics are: loss,accuracy,val_loss,val_accuracy,lr\n"
          ]
        },
        {
          "output_type": "stream",
          "name": "stdout",
          "text": [
            "\b\b\b\b\b\b\b\b\b\b\b\b\b\b\b\b\b\b\b\b\b\b\b\b\b\b\b\b\b\b\b\b\b\b\b\b\b\b\b\b\b\b\b\b\b\b\b\b\b\b\b\b\b\b\b\b\b\b\b\b\b\b\b\b\b\b\b\b\b\b\b\b\b\b\b\b\b\b\b\b\r8/8 [==============================] - 1s 85ms/step - loss: 0.1764 - accuracy: 0.9878 - val_loss: 3.2599 - val_accuracy: 0.4400 - lr: 0.0010\n",
            "Epoch 213/400\n",
            "7/8 [=========================>....] - ETA: 0s - loss: 0.1719 - accuracy: 0.9855"
          ]
        },
        {
          "output_type": "stream",
          "name": "stderr",
          "text": [
            "WARNING:tensorflow:Learning rate reduction is conditioned on metric `acc` which is not available. Available metrics are: loss,accuracy,val_loss,val_accuracy,lr\n"
          ]
        },
        {
          "output_type": "stream",
          "name": "stdout",
          "text": [
            "\b\b\b\b\b\b\b\b\b\b\b\b\b\b\b\b\b\b\b\b\b\b\b\b\b\b\b\b\b\b\b\b\b\b\b\b\b\b\b\b\b\b\b\b\b\b\b\b\b\b\b\b\b\b\b\b\b\b\b\b\b\b\b\b\b\b\b\b\b\b\b\b\b\b\b\b\b\b\b\b\r8/8 [==============================] - 1s 86ms/step - loss: 0.1717 - accuracy: 0.9856 - val_loss: 2.3546 - val_accuracy: 0.4800 - lr: 0.0010\n",
            "Epoch 214/400\n",
            "7/8 [=========================>....] - ETA: 0s - loss: 0.1518 - accuracy: 0.9944"
          ]
        },
        {
          "output_type": "stream",
          "name": "stderr",
          "text": [
            "WARNING:tensorflow:Learning rate reduction is conditioned on metric `acc` which is not available. Available metrics are: loss,accuracy,val_loss,val_accuracy,lr\n"
          ]
        },
        {
          "output_type": "stream",
          "name": "stdout",
          "text": [
            "\b\b\b\b\b\b\b\b\b\b\b\b\b\b\b\b\b\b\b\b\b\b\b\b\b\b\b\b\b\b\b\b\b\b\b\b\b\b\b\b\b\b\b\b\b\b\b\b\b\b\b\b\b\b\b\b\b\b\b\b\b\b\b\b\b\b\b\b\b\b\b\b\b\b\b\b\b\b\b\b\r8/8 [==============================] - 1s 85ms/step - loss: 0.1517 - accuracy: 0.9944 - val_loss: 2.0231 - val_accuracy: 0.4800 - lr: 0.0010\n",
            "Epoch 215/400\n",
            "7/8 [=========================>....] - ETA: 0s - loss: 0.1388 - accuracy: 0.9955"
          ]
        },
        {
          "output_type": "stream",
          "name": "stderr",
          "text": [
            "WARNING:tensorflow:Learning rate reduction is conditioned on metric `acc` which is not available. Available metrics are: loss,accuracy,val_loss,val_accuracy,lr\n"
          ]
        },
        {
          "output_type": "stream",
          "name": "stdout",
          "text": [
            "\b\b\b\b\b\b\b\b\b\b\b\b\b\b\b\b\b\b\b\b\b\b\b\b\b\b\b\b\b\b\b\b\b\b\b\b\b\b\b\b\b\b\b\b\b\b\b\b\b\b\b\b\b\b\b\b\b\b\b\b\b\b\b\b\b\b\b\b\b\b\b\b\b\b\b\b\b\b\b\b\r8/8 [==============================] - 1s 87ms/step - loss: 0.1417 - accuracy: 0.9944 - val_loss: 2.3031 - val_accuracy: 0.4700 - lr: 0.0010\n",
            "Epoch 216/400\n",
            "7/8 [=========================>....] - ETA: 0s - loss: 0.2750 - accuracy: 0.9565"
          ]
        },
        {
          "output_type": "stream",
          "name": "stderr",
          "text": [
            "WARNING:tensorflow:Learning rate reduction is conditioned on metric `acc` which is not available. Available metrics are: loss,accuracy,val_loss,val_accuracy,lr\n"
          ]
        },
        {
          "output_type": "stream",
          "name": "stdout",
          "text": [
            "\b\b\b\b\b\b\b\b\b\b\b\b\b\b\b\b\b\b\b\b\b\b\b\b\b\b\b\b\b\b\b\b\b\b\b\b\b\b\b\b\b\b\b\b\b\b\b\b\b\b\b\b\b\b\b\b\b\b\b\b\b\b\b\b\b\b\b\b\b\b\b\b\b\b\b\b\b\b\b\b\r8/8 [==============================] - 1s 89ms/step - loss: 0.2751 - accuracy: 0.9567 - val_loss: 3.2387 - val_accuracy: 0.4400 - lr: 0.0010\n",
            "Epoch 217/400\n",
            "7/8 [=========================>....] - ETA: 0s - loss: 0.1952 - accuracy: 0.9810"
          ]
        },
        {
          "output_type": "stream",
          "name": "stderr",
          "text": [
            "WARNING:tensorflow:Learning rate reduction is conditioned on metric `acc` which is not available. Available metrics are: loss,accuracy,val_loss,val_accuracy,lr\n"
          ]
        },
        {
          "output_type": "stream",
          "name": "stdout",
          "text": [
            "\b\b\b\b\b\b\b\b\b\b\b\b\b\b\b\b\b\b\b\b\b\b\b\b\b\b\b\b\b\b\b\b\b\b\b\b\b\b\b\b\b\b\b\b\b\b\b\b\b\b\b\b\b\b\b\b\b\b\b\b\b\b\b\b\b\b\b\b\b\b\b\b\b\b\b\b\b\b\b\b\r8/8 [==============================] - 1s 82ms/step - loss: 0.1955 - accuracy: 0.9811 - val_loss: 2.5625 - val_accuracy: 0.5600 - lr: 0.0010\n",
            "Epoch 218/400\n",
            "7/8 [=========================>....] - ETA: 0s - loss: 0.1957 - accuracy: 0.9799"
          ]
        },
        {
          "output_type": "stream",
          "name": "stderr",
          "text": [
            "WARNING:tensorflow:Learning rate reduction is conditioned on metric `acc` which is not available. Available metrics are: loss,accuracy,val_loss,val_accuracy,lr\n"
          ]
        },
        {
          "output_type": "stream",
          "name": "stdout",
          "text": [
            "\b\b\b\b\b\b\b\b\b\b\b\b\b\b\b\b\b\b\b\b\b\b\b\b\b\b\b\b\b\b\b\b\b\b\b\b\b\b\b\b\b\b\b\b\b\b\b\b\b\b\b\b\b\b\b\b\b\b\b\b\b\b\b\b\b\b\b\b\b\b\b\b\b\b\b\b\b\b\b\b\r8/8 [==============================] - 1s 82ms/step - loss: 0.1972 - accuracy: 0.9789 - val_loss: 4.5629 - val_accuracy: 0.3600 - lr: 0.0010\n",
            "Epoch 219/400\n",
            "7/8 [=========================>....] - ETA: 0s - loss: 0.2292 - accuracy: 0.9676"
          ]
        },
        {
          "output_type": "stream",
          "name": "stderr",
          "text": [
            "WARNING:tensorflow:Learning rate reduction is conditioned on metric `acc` which is not available. Available metrics are: loss,accuracy,val_loss,val_accuracy,lr\n"
          ]
        },
        {
          "output_type": "stream",
          "name": "stdout",
          "text": [
            "\b\b\b\b\b\b\b\b\b\b\b\b\b\b\b\b\b\b\b\b\b\b\b\b\b\b\b\b\b\b\b\b\b\b\b\b\b\b\b\b\b\b\b\b\b\b\b\b\b\b\b\b\b\b\b\b\b\b\b\b\b\b\b\b\b\b\b\b\b\b\b\b\b\b\b\b\b\b\b\b\r8/8 [==============================] - 1s 81ms/step - loss: 0.2295 - accuracy: 0.9678 - val_loss: 3.8668 - val_accuracy: 0.4400 - lr: 0.0010\n",
            "Epoch 220/400\n",
            "7/8 [=========================>....] - ETA: 0s - loss: 0.1646 - accuracy: 0.9900"
          ]
        },
        {
          "output_type": "stream",
          "name": "stderr",
          "text": [
            "WARNING:tensorflow:Learning rate reduction is conditioned on metric `acc` which is not available. Available metrics are: loss,accuracy,val_loss,val_accuracy,lr\n"
          ]
        },
        {
          "output_type": "stream",
          "name": "stdout",
          "text": [
            "\b\b\b\b\b\b\b\b\b\b\b\b\b\b\b\b\b\b\b\b\b\b\b\b\b\b\b\b\b\b\b\b\b\b\b\b\b\b\b\b\b\b\b\b\b\b\b\b\b\b\b\b\b\b\b\b\b\b\b\b\b\b\b\b\b\b\b\b\b\b\b\b\b\b\b\b\b\b\b\b\r8/8 [==============================] - 1s 85ms/step - loss: 0.1655 - accuracy: 0.9900 - val_loss: 3.5544 - val_accuracy: 0.4100 - lr: 0.0010\n",
            "Epoch 221/400\n",
            "7/8 [=========================>....] - ETA: 0s - loss: 0.1679 - accuracy: 0.9866"
          ]
        },
        {
          "output_type": "stream",
          "name": "stderr",
          "text": [
            "WARNING:tensorflow:Learning rate reduction is conditioned on metric `acc` which is not available. Available metrics are: loss,accuracy,val_loss,val_accuracy,lr\n"
          ]
        },
        {
          "output_type": "stream",
          "name": "stdout",
          "text": [
            "\b\b\b\b\b\b\b\b\b\b\b\b\b\b\b\b\b\b\b\b\b\b\b\b\b\b\b\b\b\b\b\b\b\b\b\b\b\b\b\b\b\b\b\b\b\b\b\b\b\b\b\b\b\b\b\b\b\b\b\b\b\b\b\b\b\b\b\b\b\b\b\b\b\b\b\b\b\b\b\b\r8/8 [==============================] - 1s 81ms/step - loss: 0.1706 - accuracy: 0.9856 - val_loss: 4.0114 - val_accuracy: 0.4400 - lr: 0.0010\n",
            "Epoch 222/400\n",
            "7/8 [=========================>....] - ETA: 0s - loss: 0.2862 - accuracy: 0.9464"
          ]
        },
        {
          "output_type": "stream",
          "name": "stderr",
          "text": [
            "WARNING:tensorflow:Learning rate reduction is conditioned on metric `acc` which is not available. Available metrics are: loss,accuracy,val_loss,val_accuracy,lr\n"
          ]
        },
        {
          "output_type": "stream",
          "name": "stdout",
          "text": [
            "\b\b\b\b\b\b\b\b\b\b\b\b\b\b\b\b\b\b\b\b\b\b\b\b\b\b\b\b\b\b\b\b\b\b\b\b\b\b\b\b\b\b\b\b\b\b\b\b\b\b\b\b\b\b\b\b\b\b\b\b\b\b\b\b\b\b\b\b\b\b\b\b\b\b\b\b\b\b\b\b\r8/8 [==============================] - 1s 83ms/step - loss: 0.2889 - accuracy: 0.9444 - val_loss: 3.3086 - val_accuracy: 0.4700 - lr: 0.0010\n",
            "Epoch 223/400\n",
            "7/8 [=========================>....] - ETA: 0s - loss: 0.3140 - accuracy: 0.9431"
          ]
        },
        {
          "output_type": "stream",
          "name": "stderr",
          "text": [
            "WARNING:tensorflow:Learning rate reduction is conditioned on metric `acc` which is not available. Available metrics are: loss,accuracy,val_loss,val_accuracy,lr\n"
          ]
        },
        {
          "output_type": "stream",
          "name": "stdout",
          "text": [
            "\b\b\b\b\b\b\b\b\b\b\b\b\b\b\b\b\b\b\b\b\b\b\b\b\b\b\b\b\b\b\b\b\b\b\b\b\b\b\b\b\b\b\b\b\b\b\b\b\b\b\b\b\b\b\b\b\b\b\b\b\b\b\b\b\b\b\b\b\b\b\b\b\b\b\b\b\b\b\b\b\r8/8 [==============================] - 1s 82ms/step - loss: 0.3134 - accuracy: 0.9433 - val_loss: 2.9810 - val_accuracy: 0.4000 - lr: 0.0010\n",
            "Epoch 224/400\n",
            "7/8 [=========================>....] - ETA: 0s - loss: 0.2354 - accuracy: 0.9676"
          ]
        },
        {
          "output_type": "stream",
          "name": "stderr",
          "text": [
            "WARNING:tensorflow:Learning rate reduction is conditioned on metric `acc` which is not available. Available metrics are: loss,accuracy,val_loss,val_accuracy,lr\n"
          ]
        },
        {
          "output_type": "stream",
          "name": "stdout",
          "text": [
            "\b\b\b\b\b\b\b\b\b\b\b\b\b\b\b\b\b\b\b\b\b\b\b\b\b\b\b\b\b\b\b\b\b\b\b\b\b\b\b\b\b\b\b\b\b\b\b\b\b\b\b\b\b\b\b\b\b\b\b\b\b\b\b\b\b\b\b\b\b\b\b\b\b\b\b\b\b\b\b\b\r8/8 [==============================] - 1s 81ms/step - loss: 0.2357 - accuracy: 0.9678 - val_loss: 5.9047 - val_accuracy: 0.2900 - lr: 0.0010\n",
            "Epoch 225/400\n",
            "7/8 [=========================>....] - ETA: 0s - loss: 0.2009 - accuracy: 0.9777"
          ]
        },
        {
          "output_type": "stream",
          "name": "stderr",
          "text": [
            "WARNING:tensorflow:Learning rate reduction is conditioned on metric `acc` which is not available. Available metrics are: loss,accuracy,val_loss,val_accuracy,lr\n"
          ]
        },
        {
          "output_type": "stream",
          "name": "stdout",
          "text": [
            "\b\b\b\b\b\b\b\b\b\b\b\b\b\b\b\b\b\b\b\b\b\b\b\b\b\b\b\b\b\b\b\b\b\b\b\b\b\b\b\b\b\b\b\b\b\b\b\b\b\b\b\b\b\b\b\b\b\b\b\b\b\b\b\b\b\b\b\b\b\b\b\b\b\b\b\b\b\b\b\b\r8/8 [==============================] - 1s 83ms/step - loss: 0.2018 - accuracy: 0.9767 - val_loss: 5.8871 - val_accuracy: 0.2900 - lr: 0.0010\n",
            "Epoch 226/400\n",
            "7/8 [=========================>....] - ETA: 0s - loss: 0.2122 - accuracy: 0.9799"
          ]
        },
        {
          "output_type": "stream",
          "name": "stderr",
          "text": [
            "WARNING:tensorflow:Learning rate reduction is conditioned on metric `acc` which is not available. Available metrics are: loss,accuracy,val_loss,val_accuracy,lr\n"
          ]
        },
        {
          "output_type": "stream",
          "name": "stdout",
          "text": [
            "\b\b\b\b\b\b\b\b\b\b\b\b\b\b\b\b\b\b\b\b\b\b\b\b\b\b\b\b\b\b\b\b\b\b\b\b\b\b\b\b\b\b\b\b\b\b\b\b\b\b\b\b\b\b\b\b\b\b\b\b\b\b\b\b\b\b\b\b\b\b\b\b\b\b\b\b\b\b\b\b\r8/8 [==============================] - 1s 87ms/step - loss: 0.2207 - accuracy: 0.9789 - val_loss: 4.5044 - val_accuracy: 0.3700 - lr: 0.0010\n",
            "Epoch 227/400\n",
            "7/8 [=========================>....] - ETA: 0s - loss: 0.2108 - accuracy: 0.9710"
          ]
        },
        {
          "output_type": "stream",
          "name": "stderr",
          "text": [
            "WARNING:tensorflow:Learning rate reduction is conditioned on metric `acc` which is not available. Available metrics are: loss,accuracy,val_loss,val_accuracy,lr\n"
          ]
        },
        {
          "output_type": "stream",
          "name": "stdout",
          "text": [
            "\b\b\b\b\b\b\b\b\b\b\b\b\b\b\b\b\b\b\b\b\b\b\b\b\b\b\b\b\b\b\b\b\b\b\b\b\b\b\b\b\b\b\b\b\b\b\b\b\b\b\b\b\b\b\b\b\b\b\b\b\b\b\b\b\b\b\b\b\b\b\b\b\b\b\b\b\b\b\b\b\r8/8 [==============================] - 1s 81ms/step - loss: 0.2125 - accuracy: 0.9700 - val_loss: 3.6977 - val_accuracy: 0.3300 - lr: 0.0010\n",
            "Epoch 228/400\n",
            "7/8 [=========================>....] - ETA: 0s - loss: 0.2119 - accuracy: 0.9754"
          ]
        },
        {
          "output_type": "stream",
          "name": "stderr",
          "text": [
            "WARNING:tensorflow:Learning rate reduction is conditioned on metric `acc` which is not available. Available metrics are: loss,accuracy,val_loss,val_accuracy,lr\n"
          ]
        },
        {
          "output_type": "stream",
          "name": "stdout",
          "text": [
            "\b\b\b\b\b\b\b\b\b\b\b\b\b\b\b\b\b\b\b\b\b\b\b\b\b\b\b\b\b\b\b\b\b\b\b\b\b\b\b\b\b\b\b\b\b\b\b\b\b\b\b\b\b\b\b\b\b\b\b\b\b\b\b\b\b\b\b\b\b\b\b\b\b\b\b\b\b\b\b\b\r8/8 [==============================] - 1s 81ms/step - loss: 0.2137 - accuracy: 0.9744 - val_loss: 3.8639 - val_accuracy: 0.4100 - lr: 0.0010\n",
            "Epoch 229/400\n",
            "7/8 [=========================>....] - ETA: 0s - loss: 0.2799 - accuracy: 0.9431"
          ]
        },
        {
          "output_type": "stream",
          "name": "stderr",
          "text": [
            "WARNING:tensorflow:Learning rate reduction is conditioned on metric `acc` which is not available. Available metrics are: loss,accuracy,val_loss,val_accuracy,lr\n"
          ]
        },
        {
          "output_type": "stream",
          "name": "stdout",
          "text": [
            "\b\b\b\b\b\b\b\b\b\b\b\b\b\b\b\b\b\b\b\b\b\b\b\b\b\b\b\b\b\b\b\b\b\b\b\b\b\b\b\b\b\b\b\b\b\b\b\b\b\b\b\b\b\b\b\b\b\b\b\b\b\b\b\b\b\b\b\b\b\b\b\b\b\b\b\b\b\b\b\b\r8/8 [==============================] - 1s 82ms/step - loss: 0.2802 - accuracy: 0.9433 - val_loss: 3.7865 - val_accuracy: 0.3300 - lr: 0.0010\n",
            "Epoch 230/400\n",
            "7/8 [=========================>....] - ETA: 0s - loss: 0.2273 - accuracy: 0.9643"
          ]
        },
        {
          "output_type": "stream",
          "name": "stderr",
          "text": [
            "WARNING:tensorflow:Learning rate reduction is conditioned on metric `acc` which is not available. Available metrics are: loss,accuracy,val_loss,val_accuracy,lr\n"
          ]
        },
        {
          "output_type": "stream",
          "name": "stdout",
          "text": [
            "\b\b\b\b\b\b\b\b\b\b\b\b\b\b\b\b\b\b\b\b\b\b\b\b\b\b\b\b\b\b\b\b\b\b\b\b\b\b\b\b\b\b\b\b\b\b\b\b\b\b\b\b\b\b\b\b\b\b\b\b\b\b\b\b\b\b\b\b\b\b\b\b\b\b\b\b\b\b\b\b\r8/8 [==============================] - 1s 82ms/step - loss: 0.2284 - accuracy: 0.9633 - val_loss: 4.0534 - val_accuracy: 0.3200 - lr: 0.0010\n",
            "Epoch 231/400\n",
            "7/8 [=========================>....] - ETA: 0s - loss: 0.2236 - accuracy: 0.9688"
          ]
        },
        {
          "output_type": "stream",
          "name": "stderr",
          "text": [
            "WARNING:tensorflow:Learning rate reduction is conditioned on metric `acc` which is not available. Available metrics are: loss,accuracy,val_loss,val_accuracy,lr\n"
          ]
        },
        {
          "output_type": "stream",
          "name": "stdout",
          "text": [
            "\b\b\b\b\b\b\b\b\b\b\b\b\b\b\b\b\b\b\b\b\b\b\b\b\b\b\b\b\b\b\b\b\b\b\b\b\b\b\b\b\b\b\b\b\b\b\b\b\b\b\b\b\b\b\b\b\b\b\b\b\b\b\b\b\b\b\b\b\b\b\b\b\b\b\b\b\b\b\b\b\r8/8 [==============================] - 1s 85ms/step - loss: 0.2263 - accuracy: 0.9678 - val_loss: 4.9490 - val_accuracy: 0.3000 - lr: 0.0010\n",
            "Epoch 232/400\n",
            "7/8 [=========================>....] - ETA: 0s - loss: 0.2351 - accuracy: 0.9643"
          ]
        },
        {
          "output_type": "stream",
          "name": "stderr",
          "text": [
            "WARNING:tensorflow:Learning rate reduction is conditioned on metric `acc` which is not available. Available metrics are: loss,accuracy,val_loss,val_accuracy,lr\n"
          ]
        },
        {
          "output_type": "stream",
          "name": "stdout",
          "text": [
            "\b\b\b\b\b\b\b\b\b\b\b\b\b\b\b\b\b\b\b\b\b\b\b\b\b\b\b\b\b\b\b\b\b\b\b\b\b\b\b\b\b\b\b\b\b\b\b\b\b\b\b\b\b\b\b\b\b\b\b\b\b\b\b\b\b\b\b\b\b\b\b\b\b\b\b\b\b\b\b\b\r8/8 [==============================] - 1s 85ms/step - loss: 0.2379 - accuracy: 0.9633 - val_loss: 5.7663 - val_accuracy: 0.3000 - lr: 0.0010\n",
            "Epoch 233/400\n",
            "7/8 [=========================>....] - ETA: 0s - loss: 0.2816 - accuracy: 0.9542"
          ]
        },
        {
          "output_type": "stream",
          "name": "stderr",
          "text": [
            "WARNING:tensorflow:Learning rate reduction is conditioned on metric `acc` which is not available. Available metrics are: loss,accuracy,val_loss,val_accuracy,lr\n"
          ]
        },
        {
          "output_type": "stream",
          "name": "stdout",
          "text": [
            "\b\b\b\b\b\b\b\b\b\b\b\b\b\b\b\b\b\b\b\b\b\b\b\b\b\b\b\b\b\b\b\b\b\b\b\b\b\b\b\b\b\b\b\b\b\b\b\b\b\b\b\b\b\b\b\b\b\b\b\b\b\b\b\b\b\b\b\b\b\b\b\b\b\b\b\b\b\b\b\b\r8/8 [==============================] - 1s 91ms/step - loss: 0.2820 - accuracy: 0.9544 - val_loss: 8.4744 - val_accuracy: 0.2100 - lr: 0.0010\n",
            "Epoch 234/400\n",
            "7/8 [=========================>....] - ETA: 0s - loss: 0.2653 - accuracy: 0.9598"
          ]
        },
        {
          "output_type": "stream",
          "name": "stderr",
          "text": [
            "WARNING:tensorflow:Learning rate reduction is conditioned on metric `acc` which is not available. Available metrics are: loss,accuracy,val_loss,val_accuracy,lr\n"
          ]
        },
        {
          "output_type": "stream",
          "name": "stdout",
          "text": [
            "\b\b\b\b\b\b\b\b\b\b\b\b\b\b\b\b\b\b\b\b\b\b\b\b\b\b\b\b\b\b\b\b\b\b\b\b\b\b\b\b\b\b\b\b\b\b\b\b\b\b\b\b\b\b\b\b\b\b\b\b\b\b\b\b\b\b\b\b\b\b\b\b\b\b\b\b\b\b\b\b\r8/8 [==============================] - 1s 92ms/step - loss: 0.2678 - accuracy: 0.9589 - val_loss: 2.9406 - val_accuracy: 0.4300 - lr: 0.0010\n",
            "Epoch 235/400\n",
            "7/8 [=========================>....] - ETA: 0s - loss: 0.2645 - accuracy: 0.9509"
          ]
        },
        {
          "output_type": "stream",
          "name": "stderr",
          "text": [
            "WARNING:tensorflow:Learning rate reduction is conditioned on metric `acc` which is not available. Available metrics are: loss,accuracy,val_loss,val_accuracy,lr\n"
          ]
        },
        {
          "output_type": "stream",
          "name": "stdout",
          "text": [
            "\b\b\b\b\b\b\b\b\b\b\b\b\b\b\b\b\b\b\b\b\b\b\b\b\b\b\b\b\b\b\b\b\b\b\b\b\b\b\b\b\b\b\b\b\b\b\b\b\b\b\b\b\b\b\b\b\b\b\b\b\b\b\b\b\b\b\b\b\b\b\b\b\b\b\b\b\b\b\b\b\r8/8 [==============================] - 1s 82ms/step - loss: 0.2659 - accuracy: 0.9500 - val_loss: 4.4367 - val_accuracy: 0.4100 - lr: 0.0010\n",
            "Epoch 236/400\n",
            "7/8 [=========================>....] - ETA: 0s - loss: 0.3456 - accuracy: 0.9208"
          ]
        },
        {
          "output_type": "stream",
          "name": "stderr",
          "text": [
            "WARNING:tensorflow:Learning rate reduction is conditioned on metric `acc` which is not available. Available metrics are: loss,accuracy,val_loss,val_accuracy,lr\n"
          ]
        },
        {
          "output_type": "stream",
          "name": "stdout",
          "text": [
            "\b\b\b\b\b\b\b\b\b\b\b\b\b\b\b\b\b\b\b\b\b\b\b\b\b\b\b\b\b\b\b\b\b\b\b\b\b\b\b\b\b\b\b\b\b\b\b\b\b\b\b\b\b\b\b\b\b\b\b\b\b\b\b\b\b\b\b\b\b\b\b\b\b\b\b\b\b\b\b\b\r8/8 [==============================] - 1s 82ms/step - loss: 0.3450 - accuracy: 0.9211 - val_loss: 5.8115 - val_accuracy: 0.3100 - lr: 0.0010\n",
            "Epoch 237/400\n",
            "7/8 [=========================>....] - ETA: 0s - loss: 0.2226 - accuracy: 0.9676"
          ]
        },
        {
          "output_type": "stream",
          "name": "stderr",
          "text": [
            "WARNING:tensorflow:Learning rate reduction is conditioned on metric `acc` which is not available. Available metrics are: loss,accuracy,val_loss,val_accuracy,lr\n"
          ]
        },
        {
          "output_type": "stream",
          "name": "stdout",
          "text": [
            "\b\b\b\b\b\b\b\b\b\b\b\b\b\b\b\b\b\b\b\b\b\b\b\b\b\b\b\b\b\b\b\b\b\b\b\b\b\b\b\b\b\b\b\b\b\b\b\b\b\b\b\b\b\b\b\b\b\b\b\b\b\b\b\b\b\b\b\b\b\b\b\b\b\b\b\b\b\b\b\b\r8/8 [==============================] - 1s 81ms/step - loss: 0.2245 - accuracy: 0.9667 - val_loss: 3.0810 - val_accuracy: 0.4400 - lr: 0.0010\n",
            "Epoch 238/400\n",
            "7/8 [=========================>....] - ETA: 0s - loss: 0.3027 - accuracy: 0.9464"
          ]
        },
        {
          "output_type": "stream",
          "name": "stderr",
          "text": [
            "WARNING:tensorflow:Learning rate reduction is conditioned on metric `acc` which is not available. Available metrics are: loss,accuracy,val_loss,val_accuracy,lr\n"
          ]
        },
        {
          "output_type": "stream",
          "name": "stdout",
          "text": [
            "\b\b\b\b\b\b\b\b\b\b\b\b\b\b\b\b\b\b\b\b\b\b\b\b\b\b\b\b\b\b\b\b\b\b\b\b\b\b\b\b\b\b\b\b\b\b\b\b\b\b\b\b\b\b\b\b\b\b\b\b\b\b\b\b\b\b\b\b\b\b\b\b\b\b\b\b\b\b\b\b\r8/8 [==============================] - 1s 82ms/step - loss: 0.3025 - accuracy: 0.9467 - val_loss: 10.9367 - val_accuracy: 0.1300 - lr: 0.0010\n",
            "Epoch 239/400\n",
            "7/8 [=========================>....] - ETA: 0s - loss: 0.2561 - accuracy: 0.9598"
          ]
        },
        {
          "output_type": "stream",
          "name": "stderr",
          "text": [
            "WARNING:tensorflow:Learning rate reduction is conditioned on metric `acc` which is not available. Available metrics are: loss,accuracy,val_loss,val_accuracy,lr\n"
          ]
        },
        {
          "output_type": "stream",
          "name": "stdout",
          "text": [
            "\b\b\b\b\b\b\b\b\b\b\b\b\b\b\b\b\b\b\b\b\b\b\b\b\b\b\b\b\b\b\b\b\b\b\b\b\b\b\b\b\b\b\b\b\b\b\b\b\b\b\b\b\b\b\b\b\b\b\b\b\b\b\b\b\b\b\b\b\b\b\b\b\b\b\b\b\b\b\b\b\r8/8 [==============================] - 1s 82ms/step - loss: 0.2564 - accuracy: 0.9600 - val_loss: 5.5714 - val_accuracy: 0.2800 - lr: 0.0010\n",
            "Epoch 240/400\n",
            "7/8 [=========================>....] - ETA: 0s - loss: 0.1672 - accuracy: 0.9944"
          ]
        },
        {
          "output_type": "stream",
          "name": "stderr",
          "text": [
            "WARNING:tensorflow:Learning rate reduction is conditioned on metric `acc` which is not available. Available metrics are: loss,accuracy,val_loss,val_accuracy,lr\n"
          ]
        },
        {
          "output_type": "stream",
          "name": "stdout",
          "text": [
            "\b\b\b\b\b\b\b\b\b\b\b\b\b\b\b\b\b\b\b\b\b\b\b\b\b\b\b\b\b\b\b\b\b\b\b\b\b\b\b\b\b\b\b\b\b\b\b\b\b\b\b\b\b\b\b\b\b\b\b\b\b\b\b\b\b\b\b\b\b\b\b\b\b\b\b\b\b\b\b\b\r8/8 [==============================] - 1s 83ms/step - loss: 0.1691 - accuracy: 0.9933 - val_loss: 4.8275 - val_accuracy: 0.2900 - lr: 0.0010\n",
            "Epoch 241/400\n",
            "7/8 [=========================>....] - ETA: 0s - loss: 0.2114 - accuracy: 0.9821"
          ]
        },
        {
          "output_type": "stream",
          "name": "stderr",
          "text": [
            "WARNING:tensorflow:Learning rate reduction is conditioned on metric `acc` which is not available. Available metrics are: loss,accuracy,val_loss,val_accuracy,lr\n"
          ]
        },
        {
          "output_type": "stream",
          "name": "stdout",
          "text": [
            "\b\b\b\b\b\b\b\b\b\b\b\b\b\b\b\b\b\b\b\b\b\b\b\b\b\b\b\b\b\b\b\b\b\b\b\b\b\b\b\b\b\b\b\b\b\b\b\b\b\b\b\b\b\b\b\b\b\b\b\b\b\b\b\b\b\b\b\b\b\b\b\b\b\b\b\b\b\b\b\b\r8/8 [==============================] - 1s 88ms/step - loss: 0.2153 - accuracy: 0.9811 - val_loss: 4.2382 - val_accuracy: 0.3700 - lr: 0.0010\n",
            "Epoch 242/400\n",
            "7/8 [=========================>....] - ETA: 0s - loss: 0.3193 - accuracy: 0.9330"
          ]
        },
        {
          "output_type": "stream",
          "name": "stderr",
          "text": [
            "WARNING:tensorflow:Learning rate reduction is conditioned on metric `acc` which is not available. Available metrics are: loss,accuracy,val_loss,val_accuracy,lr\n"
          ]
        },
        {
          "output_type": "stream",
          "name": "stdout",
          "text": [
            "\b\b\b\b\b\b\b\b\b\b\b\b\b\b\b\b\b\b\b\b\b\b\b\b\b\b\b\b\b\b\b\b\b\b\b\b\b\b\b\b\b\b\b\b\b\b\b\b\b\b\b\b\b\b\b\b\b\b\b\b\b\b\b\b\b\b\b\b\b\b\b\b\b\b\b\b\b\b\b\b\r8/8 [==============================] - 1s 84ms/step - loss: 0.3185 - accuracy: 0.9333 - val_loss: 13.2698 - val_accuracy: 0.1600 - lr: 0.0010\n",
            "Epoch 243/400\n",
            "7/8 [=========================>....] - ETA: 0s - loss: 0.2251 - accuracy: 0.9688"
          ]
        },
        {
          "output_type": "stream",
          "name": "stderr",
          "text": [
            "WARNING:tensorflow:Learning rate reduction is conditioned on metric `acc` which is not available. Available metrics are: loss,accuracy,val_loss,val_accuracy,lr\n"
          ]
        },
        {
          "output_type": "stream",
          "name": "stdout",
          "text": [
            "\b\b\b\b\b\b\b\b\b\b\b\b\b\b\b\b\b\b\b\b\b\b\b\b\b\b\b\b\b\b\b\b\b\b\b\b\b\b\b\b\b\b\b\b\b\b\b\b\b\b\b\b\b\b\b\b\b\b\b\b\b\b\b\b\b\b\b\b\b\b\b\b\b\b\b\b\b\b\b\b\r8/8 [==============================] - 1s 82ms/step - loss: 0.2246 - accuracy: 0.9689 - val_loss: 7.2004 - val_accuracy: 0.2700 - lr: 0.0010\n",
            "Epoch 244/400\n",
            "7/8 [=========================>....] - ETA: 0s - loss: 0.1736 - accuracy: 0.9922"
          ]
        },
        {
          "output_type": "stream",
          "name": "stderr",
          "text": [
            "WARNING:tensorflow:Learning rate reduction is conditioned on metric `acc` which is not available. Available metrics are: loss,accuracy,val_loss,val_accuracy,lr\n"
          ]
        },
        {
          "output_type": "stream",
          "name": "stdout",
          "text": [
            "\b\b\b\b\b\b\b\b\b\b\b\b\b\b\b\b\b\b\b\b\b\b\b\b\b\b\b\b\b\b\b\b\b\b\b\b\b\b\b\b\b\b\b\b\b\b\b\b\b\b\b\b\b\b\b\b\b\b\b\b\b\b\b\b\b\b\b\b\b\b\b\b\b\b\b\b\b\b\b\b\r8/8 [==============================] - 1s 82ms/step - loss: 0.1735 - accuracy: 0.9922 - val_loss: 4.6509 - val_accuracy: 0.3700 - lr: 0.0010\n",
            "Epoch 245/400\n",
            "7/8 [=========================>....] - ETA: 0s - loss: 0.1580 - accuracy: 0.9933"
          ]
        },
        {
          "output_type": "stream",
          "name": "stderr",
          "text": [
            "WARNING:tensorflow:Learning rate reduction is conditioned on metric `acc` which is not available. Available metrics are: loss,accuracy,val_loss,val_accuracy,lr\n"
          ]
        },
        {
          "output_type": "stream",
          "name": "stdout",
          "text": [
            "\b\b\b\b\b\b\b\b\b\b\b\b\b\b\b\b\b\b\b\b\b\b\b\b\b\b\b\b\b\b\b\b\b\b\b\b\b\b\b\b\b\b\b\b\b\b\b\b\b\b\b\b\b\b\b\b\b\b\b\b\b\b\b\b\b\b\b\b\b\b\b\b\b\b\b\b\b\b\b\b\r8/8 [==============================] - 1s 82ms/step - loss: 0.1649 - accuracy: 0.9900 - val_loss: 3.9769 - val_accuracy: 0.4300 - lr: 0.0010\n",
            "Epoch 246/400\n",
            "7/8 [=========================>....] - ETA: 0s - loss: 0.3431 - accuracy: 0.9297"
          ]
        },
        {
          "output_type": "stream",
          "name": "stderr",
          "text": [
            "WARNING:tensorflow:Learning rate reduction is conditioned on metric `acc` which is not available. Available metrics are: loss,accuracy,val_loss,val_accuracy,lr\n"
          ]
        },
        {
          "output_type": "stream",
          "name": "stdout",
          "text": [
            "\b\b\b\b\b\b\b\b\b\b\b\b\b\b\b\b\b\b\b\b\b\b\b\b\b\b\b\b\b\b\b\b\b\b\b\b\b\b\b\b\b\b\b\b\b\b\b\b\b\b\b\b\b\b\b\b\b\b\b\b\b\b\b\b\b\b\b\b\b\b\b\b\b\b\b\b\b\b\b\b\r8/8 [==============================] - 1s 82ms/step - loss: 0.3502 - accuracy: 0.9289 - val_loss: 5.7381 - val_accuracy: 0.3000 - lr: 0.0010\n",
            "Epoch 247/400\n",
            "7/8 [=========================>....] - ETA: 0s - loss: 0.2534 - accuracy: 0.9609"
          ]
        },
        {
          "output_type": "stream",
          "name": "stderr",
          "text": [
            "WARNING:tensorflow:Learning rate reduction is conditioned on metric `acc` which is not available. Available metrics are: loss,accuracy,val_loss,val_accuracy,lr\n"
          ]
        },
        {
          "output_type": "stream",
          "name": "stdout",
          "text": [
            "\b\b\b\b\b\b\b\b\b\b\b\b\b\b\b\b\b\b\b\b\b\b\b\b\b\b\b\b\b\b\b\b\b\b\b\b\b\b\b\b\b\b\b\b\b\b\b\b\b\b\b\b\b\b\b\b\b\b\b\b\b\b\b\b\b\b\b\b\b\b\b\b\b\b\b\b\b\b\b\b\r8/8 [==============================] - 1s 82ms/step - loss: 0.2595 - accuracy: 0.9600 - val_loss: 6.8501 - val_accuracy: 0.1900 - lr: 0.0010\n",
            "Epoch 248/400\n",
            "7/8 [=========================>....] - ETA: 0s - loss: 0.3869 - accuracy: 0.9163"
          ]
        },
        {
          "output_type": "stream",
          "name": "stderr",
          "text": [
            "WARNING:tensorflow:Learning rate reduction is conditioned on metric `acc` which is not available. Available metrics are: loss,accuracy,val_loss,val_accuracy,lr\n"
          ]
        },
        {
          "output_type": "stream",
          "name": "stdout",
          "text": [
            "\b\b\b\b\b\b\b\b\b\b\b\b\b\b\b\b\b\b\b\b\b\b\b\b\b\b\b\b\b\b\b\b\b\b\b\b\b\b\b\b\b\b\b\b\b\b\b\b\b\b\b\b\b\b\b\b\b\b\b\b\b\b\b\b\b\b\b\b\b\b\b\b\b\b\b\b\b\b\b\b\r8/8 [==============================] - 1s 82ms/step - loss: 0.3859 - accuracy: 0.9167 - val_loss: 9.3906 - val_accuracy: 0.2500 - lr: 0.0010\n",
            "Epoch 249/400\n",
            "7/8 [=========================>....] - ETA: 0s - loss: 0.2360 - accuracy: 0.9710"
          ]
        },
        {
          "output_type": "stream",
          "name": "stderr",
          "text": [
            "WARNING:tensorflow:Learning rate reduction is conditioned on metric `acc` which is not available. Available metrics are: loss,accuracy,val_loss,val_accuracy,lr\n"
          ]
        },
        {
          "output_type": "stream",
          "name": "stdout",
          "text": [
            "\b\b\b\b\b\b\b\b\b\b\b\b\b\b\b\b\b\b\b\b\b\b\b\b\b\b\b\b\b\b\b\b\b\b\b\b\b\b\b\b\b\b\b\b\b\b\b\b\b\b\b\b\b\b\b\b\b\b\b\b\b\b\b\b\b\b\b\b\b\b\b\b\b\b\b\b\b\b\b\b\r8/8 [==============================] - 1s 84ms/step - loss: 0.2356 - accuracy: 0.9711 - val_loss: 5.3901 - val_accuracy: 0.3200 - lr: 0.0010\n",
            "Epoch 250/400\n",
            "7/8 [=========================>....] - ETA: 0s - loss: 0.2056 - accuracy: 0.9810"
          ]
        },
        {
          "output_type": "stream",
          "name": "stderr",
          "text": [
            "WARNING:tensorflow:Learning rate reduction is conditioned on metric `acc` which is not available. Available metrics are: loss,accuracy,val_loss,val_accuracy,lr\n"
          ]
        },
        {
          "output_type": "stream",
          "name": "stdout",
          "text": [
            "\b\b\b\b\b\b\b\b\b\b\b\b\b\b\b\b\b\b\b\b\b\b\b\b\b\b\b\b\b\b\b\b\b\b\b\b\b\b\b\b\b\b\b\b\b\b\b\b\b\b\b\b\b\b\b\b\b\b\b\b\b\b\b\b\b\b\b\b\b\b\b\b\b\b\b\b\b\b\b\b\r8/8 [==============================] - 1s 86ms/step - loss: 0.2062 - accuracy: 0.9800 - val_loss: 3.8198 - val_accuracy: 0.4100 - lr: 0.0010\n",
            "Epoch 251/400\n",
            "7/8 [=========================>....] - ETA: 0s - loss: 0.1809 - accuracy: 0.9911"
          ]
        },
        {
          "output_type": "stream",
          "name": "stderr",
          "text": [
            "WARNING:tensorflow:Learning rate reduction is conditioned on metric `acc` which is not available. Available metrics are: loss,accuracy,val_loss,val_accuracy,lr\n"
          ]
        },
        {
          "output_type": "stream",
          "name": "stdout",
          "text": [
            "\b\b\b\b\b\b\b\b\b\b\b\b\b\b\b\b\b\b\b\b\b\b\b\b\b\b\b\b\b\b\b\b\b\b\b\b\b\b\b\b\b\b\b\b\b\b\b\b\b\b\b\b\b\b\b\b\b\b\b\b\b\b\b\b\b\b\b\b\b\b\b\b\b\b\b\b\b\b\b\b\r8/8 [==============================] - 1s 86ms/step - loss: 0.1808 - accuracy: 0.9911 - val_loss: 2.7891 - val_accuracy: 0.4600 - lr: 0.0010\n",
            "Epoch 252/400\n",
            "7/8 [=========================>....] - ETA: 0s - loss: 0.1775 - accuracy: 0.9866"
          ]
        },
        {
          "output_type": "stream",
          "name": "stderr",
          "text": [
            "WARNING:tensorflow:Learning rate reduction is conditioned on metric `acc` which is not available. Available metrics are: loss,accuracy,val_loss,val_accuracy,lr\n"
          ]
        },
        {
          "output_type": "stream",
          "name": "stdout",
          "text": [
            "\b\b\b\b\b\b\b\b\b\b\b\b\b\b\b\b\b\b\b\b\b\b\b\b\b\b\b\b\b\b\b\b\b\b\b\b\b\b\b\b\b\b\b\b\b\b\b\b\b\b\b\b\b\b\b\b\b\b\b\b\b\b\b\b\b\b\b\b\b\b\b\b\b\b\b\b\b\b\b\b\r8/8 [==============================] - 1s 84ms/step - loss: 0.1776 - accuracy: 0.9867 - val_loss: 2.6966 - val_accuracy: 0.4200 - lr: 0.0010\n",
            "Epoch 253/400\n",
            "7/8 [=========================>....] - ETA: 0s - loss: 0.1504 - accuracy: 0.9922"
          ]
        },
        {
          "output_type": "stream",
          "name": "stderr",
          "text": [
            "WARNING:tensorflow:Learning rate reduction is conditioned on metric `acc` which is not available. Available metrics are: loss,accuracy,val_loss,val_accuracy,lr\n"
          ]
        },
        {
          "output_type": "stream",
          "name": "stdout",
          "text": [
            "\b\b\b\b\b\b\b\b\b\b\b\b\b\b\b\b\b\b\b\b\b\b\b\b\b\b\b\b\b\b\b\b\b\b\b\b\b\b\b\b\b\b\b\b\b\b\b\b\b\b\b\b\b\b\b\b\b\b\b\b\b\b\b\b\b\b\b\b\b\b\b\b\b\b\b\b\b\b\b\b\r8/8 [==============================] - 1s 89ms/step - loss: 0.1517 - accuracy: 0.9911 - val_loss: 2.4829 - val_accuracy: 0.4400 - lr: 0.0010\n",
            "Epoch 254/400\n",
            "7/8 [=========================>....] - ETA: 0s - loss: 0.1858 - accuracy: 0.9855"
          ]
        },
        {
          "output_type": "stream",
          "name": "stderr",
          "text": [
            "WARNING:tensorflow:Learning rate reduction is conditioned on metric `acc` which is not available. Available metrics are: loss,accuracy,val_loss,val_accuracy,lr\n"
          ]
        },
        {
          "output_type": "stream",
          "name": "stdout",
          "text": [
            "\b\b\b\b\b\b\b\b\b\b\b\b\b\b\b\b\b\b\b\b\b\b\b\b\b\b\b\b\b\b\b\b\b\b\b\b\b\b\b\b\b\b\b\b\b\b\b\b\b\b\b\b\b\b\b\b\b\b\b\b\b\b\b\b\b\b\b\b\b\b\b\b\b\b\b\b\b\b\b\b\r8/8 [==============================] - 1s 82ms/step - loss: 0.1858 - accuracy: 0.9856 - val_loss: 2.5568 - val_accuracy: 0.4200 - lr: 0.0010\n",
            "Epoch 255/400\n",
            "7/8 [=========================>....] - ETA: 0s - loss: 0.1857 - accuracy: 0.9855"
          ]
        },
        {
          "output_type": "stream",
          "name": "stderr",
          "text": [
            "WARNING:tensorflow:Learning rate reduction is conditioned on metric `acc` which is not available. Available metrics are: loss,accuracy,val_loss,val_accuracy,lr\n"
          ]
        },
        {
          "output_type": "stream",
          "name": "stdout",
          "text": [
            "\b\b\b\b\b\b\b\b\b\b\b\b\b\b\b\b\b\b\b\b\b\b\b\b\b\b\b\b\b\b\b\b\b\b\b\b\b\b\b\b\b\b\b\b\b\b\b\b\b\b\b\b\b\b\b\b\b\b\b\b\b\b\b\b\b\b\b\b\b\b\b\b\b\b\b\b\b\b\b\b\r8/8 [==============================] - 1s 88ms/step - loss: 0.1863 - accuracy: 0.9856 - val_loss: 3.5745 - val_accuracy: 0.3500 - lr: 0.0010\n",
            "Epoch 256/400\n",
            "7/8 [=========================>....] - ETA: 0s - loss: 0.1942 - accuracy: 0.9743"
          ]
        },
        {
          "output_type": "stream",
          "name": "stderr",
          "text": [
            "WARNING:tensorflow:Learning rate reduction is conditioned on metric `acc` which is not available. Available metrics are: loss,accuracy,val_loss,val_accuracy,lr\n"
          ]
        },
        {
          "output_type": "stream",
          "name": "stdout",
          "text": [
            "\b\b\b\b\b\b\b\b\b\b\b\b\b\b\b\b\b\b\b\b\b\b\b\b\b\b\b\b\b\b\b\b\b\b\b\b\b\b\b\b\b\b\b\b\b\b\b\b\b\b\b\b\b\b\b\b\b\b\b\b\b\b\b\b\b\b\b\b\b\b\b\b\b\b\b\b\b\b\b\b\r8/8 [==============================] - 1s 83ms/step - loss: 0.1939 - accuracy: 0.9744 - val_loss: 6.5018 - val_accuracy: 0.2700 - lr: 0.0010\n",
            "Epoch 257/400\n",
            "7/8 [=========================>....] - ETA: 0s - loss: 0.1535 - accuracy: 0.9922"
          ]
        },
        {
          "output_type": "stream",
          "name": "stderr",
          "text": [
            "WARNING:tensorflow:Learning rate reduction is conditioned on metric `acc` which is not available. Available metrics are: loss,accuracy,val_loss,val_accuracy,lr\n"
          ]
        },
        {
          "output_type": "stream",
          "name": "stdout",
          "text": [
            "\b\b\b\b\b\b\b\b\b\b\b\b\b\b\b\b\b\b\b\b\b\b\b\b\b\b\b\b\b\b\b\b\b\b\b\b\b\b\b\b\b\b\b\b\b\b\b\b\b\b\b\b\b\b\b\b\b\b\b\b\b\b\b\b\b\b\b\b\b\b\b\b\b\b\b\b\b\b\b\b\r8/8 [==============================] - 1s 82ms/step - loss: 0.1577 - accuracy: 0.9911 - val_loss: 4.9986 - val_accuracy: 0.3300 - lr: 0.0010\n",
            "Epoch 258/400\n",
            "7/8 [=========================>....] - ETA: 0s - loss: 0.2149 - accuracy: 0.9743"
          ]
        },
        {
          "output_type": "stream",
          "name": "stderr",
          "text": [
            "WARNING:tensorflow:Learning rate reduction is conditioned on metric `acc` which is not available. Available metrics are: loss,accuracy,val_loss,val_accuracy,lr\n"
          ]
        },
        {
          "output_type": "stream",
          "name": "stdout",
          "text": [
            "\b\b\b\b\b\b\b\b\b\b\b\b\b\b\b\b\b\b\b\b\b\b\b\b\b\b\b\b\b\b\b\b\b\b\b\b\b\b\b\b\b\b\b\b\b\b\b\b\b\b\b\b\b\b\b\b\b\b\b\b\b\b\b\b\b\b\b\b\b\b\b\b\b\b\b\b\b\b\b\b\r8/8 [==============================] - 1s 82ms/step - loss: 0.2156 - accuracy: 0.9744 - val_loss: 8.7828 - val_accuracy: 0.1400 - lr: 0.0010\n",
            "Epoch 259/400\n",
            "7/8 [=========================>....] - ETA: 0s - loss: 0.2305 - accuracy: 0.9665"
          ]
        },
        {
          "output_type": "stream",
          "name": "stderr",
          "text": [
            "WARNING:tensorflow:Learning rate reduction is conditioned on metric `acc` which is not available. Available metrics are: loss,accuracy,val_loss,val_accuracy,lr\n"
          ]
        },
        {
          "output_type": "stream",
          "name": "stdout",
          "text": [
            "\b\b\b\b\b\b\b\b\b\b\b\b\b\b\b\b\b\b\b\b\b\b\b\b\b\b\b\b\b\b\b\b\b\b\b\b\b\b\b\b\b\b\b\b\b\b\b\b\b\b\b\b\b\b\b\b\b\b\b\b\b\b\b\b\b\b\b\b\b\b\b\b\b\b\b\b\b\b\b\b\r8/8 [==============================] - 1s 83ms/step - loss: 0.2304 - accuracy: 0.9667 - val_loss: 3.0783 - val_accuracy: 0.3900 - lr: 0.0010\n",
            "Epoch 260/400\n",
            "7/8 [=========================>....] - ETA: 0s - loss: 0.1684 - accuracy: 0.9911"
          ]
        },
        {
          "output_type": "stream",
          "name": "stderr",
          "text": [
            "WARNING:tensorflow:Learning rate reduction is conditioned on metric `acc` which is not available. Available metrics are: loss,accuracy,val_loss,val_accuracy,lr\n"
          ]
        },
        {
          "output_type": "stream",
          "name": "stdout",
          "text": [
            "\b\b\b\b\b\b\b\b\b\b\b\b\b\b\b\b\b\b\b\b\b\b\b\b\b\b\b\b\b\b\b\b\b\b\b\b\b\b\b\b\b\b\b\b\b\b\b\b\b\b\b\b\b\b\b\b\b\b\b\b\b\b\b\b\b\b\b\b\b\b\b\b\b\b\b\b\b\b\b\b\r8/8 [==============================] - 1s 82ms/step - loss: 0.1689 - accuracy: 0.9911 - val_loss: 3.0601 - val_accuracy: 0.3400 - lr: 0.0010\n",
            "Epoch 261/400\n",
            "7/8 [=========================>....] - ETA: 0s - loss: 0.1559 - accuracy: 0.9944"
          ]
        },
        {
          "output_type": "stream",
          "name": "stderr",
          "text": [
            "WARNING:tensorflow:Learning rate reduction is conditioned on metric `acc` which is not available. Available metrics are: loss,accuracy,val_loss,val_accuracy,lr\n"
          ]
        },
        {
          "output_type": "stream",
          "name": "stdout",
          "text": [
            "\b\b\b\b\b\b\b\b\b\b\b\b\b\b\b\b\b\b\b\b\b\b\b\b\b\b\b\b\b\b\b\b\b\b\b\b\b\b\b\b\b\b\b\b\b\b\b\b\b\b\b\b\b\b\b\b\b\b\b\b\b\b\b\b\b\b\b\b\b\b\b\b\b\b\b\b\b\b\b\b\r8/8 [==============================] - 1s 81ms/step - loss: 0.1559 - accuracy: 0.9944 - val_loss: 3.1246 - val_accuracy: 0.4000 - lr: 0.0010\n",
            "Epoch 262/400\n",
            "7/8 [=========================>....] - ETA: 0s - loss: 0.1490 - accuracy: 0.9955"
          ]
        },
        {
          "output_type": "stream",
          "name": "stderr",
          "text": [
            "WARNING:tensorflow:Learning rate reduction is conditioned on metric `acc` which is not available. Available metrics are: loss,accuracy,val_loss,val_accuracy,lr\n"
          ]
        },
        {
          "output_type": "stream",
          "name": "stdout",
          "text": [
            "\b\b\b\b\b\b\b\b\b\b\b\b\b\b\b\b\b\b\b\b\b\b\b\b\b\b\b\b\b\b\b\b\b\b\b\b\b\b\b\b\b\b\b\b\b\b\b\b\b\b\b\b\b\b\b\b\b\b\b\b\b\b\b\b\b\b\b\b\b\b\b\b\b\b\b\b\b\b\b\b\r8/8 [==============================] - 1s 82ms/step - loss: 0.1531 - accuracy: 0.9944 - val_loss: 2.7069 - val_accuracy: 0.4000 - lr: 0.0010\n",
            "Epoch 263/400\n",
            "7/8 [=========================>....] - ETA: 0s - loss: 0.2095 - accuracy: 0.9743"
          ]
        },
        {
          "output_type": "stream",
          "name": "stderr",
          "text": [
            "WARNING:tensorflow:Learning rate reduction is conditioned on metric `acc` which is not available. Available metrics are: loss,accuracy,val_loss,val_accuracy,lr\n"
          ]
        },
        {
          "output_type": "stream",
          "name": "stdout",
          "text": [
            "\b\b\b\b\b\b\b\b\b\b\b\b\b\b\b\b\b\b\b\b\b\b\b\b\b\b\b\b\b\b\b\b\b\b\b\b\b\b\b\b\b\b\b\b\b\b\b\b\b\b\b\b\b\b\b\b\b\b\b\b\b\b\b\b\b\b\b\b\b\b\b\b\b\b\b\b\b\b\b\b\r8/8 [==============================] - 1s 83ms/step - loss: 0.2101 - accuracy: 0.9744 - val_loss: 2.9032 - val_accuracy: 0.4300 - lr: 0.0010\n",
            "Epoch 264/400\n",
            "7/8 [=========================>....] - ETA: 0s - loss: 0.2432 - accuracy: 0.9676"
          ]
        },
        {
          "output_type": "stream",
          "name": "stderr",
          "text": [
            "WARNING:tensorflow:Learning rate reduction is conditioned on metric `acc` which is not available. Available metrics are: loss,accuracy,val_loss,val_accuracy,lr\n"
          ]
        },
        {
          "output_type": "stream",
          "name": "stdout",
          "text": [
            "\b\b\b\b\b\b\b\b\b\b\b\b\b\b\b\b\b\b\b\b\b\b\b\b\b\b\b\b\b\b\b\b\b\b\b\b\b\b\b\b\b\b\b\b\b\b\b\b\b\b\b\b\b\b\b\b\b\b\b\b\b\b\b\b\b\b\b\b\b\b\b\b\b\b\b\b\b\b\b\b\r8/8 [==============================] - 1s 82ms/step - loss: 0.2433 - accuracy: 0.9678 - val_loss: 2.4263 - val_accuracy: 0.5000 - lr: 0.0010\n",
            "Epoch 265/400\n",
            "7/8 [=========================>....] - ETA: 0s - loss: 0.1793 - accuracy: 0.9844"
          ]
        },
        {
          "output_type": "stream",
          "name": "stderr",
          "text": [
            "WARNING:tensorflow:Learning rate reduction is conditioned on metric `acc` which is not available. Available metrics are: loss,accuracy,val_loss,val_accuracy,lr\n"
          ]
        },
        {
          "output_type": "stream",
          "name": "stdout",
          "text": [
            "\b\b\b\b\b\b\b\b\b\b\b\b\b\b\b\b\b\b\b\b\b\b\b\b\b\b\b\b\b\b\b\b\b\b\b\b\b\b\b\b\b\b\b\b\b\b\b\b\b\b\b\b\b\b\b\b\b\b\b\b\b\b\b\b\b\b\b\b\b\b\b\b\b\b\b\b\b\b\b\b\r8/8 [==============================] - 1s 82ms/step - loss: 0.1811 - accuracy: 0.9833 - val_loss: 3.1165 - val_accuracy: 0.4600 - lr: 0.0010\n",
            "Epoch 266/400\n",
            "7/8 [=========================>....] - ETA: 0s - loss: 0.2839 - accuracy: 0.9531"
          ]
        },
        {
          "output_type": "stream",
          "name": "stderr",
          "text": [
            "WARNING:tensorflow:Learning rate reduction is conditioned on metric `acc` which is not available. Available metrics are: loss,accuracy,val_loss,val_accuracy,lr\n"
          ]
        },
        {
          "output_type": "stream",
          "name": "stdout",
          "text": [
            "\b\b\b\b\b\b\b\b\b\b\b\b\b\b\b\b\b\b\b\b\b\b\b\b\b\b\b\b\b\b\b\b\b\b\b\b\b\b\b\b\b\b\b\b\b\b\b\b\b\b\b\b\b\b\b\b\b\b\b\b\b\b\b\b\b\b\b\b\b\b\b\b\b\b\b\b\b\b\b\b\r8/8 [==============================] - 1s 84ms/step - loss: 0.2841 - accuracy: 0.9533 - val_loss: 5.2508 - val_accuracy: 0.2800 - lr: 0.0010\n",
            "Epoch 267/400\n",
            "7/8 [=========================>....] - ETA: 0s - loss: 0.2172 - accuracy: 0.9710"
          ]
        },
        {
          "output_type": "stream",
          "name": "stderr",
          "text": [
            "WARNING:tensorflow:Learning rate reduction is conditioned on metric `acc` which is not available. Available metrics are: loss,accuracy,val_loss,val_accuracy,lr\n"
          ]
        },
        {
          "output_type": "stream",
          "name": "stdout",
          "text": [
            "\b\b\b\b\b\b\b\b\b\b\b\b\b\b\b\b\b\b\b\b\b\b\b\b\b\b\b\b\b\b\b\b\b\b\b\b\b\b\b\b\b\b\b\b\b\b\b\b\b\b\b\b\b\b\b\b\b\b\b\b\b\b\b\b\b\b\b\b\b\b\b\b\b\b\b\b\b\b\b\b\r8/8 [==============================] - 1s 83ms/step - loss: 0.2196 - accuracy: 0.9700 - val_loss: 5.1392 - val_accuracy: 0.3000 - lr: 0.0010\n",
            "Epoch 268/400\n",
            "7/8 [=========================>....] - ETA: 0s - loss: 0.2530 - accuracy: 0.9632"
          ]
        },
        {
          "output_type": "stream",
          "name": "stderr",
          "text": [
            "WARNING:tensorflow:Learning rate reduction is conditioned on metric `acc` which is not available. Available metrics are: loss,accuracy,val_loss,val_accuracy,lr\n"
          ]
        },
        {
          "output_type": "stream",
          "name": "stdout",
          "text": [
            "\b\b\b\b\b\b\b\b\b\b\b\b\b\b\b\b\b\b\b\b\b\b\b\b\b\b\b\b\b\b\b\b\b\b\b\b\b\b\b\b\b\b\b\b\b\b\b\b\b\b\b\b\b\b\b\b\b\b\b\b\b\b\b\b\b\b\b\b\b\b\b\b\b\b\b\b\b\b\b\b\r8/8 [==============================] - 1s 86ms/step - loss: 0.2529 - accuracy: 0.9633 - val_loss: 7.7923 - val_accuracy: 0.2400 - lr: 0.0010\n",
            "Epoch 269/400\n",
            "7/8 [=========================>....] - ETA: 0s - loss: 0.2213 - accuracy: 0.9688"
          ]
        },
        {
          "output_type": "stream",
          "name": "stderr",
          "text": [
            "WARNING:tensorflow:Learning rate reduction is conditioned on metric `acc` which is not available. Available metrics are: loss,accuracy,val_loss,val_accuracy,lr\n"
          ]
        },
        {
          "output_type": "stream",
          "name": "stdout",
          "text": [
            "\b\b\b\b\b\b\b\b\b\b\b\b\b\b\b\b\b\b\b\b\b\b\b\b\b\b\b\b\b\b\b\b\b\b\b\b\b\b\b\b\b\b\b\b\b\b\b\b\b\b\b\b\b\b\b\b\b\b\b\b\b\b\b\b\b\b\b\b\b\b\b\b\b\b\b\b\b\b\b\b\r8/8 [==============================] - 1s 92ms/step - loss: 0.2209 - accuracy: 0.9689 - val_loss: 5.4500 - val_accuracy: 0.3600 - lr: 0.0010\n",
            "Epoch 270/400\n",
            "7/8 [=========================>....] - ETA: 0s - loss: 0.1714 - accuracy: 0.9911"
          ]
        },
        {
          "output_type": "stream",
          "name": "stderr",
          "text": [
            "WARNING:tensorflow:Learning rate reduction is conditioned on metric `acc` which is not available. Available metrics are: loss,accuracy,val_loss,val_accuracy,lr\n"
          ]
        },
        {
          "output_type": "stream",
          "name": "stdout",
          "text": [
            "\b\b\b\b\b\b\b\b\b\b\b\b\b\b\b\b\b\b\b\b\b\b\b\b\b\b\b\b\b\b\b\b\b\b\b\b\b\b\b\b\b\b\b\b\b\b\b\b\b\b\b\b\b\b\b\b\b\b\b\b\b\b\b\b\b\b\b\b\b\b\b\b\b\b\b\b\b\b\b\b\r8/8 [==============================] - 1s 92ms/step - loss: 0.1722 - accuracy: 0.9911 - val_loss: 4.1187 - val_accuracy: 0.4000 - lr: 0.0010\n",
            "Epoch 271/400\n",
            "7/8 [=========================>....] - ETA: 0s - loss: 0.1595 - accuracy: 0.9933"
          ]
        },
        {
          "output_type": "stream",
          "name": "stderr",
          "text": [
            "WARNING:tensorflow:Learning rate reduction is conditioned on metric `acc` which is not available. Available metrics are: loss,accuracy,val_loss,val_accuracy,lr\n"
          ]
        },
        {
          "output_type": "stream",
          "name": "stdout",
          "text": [
            "\b\b\b\b\b\b\b\b\b\b\b\b\b\b\b\b\b\b\b\b\b\b\b\b\b\b\b\b\b\b\b\b\b\b\b\b\b\b\b\b\b\b\b\b\b\b\b\b\b\b\b\b\b\b\b\b\b\b\b\b\b\b\b\b\b\b\b\b\b\b\b\b\b\b\b\b\b\b\b\b\r8/8 [==============================] - 1s 84ms/step - loss: 0.1593 - accuracy: 0.9933 - val_loss: 4.1326 - val_accuracy: 0.2900 - lr: 0.0010\n",
            "Epoch 272/400\n",
            "7/8 [=========================>....] - ETA: 0s - loss: 0.1633 - accuracy: 0.9900"
          ]
        },
        {
          "output_type": "stream",
          "name": "stderr",
          "text": [
            "WARNING:tensorflow:Learning rate reduction is conditioned on metric `acc` which is not available. Available metrics are: loss,accuracy,val_loss,val_accuracy,lr\n"
          ]
        },
        {
          "output_type": "stream",
          "name": "stdout",
          "text": [
            "\b\b\b\b\b\b\b\b\b\b\b\b\b\b\b\b\b\b\b\b\b\b\b\b\b\b\b\b\b\b\b\b\b\b\b\b\b\b\b\b\b\b\b\b\b\b\b\b\b\b\b\b\b\b\b\b\b\b\b\b\b\b\b\b\b\b\b\b\b\b\b\b\b\b\b\b\b\b\b\b\r8/8 [==============================] - 1s 82ms/step - loss: 0.1631 - accuracy: 0.9900 - val_loss: 3.1542 - val_accuracy: 0.3900 - lr: 0.0010\n",
            "Epoch 273/400\n",
            "7/8 [=========================>....] - ETA: 0s - loss: 0.1428 - accuracy: 0.9944"
          ]
        },
        {
          "output_type": "stream",
          "name": "stderr",
          "text": [
            "WARNING:tensorflow:Learning rate reduction is conditioned on metric `acc` which is not available. Available metrics are: loss,accuracy,val_loss,val_accuracy,lr\n"
          ]
        },
        {
          "output_type": "stream",
          "name": "stdout",
          "text": [
            "\b\b\b\b\b\b\b\b\b\b\b\b\b\b\b\b\b\b\b\b\b\b\b\b\b\b\b\b\b\b\b\b\b\b\b\b\b\b\b\b\b\b\b\b\b\b\b\b\b\b\b\b\b\b\b\b\b\b\b\b\b\b\b\b\b\b\b\b\b\b\b\b\b\b\b\b\b\b\b\b\r8/8 [==============================] - 1s 82ms/step - loss: 0.1429 - accuracy: 0.9944 - val_loss: 2.6465 - val_accuracy: 0.4300 - lr: 0.0010\n",
            "Epoch 274/400\n",
            "7/8 [=========================>....] - ETA: 0s - loss: 0.1351 - accuracy: 0.9978"
          ]
        },
        {
          "output_type": "stream",
          "name": "stderr",
          "text": [
            "WARNING:tensorflow:Learning rate reduction is conditioned on metric `acc` which is not available. Available metrics are: loss,accuracy,val_loss,val_accuracy,lr\n"
          ]
        },
        {
          "output_type": "stream",
          "name": "stdout",
          "text": [
            "\b\b\b\b\b\b\b\b\b\b\b\b\b\b\b\b\b\b\b\b\b\b\b\b\b\b\b\b\b\b\b\b\b\b\b\b\b\b\b\b\b\b\b\b\b\b\b\b\b\b\b\b\b\b\b\b\b\b\b\b\b\b\b\b\b\b\b\b\b\b\b\b\b\b\b\b\b\b\b\b\r8/8 [==============================] - 1s 82ms/step - loss: 0.1356 - accuracy: 0.9978 - val_loss: 2.2922 - val_accuracy: 0.4700 - lr: 0.0010\n",
            "Epoch 275/400\n",
            "7/8 [=========================>....] - ETA: 0s - loss: 0.1381 - accuracy: 0.9978"
          ]
        },
        {
          "output_type": "stream",
          "name": "stderr",
          "text": [
            "WARNING:tensorflow:Learning rate reduction is conditioned on metric `acc` which is not available. Available metrics are: loss,accuracy,val_loss,val_accuracy,lr\n"
          ]
        },
        {
          "output_type": "stream",
          "name": "stdout",
          "text": [
            "\b\b\b\b\b\b\b\b\b\b\b\b\b\b\b\b\b\b\b\b\b\b\b\b\b\b\b\b\b\b\b\b\b\b\b\b\b\b\b\b\b\b\b\b\b\b\b\b\b\b\b\b\b\b\b\b\b\b\b\b\b\b\b\b\b\b\b\b\b\b\b\b\b\b\b\b\b\b\b\b\r8/8 [==============================] - 1s 81ms/step - loss: 0.1381 - accuracy: 0.9978 - val_loss: 3.3898 - val_accuracy: 0.3800 - lr: 0.0010\n",
            "Epoch 276/400\n",
            "7/8 [=========================>....] - ETA: 0s - loss: 0.1436 - accuracy: 0.9978"
          ]
        },
        {
          "output_type": "stream",
          "name": "stderr",
          "text": [
            "WARNING:tensorflow:Learning rate reduction is conditioned on metric `acc` which is not available. Available metrics are: loss,accuracy,val_loss,val_accuracy,lr\n"
          ]
        },
        {
          "output_type": "stream",
          "name": "stdout",
          "text": [
            "\b\b\b\b\b\b\b\b\b\b\b\b\b\b\b\b\b\b\b\b\b\b\b\b\b\b\b\b\b\b\b\b\b\b\b\b\b\b\b\b\b\b\b\b\b\b\b\b\b\b\b\b\b\b\b\b\b\b\b\b\b\b\b\b\b\b\b\b\b\b\b\b\b\b\b\b\b\b\b\b\r8/8 [==============================] - 1s 82ms/step - loss: 0.1435 - accuracy: 0.9978 - val_loss: 2.6412 - val_accuracy: 0.4400 - lr: 0.0010\n",
            "Epoch 277/400\n",
            "7/8 [=========================>....] - ETA: 0s - loss: 0.1296 - accuracy: 0.9989"
          ]
        },
        {
          "output_type": "stream",
          "name": "stderr",
          "text": [
            "WARNING:tensorflow:Learning rate reduction is conditioned on metric `acc` which is not available. Available metrics are: loss,accuracy,val_loss,val_accuracy,lr\n"
          ]
        },
        {
          "output_type": "stream",
          "name": "stdout",
          "text": [
            "\b\b\b\b\b\b\b\b\b\b\b\b\b\b\b\b\b\b\b\b\b\b\b\b\b\b\b\b\b\b\b\b\b\b\b\b\b\b\b\b\b\b\b\b\b\b\b\b\b\b\b\b\b\b\b\b\b\b\b\b\b\b\b\b\b\b\b\b\b\b\b\b\b\b\b\b\b\b\b\b\r8/8 [==============================] - 1s 81ms/step - loss: 0.1306 - accuracy: 0.9989 - val_loss: 2.1761 - val_accuracy: 0.4800 - lr: 0.0010\n",
            "Epoch 278/400\n",
            "7/8 [=========================>....] - ETA: 0s - loss: 0.1315 - accuracy: 0.9967"
          ]
        },
        {
          "output_type": "stream",
          "name": "stderr",
          "text": [
            "WARNING:tensorflow:Learning rate reduction is conditioned on metric `acc` which is not available. Available metrics are: loss,accuracy,val_loss,val_accuracy,lr\n"
          ]
        },
        {
          "output_type": "stream",
          "name": "stdout",
          "text": [
            "\b\b\b\b\b\b\b\b\b\b\b\b\b\b\b\b\b\b\b\b\b\b\b\b\b\b\b\b\b\b\b\b\b\b\b\b\b\b\b\b\b\b\b\b\b\b\b\b\b\b\b\b\b\b\b\b\b\b\b\b\b\b\b\b\b\b\b\b\b\b\b\b\b\b\b\b\b\b\b\b\r8/8 [==============================] - 1s 81ms/step - loss: 0.1318 - accuracy: 0.9967 - val_loss: 4.0002 - val_accuracy: 0.2600 - lr: 0.0010\n",
            "Epoch 279/400\n",
            "7/8 [=========================>....] - ETA: 0s - loss: 0.1420 - accuracy: 0.9944"
          ]
        },
        {
          "output_type": "stream",
          "name": "stderr",
          "text": [
            "WARNING:tensorflow:Learning rate reduction is conditioned on metric `acc` which is not available. Available metrics are: loss,accuracy,val_loss,val_accuracy,lr\n"
          ]
        },
        {
          "output_type": "stream",
          "name": "stdout",
          "text": [
            "\b\b\b\b\b\b\b\b\b\b\b\b\b\b\b\b\b\b\b\b\b\b\b\b\b\b\b\b\b\b\b\b\b\b\b\b\b\b\b\b\b\b\b\b\b\b\b\b\b\b\b\b\b\b\b\b\b\b\b\b\b\b\b\b\b\b\b\b\b\b\b\b\b\b\b\b\b\b\b\b\r8/8 [==============================] - 1s 82ms/step - loss: 0.1420 - accuracy: 0.9944 - val_loss: 3.4007 - val_accuracy: 0.3100 - lr: 0.0010\n",
            "Epoch 280/400\n",
            "7/8 [=========================>....] - ETA: 0s - loss: 0.1368 - accuracy: 0.9955"
          ]
        },
        {
          "output_type": "stream",
          "name": "stderr",
          "text": [
            "WARNING:tensorflow:Learning rate reduction is conditioned on metric `acc` which is not available. Available metrics are: loss,accuracy,val_loss,val_accuracy,lr\n"
          ]
        },
        {
          "output_type": "stream",
          "name": "stdout",
          "text": [
            "\b\b\b\b\b\b\b\b\b\b\b\b\b\b\b\b\b\b\b\b\b\b\b\b\b\b\b\b\b\b\b\b\b\b\b\b\b\b\b\b\b\b\b\b\b\b\b\b\b\b\b\b\b\b\b\b\b\b\b\b\b\b\b\b\b\b\b\b\b\b\b\b\b\b\b\b\b\b\b\b\r8/8 [==============================] - 1s 81ms/step - loss: 0.1367 - accuracy: 0.9956 - val_loss: 2.5579 - val_accuracy: 0.4400 - lr: 0.0010\n",
            "Epoch 281/400\n",
            "7/8 [=========================>....] - ETA: 0s - loss: 0.1313 - accuracy: 0.9967"
          ]
        },
        {
          "output_type": "stream",
          "name": "stderr",
          "text": [
            "WARNING:tensorflow:Learning rate reduction is conditioned on metric `acc` which is not available. Available metrics are: loss,accuracy,val_loss,val_accuracy,lr\n"
          ]
        },
        {
          "output_type": "stream",
          "name": "stdout",
          "text": [
            "\b\b\b\b\b\b\b\b\b\b\b\b\b\b\b\b\b\b\b\b\b\b\b\b\b\b\b\b\b\b\b\b\b\b\b\b\b\b\b\b\b\b\b\b\b\b\b\b\b\b\b\b\b\b\b\b\b\b\b\b\b\b\b\b\b\b\b\b\b\b\b\b\b\b\b\b\b\b\b\b\r8/8 [==============================] - 1s 81ms/step - loss: 0.1312 - accuracy: 0.9967 - val_loss: 2.2880 - val_accuracy: 0.5000 - lr: 0.0010\n",
            "Epoch 282/400\n",
            "7/8 [=========================>....] - ETA: 0s - loss: 0.1268 - accuracy: 0.9978"
          ]
        },
        {
          "output_type": "stream",
          "name": "stderr",
          "text": [
            "WARNING:tensorflow:Learning rate reduction is conditioned on metric `acc` which is not available. Available metrics are: loss,accuracy,val_loss,val_accuracy,lr\n"
          ]
        },
        {
          "output_type": "stream",
          "name": "stdout",
          "text": [
            "\b\b\b\b\b\b\b\b\b\b\b\b\b\b\b\b\b\b\b\b\b\b\b\b\b\b\b\b\b\b\b\b\b\b\b\b\b\b\b\b\b\b\b\b\b\b\b\b\b\b\b\b\b\b\b\b\b\b\b\b\b\b\b\b\b\b\b\b\b\b\b\b\b\b\b\b\b\b\b\b\r8/8 [==============================] - 1s 81ms/step - loss: 0.1289 - accuracy: 0.9978 - val_loss: 2.0660 - val_accuracy: 0.4900 - lr: 0.0010\n",
            "Epoch 283/400\n",
            "7/8 [=========================>....] - ETA: 0s - loss: 0.1898 - accuracy: 0.9721"
          ]
        },
        {
          "output_type": "stream",
          "name": "stderr",
          "text": [
            "WARNING:tensorflow:Learning rate reduction is conditioned on metric `acc` which is not available. Available metrics are: loss,accuracy,val_loss,val_accuracy,lr\n"
          ]
        },
        {
          "output_type": "stream",
          "name": "stdout",
          "text": [
            "\b\b\b\b\b\b\b\b\b\b\b\b\b\b\b\b\b\b\b\b\b\b\b\b\b\b\b\b\b\b\b\b\b\b\b\b\b\b\b\b\b\b\b\b\b\b\b\b\b\b\b\b\b\b\b\b\b\b\b\b\b\b\b\b\b\b\b\b\b\b\b\b\b\b\b\b\b\b\b\b\r8/8 [==============================] - 1s 83ms/step - loss: 0.1902 - accuracy: 0.9722 - val_loss: 5.1569 - val_accuracy: 0.2800 - lr: 0.0010\n",
            "Epoch 284/400\n",
            "7/8 [=========================>....] - ETA: 0s - loss: 0.1995 - accuracy: 0.9699"
          ]
        },
        {
          "output_type": "stream",
          "name": "stderr",
          "text": [
            "WARNING:tensorflow:Learning rate reduction is conditioned on metric `acc` which is not available. Available metrics are: loss,accuracy,val_loss,val_accuracy,lr\n"
          ]
        },
        {
          "output_type": "stream",
          "name": "stdout",
          "text": [
            "\b\b\b\b\b\b\b\b\b\b\b\b\b\b\b\b\b\b\b\b\b\b\b\b\b\b\b\b\b\b\b\b\b\b\b\b\b\b\b\b\b\b\b\b\b\b\b\b\b\b\b\b\b\b\b\b\b\b\b\b\b\b\b\b\b\b\b\b\b\b\b\b\b\b\b\b\b\b\b\b\r8/8 [==============================] - 1s 81ms/step - loss: 0.1991 - accuracy: 0.9700 - val_loss: 2.7471 - val_accuracy: 0.4500 - lr: 0.0010\n",
            "Epoch 285/400\n",
            "7/8 [=========================>....] - ETA: 0s - loss: 0.1613 - accuracy: 0.9855"
          ]
        },
        {
          "output_type": "stream",
          "name": "stderr",
          "text": [
            "WARNING:tensorflow:Learning rate reduction is conditioned on metric `acc` which is not available. Available metrics are: loss,accuracy,val_loss,val_accuracy,lr\n"
          ]
        },
        {
          "output_type": "stream",
          "name": "stdout",
          "text": [
            "\b\b\b\b\b\b\b\b\b\b\b\b\b\b\b\b\b\b\b\b\b\b\b\b\b\b\b\b\b\b\b\b\b\b\b\b\b\b\b\b\b\b\b\b\b\b\b\b\b\b\b\b\b\b\b\b\b\b\b\b\b\b\b\b\b\b\b\b\b\b\b\b\b\b\b\b\b\b\b\b\r8/8 [==============================] - 1s 82ms/step - loss: 0.1611 - accuracy: 0.9856 - val_loss: 3.6352 - val_accuracy: 0.4300 - lr: 0.0010\n",
            "Epoch 286/400\n",
            "7/8 [=========================>....] - ETA: 0s - loss: 0.1407 - accuracy: 0.9944"
          ]
        },
        {
          "output_type": "stream",
          "name": "stderr",
          "text": [
            "WARNING:tensorflow:Learning rate reduction is conditioned on metric `acc` which is not available. Available metrics are: loss,accuracy,val_loss,val_accuracy,lr\n"
          ]
        },
        {
          "output_type": "stream",
          "name": "stdout",
          "text": [
            "\b\b\b\b\b\b\b\b\b\b\b\b\b\b\b\b\b\b\b\b\b\b\b\b\b\b\b\b\b\b\b\b\b\b\b\b\b\b\b\b\b\b\b\b\b\b\b\b\b\b\b\b\b\b\b\b\b\b\b\b\b\b\b\b\b\b\b\b\b\b\b\b\b\b\b\b\b\b\b\b\r8/8 [==============================] - 1s 82ms/step - loss: 0.1407 - accuracy: 0.9944 - val_loss: 3.4427 - val_accuracy: 0.4700 - lr: 0.0010\n",
            "Epoch 287/400\n",
            "7/8 [=========================>....] - ETA: 0s - loss: 0.1327 - accuracy: 0.9967"
          ]
        },
        {
          "output_type": "stream",
          "name": "stderr",
          "text": [
            "WARNING:tensorflow:Learning rate reduction is conditioned on metric `acc` which is not available. Available metrics are: loss,accuracy,val_loss,val_accuracy,lr\n"
          ]
        },
        {
          "output_type": "stream",
          "name": "stdout",
          "text": [
            "\b\b\b\b\b\b\b\b\b\b\b\b\b\b\b\b\b\b\b\b\b\b\b\b\b\b\b\b\b\b\b\b\b\b\b\b\b\b\b\b\b\b\b\b\b\b\b\b\b\b\b\b\b\b\b\b\b\b\b\b\b\b\b\b\b\b\b\b\b\b\b\b\b\b\b\b\b\b\b\b\r8/8 [==============================] - 1s 92ms/step - loss: 0.1327 - accuracy: 0.9967 - val_loss: 2.7266 - val_accuracy: 0.5100 - lr: 0.0010\n",
            "Epoch 288/400\n",
            "7/8 [=========================>....] - ETA: 0s - loss: 0.1271 - accuracy: 0.9978"
          ]
        },
        {
          "output_type": "stream",
          "name": "stderr",
          "text": [
            "WARNING:tensorflow:Learning rate reduction is conditioned on metric `acc` which is not available. Available metrics are: loss,accuracy,val_loss,val_accuracy,lr\n"
          ]
        },
        {
          "output_type": "stream",
          "name": "stdout",
          "text": [
            "\b\b\b\b\b\b\b\b\b\b\b\b\b\b\b\b\b\b\b\b\b\b\b\b\b\b\b\b\b\b\b\b\b\b\b\b\b\b\b\b\b\b\b\b\b\b\b\b\b\b\b\b\b\b\b\b\b\b\b\b\b\b\b\b\b\b\b\b\b\b\b\b\b\b\b\b\b\b\b\b\r8/8 [==============================] - 1s 91ms/step - loss: 0.1273 - accuracy: 0.9978 - val_loss: 2.2741 - val_accuracy: 0.5400 - lr: 0.0010\n",
            "Epoch 289/400\n",
            "7/8 [=========================>....] - ETA: 0s - loss: 0.1270 - accuracy: 0.9978"
          ]
        },
        {
          "output_type": "stream",
          "name": "stderr",
          "text": [
            "WARNING:tensorflow:Learning rate reduction is conditioned on metric `acc` which is not available. Available metrics are: loss,accuracy,val_loss,val_accuracy,lr\n"
          ]
        },
        {
          "output_type": "stream",
          "name": "stdout",
          "text": [
            "\b\b\b\b\b\b\b\b\b\b\b\b\b\b\b\b\b\b\b\b\b\b\b\b\b\b\b\b\b\b\b\b\b\b\b\b\b\b\b\b\b\b\b\b\b\b\b\b\b\b\b\b\b\b\b\b\b\b\b\b\b\b\b\b\b\b\b\b\b\b\b\b\b\b\b\b\b\b\b\b\r8/8 [==============================] - 1s 94ms/step - loss: 0.1287 - accuracy: 0.9967 - val_loss: 2.4014 - val_accuracy: 0.5300 - lr: 0.0010\n",
            "Epoch 290/400\n",
            "7/8 [=========================>....] - ETA: 0s - loss: 0.1356 - accuracy: 0.9955"
          ]
        },
        {
          "output_type": "stream",
          "name": "stderr",
          "text": [
            "WARNING:tensorflow:Learning rate reduction is conditioned on metric `acc` which is not available. Available metrics are: loss,accuracy,val_loss,val_accuracy,lr\n"
          ]
        },
        {
          "output_type": "stream",
          "name": "stdout",
          "text": [
            "\b\b\b\b\b\b\b\b\b\b\b\b\b\b\b\b\b\b\b\b\b\b\b\b\b\b\b\b\b\b\b\b\b\b\b\b\b\b\b\b\b\b\b\b\b\b\b\b\b\b\b\b\b\b\b\b\b\b\b\b\b\b\b\b\b\b\b\b\b\b\b\b\b\b\b\b\b\b\b\b\r8/8 [==============================] - 1s 81ms/step - loss: 0.1360 - accuracy: 0.9956 - val_loss: 2.2645 - val_accuracy: 0.5200 - lr: 0.0010\n",
            "Epoch 291/400\n",
            "7/8 [=========================>....] - ETA: 0s - loss: 0.1658 - accuracy: 0.9844"
          ]
        },
        {
          "output_type": "stream",
          "name": "stderr",
          "text": [
            "WARNING:tensorflow:Learning rate reduction is conditioned on metric `acc` which is not available. Available metrics are: loss,accuracy,val_loss,val_accuracy,lr\n"
          ]
        },
        {
          "output_type": "stream",
          "name": "stdout",
          "text": [
            "\b\b\b\b\b\b\b\b\b\b\b\b\b\b\b\b\b\b\b\b\b\b\b\b\b\b\b\b\b\b\b\b\b\b\b\b\b\b\b\b\b\b\b\b\b\b\b\b\b\b\b\b\b\b\b\b\b\b\b\b\b\b\b\b\b\b\b\b\b\b\b\b\b\b\b\b\b\b\b\b\r8/8 [==============================] - 1s 81ms/step - loss: 0.1673 - accuracy: 0.9833 - val_loss: 3.8878 - val_accuracy: 0.3800 - lr: 0.0010\n",
            "Epoch 292/400\n",
            "7/8 [=========================>....] - ETA: 0s - loss: 0.1911 - accuracy: 0.9810"
          ]
        },
        {
          "output_type": "stream",
          "name": "stderr",
          "text": [
            "WARNING:tensorflow:Learning rate reduction is conditioned on metric `acc` which is not available. Available metrics are: loss,accuracy,val_loss,val_accuracy,lr\n"
          ]
        },
        {
          "output_type": "stream",
          "name": "stdout",
          "text": [
            "\b\b\b\b\b\b\b\b\b\b\b\b\b\b\b\b\b\b\b\b\b\b\b\b\b\b\b\b\b\b\b\b\b\b\b\b\b\b\b\b\b\b\b\b\b\b\b\b\b\b\b\b\b\b\b\b\b\b\b\b\b\b\b\b\b\b\b\b\b\b\b\b\b\b\b\b\b\b\b\b\r8/8 [==============================] - 1s 82ms/step - loss: 0.1939 - accuracy: 0.9789 - val_loss: 3.0716 - val_accuracy: 0.4600 - lr: 0.0010\n",
            "Epoch 293/400\n",
            "7/8 [=========================>....] - ETA: 0s - loss: 0.2315 - accuracy: 0.9654"
          ]
        },
        {
          "output_type": "stream",
          "name": "stderr",
          "text": [
            "WARNING:tensorflow:Learning rate reduction is conditioned on metric `acc` which is not available. Available metrics are: loss,accuracy,val_loss,val_accuracy,lr\n"
          ]
        },
        {
          "output_type": "stream",
          "name": "stdout",
          "text": [
            "\b\b\b\b\b\b\b\b\b\b\b\b\b\b\b\b\b\b\b\b\b\b\b\b\b\b\b\b\b\b\b\b\b\b\b\b\b\b\b\b\b\b\b\b\b\b\b\b\b\b\b\b\b\b\b\b\b\b\b\b\b\b\b\b\b\b\b\b\b\b\b\b\b\b\b\b\b\b\b\b\r8/8 [==============================] - 1s 82ms/step - loss: 0.2338 - accuracy: 0.9644 - val_loss: 5.8838 - val_accuracy: 0.3700 - lr: 0.0010\n",
            "Epoch 294/400\n",
            "7/8 [=========================>....] - ETA: 0s - loss: 0.2690 - accuracy: 0.9498"
          ]
        },
        {
          "output_type": "stream",
          "name": "stderr",
          "text": [
            "WARNING:tensorflow:Learning rate reduction is conditioned on metric `acc` which is not available. Available metrics are: loss,accuracy,val_loss,val_accuracy,lr\n"
          ]
        },
        {
          "output_type": "stream",
          "name": "stdout",
          "text": [
            "\b\b\b\b\b\b\b\b\b\b\b\b\b\b\b\b\b\b\b\b\b\b\b\b\b\b\b\b\b\b\b\b\b\b\b\b\b\b\b\b\b\b\b\b\b\b\b\b\b\b\b\b\b\b\b\b\b\b\b\b\b\b\b\b\b\b\b\b\b\b\b\b\b\b\b\b\b\b\b\b\r8/8 [==============================] - 1s 81ms/step - loss: 0.2686 - accuracy: 0.9500 - val_loss: 5.6365 - val_accuracy: 0.3400 - lr: 0.0010\n",
            "Epoch 295/400\n",
            "7/8 [=========================>....] - ETA: 0s - loss: 0.1816 - accuracy: 0.9844"
          ]
        },
        {
          "output_type": "stream",
          "name": "stderr",
          "text": [
            "WARNING:tensorflow:Learning rate reduction is conditioned on metric `acc` which is not available. Available metrics are: loss,accuracy,val_loss,val_accuracy,lr\n"
          ]
        },
        {
          "output_type": "stream",
          "name": "stdout",
          "text": [
            "\b\b\b\b\b\b\b\b\b\b\b\b\b\b\b\b\b\b\b\b\b\b\b\b\b\b\b\b\b\b\b\b\b\b\b\b\b\b\b\b\b\b\b\b\b\b\b\b\b\b\b\b\b\b\b\b\b\b\b\b\b\b\b\b\b\b\b\b\b\b\b\b\b\b\b\b\b\b\b\b\r8/8 [==============================] - 1s 81ms/step - loss: 0.1854 - accuracy: 0.9833 - val_loss: 4.8969 - val_accuracy: 0.3800 - lr: 0.0010\n",
            "Epoch 296/400\n",
            "7/8 [=========================>....] - ETA: 0s - loss: 0.1779 - accuracy: 0.9821"
          ]
        },
        {
          "output_type": "stream",
          "name": "stderr",
          "text": [
            "WARNING:tensorflow:Learning rate reduction is conditioned on metric `acc` which is not available. Available metrics are: loss,accuracy,val_loss,val_accuracy,lr\n"
          ]
        },
        {
          "output_type": "stream",
          "name": "stdout",
          "text": [
            "\b\b\b\b\b\b\b\b\b\b\b\b\b\b\b\b\b\b\b\b\b\b\b\b\b\b\b\b\b\b\b\b\b\b\b\b\b\b\b\b\b\b\b\b\b\b\b\b\b\b\b\b\b\b\b\b\b\b\b\b\b\b\b\b\b\b\b\b\b\b\b\b\b\b\b\b\b\b\b\b\r8/8 [==============================] - 1s 81ms/step - loss: 0.1829 - accuracy: 0.9800 - val_loss: 12.7780 - val_accuracy: 0.1500 - lr: 0.0010\n",
            "Epoch 297/400\n",
            "7/8 [=========================>....] - ETA: 0s - loss: 0.6974 - accuracy: 0.8549"
          ]
        },
        {
          "output_type": "stream",
          "name": "stderr",
          "text": [
            "WARNING:tensorflow:Learning rate reduction is conditioned on metric `acc` which is not available. Available metrics are: loss,accuracy,val_loss,val_accuracy,lr\n"
          ]
        },
        {
          "output_type": "stream",
          "name": "stdout",
          "text": [
            "\b\b\b\b\b\b\b\b\b\b\b\b\b\b\b\b\b\b\b\b\b\b\b\b\b\b\b\b\b\b\b\b\b\b\b\b\b\b\b\b\b\b\b\b\b\b\b\b\b\b\b\b\b\b\b\b\b\b\b\b\b\b\b\b\b\b\b\b\b\b\b\b\b\b\b\b\b\b\b\b\r8/8 [==============================] - 1s 81ms/step - loss: 0.6951 - accuracy: 0.8556 - val_loss: 15.3189 - val_accuracy: 0.1200 - lr: 0.0010\n",
            "Epoch 298/400\n",
            "7/8 [=========================>....] - ETA: 0s - loss: 0.3115 - accuracy: 0.9431"
          ]
        },
        {
          "output_type": "stream",
          "name": "stderr",
          "text": [
            "WARNING:tensorflow:Learning rate reduction is conditioned on metric `acc` which is not available. Available metrics are: loss,accuracy,val_loss,val_accuracy,lr\n"
          ]
        },
        {
          "output_type": "stream",
          "name": "stdout",
          "text": [
            "\b\b\b\b\b\b\b\b\b\b\b\b\b\b\b\b\b\b\b\b\b\b\b\b\b\b\b\b\b\b\b\b\b\b\b\b\b\b\b\b\b\b\b\b\b\b\b\b\b\b\b\b\b\b\b\b\b\b\b\b\b\b\b\b\b\b\b\b\b\b\b\b\b\b\b\b\b\b\b\b\r8/8 [==============================] - 1s 83ms/step - loss: 0.3151 - accuracy: 0.9422 - val_loss: 15.4822 - val_accuracy: 0.1300 - lr: 0.0010\n",
            "Epoch 299/400\n",
            "7/8 [=========================>....] - ETA: 0s - loss: 0.3704 - accuracy: 0.9163"
          ]
        },
        {
          "output_type": "stream",
          "name": "stderr",
          "text": [
            "WARNING:tensorflow:Learning rate reduction is conditioned on metric `acc` which is not available. Available metrics are: loss,accuracy,val_loss,val_accuracy,lr\n"
          ]
        },
        {
          "output_type": "stream",
          "name": "stdout",
          "text": [
            "\b\b\b\b\b\b\b\b\b\b\b\b\b\b\b\b\b\b\b\b\b\b\b\b\b\b\b\b\b\b\b\b\b\b\b\b\b\b\b\b\b\b\b\b\b\b\b\b\b\b\b\b\b\b\b\b\b\b\b\b\b\b\b\b\b\b\b\b\b\b\b\b\b\b\b\b\b\b\b\b\r8/8 [==============================] - 1s 82ms/step - loss: 0.3750 - accuracy: 0.9156 - val_loss: 16.9890 - val_accuracy: 0.1200 - lr: 0.0010\n",
            "Epoch 300/400\n",
            "7/8 [=========================>....] - ETA: 0s - loss: 0.3468 - accuracy: 0.9386"
          ]
        },
        {
          "output_type": "stream",
          "name": "stderr",
          "text": [
            "WARNING:tensorflow:Learning rate reduction is conditioned on metric `acc` which is not available. Available metrics are: loss,accuracy,val_loss,val_accuracy,lr\n"
          ]
        },
        {
          "output_type": "stream",
          "name": "stdout",
          "text": [
            "\b\b\b\b\b\b\b\b\b\b\b\b\b\b\b\b\b\b\b\b\b\b\b\b\b\b\b\b\b\b\b\b\b\b\b\b\b\b\b\b\b\b\b\b\b\b\b\b\b\b\b\b\b\b\b\b\b\b\b\b\b\b\b\b\b\b\b\b\b\b\b\b\b\b\b\b\b\b\b\b\r8/8 [==============================] - 1s 82ms/step - loss: 0.3513 - accuracy: 0.9356 - val_loss: 17.2265 - val_accuracy: 0.1300 - lr: 0.0010\n",
            "Epoch 301/400\n",
            "7/8 [=========================>....] - ETA: 0s - loss: 0.4242 - accuracy: 0.9051"
          ]
        },
        {
          "output_type": "stream",
          "name": "stderr",
          "text": [
            "WARNING:tensorflow:Learning rate reduction is conditioned on metric `acc` which is not available. Available metrics are: loss,accuracy,val_loss,val_accuracy,lr\n"
          ]
        },
        {
          "output_type": "stream",
          "name": "stdout",
          "text": [
            "\b\b\b\b\b\b\b\b\b\b\b\b\b\b\b\b\b\b\b\b\b\b\b\b\b\b\b\b\b\b\b\b\b\b\b\b\b\b\b\b\b\b\b\b\b\b\b\b\b\b\b\b\b\b\b\b\b\b\b\b\b\b\b\b\b\b\b\b\b\b\b\b\b\b\b\b\b\b\b\b\r8/8 [==============================] - 1s 82ms/step - loss: 0.4282 - accuracy: 0.9033 - val_loss: 14.5581 - val_accuracy: 0.1500 - lr: 0.0010\n",
            "Epoch 302/400\n",
            "7/8 [=========================>....] - ETA: 0s - loss: 0.4106 - accuracy: 0.9141"
          ]
        },
        {
          "output_type": "stream",
          "name": "stderr",
          "text": [
            "WARNING:tensorflow:Learning rate reduction is conditioned on metric `acc` which is not available. Available metrics are: loss,accuracy,val_loss,val_accuracy,lr\n"
          ]
        },
        {
          "output_type": "stream",
          "name": "stdout",
          "text": [
            "\b\b\b\b\b\b\b\b\b\b\b\b\b\b\b\b\b\b\b\b\b\b\b\b\b\b\b\b\b\b\b\b\b\b\b\b\b\b\b\b\b\b\b\b\b\b\b\b\b\b\b\b\b\b\b\b\b\b\b\b\b\b\b\b\b\b\b\b\b\b\b\b\b\b\b\b\b\b\b\b\r8/8 [==============================] - 1s 81ms/step - loss: 0.4141 - accuracy: 0.9133 - val_loss: 5.1619 - val_accuracy: 0.3700 - lr: 0.0010\n",
            "Epoch 303/400\n",
            "7/8 [=========================>....] - ETA: 0s - loss: 0.3992 - accuracy: 0.9252"
          ]
        },
        {
          "output_type": "stream",
          "name": "stderr",
          "text": [
            "WARNING:tensorflow:Learning rate reduction is conditioned on metric `acc` which is not available. Available metrics are: loss,accuracy,val_loss,val_accuracy,lr\n"
          ]
        },
        {
          "output_type": "stream",
          "name": "stdout",
          "text": [
            "\b\b\b\b\b\b\b\b\b\b\b\b\b\b\b\b\b\b\b\b\b\b\b\b\b\b\b\b\b\b\b\b\b\b\b\b\b\b\b\b\b\b\b\b\b\b\b\b\b\b\b\b\b\b\b\b\b\b\b\b\b\b\b\b\b\b\b\b\b\b\b\b\b\b\b\b\b\b\b\b\r8/8 [==============================] - 1s 82ms/step - loss: 0.3983 - accuracy: 0.9256 - val_loss: 6.9429 - val_accuracy: 0.2300 - lr: 0.0010\n",
            "Epoch 304/400\n",
            "7/8 [=========================>....] - ETA: 0s - loss: 0.2895 - accuracy: 0.9520"
          ]
        },
        {
          "output_type": "stream",
          "name": "stderr",
          "text": [
            "WARNING:tensorflow:Learning rate reduction is conditioned on metric `acc` which is not available. Available metrics are: loss,accuracy,val_loss,val_accuracy,lr\n"
          ]
        },
        {
          "output_type": "stream",
          "name": "stdout",
          "text": [
            "\b\b\b\b\b\b\b\b\b\b\b\b\b\b\b\b\b\b\b\b\b\b\b\b\b\b\b\b\b\b\b\b\b\b\b\b\b\b\b\b\b\b\b\b\b\b\b\b\b\b\b\b\b\b\b\b\b\b\b\b\b\b\b\b\b\b\b\b\b\b\b\b\b\b\b\b\b\b\b\b\r8/8 [==============================] - 1s 82ms/step - loss: 0.2939 - accuracy: 0.9511 - val_loss: 5.7665 - val_accuracy: 0.2400 - lr: 0.0010\n",
            "Epoch 305/400\n",
            "7/8 [=========================>....] - ETA: 0s - loss: 0.3584 - accuracy: 0.9342"
          ]
        },
        {
          "output_type": "stream",
          "name": "stderr",
          "text": [
            "WARNING:tensorflow:Learning rate reduction is conditioned on metric `acc` which is not available. Available metrics are: loss,accuracy,val_loss,val_accuracy,lr\n"
          ]
        },
        {
          "output_type": "stream",
          "name": "stdout",
          "text": [
            "\b\b\b\b\b\b\b\b\b\b\b\b\b\b\b\b\b\b\b\b\b\b\b\b\b\b\b\b\b\b\b\b\b\b\b\b\b\b\b\b\b\b\b\b\b\b\b\b\b\b\b\b\b\b\b\b\b\b\b\b\b\b\b\b\b\b\b\b\b\b\b\b\b\b\b\b\b\b\b\b\r8/8 [==============================] - 1s 87ms/step - loss: 0.3581 - accuracy: 0.9344 - val_loss: 10.0045 - val_accuracy: 0.1700 - lr: 0.0010\n",
            "Epoch 306/400\n",
            "7/8 [=========================>....] - ETA: 0s - loss: 0.3154 - accuracy: 0.9408"
          ]
        },
        {
          "output_type": "stream",
          "name": "stderr",
          "text": [
            "WARNING:tensorflow:Learning rate reduction is conditioned on metric `acc` which is not available. Available metrics are: loss,accuracy,val_loss,val_accuracy,lr\n"
          ]
        },
        {
          "output_type": "stream",
          "name": "stdout",
          "text": [
            "\b\b\b\b\b\b\b\b\b\b\b\b\b\b\b\b\b\b\b\b\b\b\b\b\b\b\b\b\b\b\b\b\b\b\b\b\b\b\b\b\b\b\b\b\b\b\b\b\b\b\b\b\b\b\b\b\b\b\b\b\b\b\b\b\b\b\b\b\b\b\b\b\b\b\b\b\b\b\b\b\r8/8 [==============================] - 1s 87ms/step - loss: 0.3166 - accuracy: 0.9400 - val_loss: 4.4890 - val_accuracy: 0.3700 - lr: 0.0010\n",
            "Epoch 307/400\n",
            "7/8 [=========================>....] - ETA: 0s - loss: 0.2466 - accuracy: 0.9688"
          ]
        },
        {
          "output_type": "stream",
          "name": "stderr",
          "text": [
            "WARNING:tensorflow:Learning rate reduction is conditioned on metric `acc` which is not available. Available metrics are: loss,accuracy,val_loss,val_accuracy,lr\n"
          ]
        },
        {
          "output_type": "stream",
          "name": "stdout",
          "text": [
            "\b\b\b\b\b\b\b\b\b\b\b\b\b\b\b\b\b\b\b\b\b\b\b\b\b\b\b\b\b\b\b\b\b\b\b\b\b\b\b\b\b\b\b\b\b\b\b\b\b\b\b\b\b\b\b\b\b\b\b\b\b\b\b\b\b\b\b\b\b\b\b\b\b\b\b\b\b\b\b\b\r8/8 [==============================] - 1s 92ms/step - loss: 0.2484 - accuracy: 0.9678 - val_loss: 5.1912 - val_accuracy: 0.3700 - lr: 0.0010\n",
            "Epoch 308/400\n",
            "7/8 [=========================>....] - ETA: 0s - loss: 0.2167 - accuracy: 0.9855"
          ]
        },
        {
          "output_type": "stream",
          "name": "stderr",
          "text": [
            "WARNING:tensorflow:Learning rate reduction is conditioned on metric `acc` which is not available. Available metrics are: loss,accuracy,val_loss,val_accuracy,lr\n"
          ]
        },
        {
          "output_type": "stream",
          "name": "stdout",
          "text": [
            "\b\b\b\b\b\b\b\b\b\b\b\b\b\b\b\b\b\b\b\b\b\b\b\b\b\b\b\b\b\b\b\b\b\b\b\b\b\b\b\b\b\b\b\b\b\b\b\b\b\b\b\b\b\b\b\b\b\b\b\b\b\b\b\b\b\b\b\b\b\b\b\b\b\b\b\b\b\b\b\b\r8/8 [==============================] - 1s 84ms/step - loss: 0.2205 - accuracy: 0.9833 - val_loss: 5.5046 - val_accuracy: 0.2500 - lr: 0.0010\n",
            "Epoch 309/400\n",
            "7/8 [=========================>....] - ETA: 0s - loss: 0.3283 - accuracy: 0.9397"
          ]
        },
        {
          "output_type": "stream",
          "name": "stderr",
          "text": [
            "WARNING:tensorflow:Learning rate reduction is conditioned on metric `acc` which is not available. Available metrics are: loss,accuracy,val_loss,val_accuracy,lr\n"
          ]
        },
        {
          "output_type": "stream",
          "name": "stdout",
          "text": [
            "\b\b\b\b\b\b\b\b\b\b\b\b\b\b\b\b\b\b\b\b\b\b\b\b\b\b\b\b\b\b\b\b\b\b\b\b\b\b\b\b\b\b\b\b\b\b\b\b\b\b\b\b\b\b\b\b\b\b\b\b\b\b\b\b\b\b\b\b\b\b\b\b\b\b\b\b\b\b\b\b\r8/8 [==============================] - 1s 82ms/step - loss: 0.3315 - accuracy: 0.9389 - val_loss: 7.5080 - val_accuracy: 0.1900 - lr: 0.0010\n",
            "Epoch 310/400\n",
            "7/8 [=========================>....] - ETA: 0s - loss: 0.2458 - accuracy: 0.9632"
          ]
        },
        {
          "output_type": "stream",
          "name": "stderr",
          "text": [
            "WARNING:tensorflow:Learning rate reduction is conditioned on metric `acc` which is not available. Available metrics are: loss,accuracy,val_loss,val_accuracy,lr\n"
          ]
        },
        {
          "output_type": "stream",
          "name": "stdout",
          "text": [
            "\b\b\b\b\b\b\b\b\b\b\b\b\b\b\b\b\b\b\b\b\b\b\b\b\b\b\b\b\b\b\b\b\b\b\b\b\b\b\b\b\b\b\b\b\b\b\b\b\b\b\b\b\b\b\b\b\b\b\b\b\b\b\b\b\b\b\b\b\b\b\b\b\b\b\b\b\b\b\b\b\r8/8 [==============================] - 1s 82ms/step - loss: 0.2460 - accuracy: 0.9633 - val_loss: 3.5438 - val_accuracy: 0.3900 - lr: 0.0010\n",
            "Epoch 311/400\n",
            "7/8 [=========================>....] - ETA: 0s - loss: 0.2348 - accuracy: 0.9699"
          ]
        },
        {
          "output_type": "stream",
          "name": "stderr",
          "text": [
            "WARNING:tensorflow:Learning rate reduction is conditioned on metric `acc` which is not available. Available metrics are: loss,accuracy,val_loss,val_accuracy,lr\n"
          ]
        },
        {
          "output_type": "stream",
          "name": "stdout",
          "text": [
            "\b\b\b\b\b\b\b\b\b\b\b\b\b\b\b\b\b\b\b\b\b\b\b\b\b\b\b\b\b\b\b\b\b\b\b\b\b\b\b\b\b\b\b\b\b\b\b\b\b\b\b\b\b\b\b\b\b\b\b\b\b\b\b\b\b\b\b\b\b\b\b\b\b\b\b\b\b\b\b\b\r8/8 [==============================] - 1s 82ms/step - loss: 0.2350 - accuracy: 0.9700 - val_loss: 5.9088 - val_accuracy: 0.2100 - lr: 0.0010\n",
            "Epoch 312/400\n",
            "7/8 [=========================>....] - ETA: 0s - loss: 0.2154 - accuracy: 0.9743"
          ]
        },
        {
          "output_type": "stream",
          "name": "stderr",
          "text": [
            "WARNING:tensorflow:Learning rate reduction is conditioned on metric `acc` which is not available. Available metrics are: loss,accuracy,val_loss,val_accuracy,lr\n"
          ]
        },
        {
          "output_type": "stream",
          "name": "stdout",
          "text": [
            "\b\b\b\b\b\b\b\b\b\b\b\b\b\b\b\b\b\b\b\b\b\b\b\b\b\b\b\b\b\b\b\b\b\b\b\b\b\b\b\b\b\b\b\b\b\b\b\b\b\b\b\b\b\b\b\b\b\b\b\b\b\b\b\b\b\b\b\b\b\b\b\b\b\b\b\b\b\b\b\b\r8/8 [==============================] - 1s 81ms/step - loss: 0.2155 - accuracy: 0.9744 - val_loss: 6.9904 - val_accuracy: 0.1900 - lr: 0.0010\n",
            "Epoch 313/400\n",
            "7/8 [=========================>....] - ETA: 0s - loss: 0.1791 - accuracy: 0.9900"
          ]
        },
        {
          "output_type": "stream",
          "name": "stderr",
          "text": [
            "WARNING:tensorflow:Learning rate reduction is conditioned on metric `acc` which is not available. Available metrics are: loss,accuracy,val_loss,val_accuracy,lr\n"
          ]
        },
        {
          "output_type": "stream",
          "name": "stdout",
          "text": [
            "\b\b\b\b\b\b\b\b\b\b\b\b\b\b\b\b\b\b\b\b\b\b\b\b\b\b\b\b\b\b\b\b\b\b\b\b\b\b\b\b\b\b\b\b\b\b\b\b\b\b\b\b\b\b\b\b\b\b\b\b\b\b\b\b\b\b\b\b\b\b\b\b\b\b\b\b\b\b\b\b\r8/8 [==============================] - 1s 82ms/step - loss: 0.1858 - accuracy: 0.9878 - val_loss: 5.0466 - val_accuracy: 0.3500 - lr: 0.0010\n",
            "Epoch 314/400\n",
            "7/8 [=========================>....] - ETA: 0s - loss: 0.2841 - accuracy: 0.9487"
          ]
        },
        {
          "output_type": "stream",
          "name": "stderr",
          "text": [
            "WARNING:tensorflow:Learning rate reduction is conditioned on metric `acc` which is not available. Available metrics are: loss,accuracy,val_loss,val_accuracy,lr\n"
          ]
        },
        {
          "output_type": "stream",
          "name": "stdout",
          "text": [
            "\b\b\b\b\b\b\b\b\b\b\b\b\b\b\b\b\b\b\b\b\b\b\b\b\b\b\b\b\b\b\b\b\b\b\b\b\b\b\b\b\b\b\b\b\b\b\b\b\b\b\b\b\b\b\b\b\b\b\b\b\b\b\b\b\b\b\b\b\b\b\b\b\b\b\b\b\b\b\b\b\r8/8 [==============================] - 1s 82ms/step - loss: 0.2839 - accuracy: 0.9489 - val_loss: 5.0717 - val_accuracy: 0.4800 - lr: 0.0010\n",
            "Epoch 315/400\n",
            "7/8 [=========================>....] - ETA: 0s - loss: 0.2834 - accuracy: 0.9587"
          ]
        },
        {
          "output_type": "stream",
          "name": "stderr",
          "text": [
            "WARNING:tensorflow:Learning rate reduction is conditioned on metric `acc` which is not available. Available metrics are: loss,accuracy,val_loss,val_accuracy,lr\n"
          ]
        },
        {
          "output_type": "stream",
          "name": "stdout",
          "text": [
            "\b\b\b\b\b\b\b\b\b\b\b\b\b\b\b\b\b\b\b\b\b\b\b\b\b\b\b\b\b\b\b\b\b\b\b\b\b\b\b\b\b\b\b\b\b\b\b\b\b\b\b\b\b\b\b\b\b\b\b\b\b\b\b\b\b\b\b\b\b\b\b\b\b\b\b\b\b\b\b\b\r8/8 [==============================] - 1s 88ms/step - loss: 0.2855 - accuracy: 0.9578 - val_loss: 5.8080 - val_accuracy: 0.3500 - lr: 0.0010\n",
            "Epoch 316/400\n",
            "7/8 [=========================>....] - ETA: 0s - loss: 0.3327 - accuracy: 0.9464"
          ]
        },
        {
          "output_type": "stream",
          "name": "stderr",
          "text": [
            "WARNING:tensorflow:Learning rate reduction is conditioned on metric `acc` which is not available. Available metrics are: loss,accuracy,val_loss,val_accuracy,lr\n"
          ]
        },
        {
          "output_type": "stream",
          "name": "stdout",
          "text": [
            "\b\b\b\b\b\b\b\b\b\b\b\b\b\b\b\b\b\b\b\b\b\b\b\b\b\b\b\b\b\b\b\b\b\b\b\b\b\b\b\b\b\b\b\b\b\b\b\b\b\b\b\b\b\b\b\b\b\b\b\b\b\b\b\b\b\b\b\b\b\b\b\b\b\b\b\b\b\b\b\b\r8/8 [==============================] - 1s 81ms/step - loss: 0.3383 - accuracy: 0.9444 - val_loss: 4.0120 - val_accuracy: 0.3200 - lr: 0.0010\n",
            "Epoch 317/400\n",
            "7/8 [=========================>....] - ETA: 0s - loss: 0.3882 - accuracy: 0.9096"
          ]
        },
        {
          "output_type": "stream",
          "name": "stderr",
          "text": [
            "WARNING:tensorflow:Learning rate reduction is conditioned on metric `acc` which is not available. Available metrics are: loss,accuracy,val_loss,val_accuracy,lr\n"
          ]
        },
        {
          "output_type": "stream",
          "name": "stdout",
          "text": [
            "\b\b\b\b\b\b\b\b\b\b\b\b\b\b\b\b\b\b\b\b\b\b\b\b\b\b\b\b\b\b\b\b\b\b\b\b\b\b\b\b\b\b\b\b\b\b\b\b\b\b\b\b\b\b\b\b\b\b\b\b\b\b\b\b\b\b\b\b\b\b\b\b\b\b\b\b\b\b\b\b\r8/8 [==============================] - 1s 81ms/step - loss: 0.3883 - accuracy: 0.9089 - val_loss: 12.9717 - val_accuracy: 0.1500 - lr: 0.0010\n",
            "Epoch 318/400\n",
            "7/8 [=========================>....] - ETA: 0s - loss: 0.2480 - accuracy: 0.9632"
          ]
        },
        {
          "output_type": "stream",
          "name": "stderr",
          "text": [
            "WARNING:tensorflow:Learning rate reduction is conditioned on metric `acc` which is not available. Available metrics are: loss,accuracy,val_loss,val_accuracy,lr\n"
          ]
        },
        {
          "output_type": "stream",
          "name": "stdout",
          "text": [
            "\b\b\b\b\b\b\b\b\b\b\b\b\b\b\b\b\b\b\b\b\b\b\b\b\b\b\b\b\b\b\b\b\b\b\b\b\b\b\b\b\b\b\b\b\b\b\b\b\b\b\b\b\b\b\b\b\b\b\b\b\b\b\b\b\b\b\b\b\b\b\b\b\b\b\b\b\b\b\b\b\r8/8 [==============================] - 1s 83ms/step - loss: 0.2488 - accuracy: 0.9622 - val_loss: 7.4208 - val_accuracy: 0.2500 - lr: 0.0010\n",
            "Epoch 319/400\n",
            "7/8 [=========================>....] - ETA: 0s - loss: 0.2381 - accuracy: 0.9710"
          ]
        },
        {
          "output_type": "stream",
          "name": "stderr",
          "text": [
            "WARNING:tensorflow:Learning rate reduction is conditioned on metric `acc` which is not available. Available metrics are: loss,accuracy,val_loss,val_accuracy,lr\n"
          ]
        },
        {
          "output_type": "stream",
          "name": "stdout",
          "text": [
            "\b\b\b\b\b\b\b\b\b\b\b\b\b\b\b\b\b\b\b\b\b\b\b\b\b\b\b\b\b\b\b\b\b\b\b\b\b\b\b\b\b\b\b\b\b\b\b\b\b\b\b\b\b\b\b\b\b\b\b\b\b\b\b\b\b\b\b\b\b\b\b\b\b\b\b\b\b\b\b\b\r8/8 [==============================] - 1s 82ms/step - loss: 0.2376 - accuracy: 0.9711 - val_loss: 6.2270 - val_accuracy: 0.2500 - lr: 0.0010\n",
            "Epoch 320/400\n",
            "7/8 [=========================>....] - ETA: 0s - loss: 0.1962 - accuracy: 0.9866"
          ]
        },
        {
          "output_type": "stream",
          "name": "stderr",
          "text": [
            "WARNING:tensorflow:Learning rate reduction is conditioned on metric `acc` which is not available. Available metrics are: loss,accuracy,val_loss,val_accuracy,lr\n"
          ]
        },
        {
          "output_type": "stream",
          "name": "stdout",
          "text": [
            "\b\b\b\b\b\b\b\b\b\b\b\b\b\b\b\b\b\b\b\b\b\b\b\b\b\b\b\b\b\b\b\b\b\b\b\b\b\b\b\b\b\b\b\b\b\b\b\b\b\b\b\b\b\b\b\b\b\b\b\b\b\b\b\b\b\b\b\b\b\b\b\b\b\b\b\b\b\b\b\b\r8/8 [==============================] - 1s 82ms/step - loss: 0.2015 - accuracy: 0.9844 - val_loss: 3.8136 - val_accuracy: 0.3700 - lr: 0.0010\n",
            "Epoch 321/400\n",
            "7/8 [=========================>....] - ETA: 0s - loss: 0.2664 - accuracy: 0.9576"
          ]
        },
        {
          "output_type": "stream",
          "name": "stderr",
          "text": [
            "WARNING:tensorflow:Learning rate reduction is conditioned on metric `acc` which is not available. Available metrics are: loss,accuracy,val_loss,val_accuracy,lr\n"
          ]
        },
        {
          "output_type": "stream",
          "name": "stdout",
          "text": [
            "\b\b\b\b\b\b\b\b\b\b\b\b\b\b\b\b\b\b\b\b\b\b\b\b\b\b\b\b\b\b\b\b\b\b\b\b\b\b\b\b\b\b\b\b\b\b\b\b\b\b\b\b\b\b\b\b\b\b\b\b\b\b\b\b\b\b\b\b\b\b\b\b\b\b\b\b\b\b\b\b\r8/8 [==============================] - 1s 89ms/step - loss: 0.2704 - accuracy: 0.9567 - val_loss: 14.8806 - val_accuracy: 0.1100 - lr: 0.0010\n",
            "Epoch 322/400\n",
            "7/8 [=========================>....] - ETA: 0s - loss: 0.4735 - accuracy: 0.9074"
          ]
        },
        {
          "output_type": "stream",
          "name": "stderr",
          "text": [
            "WARNING:tensorflow:Learning rate reduction is conditioned on metric `acc` which is not available. Available metrics are: loss,accuracy,val_loss,val_accuracy,lr\n"
          ]
        },
        {
          "output_type": "stream",
          "name": "stdout",
          "text": [
            "\b\b\b\b\b\b\b\b\b\b\b\b\b\b\b\b\b\b\b\b\b\b\b\b\b\b\b\b\b\b\b\b\b\b\b\b\b\b\b\b\b\b\b\b\b\b\b\b\b\b\b\b\b\b\b\b\b\b\b\b\b\b\b\b\b\b\b\b\b\b\b\b\b\b\b\b\b\b\b\b\r8/8 [==============================] - 1s 81ms/step - loss: 0.4753 - accuracy: 0.9067 - val_loss: 6.8301 - val_accuracy: 0.3200 - lr: 0.0010\n",
            "Epoch 323/400\n",
            "7/8 [=========================>....] - ETA: 0s - loss: 0.3745 - accuracy: 0.9353"
          ]
        },
        {
          "output_type": "stream",
          "name": "stderr",
          "text": [
            "WARNING:tensorflow:Learning rate reduction is conditioned on metric `acc` which is not available. Available metrics are: loss,accuracy,val_loss,val_accuracy,lr\n"
          ]
        },
        {
          "output_type": "stream",
          "name": "stdout",
          "text": [
            "\b\b\b\b\b\b\b\b\b\b\b\b\b\b\b\b\b\b\b\b\b\b\b\b\b\b\b\b\b\b\b\b\b\b\b\b\b\b\b\b\b\b\b\b\b\b\b\b\b\b\b\b\b\b\b\b\b\b\b\b\b\b\b\b\b\b\b\b\b\b\b\b\b\b\b\b\b\b\b\b\r8/8 [==============================] - 1s 91ms/step - loss: 0.3768 - accuracy: 0.9344 - val_loss: 3.5881 - val_accuracy: 0.3300 - lr: 0.0010\n",
            "Epoch 324/400\n",
            "7/8 [=========================>....] - ETA: 0s - loss: 0.3463 - accuracy: 0.9286"
          ]
        },
        {
          "output_type": "stream",
          "name": "stderr",
          "text": [
            "WARNING:tensorflow:Learning rate reduction is conditioned on metric `acc` which is not available. Available metrics are: loss,accuracy,val_loss,val_accuracy,lr\n"
          ]
        },
        {
          "output_type": "stream",
          "name": "stdout",
          "text": [
            "\b\b\b\b\b\b\b\b\b\b\b\b\b\b\b\b\b\b\b\b\b\b\b\b\b\b\b\b\b\b\b\b\b\b\b\b\b\b\b\b\b\b\b\b\b\b\b\b\b\b\b\b\b\b\b\b\b\b\b\b\b\b\b\b\b\b\b\b\b\b\b\b\b\b\b\b\b\b\b\b\r8/8 [==============================] - 1s 86ms/step - loss: 0.3468 - accuracy: 0.9278 - val_loss: 3.9071 - val_accuracy: 0.4100 - lr: 0.0010\n",
            "Epoch 325/400\n",
            "7/8 [=========================>....] - ETA: 0s - loss: 0.2722 - accuracy: 0.9654"
          ]
        },
        {
          "output_type": "stream",
          "name": "stderr",
          "text": [
            "WARNING:tensorflow:Learning rate reduction is conditioned on metric `acc` which is not available. Available metrics are: loss,accuracy,val_loss,val_accuracy,lr\n"
          ]
        },
        {
          "output_type": "stream",
          "name": "stdout",
          "text": [
            "\b\b\b\b\b\b\b\b\b\b\b\b\b\b\b\b\b\b\b\b\b\b\b\b\b\b\b\b\b\b\b\b\b\b\b\b\b\b\b\b\b\b\b\b\b\b\b\b\b\b\b\b\b\b\b\b\b\b\b\b\b\b\b\b\b\b\b\b\b\b\b\b\b\b\b\b\b\b\b\b\r8/8 [==============================] - 1s 86ms/step - loss: 0.2765 - accuracy: 0.9622 - val_loss: 5.0042 - val_accuracy: 0.3300 - lr: 0.0010\n",
            "Epoch 326/400\n",
            "7/8 [=========================>....] - ETA: 0s - loss: 0.2979 - accuracy: 0.9554"
          ]
        },
        {
          "output_type": "stream",
          "name": "stderr",
          "text": [
            "WARNING:tensorflow:Learning rate reduction is conditioned on metric `acc` which is not available. Available metrics are: loss,accuracy,val_loss,val_accuracy,lr\n"
          ]
        },
        {
          "output_type": "stream",
          "name": "stdout",
          "text": [
            "\b\b\b\b\b\b\b\b\b\b\b\b\b\b\b\b\b\b\b\b\b\b\b\b\b\b\b\b\b\b\b\b\b\b\b\b\b\b\b\b\b\b\b\b\b\b\b\b\b\b\b\b\b\b\b\b\b\b\b\b\b\b\b\b\b\b\b\b\b\b\b\b\b\b\b\b\b\b\b\b\r8/8 [==============================] - 1s 86ms/step - loss: 0.2975 - accuracy: 0.9556 - val_loss: 4.3075 - val_accuracy: 0.3600 - lr: 0.0010\n",
            "Epoch 327/400\n",
            "7/8 [=========================>....] - ETA: 0s - loss: 0.2457 - accuracy: 0.9688"
          ]
        },
        {
          "output_type": "stream",
          "name": "stderr",
          "text": [
            "WARNING:tensorflow:Learning rate reduction is conditioned on metric `acc` which is not available. Available metrics are: loss,accuracy,val_loss,val_accuracy,lr\n"
          ]
        },
        {
          "output_type": "stream",
          "name": "stdout",
          "text": [
            "\b\b\b\b\b\b\b\b\b\b\b\b\b\b\b\b\b\b\b\b\b\b\b\b\b\b\b\b\b\b\b\b\b\b\b\b\b\b\b\b\b\b\b\b\b\b\b\b\b\b\b\b\b\b\b\b\b\b\b\b\b\b\b\b\b\b\b\b\b\b\b\b\b\b\b\b\b\b\b\b\r8/8 [==============================] - 1s 83ms/step - loss: 0.2463 - accuracy: 0.9678 - val_loss: 3.5809 - val_accuracy: 0.3700 - lr: 0.0010\n",
            "Epoch 328/400\n",
            "7/8 [=========================>....] - ETA: 0s - loss: 0.1960 - accuracy: 0.9821"
          ]
        },
        {
          "output_type": "stream",
          "name": "stderr",
          "text": [
            "WARNING:tensorflow:Learning rate reduction is conditioned on metric `acc` which is not available. Available metrics are: loss,accuracy,val_loss,val_accuracy,lr\n"
          ]
        },
        {
          "output_type": "stream",
          "name": "stdout",
          "text": [
            "\b\b\b\b\b\b\b\b\b\b\b\b\b\b\b\b\b\b\b\b\b\b\b\b\b\b\b\b\b\b\b\b\b\b\b\b\b\b\b\b\b\b\b\b\b\b\b\b\b\b\b\b\b\b\b\b\b\b\b\b\b\b\b\b\b\b\b\b\b\b\b\b\b\b\b\b\b\b\b\b\r8/8 [==============================] - 1s 83ms/step - loss: 0.1961 - accuracy: 0.9822 - val_loss: 4.5141 - val_accuracy: 0.3000 - lr: 0.0010\n",
            "Epoch 329/400\n",
            "7/8 [=========================>....] - ETA: 0s - loss: 0.1876 - accuracy: 0.9888"
          ]
        },
        {
          "output_type": "stream",
          "name": "stderr",
          "text": [
            "WARNING:tensorflow:Learning rate reduction is conditioned on metric `acc` which is not available. Available metrics are: loss,accuracy,val_loss,val_accuracy,lr\n"
          ]
        },
        {
          "output_type": "stream",
          "name": "stdout",
          "text": [
            "\b\b\b\b\b\b\b\b\b\b\b\b\b\b\b\b\b\b\b\b\b\b\b\b\b\b\b\b\b\b\b\b\b\b\b\b\b\b\b\b\b\b\b\b\b\b\b\b\b\b\b\b\b\b\b\b\b\b\b\b\b\b\b\b\b\b\b\b\b\b\b\b\b\b\b\b\b\b\b\b\r8/8 [==============================] - 1s 88ms/step - loss: 0.1874 - accuracy: 0.9889 - val_loss: 3.7941 - val_accuracy: 0.3400 - lr: 0.0010\n",
            "Epoch 330/400\n",
            "7/8 [=========================>....] - ETA: 0s - loss: 0.1642 - accuracy: 0.9989"
          ]
        },
        {
          "output_type": "stream",
          "name": "stderr",
          "text": [
            "WARNING:tensorflow:Learning rate reduction is conditioned on metric `acc` which is not available. Available metrics are: loss,accuracy,val_loss,val_accuracy,lr\n"
          ]
        },
        {
          "output_type": "stream",
          "name": "stdout",
          "text": [
            "\b\b\b\b\b\b\b\b\b\b\b\b\b\b\b\b\b\b\b\b\b\b\b\b\b\b\b\b\b\b\b\b\b\b\b\b\b\b\b\b\b\b\b\b\b\b\b\b\b\b\b\b\b\b\b\b\b\b\b\b\b\b\b\b\b\b\b\b\b\b\b\b\b\b\b\b\b\b\b\b\r8/8 [==============================] - 1s 82ms/step - loss: 0.1668 - accuracy: 0.9978 - val_loss: 4.0995 - val_accuracy: 0.3200 - lr: 0.0010\n",
            "Epoch 331/400\n",
            "7/8 [=========================>....] - ETA: 0s - loss: 0.1914 - accuracy: 0.9844"
          ]
        },
        {
          "output_type": "stream",
          "name": "stderr",
          "text": [
            "WARNING:tensorflow:Learning rate reduction is conditioned on metric `acc` which is not available. Available metrics are: loss,accuracy,val_loss,val_accuracy,lr\n"
          ]
        },
        {
          "output_type": "stream",
          "name": "stdout",
          "text": [
            "\b\b\b\b\b\b\b\b\b\b\b\b\b\b\b\b\b\b\b\b\b\b\b\b\b\b\b\b\b\b\b\b\b\b\b\b\b\b\b\b\b\b\b\b\b\b\b\b\b\b\b\b\b\b\b\b\b\b\b\b\b\b\b\b\b\b\b\b\b\b\b\b\b\b\b\b\b\b\b\b\r8/8 [==============================] - 1s 82ms/step - loss: 0.1917 - accuracy: 0.9844 - val_loss: 3.6835 - val_accuracy: 0.3700 - lr: 0.0010\n",
            "Epoch 332/400\n",
            "7/8 [=========================>....] - ETA: 0s - loss: 0.2447 - accuracy: 0.9721"
          ]
        },
        {
          "output_type": "stream",
          "name": "stderr",
          "text": [
            "WARNING:tensorflow:Learning rate reduction is conditioned on metric `acc` which is not available. Available metrics are: loss,accuracy,val_loss,val_accuracy,lr\n"
          ]
        },
        {
          "output_type": "stream",
          "name": "stdout",
          "text": [
            "\b\b\b\b\b\b\b\b\b\b\b\b\b\b\b\b\b\b\b\b\b\b\b\b\b\b\b\b\b\b\b\b\b\b\b\b\b\b\b\b\b\b\b\b\b\b\b\b\b\b\b\b\b\b\b\b\b\b\b\b\b\b\b\b\b\b\b\b\b\b\b\b\b\b\b\b\b\b\b\b\r8/8 [==============================] - 1s 82ms/step - loss: 0.2459 - accuracy: 0.9711 - val_loss: 4.3506 - val_accuracy: 0.3200 - lr: 0.0010\n",
            "Epoch 333/400\n",
            "7/8 [=========================>....] - ETA: 0s - loss: 0.2251 - accuracy: 0.9710"
          ]
        },
        {
          "output_type": "stream",
          "name": "stderr",
          "text": [
            "WARNING:tensorflow:Learning rate reduction is conditioned on metric `acc` which is not available. Available metrics are: loss,accuracy,val_loss,val_accuracy,lr\n"
          ]
        },
        {
          "output_type": "stream",
          "name": "stdout",
          "text": [
            "\b\b\b\b\b\b\b\b\b\b\b\b\b\b\b\b\b\b\b\b\b\b\b\b\b\b\b\b\b\b\b\b\b\b\b\b\b\b\b\b\b\b\b\b\b\b\b\b\b\b\b\b\b\b\b\b\b\b\b\b\b\b\b\b\b\b\b\b\b\b\b\b\b\b\b\b\b\b\b\b\r8/8 [==============================] - 1s 80ms/step - loss: 0.2247 - accuracy: 0.9711 - val_loss: 3.7890 - val_accuracy: 0.3800 - lr: 0.0010\n",
            "Epoch 334/400\n",
            "7/8 [=========================>....] - ETA: 0s - loss: 0.1683 - accuracy: 0.9911"
          ]
        },
        {
          "output_type": "stream",
          "name": "stderr",
          "text": [
            "WARNING:tensorflow:Learning rate reduction is conditioned on metric `acc` which is not available. Available metrics are: loss,accuracy,val_loss,val_accuracy,lr\n"
          ]
        },
        {
          "output_type": "stream",
          "name": "stdout",
          "text": [
            "\b\b\b\b\b\b\b\b\b\b\b\b\b\b\b\b\b\b\b\b\b\b\b\b\b\b\b\b\b\b\b\b\b\b\b\b\b\b\b\b\b\b\b\b\b\b\b\b\b\b\b\b\b\b\b\b\b\b\b\b\b\b\b\b\b\b\b\b\b\b\b\b\b\b\b\b\b\b\b\b\r8/8 [==============================] - 1s 81ms/step - loss: 0.1682 - accuracy: 0.9911 - val_loss: 3.7411 - val_accuracy: 0.3800 - lr: 0.0010\n",
            "Epoch 335/400\n",
            "7/8 [=========================>....] - ETA: 0s - loss: 0.1548 - accuracy: 0.9967"
          ]
        },
        {
          "output_type": "stream",
          "name": "stderr",
          "text": [
            "WARNING:tensorflow:Learning rate reduction is conditioned on metric `acc` which is not available. Available metrics are: loss,accuracy,val_loss,val_accuracy,lr\n"
          ]
        },
        {
          "output_type": "stream",
          "name": "stdout",
          "text": [
            "\b\b\b\b\b\b\b\b\b\b\b\b\b\b\b\b\b\b\b\b\b\b\b\b\b\b\b\b\b\b\b\b\b\b\b\b\b\b\b\b\b\b\b\b\b\b\b\b\b\b\b\b\b\b\b\b\b\b\b\b\b\b\b\b\b\b\b\b\b\b\b\b\b\b\b\b\b\b\b\b\r8/8 [==============================] - 1s 81ms/step - loss: 0.1548 - accuracy: 0.9967 - val_loss: 3.4187 - val_accuracy: 0.4000 - lr: 0.0010\n",
            "Epoch 336/400\n",
            "7/8 [=========================>....] - ETA: 0s - loss: 0.1497 - accuracy: 0.9978"
          ]
        },
        {
          "output_type": "stream",
          "name": "stderr",
          "text": [
            "WARNING:tensorflow:Learning rate reduction is conditioned on metric `acc` which is not available. Available metrics are: loss,accuracy,val_loss,val_accuracy,lr\n"
          ]
        },
        {
          "output_type": "stream",
          "name": "stdout",
          "text": [
            "\b\b\b\b\b\b\b\b\b\b\b\b\b\b\b\b\b\b\b\b\b\b\b\b\b\b\b\b\b\b\b\b\b\b\b\b\b\b\b\b\b\b\b\b\b\b\b\b\b\b\b\b\b\b\b\b\b\b\b\b\b\b\b\b\b\b\b\b\b\b\b\b\b\b\b\b\b\b\b\b\r8/8 [==============================] - 1s 84ms/step - loss: 0.1498 - accuracy: 0.9978 - val_loss: 3.0382 - val_accuracy: 0.4300 - lr: 0.0010\n",
            "Epoch 337/400\n",
            "7/8 [=========================>....] - ETA: 0s - loss: 0.1469 - accuracy: 0.9989"
          ]
        },
        {
          "output_type": "stream",
          "name": "stderr",
          "text": [
            "WARNING:tensorflow:Learning rate reduction is conditioned on metric `acc` which is not available. Available metrics are: loss,accuracy,val_loss,val_accuracy,lr\n"
          ]
        },
        {
          "output_type": "stream",
          "name": "stdout",
          "text": [
            "\b\b\b\b\b\b\b\b\b\b\b\b\b\b\b\b\b\b\b\b\b\b\b\b\b\b\b\b\b\b\b\b\b\b\b\b\b\b\b\b\b\b\b\b\b\b\b\b\b\b\b\b\b\b\b\b\b\b\b\b\b\b\b\b\b\b\b\b\b\b\b\b\b\b\b\b\b\b\b\b\r8/8 [==============================] - 1s 82ms/step - loss: 0.1476 - accuracy: 0.9989 - val_loss: 2.6754 - val_accuracy: 0.4300 - lr: 0.0010\n",
            "Epoch 338/400\n",
            "7/8 [=========================>....] - ETA: 0s - loss: 0.1524 - accuracy: 0.9944"
          ]
        },
        {
          "output_type": "stream",
          "name": "stderr",
          "text": [
            "WARNING:tensorflow:Learning rate reduction is conditioned on metric `acc` which is not available. Available metrics are: loss,accuracy,val_loss,val_accuracy,lr\n"
          ]
        },
        {
          "output_type": "stream",
          "name": "stdout",
          "text": [
            "\b\b\b\b\b\b\b\b\b\b\b\b\b\b\b\b\b\b\b\b\b\b\b\b\b\b\b\b\b\b\b\b\b\b\b\b\b\b\b\b\b\b\b\b\b\b\b\b\b\b\b\b\b\b\b\b\b\b\b\b\b\b\b\b\b\b\b\b\b\b\b\b\b\b\b\b\b\b\b\b\r8/8 [==============================] - 1s 83ms/step - loss: 0.1523 - accuracy: 0.9944 - val_loss: 6.0295 - val_accuracy: 0.1700 - lr: 0.0010\n",
            "Epoch 339/400\n",
            "7/8 [=========================>....] - ETA: 0s - loss: 0.1636 - accuracy: 0.9933"
          ]
        },
        {
          "output_type": "stream",
          "name": "stderr",
          "text": [
            "WARNING:tensorflow:Learning rate reduction is conditioned on metric `acc` which is not available. Available metrics are: loss,accuracy,val_loss,val_accuracy,lr\n"
          ]
        },
        {
          "output_type": "stream",
          "name": "stdout",
          "text": [
            "\b\b\b\b\b\b\b\b\b\b\b\b\b\b\b\b\b\b\b\b\b\b\b\b\b\b\b\b\b\b\b\b\b\b\b\b\b\b\b\b\b\b\b\b\b\b\b\b\b\b\b\b\b\b\b\b\b\b\b\b\b\b\b\b\b\b\b\b\b\b\b\b\b\b\b\b\b\b\b\b\r8/8 [==============================] - 1s 89ms/step - loss: 0.1639 - accuracy: 0.9933 - val_loss: 3.5732 - val_accuracy: 0.3200 - lr: 0.0010\n",
            "Epoch 340/400\n",
            "7/8 [=========================>....] - ETA: 0s - loss: 0.1592 - accuracy: 0.9888"
          ]
        },
        {
          "output_type": "stream",
          "name": "stderr",
          "text": [
            "WARNING:tensorflow:Learning rate reduction is conditioned on metric `acc` which is not available. Available metrics are: loss,accuracy,val_loss,val_accuracy,lr\n"
          ]
        },
        {
          "output_type": "stream",
          "name": "stdout",
          "text": [
            "\b\b\b\b\b\b\b\b\b\b\b\b\b\b\b\b\b\b\b\b\b\b\b\b\b\b\b\b\b\b\b\b\b\b\b\b\b\b\b\b\b\b\b\b\b\b\b\b\b\b\b\b\b\b\b\b\b\b\b\b\b\b\b\b\b\b\b\b\b\b\b\b\b\b\b\b\b\b\b\b\r8/8 [==============================] - 1s 82ms/step - loss: 0.1596 - accuracy: 0.9889 - val_loss: 2.8938 - val_accuracy: 0.4500 - lr: 0.0010\n",
            "Epoch 341/400\n",
            "7/8 [=========================>....] - ETA: 0s - loss: 0.1465 - accuracy: 0.9978"
          ]
        },
        {
          "output_type": "stream",
          "name": "stderr",
          "text": [
            "WARNING:tensorflow:Learning rate reduction is conditioned on metric `acc` which is not available. Available metrics are: loss,accuracy,val_loss,val_accuracy,lr\n"
          ]
        },
        {
          "output_type": "stream",
          "name": "stdout",
          "text": [
            "\b\b\b\b\b\b\b\b\b\b\b\b\b\b\b\b\b\b\b\b\b\b\b\b\b\b\b\b\b\b\b\b\b\b\b\b\b\b\b\b\b\b\b\b\b\b\b\b\b\b\b\b\b\b\b\b\b\b\b\b\b\b\b\b\b\b\b\b\b\b\b\b\b\b\b\b\b\b\b\b\r8/8 [==============================] - 1s 81ms/step - loss: 0.1464 - accuracy: 0.9978 - val_loss: 2.3222 - val_accuracy: 0.4900 - lr: 0.0010\n",
            "Epoch 342/400\n",
            "7/8 [=========================>....] - ETA: 0s - loss: 0.1525 - accuracy: 0.9967"
          ]
        },
        {
          "output_type": "stream",
          "name": "stderr",
          "text": [
            "WARNING:tensorflow:Learning rate reduction is conditioned on metric `acc` which is not available. Available metrics are: loss,accuracy,val_loss,val_accuracy,lr\n"
          ]
        },
        {
          "output_type": "stream",
          "name": "stdout",
          "text": [
            "\b\b\b\b\b\b\b\b\b\b\b\b\b\b\b\b\b\b\b\b\b\b\b\b\b\b\b\b\b\b\b\b\b\b\b\b\b\b\b\b\b\b\b\b\b\b\b\b\b\b\b\b\b\b\b\b\b\b\b\b\b\b\b\b\b\b\b\b\b\b\b\b\b\b\b\b\b\b\b\b\r8/8 [==============================] - 1s 90ms/step - loss: 0.1527 - accuracy: 0.9967 - val_loss: 2.2184 - val_accuracy: 0.4900 - lr: 0.0010\n",
            "Epoch 343/400\n",
            "7/8 [=========================>....] - ETA: 0s - loss: 0.1417 - accuracy: 0.9989"
          ]
        },
        {
          "output_type": "stream",
          "name": "stderr",
          "text": [
            "WARNING:tensorflow:Learning rate reduction is conditioned on metric `acc` which is not available. Available metrics are: loss,accuracy,val_loss,val_accuracy,lr\n"
          ]
        },
        {
          "output_type": "stream",
          "name": "stdout",
          "text": [
            "\b\b\b\b\b\b\b\b\b\b\b\b\b\b\b\b\b\b\b\b\b\b\b\b\b\b\b\b\b\b\b\b\b\b\b\b\b\b\b\b\b\b\b\b\b\b\b\b\b\b\b\b\b\b\b\b\b\b\b\b\b\b\b\b\b\b\b\b\b\b\b\b\b\b\b\b\b\b\b\b\r8/8 [==============================] - 1s 92ms/step - loss: 0.1419 - accuracy: 0.9989 - val_loss: 2.6172 - val_accuracy: 0.4400 - lr: 0.0010\n",
            "Epoch 344/400\n",
            "7/8 [=========================>....] - ETA: 0s - loss: 0.1435 - accuracy: 0.9967"
          ]
        },
        {
          "output_type": "stream",
          "name": "stderr",
          "text": [
            "WARNING:tensorflow:Learning rate reduction is conditioned on metric `acc` which is not available. Available metrics are: loss,accuracy,val_loss,val_accuracy,lr\n"
          ]
        },
        {
          "output_type": "stream",
          "name": "stdout",
          "text": [
            "\b\b\b\b\b\b\b\b\b\b\b\b\b\b\b\b\b\b\b\b\b\b\b\b\b\b\b\b\b\b\b\b\b\b\b\b\b\b\b\b\b\b\b\b\b\b\b\b\b\b\b\b\b\b\b\b\b\b\b\b\b\b\b\b\b\b\b\b\b\b\b\b\b\b\b\b\b\b\b\b\r8/8 [==============================] - 1s 86ms/step - loss: 0.1445 - accuracy: 0.9967 - val_loss: 2.9486 - val_accuracy: 0.4200 - lr: 0.0010\n",
            "Epoch 345/400\n",
            "7/8 [=========================>....] - ETA: 0s - loss: 0.1457 - accuracy: 0.9944"
          ]
        },
        {
          "output_type": "stream",
          "name": "stderr",
          "text": [
            "WARNING:tensorflow:Learning rate reduction is conditioned on metric `acc` which is not available. Available metrics are: loss,accuracy,val_loss,val_accuracy,lr\n"
          ]
        },
        {
          "output_type": "stream",
          "name": "stdout",
          "text": [
            "\b\b\b\b\b\b\b\b\b\b\b\b\b\b\b\b\b\b\b\b\b\b\b\b\b\b\b\b\b\b\b\b\b\b\b\b\b\b\b\b\b\b\b\b\b\b\b\b\b\b\b\b\b\b\b\b\b\b\b\b\b\b\b\b\b\b\b\b\b\b\b\b\b\b\b\b\b\b\b\b\r8/8 [==============================] - 1s 84ms/step - loss: 0.1457 - accuracy: 0.9944 - val_loss: 2.4657 - val_accuracy: 0.4800 - lr: 0.0010\n",
            "Epoch 346/400\n",
            "7/8 [=========================>....] - ETA: 0s - loss: 0.1450 - accuracy: 0.9967"
          ]
        },
        {
          "output_type": "stream",
          "name": "stderr",
          "text": [
            "WARNING:tensorflow:Learning rate reduction is conditioned on metric `acc` which is not available. Available metrics are: loss,accuracy,val_loss,val_accuracy,lr\n"
          ]
        },
        {
          "output_type": "stream",
          "name": "stdout",
          "text": [
            "\b\b\b\b\b\b\b\b\b\b\b\b\b\b\b\b\b\b\b\b\b\b\b\b\b\b\b\b\b\b\b\b\b\b\b\b\b\b\b\b\b\b\b\b\b\b\b\b\b\b\b\b\b\b\b\b\b\b\b\b\b\b\b\b\b\b\b\b\b\b\b\b\b\b\b\b\b\b\b\b\r8/8 [==============================] - 1s 97ms/step - loss: 0.1450 - accuracy: 0.9967 - val_loss: 2.3617 - val_accuracy: 0.5000 - lr: 0.0010\n",
            "Epoch 347/400\n",
            "7/8 [=========================>....] - ETA: 0s - loss: 0.1408 - accuracy: 0.9978"
          ]
        },
        {
          "output_type": "stream",
          "name": "stderr",
          "text": [
            "WARNING:tensorflow:Learning rate reduction is conditioned on metric `acc` which is not available. Available metrics are: loss,accuracy,val_loss,val_accuracy,lr\n"
          ]
        },
        {
          "output_type": "stream",
          "name": "stdout",
          "text": [
            "\b\b\b\b\b\b\b\b\b\b\b\b\b\b\b\b\b\b\b\b\b\b\b\b\b\b\b\b\b\b\b\b\b\b\b\b\b\b\b\b\b\b\b\b\b\b\b\b\b\b\b\b\b\b\b\b\b\b\b\b\b\b\b\b\b\b\b\b\b\b\b\b\b\b\b\b\b\b\b\b\r8/8 [==============================] - 1s 88ms/step - loss: 0.1412 - accuracy: 0.9978 - val_loss: 2.1485 - val_accuracy: 0.5100 - lr: 0.0010\n",
            "Epoch 348/400\n",
            "7/8 [=========================>....] - ETA: 0s - loss: 0.1474 - accuracy: 0.9944"
          ]
        },
        {
          "output_type": "stream",
          "name": "stderr",
          "text": [
            "WARNING:tensorflow:Learning rate reduction is conditioned on metric `acc` which is not available. Available metrics are: loss,accuracy,val_loss,val_accuracy,lr\n"
          ]
        },
        {
          "output_type": "stream",
          "name": "stdout",
          "text": [
            "\b\b\b\b\b\b\b\b\b\b\b\b\b\b\b\b\b\b\b\b\b\b\b\b\b\b\b\b\b\b\b\b\b\b\b\b\b\b\b\b\b\b\b\b\b\b\b\b\b\b\b\b\b\b\b\b\b\b\b\b\b\b\b\b\b\b\b\b\b\b\b\b\b\b\b\b\b\b\b\b\r8/8 [==============================] - 1s 81ms/step - loss: 0.1473 - accuracy: 0.9944 - val_loss: 3.0796 - val_accuracy: 0.4200 - lr: 0.0010\n",
            "Epoch 349/400\n",
            "7/8 [=========================>....] - ETA: 0s - loss: 0.1582 - accuracy: 0.9911"
          ]
        },
        {
          "output_type": "stream",
          "name": "stderr",
          "text": [
            "WARNING:tensorflow:Learning rate reduction is conditioned on metric `acc` which is not available. Available metrics are: loss,accuracy,val_loss,val_accuracy,lr\n"
          ]
        },
        {
          "output_type": "stream",
          "name": "stdout",
          "text": [
            "\b\b\b\b\b\b\b\b\b\b\b\b\b\b\b\b\b\b\b\b\b\b\b\b\b\b\b\b\b\b\b\b\b\b\b\b\b\b\b\b\b\b\b\b\b\b\b\b\b\b\b\b\b\b\b\b\b\b\b\b\b\b\b\b\b\b\b\b\b\b\b\b\b\b\b\b\b\b\b\b\r8/8 [==============================] - 1s 91ms/step - loss: 0.1581 - accuracy: 0.9911 - val_loss: 3.0570 - val_accuracy: 0.4500 - lr: 0.0010\n",
            "Epoch 350/400\n",
            "7/8 [=========================>....] - ETA: 0s - loss: 0.1352 - accuracy: 0.9989"
          ]
        },
        {
          "output_type": "stream",
          "name": "stderr",
          "text": [
            "WARNING:tensorflow:Learning rate reduction is conditioned on metric `acc` which is not available. Available metrics are: loss,accuracy,val_loss,val_accuracy,lr\n"
          ]
        },
        {
          "output_type": "stream",
          "name": "stdout",
          "text": [
            "\b\b\b\b\b\b\b\b\b\b\b\b\b\b\b\b\b\b\b\b\b\b\b\b\b\b\b\b\b\b\b\b\b\b\b\b\b\b\b\b\b\b\b\b\b\b\b\b\b\b\b\b\b\b\b\b\b\b\b\b\b\b\b\b\b\b\b\b\b\b\b\b\b\b\b\b\b\b\b\b\r8/8 [==============================] - 1s 93ms/step - loss: 0.1354 - accuracy: 0.9989 - val_loss: 2.7298 - val_accuracy: 0.4800 - lr: 0.0010\n",
            "Epoch 351/400\n",
            "7/8 [=========================>....] - ETA: 0s - loss: 0.1354 - accuracy: 0.9967"
          ]
        },
        {
          "output_type": "stream",
          "name": "stderr",
          "text": [
            "WARNING:tensorflow:Learning rate reduction is conditioned on metric `acc` which is not available. Available metrics are: loss,accuracy,val_loss,val_accuracy,lr\n"
          ]
        },
        {
          "output_type": "stream",
          "name": "stdout",
          "text": [
            "\b\b\b\b\b\b\b\b\b\b\b\b\b\b\b\b\b\b\b\b\b\b\b\b\b\b\b\b\b\b\b\b\b\b\b\b\b\b\b\b\b\b\b\b\b\b\b\b\b\b\b\b\b\b\b\b\b\b\b\b\b\b\b\b\b\b\b\b\b\b\b\b\b\b\b\b\b\b\b\b\r8/8 [==============================] - 1s 99ms/step - loss: 0.1354 - accuracy: 0.9967 - val_loss: 2.3983 - val_accuracy: 0.5100 - lr: 0.0010\n",
            "Epoch 352/400\n",
            "7/8 [=========================>....] - ETA: 0s - loss: 0.1365 - accuracy: 0.9967"
          ]
        },
        {
          "output_type": "stream",
          "name": "stderr",
          "text": [
            "WARNING:tensorflow:Learning rate reduction is conditioned on metric `acc` which is not available. Available metrics are: loss,accuracy,val_loss,val_accuracy,lr\n"
          ]
        },
        {
          "output_type": "stream",
          "name": "stdout",
          "text": [
            "\b\b\b\b\b\b\b\b\b\b\b\b\b\b\b\b\b\b\b\b\b\b\b\b\b\b\b\b\b\b\b\b\b\b\b\b\b\b\b\b\b\b\b\b\b\b\b\b\b\b\b\b\b\b\b\b\b\b\b\b\b\b\b\b\b\b\b\b\b\b\b\b\b\b\b\b\b\b\b\b\r8/8 [==============================] - 1s 99ms/step - loss: 0.1365 - accuracy: 0.9967 - val_loss: 2.1963 - val_accuracy: 0.5300 - lr: 0.0010\n",
            "Epoch 353/400\n",
            "7/8 [=========================>....] - ETA: 0s - loss: 0.1336 - accuracy: 0.9978"
          ]
        },
        {
          "output_type": "stream",
          "name": "stderr",
          "text": [
            "WARNING:tensorflow:Learning rate reduction is conditioned on metric `acc` which is not available. Available metrics are: loss,accuracy,val_loss,val_accuracy,lr\n"
          ]
        },
        {
          "output_type": "stream",
          "name": "stdout",
          "text": [
            "\b\b\b\b\b\b\b\b\b\b\b\b\b\b\b\b\b\b\b\b\b\b\b\b\b\b\b\b\b\b\b\b\b\b\b\b\b\b\b\b\b\b\b\b\b\b\b\b\b\b\b\b\b\b\b\b\b\b\b\b\b\b\b\b\b\b\b\b\b\b\b\b\b\b\b\b\b\b\b\b\r8/8 [==============================] - 1s 107ms/step - loss: 0.1337 - accuracy: 0.9978 - val_loss: 2.0614 - val_accuracy: 0.5700 - lr: 0.0010\n",
            "Epoch 354/400\n",
            "7/8 [=========================>....] - ETA: 0s - loss: 0.1330 - accuracy: 0.9978"
          ]
        },
        {
          "output_type": "stream",
          "name": "stderr",
          "text": [
            "WARNING:tensorflow:Learning rate reduction is conditioned on metric `acc` which is not available. Available metrics are: loss,accuracy,val_loss,val_accuracy,lr\n"
          ]
        },
        {
          "output_type": "stream",
          "name": "stdout",
          "text": [
            "\b\b\b\b\b\b\b\b\b\b\b\b\b\b\b\b\b\b\b\b\b\b\b\b\b\b\b\b\b\b\b\b\b\b\b\b\b\b\b\b\b\b\b\b\b\b\b\b\b\b\b\b\b\b\b\b\b\b\b\b\b\b\b\b\b\b\b\b\b\b\b\b\b\b\b\b\b\b\b\b\r8/8 [==============================] - 1s 86ms/step - loss: 0.1346 - accuracy: 0.9967 - val_loss: 1.9493 - val_accuracy: 0.5400 - lr: 0.0010\n",
            "Epoch 355/400\n",
            "7/8 [=========================>....] - ETA: 0s - loss: 0.2531 - accuracy: 0.9643"
          ]
        },
        {
          "output_type": "stream",
          "name": "stderr",
          "text": [
            "WARNING:tensorflow:Learning rate reduction is conditioned on metric `acc` which is not available. Available metrics are: loss,accuracy,val_loss,val_accuracy,lr\n"
          ]
        },
        {
          "output_type": "stream",
          "name": "stdout",
          "text": [
            "\b\b\b\b\b\b\b\b\b\b\b\b\b\b\b\b\b\b\b\b\b\b\b\b\b\b\b\b\b\b\b\b\b\b\b\b\b\b\b\b\b\b\b\b\b\b\b\b\b\b\b\b\b\b\b\b\b\b\b\b\b\b\b\b\b\b\b\b\b\b\b\b\b\b\b\b\b\b\b\b\r8/8 [==============================] - 1s 104ms/step - loss: 0.2526 - accuracy: 0.9644 - val_loss: 4.0074 - val_accuracy: 0.4000 - lr: 0.0010\n",
            "Epoch 356/400\n",
            "7/8 [=========================>....] - ETA: 0s - loss: 0.2105 - accuracy: 0.9766"
          ]
        },
        {
          "output_type": "stream",
          "name": "stderr",
          "text": [
            "WARNING:tensorflow:Learning rate reduction is conditioned on metric `acc` which is not available. Available metrics are: loss,accuracy,val_loss,val_accuracy,lr\n"
          ]
        },
        {
          "output_type": "stream",
          "name": "stdout",
          "text": [
            "\b\b\b\b\b\b\b\b\b\b\b\b\b\b\b\b\b\b\b\b\b\b\b\b\b\b\b\b\b\b\b\b\b\b\b\b\b\b\b\b\b\b\b\b\b\b\b\b\b\b\b\b\b\b\b\b\b\b\b\b\b\b\b\b\b\b\b\b\b\b\b\b\b\b\b\b\b\b\b\b\r8/8 [==============================] - 1s 116ms/step - loss: 0.2102 - accuracy: 0.9767 - val_loss: 5.5080 - val_accuracy: 0.3100 - lr: 0.0010\n",
            "Epoch 357/400\n",
            "7/8 [=========================>....] - ETA: 0s - loss: 0.1554 - accuracy: 0.9955"
          ]
        },
        {
          "output_type": "stream",
          "name": "stderr",
          "text": [
            "WARNING:tensorflow:Learning rate reduction is conditioned on metric `acc` which is not available. Available metrics are: loss,accuracy,val_loss,val_accuracy,lr\n"
          ]
        },
        {
          "output_type": "stream",
          "name": "stdout",
          "text": [
            "\b\b\b\b\b\b\b\b\b\b\b\b\b\b\b\b\b\b\b\b\b\b\b\b\b\b\b\b\b\b\b\b\b\b\b\b\b\b\b\b\b\b\b\b\b\b\b\b\b\b\b\b\b\b\b\b\b\b\b\b\b\b\b\b\b\b\b\b\b\b\b\b\b\b\b\b\b\b\b\b\r8/8 [==============================] - 1s 84ms/step - loss: 0.1556 - accuracy: 0.9956 - val_loss: 3.9582 - val_accuracy: 0.3600 - lr: 0.0010\n",
            "Epoch 358/400\n",
            "8/8 [==============================] - ETA: 0s - loss: 0.1471 - accuracy: 0.9967"
          ]
        },
        {
          "output_type": "stream",
          "name": "stderr",
          "text": [
            "WARNING:tensorflow:Learning rate reduction is conditioned on metric `acc` which is not available. Available metrics are: loss,accuracy,val_loss,val_accuracy,lr\n"
          ]
        },
        {
          "output_type": "stream",
          "name": "stdout",
          "text": [
            "\b\b\b\b\b\b\b\b\b\b\b\b\b\b\b\b\b\b\b\b\b\b\b\b\b\b\b\b\b\b\b\b\b\b\b\b\b\b\b\b\b\b\b\b\b\b\b\b\b\b\b\b\b\b\b\b\b\b\b\b\b\b\b\b\b\b\b\b\b\b\b\b\b\b\b\b\b\b\b\b\r8/8 [==============================] - 1s 109ms/step - loss: 0.1471 - accuracy: 0.9967 - val_loss: 3.1567 - val_accuracy: 0.4800 - lr: 0.0010\n",
            "Epoch 359/400\n",
            "7/8 [=========================>....] - ETA: 0s - loss: 0.1505 - accuracy: 0.9955"
          ]
        },
        {
          "output_type": "stream",
          "name": "stderr",
          "text": [
            "WARNING:tensorflow:Learning rate reduction is conditioned on metric `acc` which is not available. Available metrics are: loss,accuracy,val_loss,val_accuracy,lr\n"
          ]
        },
        {
          "output_type": "stream",
          "name": "stdout",
          "text": [
            "\b\b\b\b\b\b\b\b\b\b\b\b\b\b\b\b\b\b\b\b\b\b\b\b\b\b\b\b\b\b\b\b\b\b\b\b\b\b\b\b\b\b\b\b\b\b\b\b\b\b\b\b\b\b\b\b\b\b\b\b\b\b\b\b\b\b\b\b\b\b\b\b\b\b\b\b\b\b\b\b\r8/8 [==============================] - 1s 110ms/step - loss: 0.1507 - accuracy: 0.9956 - val_loss: 3.5640 - val_accuracy: 0.3900 - lr: 0.0010\n",
            "Epoch 360/400\n",
            "7/8 [=========================>....] - ETA: 0s - loss: 0.1545 - accuracy: 0.9978"
          ]
        },
        {
          "output_type": "stream",
          "name": "stderr",
          "text": [
            "WARNING:tensorflow:Learning rate reduction is conditioned on metric `acc` which is not available. Available metrics are: loss,accuracy,val_loss,val_accuracy,lr\n"
          ]
        },
        {
          "output_type": "stream",
          "name": "stdout",
          "text": [
            "\b\b\b\b\b\b\b\b\b\b\b\b\b\b\b\b\b\b\b\b\b\b\b\b\b\b\b\b\b\b\b\b\b\b\b\b\b\b\b\b\b\b\b\b\b\b\b\b\b\b\b\b\b\b\b\b\b\b\b\b\b\b\b\b\b\b\b\b\b\b\b\b\b\b\b\b\b\b\b\b\r8/8 [==============================] - 1s 93ms/step - loss: 0.1556 - accuracy: 0.9978 - val_loss: 3.4737 - val_accuracy: 0.3900 - lr: 0.0010\n",
            "Epoch 361/400\n",
            "7/8 [=========================>....] - ETA: 0s - loss: 0.1460 - accuracy: 0.9978"
          ]
        },
        {
          "output_type": "stream",
          "name": "stderr",
          "text": [
            "WARNING:tensorflow:Learning rate reduction is conditioned on metric `acc` which is not available. Available metrics are: loss,accuracy,val_loss,val_accuracy,lr\n"
          ]
        },
        {
          "output_type": "stream",
          "name": "stdout",
          "text": [
            "\b\b\b\b\b\b\b\b\b\b\b\b\b\b\b\b\b\b\b\b\b\b\b\b\b\b\b\b\b\b\b\b\b\b\b\b\b\b\b\b\b\b\b\b\b\b\b\b\b\b\b\b\b\b\b\b\b\b\b\b\b\b\b\b\b\b\b\b\b\b\b\b\b\b\b\b\b\b\b\b\r8/8 [==============================] - 1s 90ms/step - loss: 0.1462 - accuracy: 0.9978 - val_loss: 3.1283 - val_accuracy: 0.4900 - lr: 0.0010\n",
            "Epoch 362/400\n",
            "7/8 [=========================>....] - ETA: 0s - loss: 0.1526 - accuracy: 0.9978"
          ]
        },
        {
          "output_type": "stream",
          "name": "stderr",
          "text": [
            "WARNING:tensorflow:Learning rate reduction is conditioned on metric `acc` which is not available. Available metrics are: loss,accuracy,val_loss,val_accuracy,lr\n"
          ]
        },
        {
          "output_type": "stream",
          "name": "stdout",
          "text": [
            "\b\b\b\b\b\b\b\b\b\b\b\b\b\b\b\b\b\b\b\b\b\b\b\b\b\b\b\b\b\b\b\b\b\b\b\b\b\b\b\b\b\b\b\b\b\b\b\b\b\b\b\b\b\b\b\b\b\b\b\b\b\b\b\b\b\b\b\b\b\b\b\b\b\b\b\b\b\b\b\b\r8/8 [==============================] - 1s 89ms/step - loss: 0.1536 - accuracy: 0.9978 - val_loss: 3.0780 - val_accuracy: 0.4600 - lr: 0.0010\n",
            "Epoch 363/400\n",
            "7/8 [=========================>....] - ETA: 0s - loss: 0.1492 - accuracy: 0.9967"
          ]
        },
        {
          "output_type": "stream",
          "name": "stderr",
          "text": [
            "WARNING:tensorflow:Learning rate reduction is conditioned on metric `acc` which is not available. Available metrics are: loss,accuracy,val_loss,val_accuracy,lr\n"
          ]
        },
        {
          "output_type": "stream",
          "name": "stdout",
          "text": [
            "\b\b\b\b\b\b\b\b\b\b\b\b\b\b\b\b\b\b\b\b\b\b\b\b\b\b\b\b\b\b\b\b\b\b\b\b\b\b\b\b\b\b\b\b\b\b\b\b\b\b\b\b\b\b\b\b\b\b\b\b\b\b\b\b\b\b\b\b\b\b\b\b\b\b\b\b\b\b\b\b\r8/8 [==============================] - 1s 93ms/step - loss: 0.1491 - accuracy: 0.9967 - val_loss: 3.0486 - val_accuracy: 0.4100 - lr: 0.0010\n",
            "Epoch 364/400\n",
            "7/8 [=========================>....] - ETA: 0s - loss: 0.1727 - accuracy: 0.9888"
          ]
        },
        {
          "output_type": "stream",
          "name": "stderr",
          "text": [
            "WARNING:tensorflow:Learning rate reduction is conditioned on metric `acc` which is not available. Available metrics are: loss,accuracy,val_loss,val_accuracy,lr\n"
          ]
        },
        {
          "output_type": "stream",
          "name": "stdout",
          "text": [
            "\b\b\b\b\b\b\b\b\b\b\b\b\b\b\b\b\b\b\b\b\b\b\b\b\b\b\b\b\b\b\b\b\b\b\b\b\b\b\b\b\b\b\b\b\b\b\b\b\b\b\b\b\b\b\b\b\b\b\b\b\b\b\b\b\b\b\b\b\b\b\b\b\b\b\b\b\b\b\b\b\r8/8 [==============================] - 1s 84ms/step - loss: 0.1763 - accuracy: 0.9878 - val_loss: 2.3529 - val_accuracy: 0.4300 - lr: 0.0010\n",
            "Epoch 365/400\n",
            "7/8 [=========================>....] - ETA: 0s - loss: 0.1763 - accuracy: 0.9877"
          ]
        },
        {
          "output_type": "stream",
          "name": "stderr",
          "text": [
            "WARNING:tensorflow:Learning rate reduction is conditioned on metric `acc` which is not available. Available metrics are: loss,accuracy,val_loss,val_accuracy,lr\n"
          ]
        },
        {
          "output_type": "stream",
          "name": "stdout",
          "text": [
            "\b\b\b\b\b\b\b\b\b\b\b\b\b\b\b\b\b\b\b\b\b\b\b\b\b\b\b\b\b\b\b\b\b\b\b\b\b\b\b\b\b\b\b\b\b\b\b\b\b\b\b\b\b\b\b\b\b\b\b\b\b\b\b\b\b\b\b\b\b\b\b\b\b\b\b\b\b\b\b\b\r8/8 [==============================] - 1s 81ms/step - loss: 0.1761 - accuracy: 0.9878 - val_loss: 2.3235 - val_accuracy: 0.5200 - lr: 0.0010\n",
            "Epoch 366/400\n",
            "7/8 [=========================>....] - ETA: 0s - loss: 0.1765 - accuracy: 0.9844"
          ]
        },
        {
          "output_type": "stream",
          "name": "stderr",
          "text": [
            "WARNING:tensorflow:Learning rate reduction is conditioned on metric `acc` which is not available. Available metrics are: loss,accuracy,val_loss,val_accuracy,lr\n"
          ]
        },
        {
          "output_type": "stream",
          "name": "stdout",
          "text": [
            "\b\b\b\b\b\b\b\b\b\b\b\b\b\b\b\b\b\b\b\b\b\b\b\b\b\b\b\b\b\b\b\b\b\b\b\b\b\b\b\b\b\b\b\b\b\b\b\b\b\b\b\b\b\b\b\b\b\b\b\b\b\b\b\b\b\b\b\b\b\b\b\b\b\b\b\b\b\b\b\b\r8/8 [==============================] - 1s 83ms/step - loss: 0.1764 - accuracy: 0.9844 - val_loss: 2.5810 - val_accuracy: 0.4500 - lr: 0.0010\n",
            "Epoch 367/400\n",
            "7/8 [=========================>....] - ETA: 0s - loss: 0.1433 - accuracy: 0.9978"
          ]
        },
        {
          "output_type": "stream",
          "name": "stderr",
          "text": [
            "WARNING:tensorflow:Learning rate reduction is conditioned on metric `acc` which is not available. Available metrics are: loss,accuracy,val_loss,val_accuracy,lr\n"
          ]
        },
        {
          "output_type": "stream",
          "name": "stdout",
          "text": [
            "\b\b\b\b\b\b\b\b\b\b\b\b\b\b\b\b\b\b\b\b\b\b\b\b\b\b\b\b\b\b\b\b\b\b\b\b\b\b\b\b\b\b\b\b\b\b\b\b\b\b\b\b\b\b\b\b\b\b\b\b\b\b\b\b\b\b\b\b\b\b\b\b\b\b\b\b\b\b\b\b\r8/8 [==============================] - 1s 88ms/step - loss: 0.1433 - accuracy: 0.9978 - val_loss: 3.0266 - val_accuracy: 0.4200 - lr: 0.0010\n",
            "Epoch 368/400\n",
            "7/8 [=========================>....] - ETA: 0s - loss: 0.1375 - accuracy: 0.9978"
          ]
        },
        {
          "output_type": "stream",
          "name": "stderr",
          "text": [
            "WARNING:tensorflow:Learning rate reduction is conditioned on metric `acc` which is not available. Available metrics are: loss,accuracy,val_loss,val_accuracy,lr\n"
          ]
        },
        {
          "output_type": "stream",
          "name": "stdout",
          "text": [
            "\b\b\b\b\b\b\b\b\b\b\b\b\b\b\b\b\b\b\b\b\b\b\b\b\b\b\b\b\b\b\b\b\b\b\b\b\b\b\b\b\b\b\b\b\b\b\b\b\b\b\b\b\b\b\b\b\b\b\b\b\b\b\b\b\b\b\b\b\b\b\b\b\b\b\b\b\b\b\b\b\r8/8 [==============================] - 1s 83ms/step - loss: 0.1375 - accuracy: 0.9978 - val_loss: 2.7177 - val_accuracy: 0.4200 - lr: 0.0010\n",
            "Epoch 369/400\n",
            "7/8 [=========================>....] - ETA: 0s - loss: 0.1351 - accuracy: 0.9989"
          ]
        },
        {
          "output_type": "stream",
          "name": "stderr",
          "text": [
            "WARNING:tensorflow:Learning rate reduction is conditioned on metric `acc` which is not available. Available metrics are: loss,accuracy,val_loss,val_accuracy,lr\n"
          ]
        },
        {
          "output_type": "stream",
          "name": "stdout",
          "text": [
            "\b\b\b\b\b\b\b\b\b\b\b\b\b\b\b\b\b\b\b\b\b\b\b\b\b\b\b\b\b\b\b\b\b\b\b\b\b\b\b\b\b\b\b\b\b\b\b\b\b\b\b\b\b\b\b\b\b\b\b\b\b\b\b\b\b\b\b\b\b\b\b\b\b\b\b\b\b\b\b\b\r8/8 [==============================] - 1s 81ms/step - loss: 0.1351 - accuracy: 0.9989 - val_loss: 2.2879 - val_accuracy: 0.4600 - lr: 0.0010\n",
            "Epoch 370/400\n",
            "7/8 [=========================>....] - ETA: 0s - loss: 0.1337 - accuracy: 0.9978"
          ]
        },
        {
          "output_type": "stream",
          "name": "stderr",
          "text": [
            "WARNING:tensorflow:Learning rate reduction is conditioned on metric `acc` which is not available. Available metrics are: loss,accuracy,val_loss,val_accuracy,lr\n"
          ]
        },
        {
          "output_type": "stream",
          "name": "stdout",
          "text": [
            "\b\b\b\b\b\b\b\b\b\b\b\b\b\b\b\b\b\b\b\b\b\b\b\b\b\b\b\b\b\b\b\b\b\b\b\b\b\b\b\b\b\b\b\b\b\b\b\b\b\b\b\b\b\b\b\b\b\b\b\b\b\b\b\b\b\b\b\b\b\b\b\b\b\b\b\b\b\b\b\b\r8/8 [==============================] - 1s 81ms/step - loss: 0.1345 - accuracy: 0.9978 - val_loss: 2.2197 - val_accuracy: 0.4900 - lr: 0.0010\n",
            "Epoch 371/400\n",
            "7/8 [=========================>....] - ETA: 0s - loss: 0.1395 - accuracy: 0.9967"
          ]
        },
        {
          "output_type": "stream",
          "name": "stderr",
          "text": [
            "WARNING:tensorflow:Learning rate reduction is conditioned on metric `acc` which is not available. Available metrics are: loss,accuracy,val_loss,val_accuracy,lr\n"
          ]
        },
        {
          "output_type": "stream",
          "name": "stdout",
          "text": [
            "\b\b\b\b\b\b\b\b\b\b\b\b\b\b\b\b\b\b\b\b\b\b\b\b\b\b\b\b\b\b\b\b\b\b\b\b\b\b\b\b\b\b\b\b\b\b\b\b\b\b\b\b\b\b\b\b\b\b\b\b\b\b\b\b\b\b\b\b\b\b\b\b\b\b\b\b\b\b\b\b\r8/8 [==============================] - 1s 88ms/step - loss: 0.1414 - accuracy: 0.9967 - val_loss: 3.3031 - val_accuracy: 0.4200 - lr: 0.0010\n",
            "Epoch 372/400\n",
            "7/8 [=========================>....] - ETA: 0s - loss: 0.1850 - accuracy: 0.9821"
          ]
        },
        {
          "output_type": "stream",
          "name": "stderr",
          "text": [
            "WARNING:tensorflow:Learning rate reduction is conditioned on metric `acc` which is not available. Available metrics are: loss,accuracy,val_loss,val_accuracy,lr\n"
          ]
        },
        {
          "output_type": "stream",
          "name": "stdout",
          "text": [
            "\b\b\b\b\b\b\b\b\b\b\b\b\b\b\b\b\b\b\b\b\b\b\b\b\b\b\b\b\b\b\b\b\b\b\b\b\b\b\b\b\b\b\b\b\b\b\b\b\b\b\b\b\b\b\b\b\b\b\b\b\b\b\b\b\b\b\b\b\b\b\b\b\b\b\b\b\b\b\b\b\r8/8 [==============================] - 1s 99ms/step - loss: 0.1858 - accuracy: 0.9811 - val_loss: 2.9290 - val_accuracy: 0.4400 - lr: 0.0010\n",
            "Epoch 373/400\n",
            "7/8 [=========================>....] - ETA: 0s - loss: 0.2147 - accuracy: 0.9699"
          ]
        },
        {
          "output_type": "stream",
          "name": "stderr",
          "text": [
            "WARNING:tensorflow:Learning rate reduction is conditioned on metric `acc` which is not available. Available metrics are: loss,accuracy,val_loss,val_accuracy,lr\n"
          ]
        },
        {
          "output_type": "stream",
          "name": "stdout",
          "text": [
            "\b\b\b\b\b\b\b\b\b\b\b\b\b\b\b\b\b\b\b\b\b\b\b\b\b\b\b\b\b\b\b\b\b\b\b\b\b\b\b\b\b\b\b\b\b\b\b\b\b\b\b\b\b\b\b\b\b\b\b\b\b\b\b\b\b\b\b\b\b\b\b\b\b\b\b\b\b\b\b\b\r8/8 [==============================] - 1s 84ms/step - loss: 0.2201 - accuracy: 0.9689 - val_loss: 3.1239 - val_accuracy: 0.4900 - lr: 0.0010\n",
            "Epoch 374/400\n",
            "7/8 [=========================>....] - ETA: 0s - loss: 0.1696 - accuracy: 0.9888"
          ]
        },
        {
          "output_type": "stream",
          "name": "stderr",
          "text": [
            "WARNING:tensorflow:Learning rate reduction is conditioned on metric `acc` which is not available. Available metrics are: loss,accuracy,val_loss,val_accuracy,lr\n"
          ]
        },
        {
          "output_type": "stream",
          "name": "stdout",
          "text": [
            "\b\b\b\b\b\b\b\b\b\b\b\b\b\b\b\b\b\b\b\b\b\b\b\b\b\b\b\b\b\b\b\b\b\b\b\b\b\b\b\b\b\b\b\b\b\b\b\b\b\b\b\b\b\b\b\b\b\b\b\b\b\b\b\b\b\b\b\b\b\b\b\b\b\b\b\b\b\b\b\b\r8/8 [==============================] - 1s 82ms/step - loss: 0.1727 - accuracy: 0.9867 - val_loss: 2.9405 - val_accuracy: 0.4700 - lr: 0.0010\n",
            "Epoch 375/400\n",
            "7/8 [=========================>....] - ETA: 0s - loss: 0.2421 - accuracy: 0.9654"
          ]
        },
        {
          "output_type": "stream",
          "name": "stderr",
          "text": [
            "WARNING:tensorflow:Learning rate reduction is conditioned on metric `acc` which is not available. Available metrics are: loss,accuracy,val_loss,val_accuracy,lr\n"
          ]
        },
        {
          "output_type": "stream",
          "name": "stdout",
          "text": [
            "\b\b\b\b\b\b\b\b\b\b\b\b\b\b\b\b\b\b\b\b\b\b\b\b\b\b\b\b\b\b\b\b\b\b\b\b\b\b\b\b\b\b\b\b\b\b\b\b\b\b\b\b\b\b\b\b\b\b\b\b\b\b\b\b\b\b\b\b\b\b\b\b\b\b\b\b\b\b\b\b\r8/8 [==============================] - 1s 82ms/step - loss: 0.2422 - accuracy: 0.9656 - val_loss: 3.3266 - val_accuracy: 0.4200 - lr: 0.0010\n",
            "Epoch 376/400\n",
            "7/8 [=========================>....] - ETA: 0s - loss: 0.2516 - accuracy: 0.9688"
          ]
        },
        {
          "output_type": "stream",
          "name": "stderr",
          "text": [
            "WARNING:tensorflow:Learning rate reduction is conditioned on metric `acc` which is not available. Available metrics are: loss,accuracy,val_loss,val_accuracy,lr\n"
          ]
        },
        {
          "output_type": "stream",
          "name": "stdout",
          "text": [
            "\b\b\b\b\b\b\b\b\b\b\b\b\b\b\b\b\b\b\b\b\b\b\b\b\b\b\b\b\b\b\b\b\b\b\b\b\b\b\b\b\b\b\b\b\b\b\b\b\b\b\b\b\b\b\b\b\b\b\b\b\b\b\b\b\b\b\b\b\b\b\b\b\b\b\b\b\b\b\b\b\r8/8 [==============================] - 1s 83ms/step - loss: 0.2510 - accuracy: 0.9689 - val_loss: 5.2809 - val_accuracy: 0.4000 - lr: 0.0010\n",
            "Epoch 377/400\n",
            "7/8 [=========================>....] - ETA: 0s - loss: 0.1793 - accuracy: 0.9866"
          ]
        },
        {
          "output_type": "stream",
          "name": "stderr",
          "text": [
            "WARNING:tensorflow:Learning rate reduction is conditioned on metric `acc` which is not available. Available metrics are: loss,accuracy,val_loss,val_accuracy,lr\n"
          ]
        },
        {
          "output_type": "stream",
          "name": "stdout",
          "text": [
            "\b\b\b\b\b\b\b\b\b\b\b\b\b\b\b\b\b\b\b\b\b\b\b\b\b\b\b\b\b\b\b\b\b\b\b\b\b\b\b\b\b\b\b\b\b\b\b\b\b\b\b\b\b\b\b\b\b\b\b\b\b\b\b\b\b\b\b\b\b\b\b\b\b\b\b\b\b\b\b\b\r8/8 [==============================] - 1s 84ms/step - loss: 0.1813 - accuracy: 0.9856 - val_loss: 4.9851 - val_accuracy: 0.3700 - lr: 0.0010\n",
            "Epoch 378/400\n",
            "7/8 [=========================>....] - ETA: 0s - loss: 0.2083 - accuracy: 0.9777"
          ]
        },
        {
          "output_type": "stream",
          "name": "stderr",
          "text": [
            "WARNING:tensorflow:Learning rate reduction is conditioned on metric `acc` which is not available. Available metrics are: loss,accuracy,val_loss,val_accuracy,lr\n"
          ]
        },
        {
          "output_type": "stream",
          "name": "stdout",
          "text": [
            "\b\b\b\b\b\b\b\b\b\b\b\b\b\b\b\b\b\b\b\b\b\b\b\b\b\b\b\b\b\b\b\b\b\b\b\b\b\b\b\b\b\b\b\b\b\b\b\b\b\b\b\b\b\b\b\b\b\b\b\b\b\b\b\b\b\b\b\b\b\b\b\b\b\b\b\b\b\b\b\b\r8/8 [==============================] - 1s 84ms/step - loss: 0.2144 - accuracy: 0.9767 - val_loss: 3.6287 - val_accuracy: 0.4000 - lr: 0.0010\n",
            "Epoch 379/400\n",
            "7/8 [=========================>....] - ETA: 0s - loss: 0.1992 - accuracy: 0.9766"
          ]
        },
        {
          "output_type": "stream",
          "name": "stderr",
          "text": [
            "WARNING:tensorflow:Learning rate reduction is conditioned on metric `acc` which is not available. Available metrics are: loss,accuracy,val_loss,val_accuracy,lr\n"
          ]
        },
        {
          "output_type": "stream",
          "name": "stdout",
          "text": [
            "\b\b\b\b\b\b\b\b\b\b\b\b\b\b\b\b\b\b\b\b\b\b\b\b\b\b\b\b\b\b\b\b\b\b\b\b\b\b\b\b\b\b\b\b\b\b\b\b\b\b\b\b\b\b\b\b\b\b\b\b\b\b\b\b\b\b\b\b\b\b\b\b\b\b\b\b\b\b\b\b\r8/8 [==============================] - 1s 111ms/step - loss: 0.2011 - accuracy: 0.9744 - val_loss: 13.3370 - val_accuracy: 0.1800 - lr: 0.0010\n",
            "Epoch 380/400\n",
            "7/8 [=========================>....] - ETA: 0s - loss: 0.2613 - accuracy: 0.9643"
          ]
        },
        {
          "output_type": "stream",
          "name": "stderr",
          "text": [
            "WARNING:tensorflow:Learning rate reduction is conditioned on metric `acc` which is not available. Available metrics are: loss,accuracy,val_loss,val_accuracy,lr\n"
          ]
        },
        {
          "output_type": "stream",
          "name": "stdout",
          "text": [
            "\b\b\b\b\b\b\b\b\b\b\b\b\b\b\b\b\b\b\b\b\b\b\b\b\b\b\b\b\b\b\b\b\b\b\b\b\b\b\b\b\b\b\b\b\b\b\b\b\b\b\b\b\b\b\b\b\b\b\b\b\b\b\b\b\b\b\b\b\b\b\b\b\b\b\b\b\b\b\b\b\r8/8 [==============================] - 1s 103ms/step - loss: 0.2649 - accuracy: 0.9633 - val_loss: 13.1543 - val_accuracy: 0.1900 - lr: 0.0010\n",
            "Epoch 381/400\n",
            "7/8 [=========================>....] - ETA: 0s - loss: 0.4209 - accuracy: 0.9196"
          ]
        },
        {
          "output_type": "stream",
          "name": "stderr",
          "text": [
            "WARNING:tensorflow:Learning rate reduction is conditioned on metric `acc` which is not available. Available metrics are: loss,accuracy,val_loss,val_accuracy,lr\n"
          ]
        },
        {
          "output_type": "stream",
          "name": "stdout",
          "text": [
            "\b\b\b\b\b\b\b\b\b\b\b\b\b\b\b\b\b\b\b\b\b\b\b\b\b\b\b\b\b\b\b\b\b\b\b\b\b\b\b\b\b\b\b\b\b\b\b\b\b\b\b\b\b\b\b\b\b\b\b\b\b\b\b\b\b\b\b\b\b\b\b\b\b\b\b\b\b\b\b\b\r8/8 [==============================] - 1s 87ms/step - loss: 0.4211 - accuracy: 0.9189 - val_loss: 17.3659 - val_accuracy: 0.1500 - lr: 0.0010\n",
            "Epoch 382/400\n",
            "7/8 [=========================>....] - ETA: 0s - loss: 0.2899 - accuracy: 0.9576"
          ]
        },
        {
          "output_type": "stream",
          "name": "stderr",
          "text": [
            "WARNING:tensorflow:Learning rate reduction is conditioned on metric `acc` which is not available. Available metrics are: loss,accuracy,val_loss,val_accuracy,lr\n"
          ]
        },
        {
          "output_type": "stream",
          "name": "stdout",
          "text": [
            "\b\b\b\b\b\b\b\b\b\b\b\b\b\b\b\b\b\b\b\b\b\b\b\b\b\b\b\b\b\b\b\b\b\b\b\b\b\b\b\b\b\b\b\b\b\b\b\b\b\b\b\b\b\b\b\b\b\b\b\b\b\b\b\b\b\b\b\b\b\b\b\b\b\b\b\b\b\b\b\b\r8/8 [==============================] - 1s 84ms/step - loss: 0.2910 - accuracy: 0.9578 - val_loss: 16.9294 - val_accuracy: 0.1400 - lr: 0.0010\n",
            "Epoch 383/400\n",
            "8/8 [==============================] - ETA: 0s - loss: 0.2667 - accuracy: 0.9589"
          ]
        },
        {
          "output_type": "stream",
          "name": "stderr",
          "text": [
            "WARNING:tensorflow:Learning rate reduction is conditioned on metric `acc` which is not available. Available metrics are: loss,accuracy,val_loss,val_accuracy,lr\n"
          ]
        },
        {
          "output_type": "stream",
          "name": "stdout",
          "text": [
            "\b\b\b\b\b\b\b\b\b\b\b\b\b\b\b\b\b\b\b\b\b\b\b\b\b\b\b\b\b\b\b\b\b\b\b\b\b\b\b\b\b\b\b\b\b\b\b\b\b\b\b\b\b\b\b\b\b\b\b\b\b\b\b\b\b\b\b\b\b\b\b\b\b\b\b\b\b\b\b\b\r8/8 [==============================] - 1s 117ms/step - loss: 0.2667 - accuracy: 0.9589 - val_loss: 10.1474 - val_accuracy: 0.2000 - lr: 0.0010\n",
            "Epoch 384/400\n",
            "7/8 [=========================>....] - ETA: 0s - loss: 0.2189 - accuracy: 0.9799"
          ]
        },
        {
          "output_type": "stream",
          "name": "stderr",
          "text": [
            "WARNING:tensorflow:Learning rate reduction is conditioned on metric `acc` which is not available. Available metrics are: loss,accuracy,val_loss,val_accuracy,lr\n"
          ]
        },
        {
          "output_type": "stream",
          "name": "stdout",
          "text": [
            "\b\b\b\b\b\b\b\b\b\b\b\b\b\b\b\b\b\b\b\b\b\b\b\b\b\b\b\b\b\b\b\b\b\b\b\b\b\b\b\b\b\b\b\b\b\b\b\b\b\b\b\b\b\b\b\b\b\b\b\b\b\b\b\b\b\b\b\b\b\b\b\b\b\b\b\b\b\b\b\b\r8/8 [==============================] - 1s 87ms/step - loss: 0.2257 - accuracy: 0.9789 - val_loss: 4.8931 - val_accuracy: 0.3100 - lr: 0.0010\n",
            "Epoch 385/400\n",
            "7/8 [=========================>....] - ETA: 0s - loss: 0.1962 - accuracy: 0.9888"
          ]
        },
        {
          "output_type": "stream",
          "name": "stderr",
          "text": [
            "WARNING:tensorflow:Learning rate reduction is conditioned on metric `acc` which is not available. Available metrics are: loss,accuracy,val_loss,val_accuracy,lr\n"
          ]
        },
        {
          "output_type": "stream",
          "name": "stdout",
          "text": [
            "\b\b\b\b\b\b\b\b\b\b\b\b\b\b\b\b\b\b\b\b\b\b\b\b\b\b\b\b\b\b\b\b\b\b\b\b\b\b\b\b\b\b\b\b\b\b\b\b\b\b\b\b\b\b\b\b\b\b\b\b\b\b\b\b\b\b\b\b\b\b\b\b\b\b\b\b\b\b\b\b\r8/8 [==============================] - 1s 82ms/step - loss: 0.1968 - accuracy: 0.9889 - val_loss: 4.3086 - val_accuracy: 0.3900 - lr: 0.0010\n",
            "Epoch 386/400\n",
            "7/8 [=========================>....] - ETA: 0s - loss: 0.1950 - accuracy: 0.9866"
          ]
        },
        {
          "output_type": "stream",
          "name": "stderr",
          "text": [
            "WARNING:tensorflow:Learning rate reduction is conditioned on metric `acc` which is not available. Available metrics are: loss,accuracy,val_loss,val_accuracy,lr\n"
          ]
        },
        {
          "output_type": "stream",
          "name": "stdout",
          "text": [
            "\b\b\b\b\b\b\b\b\b\b\b\b\b\b\b\b\b\b\b\b\b\b\b\b\b\b\b\b\b\b\b\b\b\b\b\b\b\b\b\b\b\b\b\b\b\b\b\b\b\b\b\b\b\b\b\b\b\b\b\b\b\b\b\b\b\b\b\b\b\b\b\b\b\b\b\b\b\b\b\b\r8/8 [==============================] - 1s 84ms/step - loss: 0.1947 - accuracy: 0.9867 - val_loss: 5.3821 - val_accuracy: 0.3400 - lr: 0.0010\n",
            "Epoch 387/400\n",
            "7/8 [=========================>....] - ETA: 0s - loss: 0.1676 - accuracy: 0.9955"
          ]
        },
        {
          "output_type": "stream",
          "name": "stderr",
          "text": [
            "WARNING:tensorflow:Learning rate reduction is conditioned on metric `acc` which is not available. Available metrics are: loss,accuracy,val_loss,val_accuracy,lr\n"
          ]
        },
        {
          "output_type": "stream",
          "name": "stdout",
          "text": [
            "\b\b\b\b\b\b\b\b\b\b\b\b\b\b\b\b\b\b\b\b\b\b\b\b\b\b\b\b\b\b\b\b\b\b\b\b\b\b\b\b\b\b\b\b\b\b\b\b\b\b\b\b\b\b\b\b\b\b\b\b\b\b\b\b\b\b\b\b\b\b\b\b\b\b\b\b\b\b\b\b\r8/8 [==============================] - 1s 84ms/step - loss: 0.1676 - accuracy: 0.9956 - val_loss: 7.0873 - val_accuracy: 0.2400 - lr: 0.0010\n",
            "Epoch 388/400\n",
            "7/8 [=========================>....] - ETA: 0s - loss: 0.1565 - accuracy: 0.9967"
          ]
        },
        {
          "output_type": "stream",
          "name": "stderr",
          "text": [
            "WARNING:tensorflow:Learning rate reduction is conditioned on metric `acc` which is not available. Available metrics are: loss,accuracy,val_loss,val_accuracy,lr\n"
          ]
        },
        {
          "output_type": "stream",
          "name": "stdout",
          "text": [
            "\b\b\b\b\b\b\b\b\b\b\b\b\b\b\b\b\b\b\b\b\b\b\b\b\b\b\b\b\b\b\b\b\b\b\b\b\b\b\b\b\b\b\b\b\b\b\b\b\b\b\b\b\b\b\b\b\b\b\b\b\b\b\b\b\b\b\b\b\b\b\b\b\b\b\b\b\b\b\b\b\r8/8 [==============================] - 1s 104ms/step - loss: 0.1567 - accuracy: 0.9967 - val_loss: 5.9579 - val_accuracy: 0.2700 - lr: 0.0010\n",
            "Epoch 389/400\n",
            "7/8 [=========================>....] - ETA: 0s - loss: 0.1522 - accuracy: 0.9978"
          ]
        },
        {
          "output_type": "stream",
          "name": "stderr",
          "text": [
            "WARNING:tensorflow:Learning rate reduction is conditioned on metric `acc` which is not available. Available metrics are: loss,accuracy,val_loss,val_accuracy,lr\n"
          ]
        },
        {
          "output_type": "stream",
          "name": "stdout",
          "text": [
            "\b\b\b\b\b\b\b\b\b\b\b\b\b\b\b\b\b\b\b\b\b\b\b\b\b\b\b\b\b\b\b\b\b\b\b\b\b\b\b\b\b\b\b\b\b\b\b\b\b\b\b\b\b\b\b\b\b\b\b\b\b\b\b\b\b\b\b\b\b\b\b\b\b\b\b\b\b\b\b\b\r8/8 [==============================] - 1s 89ms/step - loss: 0.1552 - accuracy: 0.9967 - val_loss: 3.7740 - val_accuracy: 0.3600 - lr: 0.0010\n",
            "Epoch 390/400\n",
            "7/8 [=========================>....] - ETA: 0s - loss: 0.1792 - accuracy: 0.9877"
          ]
        },
        {
          "output_type": "stream",
          "name": "stderr",
          "text": [
            "WARNING:tensorflow:Learning rate reduction is conditioned on metric `acc` which is not available. Available metrics are: loss,accuracy,val_loss,val_accuracy,lr\n"
          ]
        },
        {
          "output_type": "stream",
          "name": "stdout",
          "text": [
            "\b\b\b\b\b\b\b\b\b\b\b\b\b\b\b\b\b\b\b\b\b\b\b\b\b\b\b\b\b\b\b\b\b\b\b\b\b\b\b\b\b\b\b\b\b\b\b\b\b\b\b\b\b\b\b\b\b\b\b\b\b\b\b\b\b\b\b\b\b\b\b\b\b\b\b\b\b\b\b\b\r8/8 [==============================] - 1s 99ms/step - loss: 0.1807 - accuracy: 0.9878 - val_loss: 3.3158 - val_accuracy: 0.3500 - lr: 0.0010\n",
            "Epoch 391/400\n",
            "7/8 [=========================>....] - ETA: 0s - loss: 0.2886 - accuracy: 0.9520"
          ]
        },
        {
          "output_type": "stream",
          "name": "stderr",
          "text": [
            "WARNING:tensorflow:Learning rate reduction is conditioned on metric `acc` which is not available. Available metrics are: loss,accuracy,val_loss,val_accuracy,lr\n"
          ]
        },
        {
          "output_type": "stream",
          "name": "stdout",
          "text": [
            "\b\b\b\b\b\b\b\b\b\b\b\b\b\b\b\b\b\b\b\b\b\b\b\b\b\b\b\b\b\b\b\b\b\b\b\b\b\b\b\b\b\b\b\b\b\b\b\b\b\b\b\b\b\b\b\b\b\b\b\b\b\b\b\b\b\b\b\b\b\b\b\b\b\b\b\b\b\b\b\b\r8/8 [==============================] - 1s 82ms/step - loss: 0.2880 - accuracy: 0.9522 - val_loss: 5.0145 - val_accuracy: 0.3500 - lr: 0.0010\n",
            "Epoch 392/400\n",
            "7/8 [=========================>....] - ETA: 0s - loss: 0.1930 - accuracy: 0.9844"
          ]
        },
        {
          "output_type": "stream",
          "name": "stderr",
          "text": [
            "WARNING:tensorflow:Learning rate reduction is conditioned on metric `acc` which is not available. Available metrics are: loss,accuracy,val_loss,val_accuracy,lr\n"
          ]
        },
        {
          "output_type": "stream",
          "name": "stdout",
          "text": [
            "\b\b\b\b\b\b\b\b\b\b\b\b\b\b\b\b\b\b\b\b\b\b\b\b\b\b\b\b\b\b\b\b\b\b\b\b\b\b\b\b\b\b\b\b\b\b\b\b\b\b\b\b\b\b\b\b\b\b\b\b\b\b\b\b\b\b\b\b\b\b\b\b\b\b\b\b\b\b\b\b\r8/8 [==============================] - 1s 83ms/step - loss: 0.1937 - accuracy: 0.9844 - val_loss: 5.7542 - val_accuracy: 0.2900 - lr: 0.0010\n",
            "Epoch 393/400\n",
            "7/8 [=========================>....] - ETA: 0s - loss: 0.1785 - accuracy: 0.9900"
          ]
        },
        {
          "output_type": "stream",
          "name": "stderr",
          "text": [
            "WARNING:tensorflow:Learning rate reduction is conditioned on metric `acc` which is not available. Available metrics are: loss,accuracy,val_loss,val_accuracy,lr\n"
          ]
        },
        {
          "output_type": "stream",
          "name": "stdout",
          "text": [
            "\b\b\b\b\b\b\b\b\b\b\b\b\b\b\b\b\b\b\b\b\b\b\b\b\b\b\b\b\b\b\b\b\b\b\b\b\b\b\b\b\b\b\b\b\b\b\b\b\b\b\b\b\b\b\b\b\b\b\b\b\b\b\b\b\b\b\b\b\b\b\b\b\b\b\b\b\b\b\b\b\r8/8 [==============================] - 1s 84ms/step - loss: 0.1791 - accuracy: 0.9900 - val_loss: 6.3844 - val_accuracy: 0.2400 - lr: 0.0010\n",
            "Epoch 394/400\n",
            "7/8 [=========================>....] - ETA: 0s - loss: 0.1956 - accuracy: 0.9810"
          ]
        },
        {
          "output_type": "stream",
          "name": "stderr",
          "text": [
            "WARNING:tensorflow:Learning rate reduction is conditioned on metric `acc` which is not available. Available metrics are: loss,accuracy,val_loss,val_accuracy,lr\n"
          ]
        },
        {
          "output_type": "stream",
          "name": "stdout",
          "text": [
            "\b\b\b\b\b\b\b\b\b\b\b\b\b\b\b\b\b\b\b\b\b\b\b\b\b\b\b\b\b\b\b\b\b\b\b\b\b\b\b\b\b\b\b\b\b\b\b\b\b\b\b\b\b\b\b\b\b\b\b\b\b\b\b\b\b\b\b\b\b\b\b\b\b\b\b\b\b\b\b\b\r8/8 [==============================] - 1s 81ms/step - loss: 0.1977 - accuracy: 0.9811 - val_loss: 5.2545 - val_accuracy: 0.3000 - lr: 0.0010\n",
            "Epoch 395/400\n",
            "7/8 [=========================>....] - ETA: 0s - loss: 0.2197 - accuracy: 0.9721"
          ]
        },
        {
          "output_type": "stream",
          "name": "stderr",
          "text": [
            "WARNING:tensorflow:Learning rate reduction is conditioned on metric `acc` which is not available. Available metrics are: loss,accuracy,val_loss,val_accuracy,lr\n"
          ]
        },
        {
          "output_type": "stream",
          "name": "stdout",
          "text": [
            "\b\b\b\b\b\b\b\b\b\b\b\b\b\b\b\b\b\b\b\b\b\b\b\b\b\b\b\b\b\b\b\b\b\b\b\b\b\b\b\b\b\b\b\b\b\b\b\b\b\b\b\b\b\b\b\b\b\b\b\b\b\b\b\b\b\b\b\b\b\b\b\b\b\b\b\b\b\b\b\b\r8/8 [==============================] - 1s 83ms/step - loss: 0.2195 - accuracy: 0.9722 - val_loss: 5.1854 - val_accuracy: 0.2700 - lr: 0.0010\n",
            "Epoch 396/400\n",
            "7/8 [=========================>....] - ETA: 0s - loss: 0.1729 - accuracy: 0.9922"
          ]
        },
        {
          "output_type": "stream",
          "name": "stderr",
          "text": [
            "WARNING:tensorflow:Learning rate reduction is conditioned on metric `acc` which is not available. Available metrics are: loss,accuracy,val_loss,val_accuracy,lr\n"
          ]
        },
        {
          "output_type": "stream",
          "name": "stdout",
          "text": [
            "\b\b\b\b\b\b\b\b\b\b\b\b\b\b\b\b\b\b\b\b\b\b\b\b\b\b\b\b\b\b\b\b\b\b\b\b\b\b\b\b\b\b\b\b\b\b\b\b\b\b\b\b\b\b\b\b\b\b\b\b\b\b\b\b\b\b\b\b\b\b\b\b\b\b\b\b\b\b\b\b\r8/8 [==============================] - 1s 86ms/step - loss: 0.1727 - accuracy: 0.9922 - val_loss: 3.2588 - val_accuracy: 0.4300 - lr: 0.0010\n",
            "Epoch 397/400\n",
            "7/8 [=========================>....] - ETA: 0s - loss: 0.1514 - accuracy: 0.9978"
          ]
        },
        {
          "output_type": "stream",
          "name": "stderr",
          "text": [
            "WARNING:tensorflow:Learning rate reduction is conditioned on metric `acc` which is not available. Available metrics are: loss,accuracy,val_loss,val_accuracy,lr\n"
          ]
        },
        {
          "output_type": "stream",
          "name": "stdout",
          "text": [
            "\b\b\b\b\b\b\b\b\b\b\b\b\b\b\b\b\b\b\b\b\b\b\b\b\b\b\b\b\b\b\b\b\b\b\b\b\b\b\b\b\b\b\b\b\b\b\b\b\b\b\b\b\b\b\b\b\b\b\b\b\b\b\b\b\b\b\b\b\b\b\b\b\b\b\b\b\b\b\b\b\r8/8 [==============================] - 1s 92ms/step - loss: 0.1513 - accuracy: 0.9978 - val_loss: 2.7480 - val_accuracy: 0.4400 - lr: 0.0010\n",
            "Epoch 398/400\n",
            "7/8 [=========================>....] - ETA: 0s - loss: 0.1456 - accuracy: 0.9978"
          ]
        },
        {
          "output_type": "stream",
          "name": "stderr",
          "text": [
            "WARNING:tensorflow:Learning rate reduction is conditioned on metric `acc` which is not available. Available metrics are: loss,accuracy,val_loss,val_accuracy,lr\n"
          ]
        },
        {
          "output_type": "stream",
          "name": "stdout",
          "text": [
            "\b\b\b\b\b\b\b\b\b\b\b\b\b\b\b\b\b\b\b\b\b\b\b\b\b\b\b\b\b\b\b\b\b\b\b\b\b\b\b\b\b\b\b\b\b\b\b\b\b\b\b\b\b\b\b\b\b\b\b\b\b\b\b\b\b\b\b\b\b\b\b\b\b\b\b\b\b\b\b\b\r8/8 [==============================] - 1s 87ms/step - loss: 0.1461 - accuracy: 0.9978 - val_loss: 2.5622 - val_accuracy: 0.4700 - lr: 0.0010\n",
            "Epoch 399/400\n",
            "7/8 [=========================>....] - ETA: 0s - loss: 0.1467 - accuracy: 0.9978"
          ]
        },
        {
          "output_type": "stream",
          "name": "stderr",
          "text": [
            "WARNING:tensorflow:Learning rate reduction is conditioned on metric `acc` which is not available. Available metrics are: loss,accuracy,val_loss,val_accuracy,lr\n"
          ]
        },
        {
          "output_type": "stream",
          "name": "stdout",
          "text": [
            "\b\b\b\b\b\b\b\b\b\b\b\b\b\b\b\b\b\b\b\b\b\b\b\b\b\b\b\b\b\b\b\b\b\b\b\b\b\b\b\b\b\b\b\b\b\b\b\b\b\b\b\b\b\b\b\b\b\b\b\b\b\b\b\b\b\b\b\b\b\b\b\b\b\b\b\b\b\b\b\b\r8/8 [==============================] - 1s 86ms/step - loss: 0.1468 - accuracy: 0.9978 - val_loss: 2.3773 - val_accuracy: 0.4700 - lr: 0.0010\n",
            "Epoch 400/400\n",
            "7/8 [=========================>....] - ETA: 0s - loss: 0.1471 - accuracy: 0.9978"
          ]
        },
        {
          "output_type": "stream",
          "name": "stderr",
          "text": [
            "WARNING:tensorflow:Learning rate reduction is conditioned on metric `acc` which is not available. Available metrics are: loss,accuracy,val_loss,val_accuracy,lr\n"
          ]
        },
        {
          "output_type": "stream",
          "name": "stdout",
          "text": [
            "\b\b\b\b\b\b\b\b\b\b\b\b\b\b\b\b\b\b\b\b\b\b\b\b\b\b\b\b\b\b\b\b\b\b\b\b\b\b\b\b\b\b\b\b\b\b\b\b\b\b\b\b\b\b\b\b\b\b\b\b\b\b\b\b\b\b\b\b\b\b\b\b\b\b\b\b\b\b\b\b\r8/8 [==============================] - 1s 83ms/step - loss: 0.1471 - accuracy: 0.9978 - val_loss: 2.3221 - val_accuracy: 0.4600 - lr: 0.0010\n"
          ]
        },
        {
          "output_type": "execute_result",
          "data": {
            "text/plain": [
              "<keras.callbacks.History at 0x7fa5480fa7a0>"
            ]
          },
          "metadata": {},
          "execution_count": 27
        }
      ]
    },
    {
      "cell_type": "code",
      "execution_count": 27,
      "metadata": {
        "id": "fIQwwWoGT3IF"
      },
      "outputs": [],
      "source": [
        "\n",
        "\n",
        "\n",
        "\n",
        "\n",
        "\n",
        "\n",
        "\n",
        "\n",
        "\n",
        "\n",
        "\n"
      ]
    },
    {
      "cell_type": "code",
      "execution_count": 46,
      "metadata": {
        "id": "9802bhgIUFkL",
        "colab": {
          "base_uri": "https://localhost:8080/"
        },
        "outputId": "23beca38-0d22-420e-962d-5c29d91f1510"
      },
      "outputs": [
        {
          "output_type": "stream",
          "name": "stdout",
          "text": [
            "4/4 [==============================] - 0s 8ms/step\n"
          ]
        }
      ],
      "source": [
        "predictions=model.predict(x_te)"
      ]
    },
    {
      "cell_type": "code",
      "source": [
        "predictions"
      ],
      "metadata": {
        "colab": {
          "base_uri": "https://localhost:8080/"
        },
        "id": "J8W85nf3xSyk",
        "outputId": "78d7f889-2f3d-40ef-ba48-f5fe9e06c314"
      },
      "execution_count": 47,
      "outputs": [
        {
          "output_type": "execute_result",
          "data": {
            "text/plain": [
              "array([[1.43573107e-02, 1.46449665e-02, 3.96443374e-06, 5.56626728e-05,\n",
              "        1.27819134e-04, 9.68626082e-01, 9.08362665e-07, 1.07027299e-03,\n",
              "        1.10580481e-03, 7.16533759e-06],\n",
              "       [9.74256173e-03, 1.42028911e-09, 7.08318112e-06, 1.55157559e-05,\n",
              "        5.74927306e-08, 5.43708506e-04, 2.56540843e-05, 4.44266061e-06,\n",
              "        9.89640534e-01, 2.04500011e-05],\n",
              "       [7.87907541e-01, 1.77093223e-03, 4.05543670e-02, 6.23829081e-04,\n",
              "        4.67218133e-03, 8.09175521e-02, 2.47623375e-05, 2.08407786e-04,\n",
              "        7.95836970e-02, 3.73662240e-03],\n",
              "       [9.52642083e-01, 1.87910143e-02, 4.00674675e-04, 8.41720430e-06,\n",
              "        3.53047450e-04, 1.61785427e-02, 3.37944834e-06, 9.34362039e-03,\n",
              "        1.89512852e-03, 3.84128070e-04],\n",
              "       [7.56297261e-03, 2.81517659e-05, 5.03386400e-06, 7.85766169e-04,\n",
              "        9.67486918e-01, 3.34922248e-03, 1.36298031e-05, 3.49236047e-03,\n",
              "        1.71048343e-02, 1.71085936e-04],\n",
              "       [3.21367523e-04, 9.23193634e-01, 8.95162404e-04, 2.15056152e-05,\n",
              "        2.64157552e-05, 7.22136274e-02, 2.82269616e-06, 1.11480756e-03,\n",
              "        2.07512849e-03, 1.35659764e-04],\n",
              "       [8.57512057e-01, 4.61096168e-02, 2.52864003e-04, 3.48527275e-04,\n",
              "        7.16800289e-03, 2.79966500e-02, 2.30710051e-04, 7.67725141e-05,\n",
              "        5.75691313e-02, 2.73570395e-03],\n",
              "       [3.45406473e-01, 5.48782758e-02, 1.66946799e-02, 1.82669610e-03,\n",
              "        6.90247118e-03, 5.18330812e-01, 2.04298776e-02, 3.13232210e-03,\n",
              "        2.98597738e-02, 2.53860187e-03],\n",
              "       [5.05517528e-04, 8.56286491e-08, 1.81422945e-06, 1.55637920e-01,\n",
              "        7.05693126e-01, 1.27056253e-03, 8.09399789e-05, 1.32414415e-01,\n",
              "        4.35376493e-03, 4.18408054e-05],\n",
              "       [2.60954555e-02, 7.42317438e-02, 2.43183002e-02, 5.21581736e-04,\n",
              "        8.54165846e-05, 8.56853426e-01, 2.09700393e-05, 4.07558022e-04,\n",
              "        6.57484028e-03, 1.08907558e-02],\n",
              "       [1.82307392e-01, 1.56911805e-01, 3.55762918e-03, 2.18026162e-05,\n",
              "        1.77374342e-04, 6.45872653e-01, 7.42244301e-05, 4.76398785e-03,\n",
              "        4.47852863e-03, 1.83460990e-03],\n",
              "       [2.79472715e-06, 3.28790272e-14, 3.00008907e-10, 1.65071115e-02,\n",
              "        4.96782828e-03, 1.06139719e-08, 9.00569397e-09, 9.77803349e-01,\n",
              "        7.19013799e-04, 4.56700483e-10],\n",
              "       [1.48658874e-02, 1.78455224e-03, 6.28593170e-06, 1.20193399e-05,\n",
              "        1.73065273e-05, 3.22153862e-03, 3.18500417e-04, 2.85884794e-02,\n",
              "        9.43376958e-01, 7.80846132e-03],\n",
              "       [3.56436853e-04, 5.59172928e-01, 1.31962035e-04, 3.20782140e-02,\n",
              "        3.71972928e-05, 2.50505935e-02, 2.39913206e-04, 1.71183352e-03,\n",
              "        1.07450463e-01, 2.73770511e-01],\n",
              "       [1.12260590e-04, 1.22217455e-06, 4.17976054e-07, 9.88433301e-01,\n",
              "        3.60760442e-03, 2.27490891e-04, 5.70589827e-06, 6.17167493e-03,\n",
              "        1.42184459e-03, 1.84256824e-05],\n",
              "       [2.08977190e-06, 9.98922348e-01, 2.78947355e-05, 9.28756072e-06,\n",
              "        6.58912468e-05, 4.32454748e-04, 2.88838407e-07, 7.10066524e-05,\n",
              "        4.58245166e-04, 1.04372975e-05],\n",
              "       [8.47129226e-02, 6.25981987e-01, 6.53269584e-04, 5.41964662e-04,\n",
              "        1.77521451e-05, 2.70680696e-01, 1.63120312e-05, 4.70285711e-04,\n",
              "        1.57713853e-02, 1.15349249e-03],\n",
              "       [2.32537035e-02, 1.59750158e-07, 1.65397814e-05, 7.75398081e-03,\n",
              "        3.10331166e-01, 9.92242480e-04, 3.37643130e-03, 2.17044771e-01,\n",
              "        4.37175065e-01, 5.60098379e-05],\n",
              "       [1.83731492e-03, 9.06008661e-01, 3.28367762e-03, 3.69815061e-05,\n",
              "        3.70314447e-05, 6.24935664e-02, 8.38362041e-07, 1.83295999e-02,\n",
              "        7.83419423e-03, 1.38188931e-04],\n",
              "       [1.20891683e-01, 2.59569148e-03, 6.41398037e-06, 9.51211223e-06,\n",
              "        2.60701127e-05, 8.76106083e-01, 3.49828078e-09, 3.45638109e-04,\n",
              "        5.28956434e-06, 1.36001427e-05],\n",
              "       [6.19700789e-01, 2.90036183e-02, 6.25929907e-02, 4.64915903e-03,\n",
              "        3.15067992e-02, 2.29453266e-01, 8.87812872e-04, 2.91242870e-03,\n",
              "        6.58210088e-03, 1.27110239e-02],\n",
              "       [2.44950992e-03, 1.94324195e-04, 5.22357402e-09, 3.80643396e-05,\n",
              "        4.17252568e-06, 9.97230232e-01, 1.55489442e-06, 1.40365887e-06,\n",
              "        5.73331017e-05, 2.33980409e-05],\n",
              "       [2.87931152e-02, 1.75352104e-03, 3.15402664e-04, 7.17307115e-03,\n",
              "        1.21401893e-02, 2.25490823e-01, 1.76420086e-03, 5.48238575e-01,\n",
              "        1.62158579e-01, 1.21725686e-02],\n",
              "       [9.11949158e-01, 8.45615380e-03, 7.64221113e-06, 1.78126025e-03,\n",
              "        7.69792769e-06, 2.53678206e-02, 6.61613361e-04, 8.69758485e-04,\n",
              "        3.87467630e-02, 1.21522378e-02],\n",
              "       [9.48965371e-01, 5.53626016e-08, 3.89919337e-03, 2.60035088e-03,\n",
              "        4.08791704e-03, 1.26552833e-02, 1.92481503e-02, 4.84815799e-03,\n",
              "        2.50488031e-03, 1.19068520e-03],\n",
              "       [6.50213845e-03, 7.57198404e-06, 2.73887679e-07, 8.93366516e-01,\n",
              "        6.07359048e-04, 9.26224631e-04, 6.32369756e-06, 3.64173912e-02,\n",
              "        6.18657991e-02, 3.00360320e-04],\n",
              "       [1.92141079e-03, 1.99493115e-06, 3.24574216e-06, 1.21775010e-04,\n",
              "        4.41738230e-05, 2.75350380e-04, 9.93186235e-01, 5.55021279e-06,\n",
              "        1.58967904e-03, 2.85062171e-03],\n",
              "       [5.61909145e-03, 9.92334783e-01, 1.45398553e-05, 3.07746490e-07,\n",
              "        1.81316668e-08, 1.15522230e-03, 2.46550087e-07, 3.58580701e-06,\n",
              "        8.36005493e-04, 3.61371531e-05],\n",
              "       [4.43105280e-01, 5.75188547e-02, 3.32536548e-01, 3.13732005e-03,\n",
              "        1.58275070e-04, 1.16898321e-01, 7.79994705e-04, 5.92831802e-03,\n",
              "        3.36060338e-02, 6.33108523e-03],\n",
              "       [1.60582364e-01, 2.19054334e-02, 1.61905220e-04, 2.10370763e-05,\n",
              "        2.06965557e-03, 8.03900480e-01, 3.04394925e-05, 2.38334600e-04,\n",
              "        8.43153149e-03, 2.65879952e-03],\n",
              "       [9.66235459e-01, 1.05249579e-04, 8.03667307e-03, 3.18825303e-04,\n",
              "        3.79352969e-05, 8.98660999e-03, 3.62181105e-03, 1.29599706e-03,\n",
              "        1.10778753e-02, 2.83540983e-04],\n",
              "       [1.64236932e-04, 7.07709914e-05, 5.68681804e-04, 2.17534369e-04,\n",
              "        2.24035794e-05, 1.87797661e-04, 3.99641467e-05, 9.61695552e-01,\n",
              "        3.69712263e-02, 6.17416299e-05],\n",
              "       [2.97480583e-04, 2.49892277e-11, 3.05916736e-09, 3.59325577e-06,\n",
              "        7.99221671e-05, 1.59827643e-04, 9.99403596e-01, 1.06325592e-06,\n",
              "        5.09130732e-05, 3.61142907e-06],\n",
              "       [6.57418976e-03, 1.55885076e-07, 1.98192956e-05, 5.70823438e-04,\n",
              "        8.40104297e-02, 7.35311551e-05, 8.80425513e-01, 2.59597728e-04,\n",
              "        2.72797272e-02, 7.86303892e-04],\n",
              "       [1.78291854e-02, 2.92188133e-07, 8.82882305e-05, 3.02576838e-04,\n",
              "        5.07123351e-01, 2.10244185e-03, 1.57281314e-03, 4.66981947e-01,\n",
              "        2.69526709e-03, 1.30377559e-03],\n",
              "       [3.02795408e-04, 6.66421183e-05, 4.82850848e-03, 6.12399541e-04,\n",
              "        6.47393335e-03, 1.13278860e-02, 1.61669068e-05, 5.87736368e-02,\n",
              "        9.17283177e-01, 3.14779638e-04],\n",
              "       [9.79221165e-02, 5.38180210e-03, 7.11204633e-02, 1.40303955e-03,\n",
              "        9.51136579e-04, 4.49287921e-01, 1.53359833e-05, 1.47867231e-02,\n",
              "        3.55457723e-01, 3.67377512e-03],\n",
              "       [8.65611510e-05, 8.48303756e-08, 6.77604959e-08, 9.99160767e-01,\n",
              "        1.19482756e-04, 2.01500479e-05, 2.02985689e-06, 5.75671322e-04,\n",
              "        3.46928282e-05, 6.00763769e-07],\n",
              "       [2.72000875e-07, 3.87407972e-09, 1.23342465e-08, 1.11448765e-03,\n",
              "        2.45756260e-03, 7.23001085e-06, 5.45988541e-07, 1.89518660e-01,\n",
              "        8.06899667e-01, 1.56790304e-06],\n",
              "       [2.97212518e-05, 2.04351796e-11, 9.29275501e-08, 1.21126888e-07,\n",
              "        1.99554939e-04, 1.39234873e-08, 9.70160484e-01, 1.78924078e-04,\n",
              "        2.94285491e-02, 2.46255354e-06],\n",
              "       [7.58896053e-01, 1.12220207e-02, 5.48849534e-03, 2.41730548e-03,\n",
              "        2.38634573e-04, 1.39250621e-01, 5.43901006e-05, 2.13830077e-04,\n",
              "        2.82292045e-03, 7.93957412e-02],\n",
              "       [7.00658001e-03, 1.53713726e-11, 8.78595642e-07, 1.59167044e-03,\n",
              "        6.58754289e-01, 2.36759006e-05, 3.22460413e-01, 8.48975871e-03,\n",
              "        1.40853366e-03, 2.64212926e-04],\n",
              "       [8.53717089e-01, 2.67413823e-04, 1.30916684e-04, 1.50191812e-02,\n",
              "        9.48658038e-04, 2.18151114e-03, 2.71273591e-02, 1.57775430e-05,\n",
              "        9.35074240e-02, 7.08454242e-03],\n",
              "       [9.78206515e-01, 1.22609754e-06, 1.92951858e-02, 3.63721455e-07,\n",
              "        1.16592062e-04, 7.81830691e-04, 4.84324573e-06, 2.37468284e-05,\n",
              "        1.48639374e-03, 8.31684301e-05],\n",
              "       [7.95296669e-01, 3.22393700e-02, 1.61097720e-02, 4.88492951e-04,\n",
              "        1.10604335e-04, 7.36299977e-02, 1.13711483e-03, 2.93548685e-03,\n",
              "        4.88213077e-02, 2.92310547e-02],\n",
              "       [2.05120747e-03, 9.80336249e-01, 2.12519168e-04, 6.55373966e-04,\n",
              "        2.05441302e-06, 1.43426089e-02, 8.08235654e-07, 1.77528907e-03,\n",
              "        5.21125563e-04, 1.02771664e-04],\n",
              "       [4.11373973e-01, 4.40481633e-01, 8.73371772e-03, 1.57752465e-02,\n",
              "        7.36009461e-05, 2.43764762e-02, 1.43915310e-03, 3.85185052e-03,\n",
              "        4.78660204e-02, 4.60283384e-02],\n",
              "       [2.34219246e-03, 7.03832015e-08, 2.46845375e-05, 1.01411169e-05,\n",
              "        2.86602462e-05, 2.78779585e-03, 8.17551791e-06, 3.27233342e-04,\n",
              "        9.94468212e-01, 2.85262308e-06],\n",
              "       [3.38822827e-02, 8.74533953e-07, 4.15733608e-04, 7.82902134e-05,\n",
              "        2.44233699e-04, 2.31620521e-04, 9.33157980e-01, 5.33868952e-05,\n",
              "        3.05179562e-02, 1.41756749e-03],\n",
              "       [1.95980892e-02, 8.05189338e-05, 6.66245178e-05, 2.19032896e-04,\n",
              "        3.29997926e-03, 4.31111082e-02, 7.45452553e-06, 3.66141833e-03,\n",
              "        9.29908514e-01, 4.72213760e-05],\n",
              "       [9.78327096e-01, 3.04236007e-03, 1.65951096e-05, 7.04643014e-07,\n",
              "        4.98264344e-05, 1.04662301e-02, 2.16188437e-06, 1.11910223e-03,\n",
              "        6.85367174e-03, 1.22189682e-04],\n",
              "       [4.56899881e-01, 5.87106879e-05, 3.05219903e-04, 3.36248539e-02,\n",
              "        8.24344577e-04, 5.72497782e-04, 8.51584598e-03, 3.35165765e-03,\n",
              "        4.91814703e-01, 4.03233757e-03],\n",
              "       [2.54634656e-02, 4.20956749e-05, 5.91047296e-07, 2.29568309e-06,\n",
              "        2.20019865e-05, 2.94784622e-05, 9.60055550e-05, 9.69269991e-01,\n",
              "        4.59840428e-03, 4.75717214e-04],\n",
              "       [2.18068226e-03, 9.54847157e-01, 5.92004508e-04, 2.10398881e-04,\n",
              "        2.04675198e-05, 2.43244506e-02, 2.98450013e-05, 1.99004752e-03,\n",
              "        5.65491104e-03, 1.01501951e-02],\n",
              "       [2.16660043e-03, 1.71435426e-03, 2.79786709e-05, 6.08575298e-04,\n",
              "        8.09183061e-01, 1.45050976e-03, 2.94122201e-05, 1.40659854e-01,\n",
              "        4.40025739e-02, 1.57073038e-04],\n",
              "       [1.71964113e-02, 3.79072055e-02, 8.10186961e-04, 6.87969266e-04,\n",
              "        7.64394936e-05, 9.32300329e-01, 3.88355984e-05, 5.72188292e-04,\n",
              "        9.54635348e-03, 8.63975612e-04],\n",
              "       [2.18020692e-01, 5.28799415e-01, 4.65954319e-02, 2.41184811e-04,\n",
              "        8.68243340e-04, 1.89896673e-01, 3.02111039e-05, 2.72293203e-03,\n",
              "        8.05990677e-03, 4.76529589e-03],\n",
              "       [1.82224989e-01, 1.21776247e-04, 3.49564594e-03, 4.47969623e-02,\n",
              "        2.88959011e-04, 7.62420881e-04, 9.97868851e-02, 5.54718263e-03,\n",
              "        4.12731200e-01, 2.50243962e-01],\n",
              "       [3.42290077e-05, 5.00766218e-05, 2.20992433e-06, 6.56818273e-04,\n",
              "        5.59791224e-04, 1.33272639e-04, 2.19159597e-03, 2.78851748e-01,\n",
              "        7.15485632e-01, 2.03465414e-03],\n",
              "       [3.59359771e-01, 4.30402625e-03, 2.53562059e-04, 1.41536519e-01,\n",
              "        4.86540794e-02, 6.12646751e-02, 6.28739435e-05, 1.03383968e-02,\n",
              "        3.73508304e-01, 7.17747200e-04],\n",
              "       [9.62317050e-01, 1.52162241e-03, 9.88649049e-07, 4.89816500e-07,\n",
              "        8.95786288e-05, 1.56959835e-02, 4.39607029e-05, 2.24135474e-05,\n",
              "        7.64668628e-04, 1.95432324e-02],\n",
              "       [2.19288886e-01, 4.03541373e-04, 3.08423862e-03, 4.94579673e-02,\n",
              "        2.52557367e-01, 2.92434152e-02, 1.44638505e-03, 9.05864686e-03,\n",
              "        4.31031585e-01, 4.42800438e-03],\n",
              "       [6.57489002e-01, 8.00958797e-02, 3.31535726e-03, 4.39256802e-02,\n",
              "        1.15370573e-02, 3.45272198e-02, 6.41555712e-03, 7.00380281e-02,\n",
              "        3.80744040e-02, 5.45818210e-02],\n",
              "       [5.76554723e-02, 7.24925576e-06, 1.34633837e-07, 8.77349675e-01,\n",
              "        6.32189214e-04, 2.79958621e-02, 1.38027137e-02, 7.43992580e-03,\n",
              "        1.48150576e-02, 3.01709078e-04],\n",
              "       [5.84215373e-02, 7.31364347e-09, 1.43095094e-04, 2.46996351e-04,\n",
              "        6.73471561e-07, 7.29236781e-05, 1.37884883e-04, 1.32653749e-05,\n",
              "        9.40847635e-01, 1.15983217e-04],\n",
              "       [5.73896408e-01, 5.96657908e-03, 2.28652993e-04, 6.54539152e-04,\n",
              "        1.23119634e-02, 1.15808532e-01, 4.15906179e-05, 7.27954414e-03,\n",
              "        2.83045769e-01, 7.66363984e-04],\n",
              "       [3.75677228e-01, 9.13795361e-07, 2.25238575e-04, 5.04095478e-05,\n",
              "        2.39276167e-04, 9.79957869e-04, 6.20741487e-01, 8.23649752e-04,\n",
              "        2.40497830e-04, 1.02123839e-03],\n",
              "       [5.61402878e-03, 9.92338419e-01, 1.45393951e-05, 3.06941871e-07,\n",
              "        1.81726918e-08, 1.15413405e-03, 2.45681605e-07, 3.58379975e-06,\n",
              "        8.38472974e-04, 3.61725615e-05],\n",
              "       [8.07775080e-01, 7.62115791e-03, 1.66110694e-02, 1.59902091e-04,\n",
              "        3.06257534e-05, 1.33764938e-01, 1.23459631e-05, 7.62961246e-03,\n",
              "        5.78172319e-03, 2.06135027e-02],\n",
              "       [2.21336037e-01, 2.04567968e-07, 1.75489078e-03, 4.07852494e-05,\n",
              "        2.72804638e-04, 1.43990666e-02, 6.60743535e-01, 3.46332781e-05,\n",
              "        6.37539551e-02, 3.76639962e-02],\n",
              "       [5.21925569e-01, 5.01339091e-03, 9.78740975e-02, 3.74376471e-03,\n",
              "        1.77954277e-03, 6.85723722e-02, 1.75928511e-03, 1.28122896e-01,\n",
              "        1.70327440e-01, 8.81657819e-04],\n",
              "       [2.14292395e-05, 9.92354274e-01, 2.03905620e-06, 5.31830082e-08,\n",
              "        2.50374939e-08, 7.61531526e-03, 9.15705467e-09, 1.44519333e-06,\n",
              "        1.25257748e-06, 4.11705878e-06],\n",
              "       [3.90530154e-02, 2.43150024e-03, 5.03534637e-02, 2.44058366e-03,\n",
              "        1.24125285e-02, 4.76091862e-01, 1.66231330e-04, 1.55066893e-01,\n",
              "        1.87199056e-01, 7.47849494e-02],\n",
              "       [6.41490624e-05, 9.95982170e-01, 5.81081667e-06, 2.17650286e-05,\n",
              "        6.02275861e-07, 3.45696695e-03, 2.42228300e-08, 5.71268129e-06,\n",
              "        3.19226499e-04, 1.43563462e-04],\n",
              "       [1.22333251e-01, 8.54370356e-01, 1.88531529e-03, 4.63999022e-05,\n",
              "        2.12355712e-06, 1.84470844e-02, 1.36656013e-06, 1.28572562e-03,\n",
              "        8.82822264e-04, 7.45618716e-04],\n",
              "       [1.23882626e-06, 1.77825159e-12, 9.66488223e-10, 1.01262529e-03,\n",
              "        3.48206252e-01, 2.19006836e-07, 3.78457543e-07, 2.52425641e-01,\n",
              "        3.98353666e-01, 1.82104265e-09],\n",
              "       [3.63735110e-01, 3.31369374e-04, 2.62158126e-01, 1.50828506e-03,\n",
              "        4.96606342e-04, 1.97612215e-02, 2.26413039e-03, 2.92651117e-01,\n",
              "        2.74953190e-02, 2.95987446e-02],\n",
              "       [1.71190550e-04, 7.84648648e-12, 2.70156420e-07, 1.43497459e-07,\n",
              "        4.49859788e-10, 3.63469167e-06, 5.00517581e-06, 1.37953649e-10,\n",
              "        9.99818861e-01, 9.12524342e-07],\n",
              "       [7.75207698e-01, 2.46022213e-02, 7.23833069e-02, 3.25339439e-04,\n",
              "        1.62680037e-04, 5.89579307e-02, 1.62877812e-04, 1.60241220e-02,\n",
              "        2.99446331e-03, 4.91793454e-02],\n",
              "       [1.61975482e-03, 1.14503946e-05, 2.21875060e-04, 7.71855004e-03,\n",
              "        8.16635787e-04, 5.39833763e-06, 9.86184895e-01, 1.00166617e-04,\n",
              "        1.32099900e-03, 2.00032559e-03],\n",
              "       [9.61469531e-01, 2.77624791e-03, 1.39567264e-08, 1.24175443e-07,\n",
              "        4.72830925e-06, 3.21424603e-02, 8.76994591e-07, 1.96279711e-04,\n",
              "        3.37844365e-03, 3.13818200e-05],\n",
              "       [7.64283180e-01, 8.20232117e-07, 5.97459089e-04, 1.18210010e-04,\n",
              "        1.01840109e-01, 2.44566221e-02, 3.54326447e-03, 1.29425910e-03,\n",
              "        1.03731655e-01, 1.34409391e-04],\n",
              "       [5.86382739e-05, 1.12541852e-06, 5.64071350e-04, 4.81486117e-04,\n",
              "        4.63203853e-03, 3.94740455e-05, 1.62247525e-04, 8.95200431e-01,\n",
              "        9.75079015e-02, 1.35263102e-03],\n",
              "       [2.30206316e-03, 1.95411462e-06, 1.25302158e-05, 9.57451903e-07,\n",
              "        6.72884998e-05, 2.73081288e-02, 5.49283550e-06, 1.60253458e-02,\n",
              "        9.54273403e-01, 2.80867039e-06],\n",
              "       [3.11255679e-02, 1.30865406e-02, 4.40514367e-03, 9.68149223e-04,\n",
              "        6.37020171e-03, 8.30684841e-01, 1.26529558e-04, 9.43355709e-02,\n",
              "        5.66031784e-03, 1.32371765e-02],\n",
              "       [9.59378600e-01, 7.12346402e-04, 6.84291241e-04, 3.04205739e-03,\n",
              "        1.64553560e-02, 5.25538204e-03, 1.46333664e-03, 1.29998580e-03,\n",
              "        9.73102357e-03, 1.97760994e-03],\n",
              "       [4.33203876e-02, 5.31060338e-01, 4.78673392e-05, 1.36803964e-03,\n",
              "        1.67102269e-06, 2.11671949e-03, 9.71777536e-06, 4.96065021e-02,\n",
              "        3.71690571e-01, 7.78172282e-04],\n",
              "       [1.42711066e-02, 1.89354141e-05, 1.95544475e-04, 6.37086570e-01,\n",
              "        8.16494685e-06, 8.10376427e-04, 2.02958155e-02, 1.57832354e-01,\n",
              "        1.48471408e-02, 1.54633984e-01],\n",
              "       [2.47746636e-03, 2.88395604e-05, 2.24598007e-05, 8.23693395e-01,\n",
              "        7.42950768e-04, 7.57710426e-04, 5.12635056e-03, 1.06154196e-01,\n",
              "        5.88199534e-02, 2.17657536e-03],\n",
              "       [9.07621086e-01, 2.18505331e-04, 8.58034659e-03, 1.56273134e-04,\n",
              "        2.09294423e-03, 2.53684539e-02, 1.10099989e-03, 9.16969869e-03,\n",
              "        4.15766723e-02, 4.11497988e-03],\n",
              "       [2.27886415e-03, 4.16411098e-07, 1.41603174e-08, 4.89900121e-04,\n",
              "        1.07790254e-06, 4.15965997e-06, 8.95816740e-03, 8.42551328e-03,\n",
              "        9.79751766e-01, 9.01327658e-05],\n",
              "       [1.36248335e-01, 5.73372745e-08, 5.76479943e-06, 2.54538696e-04,\n",
              "        8.56712286e-04, 4.57104261e-06, 3.89443449e-05, 8.61714840e-01,\n",
              "        8.13714054e-04, 6.25706089e-05],\n",
              "       [1.23659603e-01, 2.74878293e-01, 2.49747350e-03, 2.35690475e-02,\n",
              "        3.90952919e-05, 3.52630317e-02, 4.36176499e-03, 3.54114324e-02,\n",
              "        4.96806055e-01, 3.51424166e-03],\n",
              "       [3.46683431e-04, 4.68721926e-01, 2.51354304e-05, 9.95982628e-05,\n",
              "        2.46741251e-07, 5.29832363e-01, 4.04791862e-08, 2.03444120e-06,\n",
              "        4.29840402e-05, 9.28937166e-04],\n",
              "       [7.18220472e-01, 3.90865578e-04, 4.58109629e-04, 1.22186320e-04,\n",
              "        4.20804172e-05, 2.42163748e-01, 2.52282862e-05, 1.43335696e-04,\n",
              "        3.80411819e-02, 3.92831775e-04],\n",
              "       [9.50431883e-01, 6.54298393e-03, 1.34257413e-02, 4.65070043e-05,\n",
              "        6.98345320e-05, 4.27398132e-03, 5.06788365e-06, 2.11834796e-02,\n",
              "        2.29688315e-03, 1.72370020e-03],\n",
              "       [5.12639135e-02, 3.58539387e-06, 9.43920838e-07, 9.57608689e-03,\n",
              "        5.74633956e-01, 1.70930719e-03, 4.36356198e-03, 2.23277137e-01,\n",
              "        1.34463564e-01, 7.07992003e-04],\n",
              "       [1.53315768e-01, 1.26022846e-04, 4.27579391e-04, 8.93828052e-04,\n",
              "        3.84224206e-02, 7.88958073e-02, 6.30438517e-05, 6.47248030e-01,\n",
              "        7.95683041e-02, 1.03916123e-03],\n",
              "       [6.96372449e-01, 1.99481588e-06, 7.71240448e-05, 2.93735618e-04,\n",
              "        3.01827851e-04, 1.73900044e-03, 2.99938560e-01, 1.72071414e-05,\n",
              "        5.28954610e-04, 7.29126274e-04],\n",
              "       [8.33911996e-04, 9.10764396e-01, 9.40418686e-04, 6.52594390e-05,\n",
              "        8.69542691e-06, 1.86925102e-02, 3.95754887e-06, 2.26496020e-03,\n",
              "        6.46480024e-02, 1.77784462e-03]], dtype=float32)"
            ]
          },
          "metadata": {},
          "execution_count": 47
        }
      ]
    },
    {
      "cell_type": "code",
      "source": [
        "from sklearn.metrics import roc_auc_score"
      ],
      "metadata": {
        "id": "cEqdLL45FvZx"
      },
      "execution_count": 38,
      "outputs": []
    },
    {
      "cell_type": "code",
      "source": [
        "y_te.shape, predictions.shape"
      ],
      "metadata": {
        "colab": {
          "base_uri": "https://localhost:8080/"
        },
        "id": "pxXfG7jwyUFa",
        "outputId": "4a9557ec-8de7-4e5d-bab5-4059fc9d1bd1"
      },
      "execution_count": 55,
      "outputs": [
        {
          "output_type": "execute_result",
          "data": {
            "text/plain": [
              "((1000,), (1000,))"
            ]
          },
          "metadata": {},
          "execution_count": 55
        }
      ]
    },
    {
      "cell_type": "code",
      "source": [
        "roc_auc_score(y_te,predictions)"
      ],
      "metadata": {
        "colab": {
          "base_uri": "https://localhost:8080/"
        },
        "id": "pdGQWP9iFvcJ",
        "outputId": "ce64aae7-6b92-41fb-f90e-684c94c4da3d"
      },
      "execution_count": 48,
      "outputs": [
        {
          "output_type": "execute_result",
          "data": {
            "text/plain": [
              "0.8805555555555555"
            ]
          },
          "metadata": {},
          "execution_count": 48
        }
      ]
    },
    {
      "cell_type": "code",
      "source": [
        "predictions.shape[0], predictions.shape[1],"
      ],
      "metadata": {
        "colab": {
          "base_uri": "https://localhost:8080/"
        },
        "id": "PlSMuJTzGU54",
        "outputId": "baef1482-3b6c-456d-a950-0fc2b5c8c4fd"
      },
      "execution_count": 49,
      "outputs": [
        {
          "output_type": "execute_result",
          "data": {
            "text/plain": [
              "(100, 10)"
            ]
          },
          "metadata": {},
          "execution_count": 49
        }
      ]
    },
    {
      "cell_type": "code",
      "source": [
        "for row in range(predictions.shape[0]):\n",
        "  indexColumn = np.argmax(predictions[row])\n",
        "  for column in range(predictions.shape[1]):\n",
        "    if column == indexColumn:\n",
        "      predictions[row][column] = 1\n",
        "    else:\n",
        "      predictions[row][column] = 0"
      ],
      "metadata": {
        "id": "4p3Q7Yy6HIff"
      },
      "execution_count": 50,
      "outputs": []
    },
    {
      "cell_type": "code",
      "source": [
        "predictions = predictions.reshape(-1)"
      ],
      "metadata": {
        "id": "0uTYbnqRIVXX"
      },
      "execution_count": 52,
      "outputs": []
    },
    {
      "cell_type": "code",
      "source": [
        "y_te = y_te.reshape(-1)\n"
      ],
      "metadata": {
        "id": "gFHUjYZEGPEj"
      },
      "execution_count": 53,
      "outputs": []
    },
    {
      "cell_type": "code",
      "source": [
        "roc_auc_score(y_te,predictions)"
      ],
      "metadata": {
        "colab": {
          "base_uri": "https://localhost:8080/"
        },
        "id": "p4zRZMSOyKw8",
        "outputId": "05e0ced8-1c82-48c0-8e49-e750607d0f47"
      },
      "execution_count": 54,
      "outputs": [
        {
          "output_type": "execute_result",
          "data": {
            "text/plain": [
              "0.7"
            ]
          },
          "metadata": {},
          "execution_count": 54
        }
      ]
    }
  ],
  "metadata": {
    "accelerator": "GPU",
    "colab": {
      "provenance": []
    },
    "kernelspec": {
      "display_name": "Python 3",
      "language": "python",
      "name": "python3"
    },
    "language_info": {
      "codemirror_mode": {
        "name": "ipython",
        "version": 3
      },
      "file_extension": ".py",
      "mimetype": "text/x-python",
      "name": "python",
      "nbconvert_exporter": "python",
      "pygments_lexer": "ipython3",
      "version": "3.7.3"
    }
  },
  "nbformat": 4,
  "nbformat_minor": 0
}